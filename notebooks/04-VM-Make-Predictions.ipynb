{
 "metadata": {
  "language_info": {
   "codemirror_mode": {
    "name": "ipython",
    "version": 3
   },
   "file_extension": ".py",
   "mimetype": "text/x-python",
   "name": "python",
   "nbconvert_exporter": "python",
   "pygments_lexer": "ipython3",
   "version": "3.8.5"
  },
  "orig_nbformat": 2,
  "kernelspec": {
   "name": "python385jvsc74a57bd0a57c79dc9956e442f3c50029d8fd4fa1ea1c7263198942fc1f0ab90314f7affc",
   "display_name": "Python 3.8.5 64-bit ('tx2036-test': conda)"
  }
 },
 "nbformat": 4,
 "nbformat_minor": 2,
 "cells": [
  {
   "cell_type": "code",
   "execution_count": 7,
   "metadata": {},
   "outputs": [],
   "source": [
    "import joblib\n",
    "from sklearn.ensemble import RandomForestClassifier\n",
    "\n",
    "import spotipy\n",
    "from spotipy.oauth2 import SpotifyClientCredentials\n",
    "import spotipy.util as util\n",
    "\n",
    "from pathlib import Path\n",
    "import os\n",
    "\n",
    "from dotenv import load_dotenv\n",
    "\n",
    "import pandas as pd\n",
    "import numpy as np"
   ]
  },
  {
   "cell_type": "code",
   "execution_count": 2,
   "metadata": {},
   "outputs": [],
   "source": [
    "load_dotenv()\n",
    "env_path = ('../.env')\n",
    "load_dotenv(dotenv_path=env_path)\n",
    "\n",
    "SPOTIFY_CLIENT = os.getenv('SPOTIFY_CLIENT')\n",
    "SPOTIFY_SECRET = os.getenv('SPOTIFY_SECRET')\n",
    "USERNAME = os.getenv('SPOTIFY_USERNAME')\n",
    "redirect_uri = 'http://localhost:8888/callback/'\n",
    "\n",
    "os.environ['SPOTIPY_CLIENT_ID']= SPOTIFY_CLIENT\n",
    "os.environ['SPOTIPY_CLIENT_SECRET']= USERNAME\n",
    "os.environ['SPOTIPY_REDIRECT_URI']= redirect_uri"
   ]
  },
  {
   "cell_type": "code",
   "execution_count": 4,
   "metadata": {},
   "outputs": [],
   "source": [
    "filename = '../models/finalized_model.sav'\n",
    "\n",
    "loaded_model = joblib.load(filename)"
   ]
  },
  {
   "cell_type": "code",
   "execution_count": 18,
   "metadata": {},
   "outputs": [],
   "source": [
    "#authorizations and connecting to spotify\n",
    "scope = 'user-library-read user-top-read playlist-modify-public playlist-read-private'\n",
    "\n",
    "\n",
    "credentials_manager = SpotifyClientCredentials(client_id=SPOTIFY_CLIENT, client_secret=SPOTIFY_SECRET) \n",
    "sp = spotipy.Spotify(client_credentials_manager=credentials_manager)\n",
    "token = util.prompt_for_user_token(USERNAME, scope, SPOTIFY_CLIENT, SPOTIFY_SECRET, redirect_uri)\n",
    "\n",
    "if token:\n",
    "    sp = spotipy.Spotify(auth=token)\n",
    "else:\n",
    "    print(\"Can't get token for\", USERNAME) "
   ]
  },
  {
   "cell_type": "code",
   "execution_count": 8,
   "metadata": {},
   "outputs": [
    {
     "output_type": "execute_result",
     "data": {
      "text/plain": [
       "                       id  acousticness  danceability  duration_ms  energy  \\\n",
       "0  46lZpwebFWgqad5CX1iv6r        0.0637         0.919       158040   0.672   \n",
       "1  5Pc594FhDA2Fa2prE75GT0        0.0311         0.906       194607   0.474   \n",
       "2  0fea68AdmYNygeTGI4RC18        0.1520         0.754       242573   0.646   \n",
       "3  5ZicFGBDAi9J2YCVesboUp        0.1620         0.405       368720   0.619   \n",
       "4  4pHQ9RYFhn3W0ha5KEuMnj        0.1510         0.642       283933   0.790   \n",
       "\n",
       "   instrumentalness  key  liveness  loudness  mode  ...  \\\n",
       "0          0.014400   10    0.0597    -3.404     0  ...   \n",
       "1          0.000005    1    0.2860    -6.124     1  ...   \n",
       "2          0.000018    7    0.1080    -5.795     1  ...   \n",
       "3          0.000334   11    0.0788    -8.920     0  ...   \n",
       "4          0.000583   11    0.3050    -6.800     0  ...   \n",
       "\n",
       "                  added_time      song_name  short_pts med_pts long_pts  \\\n",
       "0  2021-05-14 19:10:01+00:00      Entrégala        3.0     0.0      0.0   \n",
       "1  2021-05-13 22:30:16+00:00  Pretty Please        3.0     0.0      0.0   \n",
       "2  2021-05-13 03:41:42+00:00     LA CANCIÓN        0.0     0.0      0.0   \n",
       "3  2021-05-11 16:09:42+00:00   Professional        0.0     0.0      0.0   \n",
       "4  2021-05-11 16:09:32+00:00     Adaptation        0.0     0.0      0.0   \n",
       "\n",
       "  time_pts  total_pts  artist_short_pts  artist_med_pts  artist_long_pts  \n",
       "0      3.0        6.0               0.0             0.0              0.0  \n",
       "1      3.0        6.0               0.0             0.0              0.0  \n",
       "2      3.0        3.0               0.0             0.0              0.0  \n",
       "3      3.0        6.0               3.0             0.0              0.0  \n",
       "4      3.0        6.0               3.0             0.0              0.0  \n",
       "\n",
       "[5 rows x 24 columns]"
      ],
      "text/html": "<div>\n<style scoped>\n    .dataframe tbody tr th:only-of-type {\n        vertical-align: middle;\n    }\n\n    .dataframe tbody tr th {\n        vertical-align: top;\n    }\n\n    .dataframe thead th {\n        text-align: right;\n    }\n</style>\n<table border=\"1\" class=\"dataframe\">\n  <thead>\n    <tr style=\"text-align: right;\">\n      <th></th>\n      <th>id</th>\n      <th>acousticness</th>\n      <th>danceability</th>\n      <th>duration_ms</th>\n      <th>energy</th>\n      <th>instrumentalness</th>\n      <th>key</th>\n      <th>liveness</th>\n      <th>loudness</th>\n      <th>mode</th>\n      <th>...</th>\n      <th>added_time</th>\n      <th>song_name</th>\n      <th>short_pts</th>\n      <th>med_pts</th>\n      <th>long_pts</th>\n      <th>time_pts</th>\n      <th>total_pts</th>\n      <th>artist_short_pts</th>\n      <th>artist_med_pts</th>\n      <th>artist_long_pts</th>\n    </tr>\n  </thead>\n  <tbody>\n    <tr>\n      <th>0</th>\n      <td>46lZpwebFWgqad5CX1iv6r</td>\n      <td>0.0637</td>\n      <td>0.919</td>\n      <td>158040</td>\n      <td>0.672</td>\n      <td>0.014400</td>\n      <td>10</td>\n      <td>0.0597</td>\n      <td>-3.404</td>\n      <td>0</td>\n      <td>...</td>\n      <td>2021-05-14 19:10:01+00:00</td>\n      <td>Entrégala</td>\n      <td>3.0</td>\n      <td>0.0</td>\n      <td>0.0</td>\n      <td>3.0</td>\n      <td>6.0</td>\n      <td>0.0</td>\n      <td>0.0</td>\n      <td>0.0</td>\n    </tr>\n    <tr>\n      <th>1</th>\n      <td>5Pc594FhDA2Fa2prE75GT0</td>\n      <td>0.0311</td>\n      <td>0.906</td>\n      <td>194607</td>\n      <td>0.474</td>\n      <td>0.000005</td>\n      <td>1</td>\n      <td>0.2860</td>\n      <td>-6.124</td>\n      <td>1</td>\n      <td>...</td>\n      <td>2021-05-13 22:30:16+00:00</td>\n      <td>Pretty Please</td>\n      <td>3.0</td>\n      <td>0.0</td>\n      <td>0.0</td>\n      <td>3.0</td>\n      <td>6.0</td>\n      <td>0.0</td>\n      <td>0.0</td>\n      <td>0.0</td>\n    </tr>\n    <tr>\n      <th>2</th>\n      <td>0fea68AdmYNygeTGI4RC18</td>\n      <td>0.1520</td>\n      <td>0.754</td>\n      <td>242573</td>\n      <td>0.646</td>\n      <td>0.000018</td>\n      <td>7</td>\n      <td>0.1080</td>\n      <td>-5.795</td>\n      <td>1</td>\n      <td>...</td>\n      <td>2021-05-13 03:41:42+00:00</td>\n      <td>LA CANCIÓN</td>\n      <td>0.0</td>\n      <td>0.0</td>\n      <td>0.0</td>\n      <td>3.0</td>\n      <td>3.0</td>\n      <td>0.0</td>\n      <td>0.0</td>\n      <td>0.0</td>\n    </tr>\n    <tr>\n      <th>3</th>\n      <td>5ZicFGBDAi9J2YCVesboUp</td>\n      <td>0.1620</td>\n      <td>0.405</td>\n      <td>368720</td>\n      <td>0.619</td>\n      <td>0.000334</td>\n      <td>11</td>\n      <td>0.0788</td>\n      <td>-8.920</td>\n      <td>0</td>\n      <td>...</td>\n      <td>2021-05-11 16:09:42+00:00</td>\n      <td>Professional</td>\n      <td>0.0</td>\n      <td>0.0</td>\n      <td>0.0</td>\n      <td>3.0</td>\n      <td>6.0</td>\n      <td>3.0</td>\n      <td>0.0</td>\n      <td>0.0</td>\n    </tr>\n    <tr>\n      <th>4</th>\n      <td>4pHQ9RYFhn3W0ha5KEuMnj</td>\n      <td>0.1510</td>\n      <td>0.642</td>\n      <td>283933</td>\n      <td>0.790</td>\n      <td>0.000583</td>\n      <td>11</td>\n      <td>0.3050</td>\n      <td>-6.800</td>\n      <td>0</td>\n      <td>...</td>\n      <td>2021-05-11 16:09:32+00:00</td>\n      <td>Adaptation</td>\n      <td>0.0</td>\n      <td>0.0</td>\n      <td>0.0</td>\n      <td>3.0</td>\n      <td>6.0</td>\n      <td>3.0</td>\n      <td>0.0</td>\n      <td>0.0</td>\n    </tr>\n  </tbody>\n</table>\n<p>5 rows × 24 columns</p>\n</div>"
     },
     "metadata": {},
     "execution_count": 8
    }
   ],
   "source": [
    "## load raw library data\n",
    "\n",
    "library = pd.read_csv('../data/raw/raw_library_data.csv')\n",
    "\n",
    "library.head()"
   ]
  },
  {
   "cell_type": "code",
   "execution_count": 19,
   "metadata": {},
   "outputs": [],
   "source": [
    "import random\n",
    "\n",
    "rec_tracks = []\n",
    "\n",
    "ids = []\n",
    "\n",
    "for x in range(5):\n",
    "    ids.append(random.choice(library.loc[library['total_pts'] >= 3]['id'].values.tolist()))\n",
    "\n",
    "\n",
    "rec_tracks = sp.recommendations(seed_tracks=ids, limit=100)['tracks']\n",
    "\n",
    "rec_track_ids = []\n",
    "rec_track_names = []\n",
    "\n",
    "for i in rec_tracks:\n",
    "    rec_track_ids.append(i['id'])\n",
    "    rec_track_names.append(i['name'])\n",
    "\n",
    "rec_features = []\n",
    "for i in range(0,len(rec_track_ids)):\n",
    "    rec_audio_features = sp.audio_features(rec_track_ids[i])\n",
    "    for track in rec_audio_features:\n",
    "        rec_features.append(track)\n",
    "        \n",
    "rec_playlist_df = pd.DataFrame(rec_features, index = rec_track_ids)"
   ]
  },
  {
   "cell_type": "code",
   "execution_count": 20,
   "metadata": {},
   "outputs": [
    {
     "output_type": "execute_result",
     "data": {
      "text/plain": [
       "                        danceability  energy  key  loudness  mode  \\\n",
       "4CUTUsBGjHslu2Bd3AOXGg         0.766   0.300   11    -8.911     0   \n",
       "74wpYGsVh2J13iAmmg1Uln         0.698   0.707    9    -3.778     0   \n",
       "61TklWcG8PbT5hvUTzwLaY         0.858   0.650    8    -4.919     1   \n",
       "644rGY6maSElnKVsAg1gJj         0.645   0.418    6   -10.065     0   \n",
       "4RIi1gNmKDzSH04Vvws2DK         0.560   0.311    9    -8.508     1   \n",
       "\n",
       "                        speechiness  acousticness  instrumentalness  liveness  \\\n",
       "4CUTUsBGjHslu2Bd3AOXGg       0.0375        0.5850          0.001740    0.1140   \n",
       "74wpYGsVh2J13iAmmg1Uln       0.1140        0.2840          0.000000    0.1770   \n",
       "61TklWcG8PbT5hvUTzwLaY       0.2410        0.0066          0.000002    0.1210   \n",
       "644rGY6maSElnKVsAg1gJj       0.2900        0.5580          0.000300    0.5620   \n",
       "4RIi1gNmKDzSH04Vvws2DK       0.0380        0.9340          0.000060    0.0706   \n",
       "\n",
       "                        valence    tempo            type  \\\n",
       "4CUTUsBGjHslu2Bd3AOXGg    0.440   85.993  audio_features   \n",
       "74wpYGsVh2J13iAmmg1Uln    0.413  155.009  audio_features   \n",
       "61TklWcG8PbT5hvUTzwLaY    0.653  147.031  audio_features   \n",
       "644rGY6maSElnKVsAg1gJj    0.123   96.963  audio_features   \n",
       "4RIi1gNmKDzSH04Vvws2DK    0.452  180.050  audio_features   \n",
       "\n",
       "                                            id  \\\n",
       "4CUTUsBGjHslu2Bd3AOXGg  4CUTUsBGjHslu2Bd3AOXGg   \n",
       "74wpYGsVh2J13iAmmg1Uln  74wpYGsVh2J13iAmmg1Uln   \n",
       "61TklWcG8PbT5hvUTzwLaY  61TklWcG8PbT5hvUTzwLaY   \n",
       "644rGY6maSElnKVsAg1gJj  644rGY6maSElnKVsAg1gJj   \n",
       "4RIi1gNmKDzSH04Vvws2DK  4RIi1gNmKDzSH04Vvws2DK   \n",
       "\n",
       "                                                         uri  \\\n",
       "4CUTUsBGjHslu2Bd3AOXGg  spotify:track:4CUTUsBGjHslu2Bd3AOXGg   \n",
       "74wpYGsVh2J13iAmmg1Uln  spotify:track:74wpYGsVh2J13iAmmg1Uln   \n",
       "61TklWcG8PbT5hvUTzwLaY  spotify:track:61TklWcG8PbT5hvUTzwLaY   \n",
       "644rGY6maSElnKVsAg1gJj  spotify:track:644rGY6maSElnKVsAg1gJj   \n",
       "4RIi1gNmKDzSH04Vvws2DK  spotify:track:4RIi1gNmKDzSH04Vvws2DK   \n",
       "\n",
       "                                                               track_href  \\\n",
       "4CUTUsBGjHslu2Bd3AOXGg  https://api.spotify.com/v1/tracks/4CUTUsBGjHsl...   \n",
       "74wpYGsVh2J13iAmmg1Uln  https://api.spotify.com/v1/tracks/74wpYGsVh2J1...   \n",
       "61TklWcG8PbT5hvUTzwLaY  https://api.spotify.com/v1/tracks/61TklWcG8PbT...   \n",
       "644rGY6maSElnKVsAg1gJj  https://api.spotify.com/v1/tracks/644rGY6maSEl...   \n",
       "4RIi1gNmKDzSH04Vvws2DK  https://api.spotify.com/v1/tracks/4RIi1gNmKDzS...   \n",
       "\n",
       "                                                             analysis_url  \\\n",
       "4CUTUsBGjHslu2Bd3AOXGg  https://api.spotify.com/v1/audio-analysis/4CUT...   \n",
       "74wpYGsVh2J13iAmmg1Uln  https://api.spotify.com/v1/audio-analysis/74wp...   \n",
       "61TklWcG8PbT5hvUTzwLaY  https://api.spotify.com/v1/audio-analysis/61Tk...   \n",
       "644rGY6maSElnKVsAg1gJj  https://api.spotify.com/v1/audio-analysis/644r...   \n",
       "4RIi1gNmKDzSH04Vvws2DK  https://api.spotify.com/v1/audio-analysis/4RIi...   \n",
       "\n",
       "                        duration_ms  time_signature  \n",
       "4CUTUsBGjHslu2Bd3AOXGg       176599               4  \n",
       "74wpYGsVh2J13iAmmg1Uln       247688               4  \n",
       "61TklWcG8PbT5hvUTzwLaY       210545               4  \n",
       "644rGY6maSElnKVsAg1gJj       140760               4  \n",
       "4RIi1gNmKDzSH04Vvws2DK       161600               4  "
      ],
      "text/html": "<div>\n<style scoped>\n    .dataframe tbody tr th:only-of-type {\n        vertical-align: middle;\n    }\n\n    .dataframe tbody tr th {\n        vertical-align: top;\n    }\n\n    .dataframe thead th {\n        text-align: right;\n    }\n</style>\n<table border=\"1\" class=\"dataframe\">\n  <thead>\n    <tr style=\"text-align: right;\">\n      <th></th>\n      <th>danceability</th>\n      <th>energy</th>\n      <th>key</th>\n      <th>loudness</th>\n      <th>mode</th>\n      <th>speechiness</th>\n      <th>acousticness</th>\n      <th>instrumentalness</th>\n      <th>liveness</th>\n      <th>valence</th>\n      <th>tempo</th>\n      <th>type</th>\n      <th>id</th>\n      <th>uri</th>\n      <th>track_href</th>\n      <th>analysis_url</th>\n      <th>duration_ms</th>\n      <th>time_signature</th>\n    </tr>\n  </thead>\n  <tbody>\n    <tr>\n      <th>4CUTUsBGjHslu2Bd3AOXGg</th>\n      <td>0.766</td>\n      <td>0.300</td>\n      <td>11</td>\n      <td>-8.911</td>\n      <td>0</td>\n      <td>0.0375</td>\n      <td>0.5850</td>\n      <td>0.001740</td>\n      <td>0.1140</td>\n      <td>0.440</td>\n      <td>85.993</td>\n      <td>audio_features</td>\n      <td>4CUTUsBGjHslu2Bd3AOXGg</td>\n      <td>spotify:track:4CUTUsBGjHslu2Bd3AOXGg</td>\n      <td>https://api.spotify.com/v1/tracks/4CUTUsBGjHsl...</td>\n      <td>https://api.spotify.com/v1/audio-analysis/4CUT...</td>\n      <td>176599</td>\n      <td>4</td>\n    </tr>\n    <tr>\n      <th>74wpYGsVh2J13iAmmg1Uln</th>\n      <td>0.698</td>\n      <td>0.707</td>\n      <td>9</td>\n      <td>-3.778</td>\n      <td>0</td>\n      <td>0.1140</td>\n      <td>0.2840</td>\n      <td>0.000000</td>\n      <td>0.1770</td>\n      <td>0.413</td>\n      <td>155.009</td>\n      <td>audio_features</td>\n      <td>74wpYGsVh2J13iAmmg1Uln</td>\n      <td>spotify:track:74wpYGsVh2J13iAmmg1Uln</td>\n      <td>https://api.spotify.com/v1/tracks/74wpYGsVh2J1...</td>\n      <td>https://api.spotify.com/v1/audio-analysis/74wp...</td>\n      <td>247688</td>\n      <td>4</td>\n    </tr>\n    <tr>\n      <th>61TklWcG8PbT5hvUTzwLaY</th>\n      <td>0.858</td>\n      <td>0.650</td>\n      <td>8</td>\n      <td>-4.919</td>\n      <td>1</td>\n      <td>0.2410</td>\n      <td>0.0066</td>\n      <td>0.000002</td>\n      <td>0.1210</td>\n      <td>0.653</td>\n      <td>147.031</td>\n      <td>audio_features</td>\n      <td>61TklWcG8PbT5hvUTzwLaY</td>\n      <td>spotify:track:61TklWcG8PbT5hvUTzwLaY</td>\n      <td>https://api.spotify.com/v1/tracks/61TklWcG8PbT...</td>\n      <td>https://api.spotify.com/v1/audio-analysis/61Tk...</td>\n      <td>210545</td>\n      <td>4</td>\n    </tr>\n    <tr>\n      <th>644rGY6maSElnKVsAg1gJj</th>\n      <td>0.645</td>\n      <td>0.418</td>\n      <td>6</td>\n      <td>-10.065</td>\n      <td>0</td>\n      <td>0.2900</td>\n      <td>0.5580</td>\n      <td>0.000300</td>\n      <td>0.5620</td>\n      <td>0.123</td>\n      <td>96.963</td>\n      <td>audio_features</td>\n      <td>644rGY6maSElnKVsAg1gJj</td>\n      <td>spotify:track:644rGY6maSElnKVsAg1gJj</td>\n      <td>https://api.spotify.com/v1/tracks/644rGY6maSEl...</td>\n      <td>https://api.spotify.com/v1/audio-analysis/644r...</td>\n      <td>140760</td>\n      <td>4</td>\n    </tr>\n    <tr>\n      <th>4RIi1gNmKDzSH04Vvws2DK</th>\n      <td>0.560</td>\n      <td>0.311</td>\n      <td>9</td>\n      <td>-8.508</td>\n      <td>1</td>\n      <td>0.0380</td>\n      <td>0.9340</td>\n      <td>0.000060</td>\n      <td>0.0706</td>\n      <td>0.452</td>\n      <td>180.050</td>\n      <td>audio_features</td>\n      <td>4RIi1gNmKDzSH04Vvws2DK</td>\n      <td>spotify:track:4RIi1gNmKDzSH04Vvws2DK</td>\n      <td>https://api.spotify.com/v1/tracks/4RIi1gNmKDzS...</td>\n      <td>https://api.spotify.com/v1/audio-analysis/4RIi...</td>\n      <td>161600</td>\n      <td>4</td>\n    </tr>\n  </tbody>\n</table>\n</div>"
     },
     "metadata": {},
     "execution_count": 20
    }
   ],
   "source": [
    "rec_playlist_df.head()"
   ]
  },
  {
   "cell_type": "code",
   "execution_count": 21,
   "metadata": {},
   "outputs": [
    {
     "output_type": "execute_result",
     "data": {
      "text/plain": [
       "                                            id  acousticness  danceability  \\\n",
       "4CUTUsBGjHslu2Bd3AOXGg  4CUTUsBGjHslu2Bd3AOXGg        0.5850         0.766   \n",
       "74wpYGsVh2J13iAmmg1Uln  74wpYGsVh2J13iAmmg1Uln        0.2840         0.698   \n",
       "61TklWcG8PbT5hvUTzwLaY  61TklWcG8PbT5hvUTzwLaY        0.0066         0.858   \n",
       "644rGY6maSElnKVsAg1gJj  644rGY6maSElnKVsAg1gJj        0.5580         0.645   \n",
       "4RIi1gNmKDzSH04Vvws2DK  4RIi1gNmKDzSH04Vvws2DK        0.9340         0.560   \n",
       "\n",
       "                        duration_ms  energy  instrumentalness  key  liveness  \\\n",
       "4CUTUsBGjHslu2Bd3AOXGg       176599   0.300          0.001740   11    0.1140   \n",
       "74wpYGsVh2J13iAmmg1Uln       247688   0.707          0.000000    9    0.1770   \n",
       "61TklWcG8PbT5hvUTzwLaY       210545   0.650          0.000002    8    0.1210   \n",
       "644rGY6maSElnKVsAg1gJj       140760   0.418          0.000300    6    0.5620   \n",
       "4RIi1gNmKDzSH04Vvws2DK       161600   0.311          0.000060    9    0.0706   \n",
       "\n",
       "                        loudness  speechiness    tempo  valence  \\\n",
       "4CUTUsBGjHslu2Bd3AOXGg    -8.911       0.0375   85.993    0.440   \n",
       "74wpYGsVh2J13iAmmg1Uln    -3.778       0.1140  155.009    0.413   \n",
       "61TklWcG8PbT5hvUTzwLaY    -4.919       0.2410  147.031    0.653   \n",
       "644rGY6maSElnKVsAg1gJj   -10.065       0.2900   96.963    0.123   \n",
       "4RIi1gNmKDzSH04Vvws2DK    -8.508       0.0380  180.050    0.452   \n",
       "\n",
       "                                                         uri  \n",
       "4CUTUsBGjHslu2Bd3AOXGg  spotify:track:4CUTUsBGjHslu2Bd3AOXGg  \n",
       "74wpYGsVh2J13iAmmg1Uln  spotify:track:74wpYGsVh2J13iAmmg1Uln  \n",
       "61TklWcG8PbT5hvUTzwLaY  spotify:track:61TklWcG8PbT5hvUTzwLaY  \n",
       "644rGY6maSElnKVsAg1gJj  spotify:track:644rGY6maSElnKVsAg1gJj  \n",
       "4RIi1gNmKDzSH04Vvws2DK  spotify:track:4RIi1gNmKDzSH04Vvws2DK  "
      ],
      "text/html": "<div>\n<style scoped>\n    .dataframe tbody tr th:only-of-type {\n        vertical-align: middle;\n    }\n\n    .dataframe tbody tr th {\n        vertical-align: top;\n    }\n\n    .dataframe thead th {\n        text-align: right;\n    }\n</style>\n<table border=\"1\" class=\"dataframe\">\n  <thead>\n    <tr style=\"text-align: right;\">\n      <th></th>\n      <th>id</th>\n      <th>acousticness</th>\n      <th>danceability</th>\n      <th>duration_ms</th>\n      <th>energy</th>\n      <th>instrumentalness</th>\n      <th>key</th>\n      <th>liveness</th>\n      <th>loudness</th>\n      <th>speechiness</th>\n      <th>tempo</th>\n      <th>valence</th>\n      <th>uri</th>\n    </tr>\n  </thead>\n  <tbody>\n    <tr>\n      <th>4CUTUsBGjHslu2Bd3AOXGg</th>\n      <td>4CUTUsBGjHslu2Bd3AOXGg</td>\n      <td>0.5850</td>\n      <td>0.766</td>\n      <td>176599</td>\n      <td>0.300</td>\n      <td>0.001740</td>\n      <td>11</td>\n      <td>0.1140</td>\n      <td>-8.911</td>\n      <td>0.0375</td>\n      <td>85.993</td>\n      <td>0.440</td>\n      <td>spotify:track:4CUTUsBGjHslu2Bd3AOXGg</td>\n    </tr>\n    <tr>\n      <th>74wpYGsVh2J13iAmmg1Uln</th>\n      <td>74wpYGsVh2J13iAmmg1Uln</td>\n      <td>0.2840</td>\n      <td>0.698</td>\n      <td>247688</td>\n      <td>0.707</td>\n      <td>0.000000</td>\n      <td>9</td>\n      <td>0.1770</td>\n      <td>-3.778</td>\n      <td>0.1140</td>\n      <td>155.009</td>\n      <td>0.413</td>\n      <td>spotify:track:74wpYGsVh2J13iAmmg1Uln</td>\n    </tr>\n    <tr>\n      <th>61TklWcG8PbT5hvUTzwLaY</th>\n      <td>61TklWcG8PbT5hvUTzwLaY</td>\n      <td>0.0066</td>\n      <td>0.858</td>\n      <td>210545</td>\n      <td>0.650</td>\n      <td>0.000002</td>\n      <td>8</td>\n      <td>0.1210</td>\n      <td>-4.919</td>\n      <td>0.2410</td>\n      <td>147.031</td>\n      <td>0.653</td>\n      <td>spotify:track:61TklWcG8PbT5hvUTzwLaY</td>\n    </tr>\n    <tr>\n      <th>644rGY6maSElnKVsAg1gJj</th>\n      <td>644rGY6maSElnKVsAg1gJj</td>\n      <td>0.5580</td>\n      <td>0.645</td>\n      <td>140760</td>\n      <td>0.418</td>\n      <td>0.000300</td>\n      <td>6</td>\n      <td>0.5620</td>\n      <td>-10.065</td>\n      <td>0.2900</td>\n      <td>96.963</td>\n      <td>0.123</td>\n      <td>spotify:track:644rGY6maSElnKVsAg1gJj</td>\n    </tr>\n    <tr>\n      <th>4RIi1gNmKDzSH04Vvws2DK</th>\n      <td>4RIi1gNmKDzSH04Vvws2DK</td>\n      <td>0.9340</td>\n      <td>0.560</td>\n      <td>161600</td>\n      <td>0.311</td>\n      <td>0.000060</td>\n      <td>9</td>\n      <td>0.0706</td>\n      <td>-8.508</td>\n      <td>0.0380</td>\n      <td>180.050</td>\n      <td>0.452</td>\n      <td>spotify:track:4RIi1gNmKDzSH04Vvws2DK</td>\n    </tr>\n  </tbody>\n</table>\n</div>"
     },
     "metadata": {},
     "execution_count": 21
    }
   ],
   "source": [
    "#keeping only relevant features\n",
    "\n",
    "rec_tracks_df = rec_playlist_df[[\"id\", \"acousticness\", \"danceability\", \"duration_ms\", \n",
    "                         \"energy\", \"instrumentalness\",  \"key\", \"liveness\",\n",
    "                         \"loudness\", \"speechiness\", \"tempo\", \"valence\", 'uri']]\n",
    "\n",
    "rec_tracks_df.head()"
   ]
  },
  {
   "cell_type": "code",
   "execution_count": 24,
   "metadata": {},
   "outputs": [
    {
     "output_type": "execute_result",
     "data": {
      "text/plain": [
       "                        acousticness  danceability  duration_ms  energy  \\\n",
       "4CUTUsBGjHslu2Bd3AOXGg        0.5850         0.766       176599   0.300   \n",
       "74wpYGsVh2J13iAmmg1Uln        0.2840         0.698       247688   0.707   \n",
       "61TklWcG8PbT5hvUTzwLaY        0.0066         0.858       210545   0.650   \n",
       "644rGY6maSElnKVsAg1gJj        0.5580         0.645       140760   0.418   \n",
       "4RIi1gNmKDzSH04Vvws2DK        0.9340         0.560       161600   0.311   \n",
       "\n",
       "                        instrumentalness  key  liveness  loudness  \\\n",
       "4CUTUsBGjHslu2Bd3AOXGg          0.001740   11    0.1140    -8.911   \n",
       "74wpYGsVh2J13iAmmg1Uln          0.000000    9    0.1770    -3.778   \n",
       "61TklWcG8PbT5hvUTzwLaY          0.000002    8    0.1210    -4.919   \n",
       "644rGY6maSElnKVsAg1gJj          0.000300    6    0.5620   -10.065   \n",
       "4RIi1gNmKDzSH04Vvws2DK          0.000060    9    0.0706    -8.508   \n",
       "\n",
       "                        speechiness    tempo  valence  \n",
       "4CUTUsBGjHslu2Bd3AOXGg       0.0375   85.993    0.440  \n",
       "74wpYGsVh2J13iAmmg1Uln       0.1140  155.009    0.413  \n",
       "61TklWcG8PbT5hvUTzwLaY       0.2410  147.031    0.653  \n",
       "644rGY6maSElnKVsAg1gJj       0.2900   96.963    0.123  \n",
       "4RIi1gNmKDzSH04Vvws2DK       0.0380  180.050    0.452  "
      ],
      "text/html": "<div>\n<style scoped>\n    .dataframe tbody tr th:only-of-type {\n        vertical-align: middle;\n    }\n\n    .dataframe tbody tr th {\n        vertical-align: top;\n    }\n\n    .dataframe thead th {\n        text-align: right;\n    }\n</style>\n<table border=\"1\" class=\"dataframe\">\n  <thead>\n    <tr style=\"text-align: right;\">\n      <th></th>\n      <th>acousticness</th>\n      <th>danceability</th>\n      <th>duration_ms</th>\n      <th>energy</th>\n      <th>instrumentalness</th>\n      <th>key</th>\n      <th>liveness</th>\n      <th>loudness</th>\n      <th>speechiness</th>\n      <th>tempo</th>\n      <th>valence</th>\n    </tr>\n  </thead>\n  <tbody>\n    <tr>\n      <th>4CUTUsBGjHslu2Bd3AOXGg</th>\n      <td>0.5850</td>\n      <td>0.766</td>\n      <td>176599</td>\n      <td>0.300</td>\n      <td>0.001740</td>\n      <td>11</td>\n      <td>0.1140</td>\n      <td>-8.911</td>\n      <td>0.0375</td>\n      <td>85.993</td>\n      <td>0.440</td>\n    </tr>\n    <tr>\n      <th>74wpYGsVh2J13iAmmg1Uln</th>\n      <td>0.2840</td>\n      <td>0.698</td>\n      <td>247688</td>\n      <td>0.707</td>\n      <td>0.000000</td>\n      <td>9</td>\n      <td>0.1770</td>\n      <td>-3.778</td>\n      <td>0.1140</td>\n      <td>155.009</td>\n      <td>0.413</td>\n    </tr>\n    <tr>\n      <th>61TklWcG8PbT5hvUTzwLaY</th>\n      <td>0.0066</td>\n      <td>0.858</td>\n      <td>210545</td>\n      <td>0.650</td>\n      <td>0.000002</td>\n      <td>8</td>\n      <td>0.1210</td>\n      <td>-4.919</td>\n      <td>0.2410</td>\n      <td>147.031</td>\n      <td>0.653</td>\n    </tr>\n    <tr>\n      <th>644rGY6maSElnKVsAg1gJj</th>\n      <td>0.5580</td>\n      <td>0.645</td>\n      <td>140760</td>\n      <td>0.418</td>\n      <td>0.000300</td>\n      <td>6</td>\n      <td>0.5620</td>\n      <td>-10.065</td>\n      <td>0.2900</td>\n      <td>96.963</td>\n      <td>0.123</td>\n    </tr>\n    <tr>\n      <th>4RIi1gNmKDzSH04Vvws2DK</th>\n      <td>0.9340</td>\n      <td>0.560</td>\n      <td>161600</td>\n      <td>0.311</td>\n      <td>0.000060</td>\n      <td>9</td>\n      <td>0.0706</td>\n      <td>-8.508</td>\n      <td>0.0380</td>\n      <td>180.050</td>\n      <td>0.452</td>\n    </tr>\n  </tbody>\n</table>\n</div>"
     },
     "metadata": {},
     "execution_count": 24
    }
   ],
   "source": [
    "X_rec_tracks = rec_tracks_df.drop(columns = ['id', 'uri'])\n",
    "\n",
    "X_rec_tracks.head()"
   ]
  },
  {
   "cell_type": "code",
   "execution_count": 26,
   "metadata": {},
   "outputs": [],
   "source": [
    "from sklearn.pipeline import Pipeline\n",
    "from sklearn.preprocessing import MinMaxScaler\n",
    "\n",
    "pipeline = Pipeline([\n",
    "    ('std_scaler', MinMaxScaler())\n",
    "])"
   ]
  },
  {
   "cell_type": "code",
   "execution_count": 29,
   "metadata": {},
   "outputs": [],
   "source": [
    "X_rec_scaled = pipeline.fit_transform(X_rec_tracks)"
   ]
  },
  {
   "cell_type": "code",
   "execution_count": 30,
   "metadata": {},
   "outputs": [],
   "source": [
    "from sklearn.ensemble import RandomForestClassifier\n",
    "\n",
    "rec_predict = loaded_model.predict(X_rec_scaled)"
   ]
  },
  {
   "cell_type": "code",
   "execution_count": 32,
   "metadata": {},
   "outputs": [
    {
     "output_type": "stream",
     "name": "stderr",
     "text": [
      "<ipython-input-32-771d66e1c4b8>:1: SettingWithCopyWarning: \nA value is trying to be set on a copy of a slice from a DataFrame.\nTry using .loc[row_indexer,col_indexer] = value instead\n\nSee the caveats in the documentation: https://pandas.pydata.org/pandas-docs/stable/user_guide/indexing.html#returning-a-view-versus-a-copy\n  rec_tracks_df['predict'] = rec_predict\n"
     ]
    },
    {
     "output_type": "execute_result",
     "data": {
      "text/plain": [
       "                                            id  acousticness  danceability  \\\n",
       "4CUTUsBGjHslu2Bd3AOXGg  4CUTUsBGjHslu2Bd3AOXGg        0.5850         0.766   \n",
       "74wpYGsVh2J13iAmmg1Uln  74wpYGsVh2J13iAmmg1Uln        0.2840         0.698   \n",
       "61TklWcG8PbT5hvUTzwLaY  61TklWcG8PbT5hvUTzwLaY        0.0066         0.858   \n",
       "644rGY6maSElnKVsAg1gJj  644rGY6maSElnKVsAg1gJj        0.5580         0.645   \n",
       "4RIi1gNmKDzSH04Vvws2DK  4RIi1gNmKDzSH04Vvws2DK        0.9340         0.560   \n",
       "\n",
       "                        duration_ms  energy  instrumentalness  key  liveness  \\\n",
       "4CUTUsBGjHslu2Bd3AOXGg       176599   0.300          0.001740   11    0.1140   \n",
       "74wpYGsVh2J13iAmmg1Uln       247688   0.707          0.000000    9    0.1770   \n",
       "61TklWcG8PbT5hvUTzwLaY       210545   0.650          0.000002    8    0.1210   \n",
       "644rGY6maSElnKVsAg1gJj       140760   0.418          0.000300    6    0.5620   \n",
       "4RIi1gNmKDzSH04Vvws2DK       161600   0.311          0.000060    9    0.0706   \n",
       "\n",
       "                        loudness  speechiness    tempo  valence  \\\n",
       "4CUTUsBGjHslu2Bd3AOXGg    -8.911       0.0375   85.993    0.440   \n",
       "74wpYGsVh2J13iAmmg1Uln    -3.778       0.1140  155.009    0.413   \n",
       "61TklWcG8PbT5hvUTzwLaY    -4.919       0.2410  147.031    0.653   \n",
       "644rGY6maSElnKVsAg1gJj   -10.065       0.2900   96.963    0.123   \n",
       "4RIi1gNmKDzSH04Vvws2DK    -8.508       0.0380  180.050    0.452   \n",
       "\n",
       "                                                         uri  predict  \n",
       "4CUTUsBGjHslu2Bd3AOXGg  spotify:track:4CUTUsBGjHslu2Bd3AOXGg        0  \n",
       "74wpYGsVh2J13iAmmg1Uln  spotify:track:74wpYGsVh2J13iAmmg1Uln        1  \n",
       "61TklWcG8PbT5hvUTzwLaY  spotify:track:61TklWcG8PbT5hvUTzwLaY        0  \n",
       "644rGY6maSElnKVsAg1gJj  spotify:track:644rGY6maSElnKVsAg1gJj        1  \n",
       "4RIi1gNmKDzSH04Vvws2DK  spotify:track:4RIi1gNmKDzSH04Vvws2DK        1  "
      ],
      "text/html": "<div>\n<style scoped>\n    .dataframe tbody tr th:only-of-type {\n        vertical-align: middle;\n    }\n\n    .dataframe tbody tr th {\n        vertical-align: top;\n    }\n\n    .dataframe thead th {\n        text-align: right;\n    }\n</style>\n<table border=\"1\" class=\"dataframe\">\n  <thead>\n    <tr style=\"text-align: right;\">\n      <th></th>\n      <th>id</th>\n      <th>acousticness</th>\n      <th>danceability</th>\n      <th>duration_ms</th>\n      <th>energy</th>\n      <th>instrumentalness</th>\n      <th>key</th>\n      <th>liveness</th>\n      <th>loudness</th>\n      <th>speechiness</th>\n      <th>tempo</th>\n      <th>valence</th>\n      <th>uri</th>\n      <th>predict</th>\n    </tr>\n  </thead>\n  <tbody>\n    <tr>\n      <th>4CUTUsBGjHslu2Bd3AOXGg</th>\n      <td>4CUTUsBGjHslu2Bd3AOXGg</td>\n      <td>0.5850</td>\n      <td>0.766</td>\n      <td>176599</td>\n      <td>0.300</td>\n      <td>0.001740</td>\n      <td>11</td>\n      <td>0.1140</td>\n      <td>-8.911</td>\n      <td>0.0375</td>\n      <td>85.993</td>\n      <td>0.440</td>\n      <td>spotify:track:4CUTUsBGjHslu2Bd3AOXGg</td>\n      <td>0</td>\n    </tr>\n    <tr>\n      <th>74wpYGsVh2J13iAmmg1Uln</th>\n      <td>74wpYGsVh2J13iAmmg1Uln</td>\n      <td>0.2840</td>\n      <td>0.698</td>\n      <td>247688</td>\n      <td>0.707</td>\n      <td>0.000000</td>\n      <td>9</td>\n      <td>0.1770</td>\n      <td>-3.778</td>\n      <td>0.1140</td>\n      <td>155.009</td>\n      <td>0.413</td>\n      <td>spotify:track:74wpYGsVh2J13iAmmg1Uln</td>\n      <td>1</td>\n    </tr>\n    <tr>\n      <th>61TklWcG8PbT5hvUTzwLaY</th>\n      <td>61TklWcG8PbT5hvUTzwLaY</td>\n      <td>0.0066</td>\n      <td>0.858</td>\n      <td>210545</td>\n      <td>0.650</td>\n      <td>0.000002</td>\n      <td>8</td>\n      <td>0.1210</td>\n      <td>-4.919</td>\n      <td>0.2410</td>\n      <td>147.031</td>\n      <td>0.653</td>\n      <td>spotify:track:61TklWcG8PbT5hvUTzwLaY</td>\n      <td>0</td>\n    </tr>\n    <tr>\n      <th>644rGY6maSElnKVsAg1gJj</th>\n      <td>644rGY6maSElnKVsAg1gJj</td>\n      <td>0.5580</td>\n      <td>0.645</td>\n      <td>140760</td>\n      <td>0.418</td>\n      <td>0.000300</td>\n      <td>6</td>\n      <td>0.5620</td>\n      <td>-10.065</td>\n      <td>0.2900</td>\n      <td>96.963</td>\n      <td>0.123</td>\n      <td>spotify:track:644rGY6maSElnKVsAg1gJj</td>\n      <td>1</td>\n    </tr>\n    <tr>\n      <th>4RIi1gNmKDzSH04Vvws2DK</th>\n      <td>4RIi1gNmKDzSH04Vvws2DK</td>\n      <td>0.9340</td>\n      <td>0.560</td>\n      <td>161600</td>\n      <td>0.311</td>\n      <td>0.000060</td>\n      <td>9</td>\n      <td>0.0706</td>\n      <td>-8.508</td>\n      <td>0.0380</td>\n      <td>180.050</td>\n      <td>0.452</td>\n      <td>spotify:track:4RIi1gNmKDzSH04Vvws2DK</td>\n      <td>1</td>\n    </tr>\n  </tbody>\n</table>\n</div>"
     },
     "metadata": {},
     "execution_count": 32
    }
   ],
   "source": [
    "rec_tracks_df['predict'] = rec_predict\n",
    "\n",
    "rec_tracks_df.head()"
   ]
  },
  {
   "cell_type": "code",
   "execution_count": 33,
   "metadata": {},
   "outputs": [
    {
     "output_type": "execute_result",
     "data": {
      "text/plain": [
       "0    66\n",
       "1    34\n",
       "Name: predict, dtype: int64"
      ]
     },
     "metadata": {},
     "execution_count": 33
    }
   ],
   "source": [
    "rec_tracks_df['predict'].value_counts()"
   ]
  },
  {
   "cell_type": "code",
   "execution_count": 34,
   "metadata": {},
   "outputs": [],
   "source": [
    "final_recs = rec_tracks_df.loc[rec_tracks_df['predict'] == 1]['id'].values.tolist()"
   ]
  },
  {
   "cell_type": "code",
   "execution_count": 36,
   "metadata": {},
   "outputs": [
    {
     "output_type": "execute_result",
     "data": {
      "text/plain": [
       "{'snapshot_id': 'MixlZWNkYmIzODc2Yjg2MDE5NjA3Zjg1MDgwODk3M2NiMWQwMzVlOGVj'}"
      ]
     },
     "metadata": {},
     "execution_count": 36
    }
   ],
   "source": [
    "# creating a playlist with these recs\n",
    "recs_playlist = sp.user_playlist_create(USERNAME, name= 'Python Recs')\n",
    "\n",
    "#adding songs to playlist\n",
    "sp.user_playlist_add_tracks(USERNAME, recs_playlist['id'], final_recs)"
   ]
  }
 ]
}