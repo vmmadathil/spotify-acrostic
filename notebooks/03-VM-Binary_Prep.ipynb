{
 "metadata": {
  "language_info": {
   "codemirror_mode": {
    "name": "ipython",
    "version": 3
   },
   "file_extension": ".py",
   "mimetype": "text/x-python",
   "name": "python",
   "nbconvert_exporter": "python",
   "pygments_lexer": "ipython3",
   "version": "3.8.5"
  },
  "orig_nbformat": 2,
  "kernelspec": {
   "name": "python385jvsc74a57bd0a57c79dc9956e442f3c50029d8fd4fa1ea1c7263198942fc1f0ab90314f7affc",
   "display_name": "Python 3.8.5 64-bit ('tx2036-test': conda)"
  }
 },
 "nbformat": 4,
 "nbformat_minor": 2,
 "cells": [
  {
   "cell_type": "code",
   "execution_count": 1,
   "metadata": {},
   "outputs": [],
   "source": [
    "import pandas as pd"
   ]
  },
  {
   "cell_type": "code",
   "execution_count": 2,
   "metadata": {},
   "outputs": [
    {
     "output_type": "execute_result",
     "data": {
      "text/plain": [
       "                       id  acousticness  danceability  duration_ms  energy  \\\n",
       "0  46lZpwebFWgqad5CX1iv6r        0.0637         0.919       158040   0.672   \n",
       "1  5Pc594FhDA2Fa2prE75GT0        0.0311         0.906       194607   0.474   \n",
       "2  0fea68AdmYNygeTGI4RC18        0.1520         0.754       242573   0.646   \n",
       "3  5ZicFGBDAi9J2YCVesboUp        0.1620         0.405       368720   0.619   \n",
       "4  4pHQ9RYFhn3W0ha5KEuMnj        0.1510         0.642       283933   0.790   \n",
       "\n",
       "   instrumentalness  key  liveness  loudness  mode  ...  \\\n",
       "0          0.014400   10    0.0597    -3.404     0  ...   \n",
       "1          0.000005    1    0.2860    -6.124     1  ...   \n",
       "2          0.000018    7    0.1080    -5.795     1  ...   \n",
       "3          0.000334   11    0.0788    -8.920     0  ...   \n",
       "4          0.000583   11    0.3050    -6.800     0  ...   \n",
       "\n",
       "                  added_time      song_name  short_pts med_pts long_pts  \\\n",
       "0  2021-05-14 19:10:01+00:00      Entrégala        3.0     0.0      0.0   \n",
       "1  2021-05-13 22:30:16+00:00  Pretty Please        3.0     0.0      0.0   \n",
       "2  2021-05-13 03:41:42+00:00     LA CANCIÓN        0.0     0.0      0.0   \n",
       "3  2021-05-11 16:09:42+00:00   Professional        0.0     0.0      0.0   \n",
       "4  2021-05-11 16:09:32+00:00     Adaptation        0.0     0.0      0.0   \n",
       "\n",
       "  time_pts  total_pts  artist_short_pts  artist_med_pts  artist_long_pts  \n",
       "0      3.0        6.0               0.0             0.0              0.0  \n",
       "1      3.0        6.0               0.0             0.0              0.0  \n",
       "2      3.0        3.0               0.0             0.0              0.0  \n",
       "3      3.0        6.0               3.0             0.0              0.0  \n",
       "4      3.0        6.0               3.0             0.0              0.0  \n",
       "\n",
       "[5 rows x 24 columns]"
      ],
      "text/html": "<div>\n<style scoped>\n    .dataframe tbody tr th:only-of-type {\n        vertical-align: middle;\n    }\n\n    .dataframe tbody tr th {\n        vertical-align: top;\n    }\n\n    .dataframe thead th {\n        text-align: right;\n    }\n</style>\n<table border=\"1\" class=\"dataframe\">\n  <thead>\n    <tr style=\"text-align: right;\">\n      <th></th>\n      <th>id</th>\n      <th>acousticness</th>\n      <th>danceability</th>\n      <th>duration_ms</th>\n      <th>energy</th>\n      <th>instrumentalness</th>\n      <th>key</th>\n      <th>liveness</th>\n      <th>loudness</th>\n      <th>mode</th>\n      <th>...</th>\n      <th>added_time</th>\n      <th>song_name</th>\n      <th>short_pts</th>\n      <th>med_pts</th>\n      <th>long_pts</th>\n      <th>time_pts</th>\n      <th>total_pts</th>\n      <th>artist_short_pts</th>\n      <th>artist_med_pts</th>\n      <th>artist_long_pts</th>\n    </tr>\n  </thead>\n  <tbody>\n    <tr>\n      <th>0</th>\n      <td>46lZpwebFWgqad5CX1iv6r</td>\n      <td>0.0637</td>\n      <td>0.919</td>\n      <td>158040</td>\n      <td>0.672</td>\n      <td>0.014400</td>\n      <td>10</td>\n      <td>0.0597</td>\n      <td>-3.404</td>\n      <td>0</td>\n      <td>...</td>\n      <td>2021-05-14 19:10:01+00:00</td>\n      <td>Entrégala</td>\n      <td>3.0</td>\n      <td>0.0</td>\n      <td>0.0</td>\n      <td>3.0</td>\n      <td>6.0</td>\n      <td>0.0</td>\n      <td>0.0</td>\n      <td>0.0</td>\n    </tr>\n    <tr>\n      <th>1</th>\n      <td>5Pc594FhDA2Fa2prE75GT0</td>\n      <td>0.0311</td>\n      <td>0.906</td>\n      <td>194607</td>\n      <td>0.474</td>\n      <td>0.000005</td>\n      <td>1</td>\n      <td>0.2860</td>\n      <td>-6.124</td>\n      <td>1</td>\n      <td>...</td>\n      <td>2021-05-13 22:30:16+00:00</td>\n      <td>Pretty Please</td>\n      <td>3.0</td>\n      <td>0.0</td>\n      <td>0.0</td>\n      <td>3.0</td>\n      <td>6.0</td>\n      <td>0.0</td>\n      <td>0.0</td>\n      <td>0.0</td>\n    </tr>\n    <tr>\n      <th>2</th>\n      <td>0fea68AdmYNygeTGI4RC18</td>\n      <td>0.1520</td>\n      <td>0.754</td>\n      <td>242573</td>\n      <td>0.646</td>\n      <td>0.000018</td>\n      <td>7</td>\n      <td>0.1080</td>\n      <td>-5.795</td>\n      <td>1</td>\n      <td>...</td>\n      <td>2021-05-13 03:41:42+00:00</td>\n      <td>LA CANCIÓN</td>\n      <td>0.0</td>\n      <td>0.0</td>\n      <td>0.0</td>\n      <td>3.0</td>\n      <td>3.0</td>\n      <td>0.0</td>\n      <td>0.0</td>\n      <td>0.0</td>\n    </tr>\n    <tr>\n      <th>3</th>\n      <td>5ZicFGBDAi9J2YCVesboUp</td>\n      <td>0.1620</td>\n      <td>0.405</td>\n      <td>368720</td>\n      <td>0.619</td>\n      <td>0.000334</td>\n      <td>11</td>\n      <td>0.0788</td>\n      <td>-8.920</td>\n      <td>0</td>\n      <td>...</td>\n      <td>2021-05-11 16:09:42+00:00</td>\n      <td>Professional</td>\n      <td>0.0</td>\n      <td>0.0</td>\n      <td>0.0</td>\n      <td>3.0</td>\n      <td>6.0</td>\n      <td>3.0</td>\n      <td>0.0</td>\n      <td>0.0</td>\n    </tr>\n    <tr>\n      <th>4</th>\n      <td>4pHQ9RYFhn3W0ha5KEuMnj</td>\n      <td>0.1510</td>\n      <td>0.642</td>\n      <td>283933</td>\n      <td>0.790</td>\n      <td>0.000583</td>\n      <td>11</td>\n      <td>0.3050</td>\n      <td>-6.800</td>\n      <td>0</td>\n      <td>...</td>\n      <td>2021-05-11 16:09:32+00:00</td>\n      <td>Adaptation</td>\n      <td>0.0</td>\n      <td>0.0</td>\n      <td>0.0</td>\n      <td>3.0</td>\n      <td>6.0</td>\n      <td>3.0</td>\n      <td>0.0</td>\n      <td>0.0</td>\n    </tr>\n  </tbody>\n</table>\n<p>5 rows × 24 columns</p>\n</div>"
     },
     "metadata": {},
     "execution_count": 2
    }
   ],
   "source": [
    "tracks_df = pd.read_csv('../data/raw/raw_library_data.csv')\n",
    "\n",
    "tracks_df.head()"
   ]
  },
  {
   "cell_type": "code",
   "execution_count": 7,
   "metadata": {},
   "outputs": [
    {
     "output_type": "execute_result",
     "data": {
      "text/plain": [
       "                       id  acousticness  danceability  duration_ms  energy  \\\n",
       "0  46lZpwebFWgqad5CX1iv6r        0.0637         0.919       158040   0.672   \n",
       "1  5Pc594FhDA2Fa2prE75GT0        0.0311         0.906       194607   0.474   \n",
       "2  0fea68AdmYNygeTGI4RC18        0.1520         0.754       242573   0.646   \n",
       "3  5ZicFGBDAi9J2YCVesboUp        0.1620         0.405       368720   0.619   \n",
       "4  4pHQ9RYFhn3W0ha5KEuMnj        0.1510         0.642       283933   0.790   \n",
       "\n",
       "   instrumentalness  key  liveness  loudness  speechiness    tempo  valence  \\\n",
       "0          0.014400   10    0.0597    -3.404       0.1310  117.002    0.425   \n",
       "1          0.000005    1    0.2860    -6.124       0.1940  106.976    0.656   \n",
       "2          0.000018    7    0.1080    -5.795       0.3170  176.089    0.429   \n",
       "3          0.000334   11    0.0788    -8.920       0.0615  120.092    0.234   \n",
       "4          0.000583   11    0.3050    -6.800       0.0681  114.960    0.613   \n",
       "\n",
       "   total_pts  \n",
       "0        6.0  \n",
       "1        6.0  \n",
       "2        3.0  \n",
       "3        6.0  \n",
       "4        6.0  "
      ],
      "text/html": "<div>\n<style scoped>\n    .dataframe tbody tr th:only-of-type {\n        vertical-align: middle;\n    }\n\n    .dataframe tbody tr th {\n        vertical-align: top;\n    }\n\n    .dataframe thead th {\n        text-align: right;\n    }\n</style>\n<table border=\"1\" class=\"dataframe\">\n  <thead>\n    <tr style=\"text-align: right;\">\n      <th></th>\n      <th>id</th>\n      <th>acousticness</th>\n      <th>danceability</th>\n      <th>duration_ms</th>\n      <th>energy</th>\n      <th>instrumentalness</th>\n      <th>key</th>\n      <th>liveness</th>\n      <th>loudness</th>\n      <th>speechiness</th>\n      <th>tempo</th>\n      <th>valence</th>\n      <th>total_pts</th>\n    </tr>\n  </thead>\n  <tbody>\n    <tr>\n      <th>0</th>\n      <td>46lZpwebFWgqad5CX1iv6r</td>\n      <td>0.0637</td>\n      <td>0.919</td>\n      <td>158040</td>\n      <td>0.672</td>\n      <td>0.014400</td>\n      <td>10</td>\n      <td>0.0597</td>\n      <td>-3.404</td>\n      <td>0.1310</td>\n      <td>117.002</td>\n      <td>0.425</td>\n      <td>6.0</td>\n    </tr>\n    <tr>\n      <th>1</th>\n      <td>5Pc594FhDA2Fa2prE75GT0</td>\n      <td>0.0311</td>\n      <td>0.906</td>\n      <td>194607</td>\n      <td>0.474</td>\n      <td>0.000005</td>\n      <td>1</td>\n      <td>0.2860</td>\n      <td>-6.124</td>\n      <td>0.1940</td>\n      <td>106.976</td>\n      <td>0.656</td>\n      <td>6.0</td>\n    </tr>\n    <tr>\n      <th>2</th>\n      <td>0fea68AdmYNygeTGI4RC18</td>\n      <td>0.1520</td>\n      <td>0.754</td>\n      <td>242573</td>\n      <td>0.646</td>\n      <td>0.000018</td>\n      <td>7</td>\n      <td>0.1080</td>\n      <td>-5.795</td>\n      <td>0.3170</td>\n      <td>176.089</td>\n      <td>0.429</td>\n      <td>3.0</td>\n    </tr>\n    <tr>\n      <th>3</th>\n      <td>5ZicFGBDAi9J2YCVesboUp</td>\n      <td>0.1620</td>\n      <td>0.405</td>\n      <td>368720</td>\n      <td>0.619</td>\n      <td>0.000334</td>\n      <td>11</td>\n      <td>0.0788</td>\n      <td>-8.920</td>\n      <td>0.0615</td>\n      <td>120.092</td>\n      <td>0.234</td>\n      <td>6.0</td>\n    </tr>\n    <tr>\n      <th>4</th>\n      <td>4pHQ9RYFhn3W0ha5KEuMnj</td>\n      <td>0.1510</td>\n      <td>0.642</td>\n      <td>283933</td>\n      <td>0.790</td>\n      <td>0.000583</td>\n      <td>11</td>\n      <td>0.3050</td>\n      <td>-6.800</td>\n      <td>0.0681</td>\n      <td>114.960</td>\n      <td>0.613</td>\n      <td>6.0</td>\n    </tr>\n  </tbody>\n</table>\n</div>"
     },
     "metadata": {},
     "execution_count": 7
    }
   ],
   "source": [
    "track_features = tracks_df.drop(columns = ['short_pts', 'med_pts', 'long_pts', 'time_pts', 'artist_short_pts', 'artist_med_pts', 'artist_long_pts', 'added_time', 'song_name', 'mode', 'artist_id'])\n",
    "\n",
    "track_features.head()"
   ]
  },
  {
   "cell_type": "code",
   "execution_count": 8,
   "metadata": {},
   "outputs": [
    {
     "output_type": "execute_result",
     "data": {
      "text/plain": [
       "                       id  acousticness  danceability  duration_ms  energy  \\\n",
       "0  46lZpwebFWgqad5CX1iv6r        0.0637         0.919       158040   0.672   \n",
       "1  5Pc594FhDA2Fa2prE75GT0        0.0311         0.906       194607   0.474   \n",
       "2  0fea68AdmYNygeTGI4RC18        0.1520         0.754       242573   0.646   \n",
       "3  5ZicFGBDAi9J2YCVesboUp        0.1620         0.405       368720   0.619   \n",
       "4  4pHQ9RYFhn3W0ha5KEuMnj        0.1510         0.642       283933   0.790   \n",
       "\n",
       "   instrumentalness  key  liveness  loudness  speechiness    tempo  valence  \\\n",
       "0          0.014400   10    0.0597    -3.404       0.1310  117.002    0.425   \n",
       "1          0.000005    1    0.2860    -6.124       0.1940  106.976    0.656   \n",
       "2          0.000018    7    0.1080    -5.795       0.3170  176.089    0.429   \n",
       "3          0.000334   11    0.0788    -8.920       0.0615  120.092    0.234   \n",
       "4          0.000583   11    0.3050    -6.800       0.0681  114.960    0.613   \n",
       "\n",
       "   total_pts  target  \n",
       "0        6.0     1.0  \n",
       "1        6.0     1.0  \n",
       "2        3.0     1.0  \n",
       "3        6.0     1.0  \n",
       "4        6.0     1.0  "
      ],
      "text/html": "<div>\n<style scoped>\n    .dataframe tbody tr th:only-of-type {\n        vertical-align: middle;\n    }\n\n    .dataframe tbody tr th {\n        vertical-align: top;\n    }\n\n    .dataframe thead th {\n        text-align: right;\n    }\n</style>\n<table border=\"1\" class=\"dataframe\">\n  <thead>\n    <tr style=\"text-align: right;\">\n      <th></th>\n      <th>id</th>\n      <th>acousticness</th>\n      <th>danceability</th>\n      <th>duration_ms</th>\n      <th>energy</th>\n      <th>instrumentalness</th>\n      <th>key</th>\n      <th>liveness</th>\n      <th>loudness</th>\n      <th>speechiness</th>\n      <th>tempo</th>\n      <th>valence</th>\n      <th>total_pts</th>\n      <th>target</th>\n    </tr>\n  </thead>\n  <tbody>\n    <tr>\n      <th>0</th>\n      <td>46lZpwebFWgqad5CX1iv6r</td>\n      <td>0.0637</td>\n      <td>0.919</td>\n      <td>158040</td>\n      <td>0.672</td>\n      <td>0.014400</td>\n      <td>10</td>\n      <td>0.0597</td>\n      <td>-3.404</td>\n      <td>0.1310</td>\n      <td>117.002</td>\n      <td>0.425</td>\n      <td>6.0</td>\n      <td>1.0</td>\n    </tr>\n    <tr>\n      <th>1</th>\n      <td>5Pc594FhDA2Fa2prE75GT0</td>\n      <td>0.0311</td>\n      <td>0.906</td>\n      <td>194607</td>\n      <td>0.474</td>\n      <td>0.000005</td>\n      <td>1</td>\n      <td>0.2860</td>\n      <td>-6.124</td>\n      <td>0.1940</td>\n      <td>106.976</td>\n      <td>0.656</td>\n      <td>6.0</td>\n      <td>1.0</td>\n    </tr>\n    <tr>\n      <th>2</th>\n      <td>0fea68AdmYNygeTGI4RC18</td>\n      <td>0.1520</td>\n      <td>0.754</td>\n      <td>242573</td>\n      <td>0.646</td>\n      <td>0.000018</td>\n      <td>7</td>\n      <td>0.1080</td>\n      <td>-5.795</td>\n      <td>0.3170</td>\n      <td>176.089</td>\n      <td>0.429</td>\n      <td>3.0</td>\n      <td>1.0</td>\n    </tr>\n    <tr>\n      <th>3</th>\n      <td>5ZicFGBDAi9J2YCVesboUp</td>\n      <td>0.1620</td>\n      <td>0.405</td>\n      <td>368720</td>\n      <td>0.619</td>\n      <td>0.000334</td>\n      <td>11</td>\n      <td>0.0788</td>\n      <td>-8.920</td>\n      <td>0.0615</td>\n      <td>120.092</td>\n      <td>0.234</td>\n      <td>6.0</td>\n      <td>1.0</td>\n    </tr>\n    <tr>\n      <th>4</th>\n      <td>4pHQ9RYFhn3W0ha5KEuMnj</td>\n      <td>0.1510</td>\n      <td>0.642</td>\n      <td>283933</td>\n      <td>0.790</td>\n      <td>0.000583</td>\n      <td>11</td>\n      <td>0.3050</td>\n      <td>-6.800</td>\n      <td>0.0681</td>\n      <td>114.960</td>\n      <td>0.613</td>\n      <td>6.0</td>\n      <td>1.0</td>\n    </tr>\n  </tbody>\n</table>\n</div>"
     },
     "metadata": {},
     "execution_count": 8
    }
   ],
   "source": [
    "#assigning target\n",
    "track_features.loc[track_features['total_pts'] >= 3,'target'] = 1\n",
    "\n",
    "track_features.loc[track_features['total_pts'] < 3,'target'] = 0\n",
    "\n",
    "track_features.head()"
   ]
  },
  {
   "cell_type": "code",
   "execution_count": 9,
   "metadata": {},
   "outputs": [
    {
     "output_type": "execute_result",
     "data": {
      "text/plain": [
       "                       id  acousticness  danceability  duration_ms  energy  \\\n",
       "0  46lZpwebFWgqad5CX1iv6r        0.0637         0.919       158040   0.672   \n",
       "1  5Pc594FhDA2Fa2prE75GT0        0.0311         0.906       194607   0.474   \n",
       "2  0fea68AdmYNygeTGI4RC18        0.1520         0.754       242573   0.646   \n",
       "3  5ZicFGBDAi9J2YCVesboUp        0.1620         0.405       368720   0.619   \n",
       "4  4pHQ9RYFhn3W0ha5KEuMnj        0.1510         0.642       283933   0.790   \n",
       "\n",
       "   instrumentalness  key  liveness  loudness  speechiness    tempo  valence  \\\n",
       "0          0.014400   10    0.0597    -3.404       0.1310  117.002    0.425   \n",
       "1          0.000005    1    0.2860    -6.124       0.1940  106.976    0.656   \n",
       "2          0.000018    7    0.1080    -5.795       0.3170  176.089    0.429   \n",
       "3          0.000334   11    0.0788    -8.920       0.0615  120.092    0.234   \n",
       "4          0.000583   11    0.3050    -6.800       0.0681  114.960    0.613   \n",
       "\n",
       "   target  \n",
       "0     1.0  \n",
       "1     1.0  \n",
       "2     1.0  \n",
       "3     1.0  \n",
       "4     1.0  "
      ],
      "text/html": "<div>\n<style scoped>\n    .dataframe tbody tr th:only-of-type {\n        vertical-align: middle;\n    }\n\n    .dataframe tbody tr th {\n        vertical-align: top;\n    }\n\n    .dataframe thead th {\n        text-align: right;\n    }\n</style>\n<table border=\"1\" class=\"dataframe\">\n  <thead>\n    <tr style=\"text-align: right;\">\n      <th></th>\n      <th>id</th>\n      <th>acousticness</th>\n      <th>danceability</th>\n      <th>duration_ms</th>\n      <th>energy</th>\n      <th>instrumentalness</th>\n      <th>key</th>\n      <th>liveness</th>\n      <th>loudness</th>\n      <th>speechiness</th>\n      <th>tempo</th>\n      <th>valence</th>\n      <th>target</th>\n    </tr>\n  </thead>\n  <tbody>\n    <tr>\n      <th>0</th>\n      <td>46lZpwebFWgqad5CX1iv6r</td>\n      <td>0.0637</td>\n      <td>0.919</td>\n      <td>158040</td>\n      <td>0.672</td>\n      <td>0.014400</td>\n      <td>10</td>\n      <td>0.0597</td>\n      <td>-3.404</td>\n      <td>0.1310</td>\n      <td>117.002</td>\n      <td>0.425</td>\n      <td>1.0</td>\n    </tr>\n    <tr>\n      <th>1</th>\n      <td>5Pc594FhDA2Fa2prE75GT0</td>\n      <td>0.0311</td>\n      <td>0.906</td>\n      <td>194607</td>\n      <td>0.474</td>\n      <td>0.000005</td>\n      <td>1</td>\n      <td>0.2860</td>\n      <td>-6.124</td>\n      <td>0.1940</td>\n      <td>106.976</td>\n      <td>0.656</td>\n      <td>1.0</td>\n    </tr>\n    <tr>\n      <th>2</th>\n      <td>0fea68AdmYNygeTGI4RC18</td>\n      <td>0.1520</td>\n      <td>0.754</td>\n      <td>242573</td>\n      <td>0.646</td>\n      <td>0.000018</td>\n      <td>7</td>\n      <td>0.1080</td>\n      <td>-5.795</td>\n      <td>0.3170</td>\n      <td>176.089</td>\n      <td>0.429</td>\n      <td>1.0</td>\n    </tr>\n    <tr>\n      <th>3</th>\n      <td>5ZicFGBDAi9J2YCVesboUp</td>\n      <td>0.1620</td>\n      <td>0.405</td>\n      <td>368720</td>\n      <td>0.619</td>\n      <td>0.000334</td>\n      <td>11</td>\n      <td>0.0788</td>\n      <td>-8.920</td>\n      <td>0.0615</td>\n      <td>120.092</td>\n      <td>0.234</td>\n      <td>1.0</td>\n    </tr>\n    <tr>\n      <th>4</th>\n      <td>4pHQ9RYFhn3W0ha5KEuMnj</td>\n      <td>0.1510</td>\n      <td>0.642</td>\n      <td>283933</td>\n      <td>0.790</td>\n      <td>0.000583</td>\n      <td>11</td>\n      <td>0.3050</td>\n      <td>-6.800</td>\n      <td>0.0681</td>\n      <td>114.960</td>\n      <td>0.613</td>\n      <td>1.0</td>\n    </tr>\n  </tbody>\n</table>\n</div>"
     },
     "metadata": {},
     "execution_count": 9
    }
   ],
   "source": [
    "track_features = track_features.drop(columns = ['total_pts'])\n",
    "\n",
    "track_features.head()"
   ]
  },
  {
   "cell_type": "code",
   "execution_count": 10,
   "metadata": {},
   "outputs": [
    {
     "output_type": "execute_result",
     "data": {
      "text/plain": [
       "array([[<AxesSubplot:title={'center':'target'}>]], dtype=object)"
      ]
     },
     "metadata": {},
     "execution_count": 10
    },
    {
     "output_type": "display_data",
     "data": {
      "text/plain": "<Figure size 432x288 with 1 Axes>",
      "image/svg+xml": "<?xml version=\"1.0\" encoding=\"utf-8\" standalone=\"no\"?>\r\n<!DOCTYPE svg PUBLIC \"-//W3C//DTD SVG 1.1//EN\"\r\n  \"http://www.w3.org/Graphics/SVG/1.1/DTD/svg11.dtd\">\r\n<!-- Created with matplotlib (https://matplotlib.org/) -->\r\n<svg height=\"263.63625pt\" version=\"1.1\" viewBox=\"0 0 375.2875 263.63625\" width=\"375.2875pt\" xmlns=\"http://www.w3.org/2000/svg\" xmlns:xlink=\"http://www.w3.org/1999/xlink\">\r\n <metadata>\r\n  <rdf:RDF xmlns:cc=\"http://creativecommons.org/ns#\" xmlns:dc=\"http://purl.org/dc/elements/1.1/\" xmlns:rdf=\"http://www.w3.org/1999/02/22-rdf-syntax-ns#\">\r\n   <cc:Work>\r\n    <dc:type rdf:resource=\"http://purl.org/dc/dcmitype/StillImage\"/>\r\n    <dc:date>2021-05-19T19:05:29.598781</dc:date>\r\n    <dc:format>image/svg+xml</dc:format>\r\n    <dc:creator>\r\n     <cc:Agent>\r\n      <dc:title>Matplotlib v3.3.1, https://matplotlib.org/</dc:title>\r\n     </cc:Agent>\r\n    </dc:creator>\r\n   </cc:Work>\r\n  </rdf:RDF>\r\n </metadata>\r\n <defs>\r\n  <style type=\"text/css\">*{stroke-linecap:butt;stroke-linejoin:round;}</style>\r\n </defs>\r\n <g id=\"figure_1\">\r\n  <g id=\"patch_1\">\r\n   <path d=\"M 0 263.63625 \r\nL 375.2875 263.63625 \r\nL 375.2875 0 \r\nL 0 0 \r\nz\r\n\" style=\"fill:none;\"/>\r\n  </g>\r\n  <g id=\"axes_1\">\r\n   <g id=\"patch_2\">\r\n    <path d=\"M 33.2875 239.758125 \r\nL 368.0875 239.758125 \r\nL 368.0875 22.318125 \r\nL 33.2875 22.318125 \r\nz\r\n\" style=\"fill:#ffffff;\"/>\r\n   </g>\r\n   <g id=\"patch_3\">\r\n    <path clip-path=\"url(#pa682b86d51)\" d=\"M 48.505682 239.758125 \r\nL 78.942045 239.758125 \r\nL 78.942045 32.672411 \r\nL 48.505682 32.672411 \r\nz\r\n\" style=\"fill:#1f77b4;\"/>\r\n   </g>\r\n   <g id=\"patch_4\">\r\n    <path clip-path=\"url(#pa682b86d51)\" d=\"M 78.942045 239.758125 \r\nL 109.378409 239.758125 \r\nL 109.378409 239.758125 \r\nL 78.942045 239.758125 \r\nz\r\n\" style=\"fill:#1f77b4;\"/>\r\n   </g>\r\n   <g id=\"patch_5\">\r\n    <path clip-path=\"url(#pa682b86d51)\" d=\"M 109.378409 239.758125 \r\nL 139.814773 239.758125 \r\nL 139.814773 239.758125 \r\nL 109.378409 239.758125 \r\nz\r\n\" style=\"fill:#1f77b4;\"/>\r\n   </g>\r\n   <g id=\"patch_6\">\r\n    <path clip-path=\"url(#pa682b86d51)\" d=\"M 139.814773 239.758125 \r\nL 170.251136 239.758125 \r\nL 170.251136 239.758125 \r\nL 139.814773 239.758125 \r\nz\r\n\" style=\"fill:#1f77b4;\"/>\r\n   </g>\r\n   <g id=\"patch_7\">\r\n    <path clip-path=\"url(#pa682b86d51)\" d=\"M 170.251136 239.758125 \r\nL 200.6875 239.758125 \r\nL 200.6875 239.758125 \r\nL 170.251136 239.758125 \r\nz\r\n\" style=\"fill:#1f77b4;\"/>\r\n   </g>\r\n   <g id=\"patch_8\">\r\n    <path clip-path=\"url(#pa682b86d51)\" d=\"M 200.6875 239.758125 \r\nL 231.123864 239.758125 \r\nL 231.123864 239.758125 \r\nL 200.6875 239.758125 \r\nz\r\n\" style=\"fill:#1f77b4;\"/>\r\n   </g>\r\n   <g id=\"patch_9\">\r\n    <path clip-path=\"url(#pa682b86d51)\" d=\"M 231.123864 239.758125 \r\nL 261.560227 239.758125 \r\nL 261.560227 239.758125 \r\nL 231.123864 239.758125 \r\nz\r\n\" style=\"fill:#1f77b4;\"/>\r\n   </g>\r\n   <g id=\"patch_10\">\r\n    <path clip-path=\"url(#pa682b86d51)\" d=\"M 261.560227 239.758125 \r\nL 291.996591 239.758125 \r\nL 291.996591 239.758125 \r\nL 261.560227 239.758125 \r\nz\r\n\" style=\"fill:#1f77b4;\"/>\r\n   </g>\r\n   <g id=\"patch_11\">\r\n    <path clip-path=\"url(#pa682b86d51)\" d=\"M 291.996591 239.758125 \r\nL 322.432955 239.758125 \r\nL 322.432955 239.758125 \r\nL 291.996591 239.758125 \r\nz\r\n\" style=\"fill:#1f77b4;\"/>\r\n   </g>\r\n   <g id=\"patch_12\">\r\n    <path clip-path=\"url(#pa682b86d51)\" d=\"M 322.432955 239.758125 \r\nL 352.869318 239.758125 \r\nL 352.869318 89.614899 \r\nL 322.432955 89.614899 \r\nz\r\n\" style=\"fill:#1f77b4;\"/>\r\n   </g>\r\n   <g id=\"matplotlib.axis_1\">\r\n    <g id=\"xtick_1\">\r\n     <g id=\"line2d_1\">\r\n      <path clip-path=\"url(#pa682b86d51)\" d=\"M 48.505682 239.758125 \r\nL 48.505682 22.318125 \r\n\" style=\"fill:none;stroke:#b0b0b0;stroke-linecap:square;stroke-width:0.8;\"/>\r\n     </g>\r\n     <g id=\"line2d_2\">\r\n      <defs>\r\n       <path d=\"M 0 0 \r\nL 0 3.5 \r\n\" id=\"m27dda70709\" style=\"stroke:#000000;stroke-width:0.8;\"/>\r\n      </defs>\r\n      <g>\r\n       <use style=\"stroke:#000000;stroke-width:0.8;\" x=\"48.505682\" xlink:href=\"#m27dda70709\" y=\"239.758125\"/>\r\n      </g>\r\n     </g>\r\n     <g id=\"text_1\">\r\n      <!-- 0.0 -->\r\n      <g transform=\"translate(40.554119 254.356563)scale(0.1 -0.1)\">\r\n       <defs>\r\n        <path d=\"M 31.78125 66.40625 \r\nQ 24.171875 66.40625 20.328125 58.90625 \r\nQ 16.5 51.421875 16.5 36.375 \r\nQ 16.5 21.390625 20.328125 13.890625 \r\nQ 24.171875 6.390625 31.78125 6.390625 \r\nQ 39.453125 6.390625 43.28125 13.890625 \r\nQ 47.125 21.390625 47.125 36.375 \r\nQ 47.125 51.421875 43.28125 58.90625 \r\nQ 39.453125 66.40625 31.78125 66.40625 \r\nz\r\nM 31.78125 74.21875 \r\nQ 44.046875 74.21875 50.515625 64.515625 \r\nQ 56.984375 54.828125 56.984375 36.375 \r\nQ 56.984375 17.96875 50.515625 8.265625 \r\nQ 44.046875 -1.421875 31.78125 -1.421875 \r\nQ 19.53125 -1.421875 13.0625 8.265625 \r\nQ 6.59375 17.96875 6.59375 36.375 \r\nQ 6.59375 54.828125 13.0625 64.515625 \r\nQ 19.53125 74.21875 31.78125 74.21875 \r\nz\r\n\" id=\"DejaVuSans-48\"/>\r\n        <path d=\"M 10.6875 12.40625 \r\nL 21 12.40625 \r\nL 21 0 \r\nL 10.6875 0 \r\nz\r\n\" id=\"DejaVuSans-46\"/>\r\n       </defs>\r\n       <use xlink:href=\"#DejaVuSans-48\"/>\r\n       <use x=\"63.623047\" xlink:href=\"#DejaVuSans-46\"/>\r\n       <use x=\"95.410156\" xlink:href=\"#DejaVuSans-48\"/>\r\n      </g>\r\n     </g>\r\n    </g>\r\n    <g id=\"xtick_2\">\r\n     <g id=\"line2d_3\">\r\n      <path clip-path=\"url(#pa682b86d51)\" d=\"M 109.378409 239.758125 \r\nL 109.378409 22.318125 \r\n\" style=\"fill:none;stroke:#b0b0b0;stroke-linecap:square;stroke-width:0.8;\"/>\r\n     </g>\r\n     <g id=\"line2d_4\">\r\n      <g>\r\n       <use style=\"stroke:#000000;stroke-width:0.8;\" x=\"109.378409\" xlink:href=\"#m27dda70709\" y=\"239.758125\"/>\r\n      </g>\r\n     </g>\r\n     <g id=\"text_2\">\r\n      <!-- 0.2 -->\r\n      <g transform=\"translate(101.426847 254.356563)scale(0.1 -0.1)\">\r\n       <defs>\r\n        <path d=\"M 19.1875 8.296875 \r\nL 53.609375 8.296875 \r\nL 53.609375 0 \r\nL 7.328125 0 \r\nL 7.328125 8.296875 \r\nQ 12.9375 14.109375 22.625 23.890625 \r\nQ 32.328125 33.6875 34.8125 36.53125 \r\nQ 39.546875 41.84375 41.421875 45.53125 \r\nQ 43.3125 49.21875 43.3125 52.78125 \r\nQ 43.3125 58.59375 39.234375 62.25 \r\nQ 35.15625 65.921875 28.609375 65.921875 \r\nQ 23.96875 65.921875 18.8125 64.3125 \r\nQ 13.671875 62.703125 7.8125 59.421875 \r\nL 7.8125 69.390625 \r\nQ 13.765625 71.78125 18.9375 73 \r\nQ 24.125 74.21875 28.421875 74.21875 \r\nQ 39.75 74.21875 46.484375 68.546875 \r\nQ 53.21875 62.890625 53.21875 53.421875 \r\nQ 53.21875 48.921875 51.53125 44.890625 \r\nQ 49.859375 40.875 45.40625 35.40625 \r\nQ 44.1875 33.984375 37.640625 27.21875 \r\nQ 31.109375 20.453125 19.1875 8.296875 \r\nz\r\n\" id=\"DejaVuSans-50\"/>\r\n       </defs>\r\n       <use xlink:href=\"#DejaVuSans-48\"/>\r\n       <use x=\"63.623047\" xlink:href=\"#DejaVuSans-46\"/>\r\n       <use x=\"95.410156\" xlink:href=\"#DejaVuSans-50\"/>\r\n      </g>\r\n     </g>\r\n    </g>\r\n    <g id=\"xtick_3\">\r\n     <g id=\"line2d_5\">\r\n      <path clip-path=\"url(#pa682b86d51)\" d=\"M 170.251136 239.758125 \r\nL 170.251136 22.318125 \r\n\" style=\"fill:none;stroke:#b0b0b0;stroke-linecap:square;stroke-width:0.8;\"/>\r\n     </g>\r\n     <g id=\"line2d_6\">\r\n      <g>\r\n       <use style=\"stroke:#000000;stroke-width:0.8;\" x=\"170.251136\" xlink:href=\"#m27dda70709\" y=\"239.758125\"/>\r\n      </g>\r\n     </g>\r\n     <g id=\"text_3\">\r\n      <!-- 0.4 -->\r\n      <g transform=\"translate(162.299574 254.356563)scale(0.1 -0.1)\">\r\n       <defs>\r\n        <path d=\"M 37.796875 64.3125 \r\nL 12.890625 25.390625 \r\nL 37.796875 25.390625 \r\nz\r\nM 35.203125 72.90625 \r\nL 47.609375 72.90625 \r\nL 47.609375 25.390625 \r\nL 58.015625 25.390625 \r\nL 58.015625 17.1875 \r\nL 47.609375 17.1875 \r\nL 47.609375 0 \r\nL 37.796875 0 \r\nL 37.796875 17.1875 \r\nL 4.890625 17.1875 \r\nL 4.890625 26.703125 \r\nz\r\n\" id=\"DejaVuSans-52\"/>\r\n       </defs>\r\n       <use xlink:href=\"#DejaVuSans-48\"/>\r\n       <use x=\"63.623047\" xlink:href=\"#DejaVuSans-46\"/>\r\n       <use x=\"95.410156\" xlink:href=\"#DejaVuSans-52\"/>\r\n      </g>\r\n     </g>\r\n    </g>\r\n    <g id=\"xtick_4\">\r\n     <g id=\"line2d_7\">\r\n      <path clip-path=\"url(#pa682b86d51)\" d=\"M 231.123864 239.758125 \r\nL 231.123864 22.318125 \r\n\" style=\"fill:none;stroke:#b0b0b0;stroke-linecap:square;stroke-width:0.8;\"/>\r\n     </g>\r\n     <g id=\"line2d_8\">\r\n      <g>\r\n       <use style=\"stroke:#000000;stroke-width:0.8;\" x=\"231.123864\" xlink:href=\"#m27dda70709\" y=\"239.758125\"/>\r\n      </g>\r\n     </g>\r\n     <g id=\"text_4\">\r\n      <!-- 0.6 -->\r\n      <g transform=\"translate(223.172301 254.356563)scale(0.1 -0.1)\">\r\n       <defs>\r\n        <path d=\"M 33.015625 40.375 \r\nQ 26.375 40.375 22.484375 35.828125 \r\nQ 18.609375 31.296875 18.609375 23.390625 \r\nQ 18.609375 15.53125 22.484375 10.953125 \r\nQ 26.375 6.390625 33.015625 6.390625 \r\nQ 39.65625 6.390625 43.53125 10.953125 \r\nQ 47.40625 15.53125 47.40625 23.390625 \r\nQ 47.40625 31.296875 43.53125 35.828125 \r\nQ 39.65625 40.375 33.015625 40.375 \r\nz\r\nM 52.59375 71.296875 \r\nL 52.59375 62.3125 \r\nQ 48.875 64.0625 45.09375 64.984375 \r\nQ 41.3125 65.921875 37.59375 65.921875 \r\nQ 27.828125 65.921875 22.671875 59.328125 \r\nQ 17.53125 52.734375 16.796875 39.40625 \r\nQ 19.671875 43.65625 24.015625 45.921875 \r\nQ 28.375 48.1875 33.59375 48.1875 \r\nQ 44.578125 48.1875 50.953125 41.515625 \r\nQ 57.328125 34.859375 57.328125 23.390625 \r\nQ 57.328125 12.15625 50.6875 5.359375 \r\nQ 44.046875 -1.421875 33.015625 -1.421875 \r\nQ 20.359375 -1.421875 13.671875 8.265625 \r\nQ 6.984375 17.96875 6.984375 36.375 \r\nQ 6.984375 53.65625 15.1875 63.9375 \r\nQ 23.390625 74.21875 37.203125 74.21875 \r\nQ 40.921875 74.21875 44.703125 73.484375 \r\nQ 48.484375 72.75 52.59375 71.296875 \r\nz\r\n\" id=\"DejaVuSans-54\"/>\r\n       </defs>\r\n       <use xlink:href=\"#DejaVuSans-48\"/>\r\n       <use x=\"63.623047\" xlink:href=\"#DejaVuSans-46\"/>\r\n       <use x=\"95.410156\" xlink:href=\"#DejaVuSans-54\"/>\r\n      </g>\r\n     </g>\r\n    </g>\r\n    <g id=\"xtick_5\">\r\n     <g id=\"line2d_9\">\r\n      <path clip-path=\"url(#pa682b86d51)\" d=\"M 291.996591 239.758125 \r\nL 291.996591 22.318125 \r\n\" style=\"fill:none;stroke:#b0b0b0;stroke-linecap:square;stroke-width:0.8;\"/>\r\n     </g>\r\n     <g id=\"line2d_10\">\r\n      <g>\r\n       <use style=\"stroke:#000000;stroke-width:0.8;\" x=\"291.996591\" xlink:href=\"#m27dda70709\" y=\"239.758125\"/>\r\n      </g>\r\n     </g>\r\n     <g id=\"text_5\">\r\n      <!-- 0.8 -->\r\n      <g transform=\"translate(284.045028 254.356563)scale(0.1 -0.1)\">\r\n       <defs>\r\n        <path d=\"M 31.78125 34.625 \r\nQ 24.75 34.625 20.71875 30.859375 \r\nQ 16.703125 27.09375 16.703125 20.515625 \r\nQ 16.703125 13.921875 20.71875 10.15625 \r\nQ 24.75 6.390625 31.78125 6.390625 \r\nQ 38.8125 6.390625 42.859375 10.171875 \r\nQ 46.921875 13.96875 46.921875 20.515625 \r\nQ 46.921875 27.09375 42.890625 30.859375 \r\nQ 38.875 34.625 31.78125 34.625 \r\nz\r\nM 21.921875 38.8125 \r\nQ 15.578125 40.375 12.03125 44.71875 \r\nQ 8.5 49.078125 8.5 55.328125 \r\nQ 8.5 64.0625 14.71875 69.140625 \r\nQ 20.953125 74.21875 31.78125 74.21875 \r\nQ 42.671875 74.21875 48.875 69.140625 \r\nQ 55.078125 64.0625 55.078125 55.328125 \r\nQ 55.078125 49.078125 51.53125 44.71875 \r\nQ 48 40.375 41.703125 38.8125 \r\nQ 48.828125 37.15625 52.796875 32.3125 \r\nQ 56.78125 27.484375 56.78125 20.515625 \r\nQ 56.78125 9.90625 50.3125 4.234375 \r\nQ 43.84375 -1.421875 31.78125 -1.421875 \r\nQ 19.734375 -1.421875 13.25 4.234375 \r\nQ 6.78125 9.90625 6.78125 20.515625 \r\nQ 6.78125 27.484375 10.78125 32.3125 \r\nQ 14.796875 37.15625 21.921875 38.8125 \r\nz\r\nM 18.3125 54.390625 \r\nQ 18.3125 48.734375 21.84375 45.5625 \r\nQ 25.390625 42.390625 31.78125 42.390625 \r\nQ 38.140625 42.390625 41.71875 45.5625 \r\nQ 45.3125 48.734375 45.3125 54.390625 \r\nQ 45.3125 60.0625 41.71875 63.234375 \r\nQ 38.140625 66.40625 31.78125 66.40625 \r\nQ 25.390625 66.40625 21.84375 63.234375 \r\nQ 18.3125 60.0625 18.3125 54.390625 \r\nz\r\n\" id=\"DejaVuSans-56\"/>\r\n       </defs>\r\n       <use xlink:href=\"#DejaVuSans-48\"/>\r\n       <use x=\"63.623047\" xlink:href=\"#DejaVuSans-46\"/>\r\n       <use x=\"95.410156\" xlink:href=\"#DejaVuSans-56\"/>\r\n      </g>\r\n     </g>\r\n    </g>\r\n    <g id=\"xtick_6\">\r\n     <g id=\"line2d_11\">\r\n      <path clip-path=\"url(#pa682b86d51)\" d=\"M 352.869318 239.758125 \r\nL 352.869318 22.318125 \r\n\" style=\"fill:none;stroke:#b0b0b0;stroke-linecap:square;stroke-width:0.8;\"/>\r\n     </g>\r\n     <g id=\"line2d_12\">\r\n      <g>\r\n       <use style=\"stroke:#000000;stroke-width:0.8;\" x=\"352.869318\" xlink:href=\"#m27dda70709\" y=\"239.758125\"/>\r\n      </g>\r\n     </g>\r\n     <g id=\"text_6\">\r\n      <!-- 1.0 -->\r\n      <g transform=\"translate(344.917756 254.356563)scale(0.1 -0.1)\">\r\n       <defs>\r\n        <path d=\"M 12.40625 8.296875 \r\nL 28.515625 8.296875 \r\nL 28.515625 63.921875 \r\nL 10.984375 60.40625 \r\nL 10.984375 69.390625 \r\nL 28.421875 72.90625 \r\nL 38.28125 72.90625 \r\nL 38.28125 8.296875 \r\nL 54.390625 8.296875 \r\nL 54.390625 0 \r\nL 12.40625 0 \r\nz\r\n\" id=\"DejaVuSans-49\"/>\r\n       </defs>\r\n       <use xlink:href=\"#DejaVuSans-49\"/>\r\n       <use x=\"63.623047\" xlink:href=\"#DejaVuSans-46\"/>\r\n       <use x=\"95.410156\" xlink:href=\"#DejaVuSans-48\"/>\r\n      </g>\r\n     </g>\r\n    </g>\r\n   </g>\r\n   <g id=\"matplotlib.axis_2\">\r\n    <g id=\"ytick_1\">\r\n     <g id=\"line2d_13\">\r\n      <path clip-path=\"url(#pa682b86d51)\" d=\"M 33.2875 239.758125 \r\nL 368.0875 239.758125 \r\n\" style=\"fill:none;stroke:#b0b0b0;stroke-linecap:square;stroke-width:0.8;\"/>\r\n     </g>\r\n     <g id=\"line2d_14\">\r\n      <defs>\r\n       <path d=\"M 0 0 \r\nL -3.5 0 \r\n\" id=\"mdecd47e83a\" style=\"stroke:#000000;stroke-width:0.8;\"/>\r\n      </defs>\r\n      <g>\r\n       <use style=\"stroke:#000000;stroke-width:0.8;\" x=\"33.2875\" xlink:href=\"#mdecd47e83a\" y=\"239.758125\"/>\r\n      </g>\r\n     </g>\r\n     <g id=\"text_7\">\r\n      <!-- 0 -->\r\n      <g transform=\"translate(19.925 243.557344)scale(0.1 -0.1)\">\r\n       <use xlink:href=\"#DejaVuSans-48\"/>\r\n      </g>\r\n     </g>\r\n    </g>\r\n    <g id=\"ytick_2\">\r\n     <g id=\"line2d_15\">\r\n      <path clip-path=\"url(#pa682b86d51)\" d=\"M 33.2875 215.423728 \r\nL 368.0875 215.423728 \r\n\" style=\"fill:none;stroke:#b0b0b0;stroke-linecap:square;stroke-width:0.8;\"/>\r\n     </g>\r\n     <g id=\"line2d_16\">\r\n      <g>\r\n       <use style=\"stroke:#000000;stroke-width:0.8;\" x=\"33.2875\" xlink:href=\"#mdecd47e83a\" y=\"215.423728\"/>\r\n      </g>\r\n     </g>\r\n     <g id=\"text_8\">\r\n      <!-- 100 -->\r\n      <g transform=\"translate(7.2 219.222947)scale(0.1 -0.1)\">\r\n       <use xlink:href=\"#DejaVuSans-49\"/>\r\n       <use x=\"63.623047\" xlink:href=\"#DejaVuSans-48\"/>\r\n       <use x=\"127.246094\" xlink:href=\"#DejaVuSans-48\"/>\r\n      </g>\r\n     </g>\r\n    </g>\r\n    <g id=\"ytick_3\">\r\n     <g id=\"line2d_17\">\r\n      <path clip-path=\"url(#pa682b86d51)\" d=\"M 33.2875 191.089332 \r\nL 368.0875 191.089332 \r\n\" style=\"fill:none;stroke:#b0b0b0;stroke-linecap:square;stroke-width:0.8;\"/>\r\n     </g>\r\n     <g id=\"line2d_18\">\r\n      <g>\r\n       <use style=\"stroke:#000000;stroke-width:0.8;\" x=\"33.2875\" xlink:href=\"#mdecd47e83a\" y=\"191.089332\"/>\r\n      </g>\r\n     </g>\r\n     <g id=\"text_9\">\r\n      <!-- 200 -->\r\n      <g transform=\"translate(7.2 194.888551)scale(0.1 -0.1)\">\r\n       <use xlink:href=\"#DejaVuSans-50\"/>\r\n       <use x=\"63.623047\" xlink:href=\"#DejaVuSans-48\"/>\r\n       <use x=\"127.246094\" xlink:href=\"#DejaVuSans-48\"/>\r\n      </g>\r\n     </g>\r\n    </g>\r\n    <g id=\"ytick_4\">\r\n     <g id=\"line2d_19\">\r\n      <path clip-path=\"url(#pa682b86d51)\" d=\"M 33.2875 166.754935 \r\nL 368.0875 166.754935 \r\n\" style=\"fill:none;stroke:#b0b0b0;stroke-linecap:square;stroke-width:0.8;\"/>\r\n     </g>\r\n     <g id=\"line2d_20\">\r\n      <g>\r\n       <use style=\"stroke:#000000;stroke-width:0.8;\" x=\"33.2875\" xlink:href=\"#mdecd47e83a\" y=\"166.754935\"/>\r\n      </g>\r\n     </g>\r\n     <g id=\"text_10\">\r\n      <!-- 300 -->\r\n      <g transform=\"translate(7.2 170.554154)scale(0.1 -0.1)\">\r\n       <defs>\r\n        <path d=\"M 40.578125 39.3125 \r\nQ 47.65625 37.796875 51.625 33 \r\nQ 55.609375 28.21875 55.609375 21.1875 \r\nQ 55.609375 10.40625 48.1875 4.484375 \r\nQ 40.765625 -1.421875 27.09375 -1.421875 \r\nQ 22.515625 -1.421875 17.65625 -0.515625 \r\nQ 12.796875 0.390625 7.625 2.203125 \r\nL 7.625 11.71875 \r\nQ 11.71875 9.328125 16.59375 8.109375 \r\nQ 21.484375 6.890625 26.8125 6.890625 \r\nQ 36.078125 6.890625 40.9375 10.546875 \r\nQ 45.796875 14.203125 45.796875 21.1875 \r\nQ 45.796875 27.640625 41.28125 31.265625 \r\nQ 36.765625 34.90625 28.71875 34.90625 \r\nL 20.21875 34.90625 \r\nL 20.21875 43.015625 \r\nL 29.109375 43.015625 \r\nQ 36.375 43.015625 40.234375 45.921875 \r\nQ 44.09375 48.828125 44.09375 54.296875 \r\nQ 44.09375 59.90625 40.109375 62.90625 \r\nQ 36.140625 65.921875 28.71875 65.921875 \r\nQ 24.65625 65.921875 20.015625 65.03125 \r\nQ 15.375 64.15625 9.8125 62.3125 \r\nL 9.8125 71.09375 \r\nQ 15.4375 72.65625 20.34375 73.4375 \r\nQ 25.25 74.21875 29.59375 74.21875 \r\nQ 40.828125 74.21875 47.359375 69.109375 \r\nQ 53.90625 64.015625 53.90625 55.328125 \r\nQ 53.90625 49.265625 50.4375 45.09375 \r\nQ 46.96875 40.921875 40.578125 39.3125 \r\nz\r\n\" id=\"DejaVuSans-51\"/>\r\n       </defs>\r\n       <use xlink:href=\"#DejaVuSans-51\"/>\r\n       <use x=\"63.623047\" xlink:href=\"#DejaVuSans-48\"/>\r\n       <use x=\"127.246094\" xlink:href=\"#DejaVuSans-48\"/>\r\n      </g>\r\n     </g>\r\n    </g>\r\n    <g id=\"ytick_5\">\r\n     <g id=\"line2d_21\">\r\n      <path clip-path=\"url(#pa682b86d51)\" d=\"M 33.2875 142.420539 \r\nL 368.0875 142.420539 \r\n\" style=\"fill:none;stroke:#b0b0b0;stroke-linecap:square;stroke-width:0.8;\"/>\r\n     </g>\r\n     <g id=\"line2d_22\">\r\n      <g>\r\n       <use style=\"stroke:#000000;stroke-width:0.8;\" x=\"33.2875\" xlink:href=\"#mdecd47e83a\" y=\"142.420539\"/>\r\n      </g>\r\n     </g>\r\n     <g id=\"text_11\">\r\n      <!-- 400 -->\r\n      <g transform=\"translate(7.2 146.219758)scale(0.1 -0.1)\">\r\n       <use xlink:href=\"#DejaVuSans-52\"/>\r\n       <use x=\"63.623047\" xlink:href=\"#DejaVuSans-48\"/>\r\n       <use x=\"127.246094\" xlink:href=\"#DejaVuSans-48\"/>\r\n      </g>\r\n     </g>\r\n    </g>\r\n    <g id=\"ytick_6\">\r\n     <g id=\"line2d_23\">\r\n      <path clip-path=\"url(#pa682b86d51)\" d=\"M 33.2875 118.086142 \r\nL 368.0875 118.086142 \r\n\" style=\"fill:none;stroke:#b0b0b0;stroke-linecap:square;stroke-width:0.8;\"/>\r\n     </g>\r\n     <g id=\"line2d_24\">\r\n      <g>\r\n       <use style=\"stroke:#000000;stroke-width:0.8;\" x=\"33.2875\" xlink:href=\"#mdecd47e83a\" y=\"118.086142\"/>\r\n      </g>\r\n     </g>\r\n     <g id=\"text_12\">\r\n      <!-- 500 -->\r\n      <g transform=\"translate(7.2 121.885361)scale(0.1 -0.1)\">\r\n       <defs>\r\n        <path d=\"M 10.796875 72.90625 \r\nL 49.515625 72.90625 \r\nL 49.515625 64.59375 \r\nL 19.828125 64.59375 \r\nL 19.828125 46.734375 \r\nQ 21.96875 47.46875 24.109375 47.828125 \r\nQ 26.265625 48.1875 28.421875 48.1875 \r\nQ 40.625 48.1875 47.75 41.5 \r\nQ 54.890625 34.8125 54.890625 23.390625 \r\nQ 54.890625 11.625 47.5625 5.09375 \r\nQ 40.234375 -1.421875 26.90625 -1.421875 \r\nQ 22.3125 -1.421875 17.546875 -0.640625 \r\nQ 12.796875 0.140625 7.71875 1.703125 \r\nL 7.71875 11.625 \r\nQ 12.109375 9.234375 16.796875 8.0625 \r\nQ 21.484375 6.890625 26.703125 6.890625 \r\nQ 35.15625 6.890625 40.078125 11.328125 \r\nQ 45.015625 15.765625 45.015625 23.390625 \r\nQ 45.015625 31 40.078125 35.4375 \r\nQ 35.15625 39.890625 26.703125 39.890625 \r\nQ 22.75 39.890625 18.8125 39.015625 \r\nQ 14.890625 38.140625 10.796875 36.28125 \r\nz\r\n\" id=\"DejaVuSans-53\"/>\r\n       </defs>\r\n       <use xlink:href=\"#DejaVuSans-53\"/>\r\n       <use x=\"63.623047\" xlink:href=\"#DejaVuSans-48\"/>\r\n       <use x=\"127.246094\" xlink:href=\"#DejaVuSans-48\"/>\r\n      </g>\r\n     </g>\r\n    </g>\r\n    <g id=\"ytick_7\">\r\n     <g id=\"line2d_25\">\r\n      <path clip-path=\"url(#pa682b86d51)\" d=\"M 33.2875 93.751746 \r\nL 368.0875 93.751746 \r\n\" style=\"fill:none;stroke:#b0b0b0;stroke-linecap:square;stroke-width:0.8;\"/>\r\n     </g>\r\n     <g id=\"line2d_26\">\r\n      <g>\r\n       <use style=\"stroke:#000000;stroke-width:0.8;\" x=\"33.2875\" xlink:href=\"#mdecd47e83a\" y=\"93.751746\"/>\r\n      </g>\r\n     </g>\r\n     <g id=\"text_13\">\r\n      <!-- 600 -->\r\n      <g transform=\"translate(7.2 97.550965)scale(0.1 -0.1)\">\r\n       <use xlink:href=\"#DejaVuSans-54\"/>\r\n       <use x=\"63.623047\" xlink:href=\"#DejaVuSans-48\"/>\r\n       <use x=\"127.246094\" xlink:href=\"#DejaVuSans-48\"/>\r\n      </g>\r\n     </g>\r\n    </g>\r\n    <g id=\"ytick_8\">\r\n     <g id=\"line2d_27\">\r\n      <path clip-path=\"url(#pa682b86d51)\" d=\"M 33.2875 69.417349 \r\nL 368.0875 69.417349 \r\n\" style=\"fill:none;stroke:#b0b0b0;stroke-linecap:square;stroke-width:0.8;\"/>\r\n     </g>\r\n     <g id=\"line2d_28\">\r\n      <g>\r\n       <use style=\"stroke:#000000;stroke-width:0.8;\" x=\"33.2875\" xlink:href=\"#mdecd47e83a\" y=\"69.417349\"/>\r\n      </g>\r\n     </g>\r\n     <g id=\"text_14\">\r\n      <!-- 700 -->\r\n      <g transform=\"translate(7.2 73.216568)scale(0.1 -0.1)\">\r\n       <defs>\r\n        <path d=\"M 8.203125 72.90625 \r\nL 55.078125 72.90625 \r\nL 55.078125 68.703125 \r\nL 28.609375 0 \r\nL 18.3125 0 \r\nL 43.21875 64.59375 \r\nL 8.203125 64.59375 \r\nz\r\n\" id=\"DejaVuSans-55\"/>\r\n       </defs>\r\n       <use xlink:href=\"#DejaVuSans-55\"/>\r\n       <use x=\"63.623047\" xlink:href=\"#DejaVuSans-48\"/>\r\n       <use x=\"127.246094\" xlink:href=\"#DejaVuSans-48\"/>\r\n      </g>\r\n     </g>\r\n    </g>\r\n    <g id=\"ytick_9\">\r\n     <g id=\"line2d_29\">\r\n      <path clip-path=\"url(#pa682b86d51)\" d=\"M 33.2875 45.082953 \r\nL 368.0875 45.082953 \r\n\" style=\"fill:none;stroke:#b0b0b0;stroke-linecap:square;stroke-width:0.8;\"/>\r\n     </g>\r\n     <g id=\"line2d_30\">\r\n      <g>\r\n       <use style=\"stroke:#000000;stroke-width:0.8;\" x=\"33.2875\" xlink:href=\"#mdecd47e83a\" y=\"45.082953\"/>\r\n      </g>\r\n     </g>\r\n     <g id=\"text_15\">\r\n      <!-- 800 -->\r\n      <g transform=\"translate(7.2 48.882172)scale(0.1 -0.1)\">\r\n       <use xlink:href=\"#DejaVuSans-56\"/>\r\n       <use x=\"63.623047\" xlink:href=\"#DejaVuSans-48\"/>\r\n       <use x=\"127.246094\" xlink:href=\"#DejaVuSans-48\"/>\r\n      </g>\r\n     </g>\r\n    </g>\r\n   </g>\r\n   <g id=\"patch_13\">\r\n    <path d=\"M 33.2875 239.758125 \r\nL 33.2875 22.318125 \r\n\" style=\"fill:none;stroke:#000000;stroke-linecap:square;stroke-linejoin:miter;stroke-width:0.8;\"/>\r\n   </g>\r\n   <g id=\"patch_14\">\r\n    <path d=\"M 368.0875 239.758125 \r\nL 368.0875 22.318125 \r\n\" style=\"fill:none;stroke:#000000;stroke-linecap:square;stroke-linejoin:miter;stroke-width:0.8;\"/>\r\n   </g>\r\n   <g id=\"patch_15\">\r\n    <path d=\"M 33.2875 239.758125 \r\nL 368.0875 239.758125 \r\n\" style=\"fill:none;stroke:#000000;stroke-linecap:square;stroke-linejoin:miter;stroke-width:0.8;\"/>\r\n   </g>\r\n   <g id=\"patch_16\">\r\n    <path d=\"M 33.2875 22.318125 \r\nL 368.0875 22.318125 \r\n\" style=\"fill:none;stroke:#000000;stroke-linecap:square;stroke-linejoin:miter;stroke-width:0.8;\"/>\r\n   </g>\r\n   <g id=\"text_16\">\r\n    <!-- target -->\r\n    <g transform=\"translate(182.44375 16.318125)scale(0.12 -0.12)\">\r\n     <defs>\r\n      <path d=\"M 18.3125 70.21875 \r\nL 18.3125 54.6875 \r\nL 36.8125 54.6875 \r\nL 36.8125 47.703125 \r\nL 18.3125 47.703125 \r\nL 18.3125 18.015625 \r\nQ 18.3125 11.328125 20.140625 9.421875 \r\nQ 21.96875 7.515625 27.59375 7.515625 \r\nL 36.8125 7.515625 \r\nL 36.8125 0 \r\nL 27.59375 0 \r\nQ 17.1875 0 13.234375 3.875 \r\nQ 9.28125 7.765625 9.28125 18.015625 \r\nL 9.28125 47.703125 \r\nL 2.6875 47.703125 \r\nL 2.6875 54.6875 \r\nL 9.28125 54.6875 \r\nL 9.28125 70.21875 \r\nz\r\n\" id=\"DejaVuSans-116\"/>\r\n      <path d=\"M 34.28125 27.484375 \r\nQ 23.390625 27.484375 19.1875 25 \r\nQ 14.984375 22.515625 14.984375 16.5 \r\nQ 14.984375 11.71875 18.140625 8.90625 \r\nQ 21.296875 6.109375 26.703125 6.109375 \r\nQ 34.1875 6.109375 38.703125 11.40625 \r\nQ 43.21875 16.703125 43.21875 25.484375 \r\nL 43.21875 27.484375 \r\nz\r\nM 52.203125 31.203125 \r\nL 52.203125 0 \r\nL 43.21875 0 \r\nL 43.21875 8.296875 \r\nQ 40.140625 3.328125 35.546875 0.953125 \r\nQ 30.953125 -1.421875 24.3125 -1.421875 \r\nQ 15.921875 -1.421875 10.953125 3.296875 \r\nQ 6 8.015625 6 15.921875 \r\nQ 6 25.140625 12.171875 29.828125 \r\nQ 18.359375 34.515625 30.609375 34.515625 \r\nL 43.21875 34.515625 \r\nL 43.21875 35.40625 \r\nQ 43.21875 41.609375 39.140625 45 \r\nQ 35.0625 48.390625 27.6875 48.390625 \r\nQ 23 48.390625 18.546875 47.265625 \r\nQ 14.109375 46.140625 10.015625 43.890625 \r\nL 10.015625 52.203125 \r\nQ 14.9375 54.109375 19.578125 55.046875 \r\nQ 24.21875 56 28.609375 56 \r\nQ 40.484375 56 46.34375 49.84375 \r\nQ 52.203125 43.703125 52.203125 31.203125 \r\nz\r\n\" id=\"DejaVuSans-97\"/>\r\n      <path d=\"M 41.109375 46.296875 \r\nQ 39.59375 47.171875 37.8125 47.578125 \r\nQ 36.03125 48 33.890625 48 \r\nQ 26.265625 48 22.1875 43.046875 \r\nQ 18.109375 38.09375 18.109375 28.8125 \r\nL 18.109375 0 \r\nL 9.078125 0 \r\nL 9.078125 54.6875 \r\nL 18.109375 54.6875 \r\nL 18.109375 46.1875 \r\nQ 20.953125 51.171875 25.484375 53.578125 \r\nQ 30.03125 56 36.53125 56 \r\nQ 37.453125 56 38.578125 55.875 \r\nQ 39.703125 55.765625 41.0625 55.515625 \r\nz\r\n\" id=\"DejaVuSans-114\"/>\r\n      <path d=\"M 45.40625 27.984375 \r\nQ 45.40625 37.75 41.375 43.109375 \r\nQ 37.359375 48.484375 30.078125 48.484375 \r\nQ 22.859375 48.484375 18.828125 43.109375 \r\nQ 14.796875 37.75 14.796875 27.984375 \r\nQ 14.796875 18.265625 18.828125 12.890625 \r\nQ 22.859375 7.515625 30.078125 7.515625 \r\nQ 37.359375 7.515625 41.375 12.890625 \r\nQ 45.40625 18.265625 45.40625 27.984375 \r\nz\r\nM 54.390625 6.78125 \r\nQ 54.390625 -7.171875 48.1875 -13.984375 \r\nQ 42 -20.796875 29.203125 -20.796875 \r\nQ 24.46875 -20.796875 20.265625 -20.09375 \r\nQ 16.0625 -19.390625 12.109375 -17.921875 \r\nL 12.109375 -9.1875 \r\nQ 16.0625 -11.328125 19.921875 -12.34375 \r\nQ 23.78125 -13.375 27.78125 -13.375 \r\nQ 36.625 -13.375 41.015625 -8.765625 \r\nQ 45.40625 -4.15625 45.40625 5.171875 \r\nL 45.40625 9.625 \r\nQ 42.625 4.78125 38.28125 2.390625 \r\nQ 33.9375 0 27.875 0 \r\nQ 17.828125 0 11.671875 7.65625 \r\nQ 5.515625 15.328125 5.515625 27.984375 \r\nQ 5.515625 40.671875 11.671875 48.328125 \r\nQ 17.828125 56 27.875 56 \r\nQ 33.9375 56 38.28125 53.609375 \r\nQ 42.625 51.21875 45.40625 46.390625 \r\nL 45.40625 54.6875 \r\nL 54.390625 54.6875 \r\nz\r\n\" id=\"DejaVuSans-103\"/>\r\n      <path d=\"M 56.203125 29.59375 \r\nL 56.203125 25.203125 \r\nL 14.890625 25.203125 \r\nQ 15.484375 15.921875 20.484375 11.0625 \r\nQ 25.484375 6.203125 34.421875 6.203125 \r\nQ 39.59375 6.203125 44.453125 7.46875 \r\nQ 49.3125 8.734375 54.109375 11.28125 \r\nL 54.109375 2.78125 \r\nQ 49.265625 0.734375 44.1875 -0.34375 \r\nQ 39.109375 -1.421875 33.890625 -1.421875 \r\nQ 20.796875 -1.421875 13.15625 6.1875 \r\nQ 5.515625 13.8125 5.515625 26.8125 \r\nQ 5.515625 40.234375 12.765625 48.109375 \r\nQ 20.015625 56 32.328125 56 \r\nQ 43.359375 56 49.78125 48.890625 \r\nQ 56.203125 41.796875 56.203125 29.59375 \r\nz\r\nM 47.21875 32.234375 \r\nQ 47.125 39.59375 43.09375 43.984375 \r\nQ 39.0625 48.390625 32.421875 48.390625 \r\nQ 24.90625 48.390625 20.390625 44.140625 \r\nQ 15.875 39.890625 15.1875 32.171875 \r\nz\r\n\" id=\"DejaVuSans-101\"/>\r\n     </defs>\r\n     <use xlink:href=\"#DejaVuSans-116\"/>\r\n     <use x=\"39.208984\" xlink:href=\"#DejaVuSans-97\"/>\r\n     <use x=\"100.488281\" xlink:href=\"#DejaVuSans-114\"/>\r\n     <use x=\"139.851562\" xlink:href=\"#DejaVuSans-103\"/>\r\n     <use x=\"203.328125\" xlink:href=\"#DejaVuSans-101\"/>\r\n     <use x=\"264.851562\" xlink:href=\"#DejaVuSans-116\"/>\r\n    </g>\r\n   </g>\r\n  </g>\r\n </g>\r\n <defs>\r\n  <clipPath id=\"pa682b86d51\">\r\n   <rect height=\"217.44\" width=\"334.8\" x=\"33.2875\" y=\"22.318125\"/>\r\n  </clipPath>\r\n </defs>\r\n</svg>\r\n",
      "image/png": "[encoded data removed]"
     },
     "metadata": {
      "needs_background": "light"
     }
    }
   ],
   "source": [
    "import matplotlib\n",
    "\n",
    "track_features.hist('target')"
   ]
  },
  {
   "cell_type": "code",
   "execution_count": 11,
   "metadata": {},
   "outputs": [],
   "source": [
    "#Splitting the dataset\n",
    "\n",
    "import numpy as np\n",
    "\n",
    "def train_validate_test_split(df, train_percent=.6, validate_percent=.2, seed=101):\n",
    "    np.random.seed(seed)\n",
    "    perm = np.random.permutation(df.index)\n",
    "    m = len(df.index)\n",
    "    train_end = int(train_percent * m)\n",
    "    validate_end = int(validate_percent * m) + train_end\n",
    "    train = df.iloc[perm[:train_end]]\n",
    "    validate = df.iloc[perm[train_end:validate_end]]\n",
    "    test = df.iloc[perm[validate_end:]]\n",
    "    return train, validate, test"
   ]
  },
  {
   "cell_type": "code",
   "execution_count": 12,
   "metadata": {},
   "outputs": [
    {
     "output_type": "stream",
     "name": "stdout",
     "text": [
      "880\n293\n295\n"
     ]
    }
   ],
   "source": [
    "train, validate, test = train_validate_test_split(track_features)\n",
    "\n",
    "print(len(train))\n",
    "print(len(validate))\n",
    "print(len(test))"
   ]
  },
  {
   "cell_type": "code",
   "execution_count": 13,
   "metadata": {},
   "outputs": [
    {
     "output_type": "execute_result",
     "data": {
      "text/plain": [
       "                          id  acousticness  danceability  duration_ms  energy  \\\n",
       "765   0ifooM33X1iBxVYyOkSbXW        0.0431         0.853       220173   0.663   \n",
       "115   5CFJRZRq6sdKKtRwNPWbYv        0.4300         0.619       174960   0.589   \n",
       "183   2ofOe2OaXFpZF5ETbsc7Qu        0.2180         0.692       339733   0.608   \n",
       "90    0M46BR7Uwi3Sa0LJjWRXW9        0.7150         0.630       360107   0.682   \n",
       "1344  27GzRZ04LtfU6YuA21OA98        0.1560         0.728       197278   0.721   \n",
       "\n",
       "      instrumentalness  key  liveness  loudness  speechiness    tempo  \\\n",
       "765           0.000009    7    0.0891    -6.955       0.0755  113.998   \n",
       "115           0.000392    1    0.3780    -6.531       0.1240  143.896   \n",
       "183           0.000000    8    0.3480    -5.233       0.0410  125.012   \n",
       "90            0.000000    6    0.1150    -7.317       0.0551  112.077   \n",
       "1344          0.000260   10    0.1430    -6.770       0.0419   95.039   \n",
       "\n",
       "      valence  target  \n",
       "765     0.864     1.0  \n",
       "115     0.158     1.0  \n",
       "183     0.449     1.0  \n",
       "90      0.391     1.0  \n",
       "1344    0.148     0.0  "
      ],
      "text/html": "<div>\n<style scoped>\n    .dataframe tbody tr th:only-of-type {\n        vertical-align: middle;\n    }\n\n    .dataframe tbody tr th {\n        vertical-align: top;\n    }\n\n    .dataframe thead th {\n        text-align: right;\n    }\n</style>\n<table border=\"1\" class=\"dataframe\">\n  <thead>\n    <tr style=\"text-align: right;\">\n      <th></th>\n      <th>id</th>\n      <th>acousticness</th>\n      <th>danceability</th>\n      <th>duration_ms</th>\n      <th>energy</th>\n      <th>instrumentalness</th>\n      <th>key</th>\n      <th>liveness</th>\n      <th>loudness</th>\n      <th>speechiness</th>\n      <th>tempo</th>\n      <th>valence</th>\n      <th>target</th>\n    </tr>\n  </thead>\n  <tbody>\n    <tr>\n      <th>765</th>\n      <td>0ifooM33X1iBxVYyOkSbXW</td>\n      <td>0.0431</td>\n      <td>0.853</td>\n      <td>220173</td>\n      <td>0.663</td>\n      <td>0.000009</td>\n      <td>7</td>\n      <td>0.0891</td>\n      <td>-6.955</td>\n      <td>0.0755</td>\n      <td>113.998</td>\n      <td>0.864</td>\n      <td>1.0</td>\n    </tr>\n    <tr>\n      <th>115</th>\n      <td>5CFJRZRq6sdKKtRwNPWbYv</td>\n      <td>0.4300</td>\n      <td>0.619</td>\n      <td>174960</td>\n      <td>0.589</td>\n      <td>0.000392</td>\n      <td>1</td>\n      <td>0.3780</td>\n      <td>-6.531</td>\n      <td>0.1240</td>\n      <td>143.896</td>\n      <td>0.158</td>\n      <td>1.0</td>\n    </tr>\n    <tr>\n      <th>183</th>\n      <td>2ofOe2OaXFpZF5ETbsc7Qu</td>\n      <td>0.2180</td>\n      <td>0.692</td>\n      <td>339733</td>\n      <td>0.608</td>\n      <td>0.000000</td>\n      <td>8</td>\n      <td>0.3480</td>\n      <td>-5.233</td>\n      <td>0.0410</td>\n      <td>125.012</td>\n      <td>0.449</td>\n      <td>1.0</td>\n    </tr>\n    <tr>\n      <th>90</th>\n      <td>0M46BR7Uwi3Sa0LJjWRXW9</td>\n      <td>0.7150</td>\n      <td>0.630</td>\n      <td>360107</td>\n      <td>0.682</td>\n      <td>0.000000</td>\n      <td>6</td>\n      <td>0.1150</td>\n      <td>-7.317</td>\n      <td>0.0551</td>\n      <td>112.077</td>\n      <td>0.391</td>\n      <td>1.0</td>\n    </tr>\n    <tr>\n      <th>1344</th>\n      <td>27GzRZ04LtfU6YuA21OA98</td>\n      <td>0.1560</td>\n      <td>0.728</td>\n      <td>197278</td>\n      <td>0.721</td>\n      <td>0.000260</td>\n      <td>10</td>\n      <td>0.1430</td>\n      <td>-6.770</td>\n      <td>0.0419</td>\n      <td>95.039</td>\n      <td>0.148</td>\n      <td>0.0</td>\n    </tr>\n  </tbody>\n</table>\n</div>"
     },
     "metadata": {},
     "execution_count": 13
    }
   ],
   "source": [
    "train.to_csv('../data/processed/library_binary_train.csv')\n",
    "\n",
    "train.head()"
   ]
  },
  {
   "cell_type": "code",
   "execution_count": 14,
   "metadata": {},
   "outputs": [
    {
     "output_type": "execute_result",
     "data": {
      "text/plain": [
       "                          id  acousticness  danceability  duration_ms  energy  \\\n",
       "1230  1sQBPGypjSgEgJZvD8u8ty        0.2590         0.389       292885   0.507   \n",
       "69    60ynsPSSKe6O3sfwRnIBRf        0.2080         0.749       226987   0.463   \n",
       "702   23SZWX2IaDnxmhFsSLvkG2        0.0207         0.598       357653   0.713   \n",
       "572   0wXuerDYiBnERgIpbb3JBR        0.1670         0.743       326933   0.347   \n",
       "1198  5iSEsR6NKjlC9SrIJkyL3k        0.4840         0.630       295293   0.605   \n",
       "\n",
       "      instrumentalness  key  liveness  loudness  speechiness    tempo  \\\n",
       "1230          0.044100   11     0.142    -9.026       0.0621   74.718   \n",
       "69            0.037100   11     0.337    -8.433       0.0828   90.028   \n",
       "702           0.000175    6     0.431    -3.625       0.0326   91.964   \n",
       "572           0.009510    1     0.103   -11.174       0.1210  160.143   \n",
       "1198          0.000093    0     0.298    -8.951       0.0414  115.277   \n",
       "\n",
       "      valence  target  \n",
       "1230    0.364     0.0  \n",
       "69      0.190     1.0  \n",
       "702     0.118     1.0  \n",
       "572     0.572     0.0  \n",
       "1198    0.266     1.0  "
      ],
      "text/html": "<div>\n<style scoped>\n    .dataframe tbody tr th:only-of-type {\n        vertical-align: middle;\n    }\n\n    .dataframe tbody tr th {\n        vertical-align: top;\n    }\n\n    .dataframe thead th {\n        text-align: right;\n    }\n</style>\n<table border=\"1\" class=\"dataframe\">\n  <thead>\n    <tr style=\"text-align: right;\">\n      <th></th>\n      <th>id</th>\n      <th>acousticness</th>\n      <th>danceability</th>\n      <th>duration_ms</th>\n      <th>energy</th>\n      <th>instrumentalness</th>\n      <th>key</th>\n      <th>liveness</th>\n      <th>loudness</th>\n      <th>speechiness</th>\n      <th>tempo</th>\n      <th>valence</th>\n      <th>target</th>\n    </tr>\n  </thead>\n  <tbody>\n    <tr>\n      <th>1230</th>\n      <td>1sQBPGypjSgEgJZvD8u8ty</td>\n      <td>0.2590</td>\n      <td>0.389</td>\n      <td>292885</td>\n      <td>0.507</td>\n      <td>0.044100</td>\n      <td>11</td>\n      <td>0.142</td>\n      <td>-9.026</td>\n      <td>0.0621</td>\n      <td>74.718</td>\n      <td>0.364</td>\n      <td>0.0</td>\n    </tr>\n    <tr>\n      <th>69</th>\n      <td>60ynsPSSKe6O3sfwRnIBRf</td>\n      <td>0.2080</td>\n      <td>0.749</td>\n      <td>226987</td>\n      <td>0.463</td>\n      <td>0.037100</td>\n      <td>11</td>\n      <td>0.337</td>\n      <td>-8.433</td>\n      <td>0.0828</td>\n      <td>90.028</td>\n      <td>0.190</td>\n      <td>1.0</td>\n    </tr>\n    <tr>\n      <th>702</th>\n      <td>23SZWX2IaDnxmhFsSLvkG2</td>\n      <td>0.0207</td>\n      <td>0.598</td>\n      <td>357653</td>\n      <td>0.713</td>\n      <td>0.000175</td>\n      <td>6</td>\n      <td>0.431</td>\n      <td>-3.625</td>\n      <td>0.0326</td>\n      <td>91.964</td>\n      <td>0.118</td>\n      <td>1.0</td>\n    </tr>\n    <tr>\n      <th>572</th>\n      <td>0wXuerDYiBnERgIpbb3JBR</td>\n      <td>0.1670</td>\n      <td>0.743</td>\n      <td>326933</td>\n      <td>0.347</td>\n      <td>0.009510</td>\n      <td>1</td>\n      <td>0.103</td>\n      <td>-11.174</td>\n      <td>0.1210</td>\n      <td>160.143</td>\n      <td>0.572</td>\n      <td>0.0</td>\n    </tr>\n    <tr>\n      <th>1198</th>\n      <td>5iSEsR6NKjlC9SrIJkyL3k</td>\n      <td>0.4840</td>\n      <td>0.630</td>\n      <td>295293</td>\n      <td>0.605</td>\n      <td>0.000093</td>\n      <td>0</td>\n      <td>0.298</td>\n      <td>-8.951</td>\n      <td>0.0414</td>\n      <td>115.277</td>\n      <td>0.266</td>\n      <td>1.0</td>\n    </tr>\n  </tbody>\n</table>\n</div>"
     },
     "metadata": {},
     "execution_count": 14
    }
   ],
   "source": [
    "validate.to_csv('../data/processed/library_binary_validate.csv')\n",
    "\n",
    "validate.head()"
   ]
  },
  {
   "cell_type": "code",
   "execution_count": 15,
   "metadata": {},
   "outputs": [
    {
     "output_type": "execute_result",
     "data": {
      "text/plain": [
       "                          id  acousticness  danceability  duration_ms  energy  \\\n",
       "1437  0rBMP6VVGRgwnzZCLpijyl       0.30800         0.696       227427   0.583   \n",
       "93    6jHO1z47fxjU1v8j37boQP       0.34600         0.641       286680   0.539   \n",
       "76    1ggYjU6zdFHgANcku82boU       0.39800         0.668       194871   0.547   \n",
       "1313  1HpzOCZbNWzxvvXfSGtSrX       0.00548         0.605       176417   0.664   \n",
       "889   2AT8iROs4FQueDv2c8q2KE       0.00616         0.288       201726   0.758   \n",
       "\n",
       "      instrumentalness  key  liveness  loudness  speechiness    tempo  \\\n",
       "1437          0.000000    3    0.0964    -9.351       0.3010  137.079   \n",
       "93            0.000007    5    0.0837    -6.351       0.0463  148.004   \n",
       "76            0.076600    1    0.0931    -8.024       0.0353   83.500   \n",
       "1313          0.000003    8    0.2040    -7.162       0.0316  103.997   \n",
       "889           0.000000    6    0.3030    -5.692       0.0371   97.094   \n",
       "\n",
       "      valence  target  \n",
       "1437    0.524     0.0  \n",
       "93      0.436     1.0  \n",
       "76      0.192     1.0  \n",
       "1313    0.164     0.0  \n",
       "889     0.619     1.0  "
      ],
      "text/html": "<div>\n<style scoped>\n    .dataframe tbody tr th:only-of-type {\n        vertical-align: middle;\n    }\n\n    .dataframe tbody tr th {\n        vertical-align: top;\n    }\n\n    .dataframe thead th {\n        text-align: right;\n    }\n</style>\n<table border=\"1\" class=\"dataframe\">\n  <thead>\n    <tr style=\"text-align: right;\">\n      <th></th>\n      <th>id</th>\n      <th>acousticness</th>\n      <th>danceability</th>\n      <th>duration_ms</th>\n      <th>energy</th>\n      <th>instrumentalness</th>\n      <th>key</th>\n      <th>liveness</th>\n      <th>loudness</th>\n      <th>speechiness</th>\n      <th>tempo</th>\n      <th>valence</th>\n      <th>target</th>\n    </tr>\n  </thead>\n  <tbody>\n    <tr>\n      <th>1437</th>\n      <td>0rBMP6VVGRgwnzZCLpijyl</td>\n      <td>0.30800</td>\n      <td>0.696</td>\n      <td>227427</td>\n      <td>0.583</td>\n      <td>0.000000</td>\n      <td>3</td>\n      <td>0.0964</td>\n      <td>-9.351</td>\n      <td>0.3010</td>\n      <td>137.079</td>\n      <td>0.524</td>\n      <td>0.0</td>\n    </tr>\n    <tr>\n      <th>93</th>\n      <td>6jHO1z47fxjU1v8j37boQP</td>\n      <td>0.34600</td>\n      <td>0.641</td>\n      <td>286680</td>\n      <td>0.539</td>\n      <td>0.000007</td>\n      <td>5</td>\n      <td>0.0837</td>\n      <td>-6.351</td>\n      <td>0.0463</td>\n      <td>148.004</td>\n      <td>0.436</td>\n      <td>1.0</td>\n    </tr>\n    <tr>\n      <th>76</th>\n      <td>1ggYjU6zdFHgANcku82boU</td>\n      <td>0.39800</td>\n      <td>0.668</td>\n      <td>194871</td>\n      <td>0.547</td>\n      <td>0.076600</td>\n      <td>1</td>\n      <td>0.0931</td>\n      <td>-8.024</td>\n      <td>0.0353</td>\n      <td>83.500</td>\n      <td>0.192</td>\n      <td>1.0</td>\n    </tr>\n    <tr>\n      <th>1313</th>\n      <td>1HpzOCZbNWzxvvXfSGtSrX</td>\n      <td>0.00548</td>\n      <td>0.605</td>\n      <td>176417</td>\n      <td>0.664</td>\n      <td>0.000003</td>\n      <td>8</td>\n      <td>0.2040</td>\n      <td>-7.162</td>\n      <td>0.0316</td>\n      <td>103.997</td>\n      <td>0.164</td>\n      <td>0.0</td>\n    </tr>\n    <tr>\n      <th>889</th>\n      <td>2AT8iROs4FQueDv2c8q2KE</td>\n      <td>0.00616</td>\n      <td>0.288</td>\n      <td>201726</td>\n      <td>0.758</td>\n      <td>0.000000</td>\n      <td>6</td>\n      <td>0.3030</td>\n      <td>-5.692</td>\n      <td>0.0371</td>\n      <td>97.094</td>\n      <td>0.619</td>\n      <td>1.0</td>\n    </tr>\n  </tbody>\n</table>\n</div>"
     },
     "metadata": {},
     "execution_count": 15
    }
   ],
   "source": [
    "test.to_csv('../data/processed/library_binary_test.csv')\n",
    "\n",
    "test.head()"
   ]
  },
  {
   "cell_type": "code",
   "execution_count": 16,
   "metadata": {},
   "outputs": [],
   "source": [
    "from sklearn.pipeline import Pipeline\n",
    "from sklearn.preprocessing import MinMaxScaler\n",
    "\n",
    "pipeline = Pipeline([\n",
    "    ('std_scaler', MinMaxScaler())\n",
    "])"
   ]
  },
  {
   "cell_type": "code",
   "execution_count": 34,
   "metadata": {},
   "outputs": [],
   "source": [
    "#scaling features and encoding target\n",
    "from sklearn.preprocessing import LabelEncoder\n",
    "\n",
    "X_train = train.drop(columns = ['id', 'target'])\n",
    "\n",
    "X_train_scaled = pipeline.fit_transform(X_train)\n",
    "\n",
    "y_train = train['target']\n",
    "\n",
    "y_train_scaled = LabelEncoder().fit_transform(y_train)"
   ]
  },
  {
   "cell_type": "code",
   "execution_count": 20,
   "metadata": {},
   "outputs": [
    {
     "output_type": "stream",
     "name": "stdout",
     "text": [
      "Feature ranking:\n1. acousticness 0.222675 \n2. danceability 0.130639 \n3. duration_ms 0.105759 \n4. energy 0.094901 \n5. instrumentalness 0.091225 \n6. key 0.087734 \n7. liveness 0.079859 \n8. loudness 0.063171 \n9. speechiness 0.054721 \n10. tempo 0.042274 \n11. valence 0.027042 \n"
     ]
    }
   ],
   "source": [
    "#seeing feature importance\n",
    "from sklearn.ensemble import RandomForestClassifier\n",
    "\n",
    "forest = RandomForestClassifier(random_state=42, max_depth=5, max_features=11) # Set by GridSearchCV below\n",
    "forest.fit(X_train_scaled, y_train_scaled)\n",
    "importances = forest.feature_importances_\n",
    "indices = np.argsort(importances)[::-1]\n",
    "\n",
    "# Print the feature rankings\n",
    "print(\"Feature ranking:\")\n",
    "  \n",
    "for f in range(len(importances)):\n",
    "    print(\"%d. %s %f \" % (f + 1, \n",
    "            X_train.columns[f], \n",
    "            importances[indices[f]]))"
   ]
  },
  {
   "cell_type": "code",
   "execution_count": 21,
   "metadata": {},
   "outputs": [
    {
     "output_type": "display_data",
     "data": {
      "text/plain": "<Figure size 720x504 with 1 Axes>",
      "image/png": "[encoded data removed]"
     },
     "metadata": {
      "image/png": {
       "width": 618,
       "height": 429
      },
      "needs_background": "light"
     }
    }
   ],
   "source": [
    "from sklearn import decomposition\n",
    "import matplotlib.pyplot as plt\n",
    "import seaborn as sns; sns.set(style='white')\n",
    "%matplotlib inline\n",
    "%config InlineBackend.figure_format = 'retina'\n",
    "\n",
    "pca = decomposition.PCA().fit(X_train_scaled)\n",
    "\n",
    "plt.figure(figsize=(10,7))\n",
    "plt.plot(np.cumsum(pca.explained_variance_ratio_), color='k', lw=2)\n",
    "plt.xlabel('Number of components')\n",
    "plt.ylabel('Total explained variance')\n",
    "plt.xlim(0, 12)\n",
    "plt.yticks(np.arange(0, 1.1, 0.1))\n",
    "plt.axvline(8, c='b') # Tune this so that you obtain at least a 95% total variance explained\n",
    "plt.axhline(0.95, c='r')\n",
    "plt.show()"
   ]
  },
  {
   "cell_type": "code",
   "execution_count": 30,
   "metadata": {},
   "outputs": [],
   "source": [
    "from sklearn.metrics import f1_score\n",
    "\n",
    "model_results = pd.DataFrame(columns = ['model', 'F1 Test Score'])"
   ]
  },
  {
   "cell_type": "code",
   "execution_count": 32,
   "metadata": {},
   "outputs": [],
   "source": [
    "#getting test set ready\n",
    "\n",
    "X_test = test.drop(columns = ['id', 'target'])\n",
    "\n",
    "X_test_scaled = pipeline.fit_transform(X_test)\n",
    "\n",
    "y_test = test['target']\n",
    "\n",
    "y_test_scaled = LabelEncoder().fit_transform(y_test)"
   ]
  },
  {
   "cell_type": "code",
   "execution_count": 36,
   "metadata": {},
   "outputs": [],
   "source": [
    "def model_scores(model, name):\n",
    "    y_pred = model.predict(X_test_scaled)\n",
    "\n",
    "    score = f1_score(y_test_scaled, y_pred)\n",
    "\n",
    "    model_results.append(pd.DataFrame({'model': name, \n",
    "                                        'F1 Test Score': score},\n",
    "                                        index = [0]),\n",
    "                                        ignore_index = True)\n",
    "    \n",
    "    print('Confusion Matrix for {}'.format(name)) \n",
    "    print(pd.crosstab(y_test_scaled, y_pred, rownames=['Actual Score'], colnames=['Predicted Score'])) "
   ]
  },
  {
   "cell_type": "code",
   "execution_count": 37,
   "metadata": {},
   "outputs": [
    {
     "output_type": "stream",
     "name": "stdout",
     "text": [
      "Confusion Matrix for Logistical Regression\nPredicted Score    0   1\nActual Score            \n0                128  47\n1                 68  52\n"
     ]
    }
   ],
   "source": [
    "#Logistic Regression for Baseline\n",
    "from sklearn.linear_model import LogisticRegression\n",
    "\n",
    "lr = LogisticRegression()\n",
    "lr.fit(X_train_scaled, y_train_scaled)\n",
    "\n",
    "model_scores(lr, 'Logistical Regression')"
   ]
  },
  {
   "cell_type": "code",
   "execution_count": 38,
   "metadata": {},
   "outputs": [
    {
     "output_type": "stream",
     "name": "stdout",
     "text": [
      "Confusion Matrix for Random Forest Classifier\nPredicted Score    0   1\nActual Score            \n0                132  43\n1                 62  58\n"
     ]
    }
   ],
   "source": [
    "# Random Forest\n",
    "from sklearn.ensemble import RandomForestClassifier\n",
    "\n",
    "rf_classifier = RandomForestClassifier(n_estimators = 10, criterion = 'entropy', random_state = 42)\n",
    "\n",
    "rf_classifier.fit(X_train_scaled, y_train_scaled)\n",
    "\n",
    "model_scores(rf_classifier, \"Random Forest Classifier\")"
   ]
  },
  {
   "cell_type": "code",
   "execution_count": 39,
   "metadata": {},
   "outputs": [
    {
     "output_type": "stream",
     "name": "stdout",
     "text": [
      "Confusion Matrix for Ridge Classifier\nPredicted Score    0   1\nActual Score            \n0                127  48\n1                 64  56\n"
     ]
    }
   ],
   "source": [
    "#Ridge Classifier\n",
    "from sklearn.linear_model import RidgeClassifier\n",
    "\n",
    "rc = RidgeClassifier()\n",
    "rc.fit(X_train_scaled, y_train_scaled)\n",
    "\n",
    "model_scores(rc, 'Ridge Classifier')"
   ]
  },
  {
   "cell_type": "code",
   "execution_count": 41,
   "metadata": {},
   "outputs": [
    {
     "output_type": "stream",
     "name": "stdout",
     "text": [
      "Confusion Matrix for SVM\nPredicted Score    0   1\nActual Score            \n0                129  46\n1                 69  51\n"
     ]
    }
   ],
   "source": [
    "from sklearn import svm\n",
    "\n",
    "clf = svm.SVC(kernel='linear')\n",
    "clf.fit(X_train_scaled, y_train_scaled)\n",
    "\n",
    "model_scores(clf, 'SVM')"
   ]
  },
  {
   "cell_type": "code",
   "execution_count": null,
   "metadata": {},
   "outputs": [],
   "source": [
    "# Different KNN"
   ]
  }
 ]
}