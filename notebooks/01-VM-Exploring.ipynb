{
 "metadata": {
  "language_info": {
   "codemirror_mode": {
    "name": "ipython",
    "version": 3
   },
   "file_extension": ".py",
   "mimetype": "text/x-python",
   "name": "python",
   "nbconvert_exporter": "python",
   "pygments_lexer": "ipython3",
   "version": "3.8.8"
  },
  "orig_nbformat": 2,
  "kernelspec": {
   "name": "python388jvsc74a57bd05707b298c9c8c68c541cdaddf1ece1291ea6f2c79c910b2557a8f3d16c4becac",
   "display_name": "Python 3.8.8 64-bit ('spotify-acrostic': conda)"
  },
  "metadata": {
   "interpreter": {
    "hash": "5707b298c9c8c68c541cdaddf1ece1291ea6f2c79c910b2557a8f3d16c4becac"
   }
  }
 },
 "nbformat": 4,
 "nbformat_minor": 2,
 "cells": [
  {
   "cell_type": "code",
   "execution_count": 1,
   "metadata": {},
   "outputs": [],
   "source": [
    "import spotipy\n",
    "from spotipy.oauth2 import SpotifyClientCredentials\n",
    "import spotipy.util as util\n",
    "\n",
    "from pathlib import Path\n",
    "import os\n",
    "\n",
    "from dotenv import load_dotenv"
   ]
  },
  {
   "cell_type": "code",
   "execution_count": 2,
   "metadata": {},
   "outputs": [
    {
     "output_type": "stream",
     "name": "stdout",
     "text": [
      "a3ca004450a041b4b3e13c1f3bcc5ec5 b92d8f78722d44868c8b13dc4501ecd0 madathilvisakh\n"
     ]
    }
   ],
   "source": [
    "load_dotenv()\n",
    "env_path = ('../.env')\n",
    "load_dotenv(dotenv_path=env_path)\n",
    "\n",
    "SPOTIFY_CLIENT = os.getenv('SPOTIFY_CLIENT')\n",
    "SPOTIFY_SECRET = os.getenv('SPOTIFY_SECRET')\n",
    "USERNAME = os.getenv('SPOTIFY_USERNAME')\n",
    "redirect_uri = 'http://localhost:8888/callback/'\n",
    "\n",
    "os.environ['SPOTIPY_CLIENT_ID']= SPOTIFY_CLIENT\n",
    "os.environ['SPOTIPY_CLIENT_SECRET']= USERNAME\n",
    "os.environ['SPOTIPY_REDIRECT_URI']= redirect_uri\n",
    "\n",
    "print(SPOTIFY_CLIENT, SPOTIFY_SECRET, USERNAME)"
   ]
  },
  {
   "cell_type": "code",
   "execution_count": 19,
   "metadata": {},
   "outputs": [],
   "source": [
    "#authorizations\n",
    "scope = 'user-library-read user-top-read playlist-modify-public playlist-read-private'\n",
    "\n",
    "\n",
    "credentials_manager = SpotifyClientCredentials(client_id=SPOTIFY_CLIENT, client_secret=SPOTIFY_SECRET) \n",
    "sp = spotipy.Spotify(client_credentials_manager=credentials_manager)\n",
    "token = util.prompt_for_user_token(USERNAME, scope, SPOTIFY_CLIENT, SPOTIFY_SECRET, redirect_uri)\n",
    "\n",
    "if token:\n",
    "    sp = spotipy.Spotify(auth=token)\n",
    "else:\n",
    "    print(\"Can't get token for\", USERNAME) "
   ]
  },
  {
   "cell_type": "code",
   "execution_count": 4,
   "metadata": {},
   "outputs": [
    {
     "output_type": "stream",
     "name": "stdout",
     "text": [
      "Entrégala\nPretty Please\nLA CANCIÓN\nProfessional\nAdaptation\nKiss Land\nHeat Waves\nMONTERO (Call Me By Your Name)\nSave Your Tears (with Ariana Grande) (Remix)\nKiss Me More (feat. SZA)\nFEEL.\nI Don't Dance\nmy ex's best friend (with blackbear)\nOld Yellow Bricks\nIf You Were There, Beware\n505\nRight Side of My Neck\nthe WORLD\nKingston\nWait a Minute!\nWay Out (feat. Big Sean)\n21C/Delta\nRaingurl\nLove Story (Taylor’s Version)\nFkn Around (feat. Megan Thee Stallion)\nLove It If We Made It\nDon't Touch My Hair (feat. Sampha)\ni finally understand\nGoodie Bag\nLeave The Door Open\nWe're Good\nI Don't Care - Single Version\nThe Phoenix\nMy Songs Know What You Did In The Dark (Light Em Up)\nThe Only Difference Between Martyrdom and Suicide Is Press Coverage\nMisery Business\nMauja Hi Mauja\nBoomin\nLast Time (feat. Snoh Aalegra)\nTú\nDiamond Rings\nLeader Of The Delinquents\nLevitating\nMorrow\nOn My Shit (feat. Joey Bada$$)\n10%\nEasy (with Kacey Musgraves feat. Mark Ronson)\nRainbow\nWorld We Created\nHeartbreak Anniversary\nBest Friend (feat. Doja Cat)\nDon't Like Me (feat. Don Toliver & Gucci Mane)\nSwimming Pools (Drank) - Extended Version\nm.A.A.d city\nBitch, Don’t Kill My Vibe\nBackseat Freestyle\nThe Knowing - Original\nLoft Music - Original\nComing Down - Original\nThe Party & The After Party - Original\nWicked Games - Original\nThe Morning - Original\nHouse Of Balloons / Glass Table Girls - Original\nWhat You Need - Original\nHigh For This - Original\nGhost Town\nThis Ain't Love\nThe Beach\nThe Pines\nStreets\nBarking\nJumanji\nSlow Burn\nFashion Week (feat. G-Eazy)\nLA CANCIÓN\nYEAH RIGHT\nAfterthought\nThe Moment\nWhat You Need (feat THEY.)\nRide With Me\nQuiet Trip (feat. Portugal. The Man & The Last Artful, Dodgr)\nHeaven On Earth\nSteal My Girl\nSoy Peor\nla luz(Fín)\ntelepatía\nvaya con dios\nBlue Eyes\nThe Break Up Mashup\nThe Fall\nNext\nReal\nTwenty Eight\nValerie\nLUCID\nCOFFEE BEAN\nNeed It\nGood Days\nGonna Love Me\nSweet Creature\nOut of the Blue\nBest Friend\nJapanese Denim\nLovebug\nDo You Remember\nEstá Cabrón Ser Yo\nRose In Harlem\nMystery Lady (feat. Don Toliver)\nRiver\nTequila Shots\nSolo Dolo, Pt. III\nLord I Know\n4 Da Kidz\nRockstar Knights (with Trippie Redd)\nThe Pale Moonlight\nShow Out (with Skepta & Pop Smoke)\nSad People\nShe Knows This\nAnother Day\nOrange Juice\nNakhre - Dj Vix Desi Remix\nNakhre (Eyes on You 2)\nComme Des Garçons (Like The Boys)\nBlinding Lights (with ROSALÍA) - Remix\nDistorted Records\nWest Coast Love\nCudi Montage\nOne More Time\nI Run This\nKiss U Right Now\nSo and So\nBUSY / SIRENS\nLIFE\nAmphetamine\nNorth Face\nRapper Weed\n5 Thousand Singles\nXS\n//aguardiente y limón %ᵕ‿‿ᵕ%\nSuper Bounce\nLemonade\nINC.\nBack to the Streets (feat. Jhené Aiko)\nOkay\nReagan\nSmile\nMood (feat. Zacari)\nAfterlife\nManiac\nHawái - Remix\nCarefree\nAphrodite\nLove Is Only a Feeling\nRose Golden\nDÁKITI\nRehab\nMariposa\nAll Night (BTS World Original Soundtrack) [Pt. 3]\nMillions\nRing (feat. Young Thug)\nJump Out the Face (feat. Future)\nSlippery (feat. Gucci Mane)\nWalk It Talk It\n7 rings\n4 Thangs (feat. Big Sean & Hit-Boy)\nMotion\nexile (feat. Bon Iver)\nThe Morning\nEasily\nGet You (feat. Kali Uchis)\nBetter\nwest side\npositions\nlove language\npov\nsix thirty\noff the table (with The Weeknd)\n34+35\nmotive (with Doja Cat)\nSong Goes Off\nUpgrade\nPut Your Records On\nDangerous Woman\nHoneymoon Avenue\nHeartbreak Anniversary\n10%\nGive It Up\nCome Through and Chill (feat. J. Cole & Salaam Remi)\nCaramelo Duro (feat. Kali Uchis)\nDevuelveme\nWest Savannah (feat. SZA)\nThat's Love Ft. Mac Miller & Heather Victoria\nAp3X\nSuper Rich Kids\nFancy\nOne Way Flight (feat. Freddie Gibbs)\nSmokin' And Ridin' (feat. Freddie Gibbs & Problem)\nPERSIAN RUGS\nDead Man Walking\nMorado\nBrillo\nCrush\nMove\nInhale\nRunnin\nNext To You\nThings Change\nSorrows\nYears Go By\nMany Men\nLove Hurts (feat. Travis Scott)\nPassionfruit\nHeartless\nKing Of The Fall\nWicked Games\nTive Razao (I Was Right)\nDiamonds 2 (feat. Cassie Jo Craig & Irie Jane Gibbs)\nToe Tag\n2 Legit\nDeath Row (feat. 03 Greedo)\nSet Set\nBeggin'\nGood News\nWalk on By\nThe Moment\nLet It Happen\nKitchen\nLet Go\n24 (feat. Lil Baby)\nBreak from Toronto\nWith Me\nThis Woman's Work\nLike I Want You\nDays Like This (feat. Khalid)\n745\nBy Any Means\nMojo So Dope\nGood To Know (feat. Masego, Kp & Ambriia)\nThe Last Agni Kai\nThe Plan - From the Motion Picture \"TENET\"\nRembrandt...Run It Back (with JID & J. Cole feat. Vince Staples)\nLondon Beckoned Songs About Money Written by Machines\nHallucinations\nHabit\nI don’t even speak spanish lol - feat. Rio Santana, Judah, Andrez Babii\nEducation (feat. Yasiin Bey & Black Thought)\nTexas Sun\nAntidote\nDip (feat. Nicki Minaj)\nH•A•M\nTokyo Drifting\nNo Hands (feat. Roscoe Dash & Wale)\nIII. Telegraph Ave. (\"Oakland\" by Lloyd)\nMoney Trees\nDown Girl\nDrugs\nSmile (with The Weeknd)\nSomeone Like You\nThe Motion\nChicago Freestyle (feat. Giveon)\nReleaser\nNew Slaves\nSo It Goes\nBad Girl\nDon't Matter\nRight Now (Na Na Na)\nChammak Challo\nSmack That\nI Wanna Love You\nReal Sisters\nPoundz\nTrust\nImmigrant Song - Remaster\nCafeteria (feat. Gunna)\nDrogba (Joanna) - Global Latin Version\nWolves\nOlivia\n18\nLet Me Love You\nSo Sick\nTime of Our Lives\nLet's Go (feat. Ne-Yo)\nWe Found Love (feat. Rihanna)\nSweet Nothing (feat. Florence Welch)\nGet Lucky (feat. Pharrell Williams & Nile Rodgers)\nObvs\nSign of the Times\nLights Up\nB.S. (feat. Kehlani) - Remix\nWasteland\nTake a Byte\nAin't Nothing (feat. Wiz Khalifa & Ty Dolla $ign)\nShine\nNo Explanation\nThe Light\nE.T.\nWhere's My Love\nStickin' (feat. Masego & VanJess)\nLook Easy\nTears In The Rain\nBack Home (feat. Summer Walker)\n24.19\nSWV (with NO1-NOAH)\nMy Affection (with PARTYNEXTDOOR)\nGirls Need Love (with Drake) - Remix\nParty Girl (Remix)\nTime Flies\nTe Boté - Remix\nBring Me To Life\nSmile (feat. Bryson Tiller)\nDeeper\nNo Lames (feat. Summer Walker)\nStunnin'\nBewafa\nYaara Tu\nHells Kitchen\nHells Kitchen\nLit - Bonus\nCome Through and Chill (feat. J. Cole & Salaam Remi)\nYou Belong With Me\nFor The Night (feat. Lil Baby & DaBaby)\nGold Digger\nPOWER\nAll Of The Lights (Interlude)\nWash Us In The Blood\nJoke Ting (feat. Ari PenSmith)\nDOLLAZ ON MY HEAD (feat. Young Thug)\nJuicy\nLike That (feat. Gucci Mane)\nThe Bigger Picture\nThe Humma Song (From \"OK Jaanu\")\nLamberghini\nAankh Marey (From \"Simmba\")\nF.U.B.U. (feat. The-Dream & BJ The Chicago Kid)\nTenu Le Ke\nBlood On The Leaves\nBig Shot (with Travis Scott)\nRoses Remix (feat. Future)\nLEGENDARY\nROCKABYE BABY\nTokyo Drifting (with Denzel Curry)\nDEVASTATED\nTEMPTATION\nHeartless\nT.D (Lil Yachty & Tierra Whack feat. A$AP Rocky & Tyler, The Creator)\nS&M Remix\nFrank Lucas (feat. Benny the Butcher)\nSomething to Rap About (feat. Tyler, The Creator)\nDevil In A New Dress\nCYANIDE\nBeautiful Smile\nFuck The World (Summer in London)\nGrieving (feat. James Blake)\nWater\nCan I\nWax On (Feat. Freddie Gibbs)\nPour It Up\nHate The Club (feat. Masego)\nModern Slavery\nCrew (feat. Brent Faiyaz & Shy Glizzy)\nA Muse\nThe Show Goes On\nNo More Parties In LA\nUntil I Bleed Out\nDeeper\nThe Art of Peer Pressure\nSave Your Tears\nPapi Chulo\nBlack Qualls\nFunny Thing\nOverseas\nWindow\nBeen Away\nGold Plated\nNightrider\nSunny Afternoon\nConfessions\nAfter Hours\nN Side\nShimmy\nThe Need to Know (feat. SZA)\nTHE SCOTTS\nWorkin Out\nEuphoria (feat. Travis Scott & Kaash Paige)\nSlide\nSlide (Remix) (feat. Pop Smoke, A Boogie Wit da Hoodie & Chris Brown)\nSPLIT DECISION\nAround Me\nHair Down (feat. Kendrick Lamar)\nRun & Hide\nForfeit. (ft. Lucky Daye)\n'Flawless' Do It Well Pt. 3 (feat. Summer Walker)\nFriends (feat. PARTYNEXTDOOR)\nDangerous City (feat. Buju Banton)\nm.A.A.d city\nWhen Doves Cry\nBack To Black\nRoses - Imanbek Remix\nRoses\nSteady Mobbin\nI'm a Believer\nIf It's Lovin' That You Want\nYour Love (Déjà Vu)\nWicked Games\ndrugs\nSundress\nHigh Hopes\nWHAT TO DO? (feat. Don Toliver)\nShitsville\nTell Them (feat. Moses Sumney & Metro Boomin)\nOrdinary Life\nEscape From LA\nGive Life Back to Music\nStr8 Outta Mumbai\nLoud Places\nMissed You - Bonus Track\nNothing Compares - Bonus Track\nGOMF\nYessirskiii\nBetter\nWicked Games\nlovely (with Khalid)\n47.48\n32.22\n42.26\n12.38 (feat. 21 Savage, Ink & Kadhja Bonet)\n19.10\nTime (feat. Ariana Grande)\nAlgorhythm\nIn Your Eyes\nSnowchild\nToo Late\nRepeat After Me (Interlude)\nAlone Again\nFaith\nTell Them\nBe Honest (feat. Burna Boy)\nLinger\nZombie\nPeli Waar\nYo x Ti, Tu x Mi\nCon Altura\nOcean Drive\nMy Love (feat. T.I.)\nPray For Me (with Kendrick Lamar)\nCandy\nPrivilege\nCall Out My Name - A Cappella\nChak Glass\nMemphis\nCudi Zone\nDEVASTATED\nDiamonds\nEleven\nHold Tight\nDon't Look Down (feat. Usher)\nme & ur ghost\nDollar\nDog Days Are Over\nNo Sense\nUGH!\nAfter Hours\nCaribbean Queen (No More Love On the Run)\nTwisted Nerve\nDance Monkey\nGod is a woman\nLights On\ncoordinate\nSkinny Love\nHollyhood (feat. Kent Jamz)\nSay So\nLegend - Stripped\nReverse Faults\nOrigin Of Love\nLola\nMIA (feat. Drake)\nDeewani Mastani (From \"Bajirao Mastani\")\nValley of the Dolls\nI Say a Little Prayer\nLoco Contigo (with J. Balvin & Ozuna feat. Nicky Jam, Natti Natasha, Darell & Sech) - REMIX\nLUV\nTo D.R.E.A.M.\nDreams - 2004 Remaster\nIndecision\nRabiosa (feat. El Cata)\nFor You\nChantaje (feat. Maluma)\nWhenever, Wherever\nEmpire\nShe Wolf\nMe Gusta\nDon't Stop Me Now\nTainted\nGirl That You Love\nBabouche (feat. GoldLink)\nStreet Lights\nStreetcar\nMy Favorite Part\nThe Other Half (feat. St. Beauty & Mereba)\nbreak up with your girlfriend, i'm bored\nBang Bang\nWhere the Party At (feat. Nelly)\nWoods\nI Can See\nBelieve\nWhere Were You In The Morning? - Remix\nGood News\nFoolsong\nOrdinary Pleasure\nBelieve\nFlight 99\nRisk\nLava/Treacle\nBoum Boum Boum\nFlaming Hot Cheetos\nChun-Li\nControl\nBussdown (feat. Rich The Kid)\nWasted Times\nOnly 1 (Interlude) (with Travis Scott)\nCAN'T SAY\nHow Much A Dollar Cost\nHeartbeat\nLove In The Sky\nAll I Know\nSine Qua Non\nNowhere To Run\nVideo Girl\nBabylon (feat. Kendrick Lamar)\nSeigfried\n1942\nLA Devotee\nLooped Up (feat. VERNON)\nWaterboy\nHonesty\nBack Up (feat. Wiz Khalifa)\nGrind With Me\nHedwig's Theme\nSage\nBang Bang\nDiva\nORANGE SODA\nYummy\nHabit\nI Don't Know You\nFalling for U\nEarl Grey\nSituation\nOn Your Own\nPut On\nPiñata (feat. Domo Genesis, G-Wiz, Casey Veggies, Sulaiman, Meechy Darko, Mac Miller)\nBlasé (feat. Future & Rae Sremmurd)\nOUT WEST (feat. Young Thug)\nClout (feat. Cardi B)\nDeep Water\nClimax\nVillain (feat. Xodiak)\n3:16AM\nHanging On\nFace Again\nSplashin\nMy Type\nPussy\nNo Idea\nCan't Feel My Legs\nAlone\nNOIZE\nSituations\nMassage Seats\nGat Damn\nHerside Story\nTribe (with J. Cole)\nRedbone\nVossi Bop\nOne Second (feat. H.E.R.)\nCome Back to Earth\nCome Thru\nTonight (Best You Ever Had) (feat. Ludacris)\nSure Thing\nFormation\nBest Part (feat. H.E.R.)\nWhile We're Young\nhot girl bummer\nAdore You\nGolden\nRACE\nMr. Nice Watch\nMOJAITA\nTAlk tO Me (with Rich The Kid feat. Lil Wayne) - Remix\nParty Like A Rock Star\nCodeine Dreaming (feat. Lil Wayne)\nRNP (feat. Anderson .Paak)\nCrack Rock\nPractice\nInto The Red\nIncomplete Kisses\nWhat You Need\nWhite Ferrari\nA Star Is Born\nFree Lunch\nSing About Me, I'm Dying Of Thirst\nActing Like\nShea Butter Baby (with J. Cole)\nHoly Grail\nEmpire State Of Mind\nCrown\nF.U.T.W.\nTom Ford\nMurder To Excellence\nPicasso Baby\nGotta Have It\nNi**as In Paris\nPrimetime\nWelcome To The Jungle\nMade In America\nOceans\nWho Gon Stop Me\nF*ckwithmeyouknowigotit\nNo Church In The Wild\nRENDEZVOUS\nBoca Raton (with A$AP Ferg)\nSummertime Magic\nPrima Donna\nHeartless\nSomething About You\nLosers\nCutting Ties\nU Say (feat. Tyler, The Creator & Jay Prince)\nHalo\nElectric (feat. Khalid)\nCabaret (feat. Drake)\nAcquainted\nNobody Else but You\nStoney\nDoja Sweet (feat. A$AP Rocky & Bun B)\nG.O.A.T.\nFallin (feat. 6LACK)\nLoveeeeeee Song\nGuatemala - From Swaecation\nOverdue (with Travis Scott)\nDon't\nGirls Need Love (with Drake) - Remix\nConsideration\nWhy'd You Only Call Me When You're High?\nWelcome To Heartbreak\nExchange\nHome\nShe Will\nWhat's My Name?\nEx Calling\ncrash\nPrisoner\nMake It Right\nKites\nCleopatra\nNew Light\nSativa\nWhere's The Catch?\nCIGARETTES\nSay Something\nSigns\nBarefoot In The Park (feat. ROSALÍA)\nAfter The Storm (feat. Tyler, The Creator & Bootsy Collins)\nTity and Dolla (feat. Hugh Augustine & Jay Rock)\nblkswn\nCIVIL WAR - Bonus\nShea Butter Baby (with J. Cole)\nSOHO\nNew Choppa\n1999 WILDFIRE\nTints (feat. Kendrick Lamar)\nCrushed Up\nMidsummer Madness\nThe Sequence\n151 Rum\nRunnin (with A$AP Rocky, A$AP Ferg & Nicki Minaj)\nHow Many Drinks? (feat. Kendrick Lamar)\nRITMO (Bad Boys For Life)\nLoco Contigo (feat. J. Balvin & Tyga)\nForrest Gump\nBlinding Lights\nNightcrawler (feat. Swae Lee & Chief Keef)\nTreasure\nWoah\nTHE NEWS\nSunset (with J. Cole feat. Young Nudy)\nWhat Goes Around.../...Comes Around (Interlude)\nXO TOUR Llif3\nCandy Shop\nthank u, next\nI Heard It Through The Grapevine\nPoison\nGeorgia\nIn Da Club\nPlaying Games (with Bryson Tiller) - Extended Version\nDrag Me Down\ngoosebumps\nCaught Up (feat. Khalid)\nCome Thru (with Usher)\nI Want You Around\nWow Freestyle (feat. Kendrick Lamar)\nFRIENDS\nGorgeous\nRacks (feat. YBN Cordae)\nTake Care\nFell In Luv (feat. Bryson Tiller)\nwaves - Tame Impala Remix\nTouch & Go\n2 On (feat. ScHoolboy Q)\nStand By (#CWC19) (feat. Rudimental)\nBMO\nMirrors\nConfident\nJungle\nCould've Been (feat. Bryson Tiller)\nBest Part (feat. Daniel Caesar)\nTrippy (feat. J. Cole)\nHigh (feat. Danny Brown)\nReal Games\nMaula Mere Maula\nFreedom (feat. Kendrick Lamar)\nLove Me Harder\nBest Mistake\nSide To Side\nblazed (feat. Pharrell Williams)\nRollin (feat. Future & Khalid)\nCaught Up\nConfessions Part II\nKiwi\nWatermelon Sugar\nLights Up\nFeel No Ways\nLost In Japan\nLow (feat. T-Pain)\nCrazy In Love (feat. Jay-Z)\nDangerous (feat. Kid Cudi)\nErase Me - Main\nHouse Of Balloons / Glass Table Girls\nAll Of The Lights\nMaria I'm Drunk (feat. Justin Bieber & Young Thug)\nP.Y.T. (Pretty Young Thing)\nLoft Music\nU Say (feat. Tyler, The Creator & Jay Prince)\nSame Ol’ Mistakes\nROCKABYE BABY (feat. ScHoolboy Q)\nHurt You\nBillie Jean\nHigh For This\nMarvins Room\nLalala\nU Got It Bad\nBad Girl\nLove in This Club (feat. Young Jeezy)\nATA\nGot Friends\nSome Girl (feat. Steve Lacy)\nMy Love (feat. Drake)\nRight My Wrongs\nAfraid\nHeartbreaker\nFlatline\nSwap It Out\nLemon\nJump (feat. Gizzle)\nPrograms\nA Lonely Night\nI Feel It Coming\nSecrets\nsweetener\nWake Up in the Sky\nTake It Off\nBurnin' Up\nSexyBack (feat. Timbaland)\nHouse Of Balloons / Glass Table Girls\nNew God Flow.1\nCold.1\nSecrets (feat. the Weeknd)\nI Wonder\nDance, Dance\nWhat a Feeling\nI'm The Plug\nGilligan\nDomo23\nGlitter\nOKRA\nPotato Salad\nFather Stretch My Hands Pt. 1\nFML\nStay With Me\nBottoms Up (feat. Nicki Minaj)\nEverything (feat. John Legend)\nLost Ones\nIn My Room\nAll That Matters\nGrooveline Pt. 2\nEasy\nDrove U Crazy (feat. Bryson Tiller)\nSativa\nWaiting\nGet to You Again\nBiking\nHot (Remix) [feat. Gunna and Travis Scott]\nSwap It Out\nOh Okay (feat. Young Thug & Lil Baby)\nA-Team\nMamacita (feat. Rich Homie Quan & Young Thug)\nEnter Galactic (Love Connection Part I)\nPastime Paradise\nGangsta's Paradise\nMy Boy (feat. J. Cole) - Freestyle\nDiamonds From Sierra Leone - Remix\nI Got 5 On It\nShe Knows (feat. Amber Coffman & Cults)\nPound Cake / Paris Morton Music 2\nBitch, Don’t Kill My Vibe\nMy Name Is\nI Got The... - 2006 Remaster\nFamous\nBam Bam\nNice For What\nEx-Factor\nMystery of Iniquity - Live\nAll Falls Down\nDrunk On Love\nA$AP Forever REMIX (feat. Moby, T.I. & Kid Cudi)\nCrazi\nSky Walker (feat. Travis Scott)\nDie For You\nAlmeda\nRansom\nShot Clock\nOTW\nGone [Feat. YBN Cordae, Bilal, Herbie Hancock]\nThank You\nSophie\nUnder\nMotiv8\nJump Around\n48\nYonkers\nWhatcha Say\nBurnin' Up\nGOLD\nPretty Boy Swag\nHungry Hippo\nWe Alright\nEx-Factor\nSin City\nPuppets (Succession Remix)\nEverything We Need\nClosed On Sunday\nFollow God\nUproar\nStay Fly (feat. Young Buck, Eightball & MJG)\nI Used to Love Him (feat. Mary J. Blige)\nDoo Wop (That Thing)\nKids See Ghosts\nFeel The Love\nFire\nPower On\nI'll Come Too\nWhere's The Catch? (feat. André 3000)\nBarefoot In The Park (feat. ROSALÍA)\nMile High (feat. Travis Scott & Metro Boomin)\nAssume Form\nI Wonder\nHigher\nGrove St. Party (feat. Kebo Gotti)\nFlashing Lights\nAPESHIT\n4th Dimension\nLean 4 Real (feat. Skepta)\nDHL\nCAROUSEL\nDream On\nTa fête\nSavage Mode\nFeel\nHit This Hard\nWhite Iverson\nCold\nTake What You Want (feat. Ozzy Osbourne & Travis Scott)\n100it Racks\nRemember Me\noui\nFluorescent Adolescent\nKnee Socks\nNo. 1 Party Anthem\nOne For The Road\nR U Mine?\nLights Up\nLove... (Her Fault) [feat. Bryson Tiller]\nRussian Roulette\nWhat Goes Around.../...Comes Around (Interlude)\nTunnel Vision\nStrawberry Bubblegum\nVacation (feat. Joey Bada$$)\nLEGENDARY (feat. J. Cole)\nSunday (feat. Frank Ocean)\nWildfire (feat. Frank Ocean)\nNeeded Me\nOpen Safe\nMona Lisa (feat. Kendrick Lamar)\nFamous (feat. Reginae Carter)\nBachelor (feat. A$AP Rocky, Lil Yachty, MadeinTYO & Offset)\nHoliday Inn\nDon't Hold the Wall\nDangerous World (feat. Travis Scott & YG)\n7/11\nCome Get Her\nI Like It\nPartition\nLos Ageless\nPlease Shut Up (feat. A$AP Rocky, KEY! & Gucci Mane)\nDouble Up (feat. Belly and Dom Kennedy)\nExcuse Me\nKeisha's Song (Her Pain)\nUltralight Beam\nOver (feat. 6LACK)\nFloating (feat. 21 Savage)\nRude Boy\nMissed Calls\nColdest Winter\nDirty Diana - 2012 Remaster\nPROM / KING\nCry Me a River\nCall Out My Name\nBad Bad News\nSweet Life\nDrunk (feat. 6LACK)\nTadow\nToo Much\nWoo\nSuperpower (feat. Frank Ocean)\nFlat Tummy Tea\nJoyride\nBASQUIAT\nIvy\ni\nThe Blacker The Berry\nu\nThese Walls\nWesley's Theory\nPothole (feat. Jaden Smith)\nWow.\nGoodbyes (feat. Young Thug)\nDie For Me (feat. Future & Halsey)\nHollywood's Bleeding\nTears In The Rain\nRide Wit Me\nBeautiful Girls\nNC-17\nMy Boo\nGet Low\nStay Fly (feat. Young Buck, Eightball & MJG)\nGo DJ\nThe Way I Are\nGoing Bad (feat. Drake)\nStart A Party\nRAF (feat. A$AP Rocky, Playboi Carti, Quavo, Lil Uzi Vert & Frank Ocean)\nWork REMIX (feat. A$AP Rocky, French Montana, Trinidad James & ScHoolboy Q)\nHands on the Wheel (feat. Asap Rocky)\nI Ain't Got Time!\nThe Birds Pt. 1\nholy terrain\nVerify (feat. Young Thug, Gunna)\nRehab (Winter In Paris)\nRUNNING OUT OF TIME\nYamborghini High (feat. Juicy J)\nCoziest (feat. A$AP Twelvyy & Zack)\nWhat Happens (feat. A$AP Rocky, A$AP Ferg, Joey Bada$$, Kirk Knight, Nyck Caution, Meechy Darko & Zombie Juice)\nuntitled 08 | 09.06.2014.\nuntitled 02 | 06.23.2014.\nuntitled 07 | 2014 - 2016\nZulu Screams (feat. Maleek Berry & Bibi Bourelly)\nFukk Sleep (feat. FKA twigs)\nBad Boys\nBring Da Ruckus\nProtect Ya Neck\nNo New Friends - SFTB Remix\nTelephone\nMonster\nWus Good / Curious\nWaves\nXO / The Host\nLesbian (feat. Gunna & Young Thug)\nChampion\nKid Charlemagne\nFYBR (First Year Being Rich) (feat. A$AP Twelvyy, A$AP Rocky, A$AP Ant, A$AP Ferg, KEY! & Playboi Carti)\nShabba (feat. A$AP Rocky)\nDrunk in Love (feat. Jay-Z)\nBLEACH\nF**kin' Problems (feat. Drake, 2 Chainz & Kendrick Lamar)\n6 Inch (feat. The Weeknd)\nYeah! (feat. Lil Jon & Ludacris)\nDrip Too Hard\nMan Of The Year\nKing's Dead (with Kendrick Lamar, Future & James Blake)\nThrow Sum Mo\nDJ Got Us Fallin' In Love\nMi Gente (feat. Beyoncé)\nLove Galore (feat. Travis Scott)\nJyotiana\nMenu Ki Ah\nSOS\nHair Down (feat. Kendrick Lamar)\nAngel\nPromises (with Sam Smith)\nDancing With A Stranger (with Normani)\nFreeee (Ghost Town Pt. 2)\nWish Wish (feat. Cardi B & 21 Savage)\nSex With Me\nSame Ol’ Mistakes\nYeah, I Said It\nDesperado\nSTARGAZING\nbeibs in the trap\nLost in the Fire (feat. The Weeknd)\nR.I.P. Fredo (feat. Young Nudy) - Notice Me\nStronger\nGasolina\nT-Shirt\nNo Scrubs\nHips Don't Lie (feat. Wyclef Jean)\nHeadlines\nHYFR (Hell Ya Fucking Right)\nLollipop\nPurity (feat. Frank Ocean)\nNikes\nRENTAL\nGreaze Mode\nR.I.P.\nI BEEN BORN AGAIN\nIF YOU PRAY RIGHT\nTake What You Want (feat. Ozzy Osbourne & Travis Scott)\nF**kin' Problems (feat. Drake, 2 Chainz & Kendrick Lamar)\nMask Off (feat. Kendrick Lamar) - Remix\nKing's Dead (with Kendrick Lamar, Future & James Blake)\nCollard Greens\nHUMBLE.\nNever Catch Me\nPoetic Justice\nLOVE. FEAT. ZACARI.\nFEAR.\nLOYALTY. FEAT. RIHANNA.\nDedication (feat. Kendrick Lamar)\ni\nPink + White\n911 / Mr. Lonely (feat. Frank Ocean & Steve Lacy)\nGhost - Remix\nUnder The Sun (with J. Cole & Lute feat. DaBaby)\nI BEEN BORN AGAIN\nMake It Work\nNumb Numb Juice\nRoll Some Mo\nLet Em' Know\nBlowing Smoke\nAntisocial (with Travis Scott)\nBroke As Fuck\nBabushka Boi\nCosta Rica (with Bas & JID feat. Guapdad 4000, Reese LAFLARE, Jace, Mez, Smokepurpp, Buddy & Ski Mask The Slump God)\nKing Kunta\nSwimming Pools (Drank) - Extended Version\nMoney Trees\nForbidden Fruit (feat. Kendrick Lamar)\nDUCKWORTH.\nRigamortus\nXXX. FEAT. U2.\nPon de Replay\nOnly Girl (In The World)\nWhat's My Name?\nWhere Have You Been\nBitch Better Have My Money\nBiking (Solo)\nMight Not\nPrice On My Head (feat. The Weeknd)\nwonderful\nIn Vein\nPray 4 Love (feat. The Weeknd)\nCrew Love\nOne of Those Nights (feat. The Weeknd)\nRemember You (feat. The Weeknd)\nWasted Times\nCall Out My Name\nWanderlust - Pharrell Remix\nPretty\nLive For\nBelong To The World\nProfessional\nDark Times\nIn The Night\nTell Your Friends\nOften\nSix Feet Under\nThe London (feat. J. Cole & Travis Scott)\nChampion (feat. Travis Scott)\nUnFazed (feat. The Weeknd)\nLet It Fly (feat. Travis Scott)\nDon't Quit (feat. Travis Scott & Jeremih)\nI Was Never There\nDesperado\nKiss It Better\nDisturbia\nShut Up And Drive\nDon't Stop The Music\nLove On The Brain\nUmbrella\nAll Eyez (feat. Jeremih)\nChase The Money\nBOY BYE\nST. PERCY\nSUGAR\nNO HALO\nJet Lag\nPeach\nSoulflower\nSuperpowers (with GoldLink)\nMalibu Sleep\nPop Out Again (feat. Lil Baby & Gunna)\nMannequin Challenge (feat. Juice WRLD)\nSup Mate (feat. Future)\nEcstasy (feat. Machine Gun Kelly)\nTalk Shit Like a Preacher\nFeed Me Dope\nGoner\nDreamin (with blackbear)\n100 Racks (Offset feat. Playboi Carti)\nOn My Own\nUnder The Pressure\nBeam (feat. Playboi Carti)\nWat's Wrong (feat. Zacari & Kendrick Lamar)\nS&M\nShameless\nDisturbia\nMr. Brightside\nMake a Mil\nRelax with Me\nHurt Feelings\nThat's What I Like\n100 Degrees\nHot (feat. Gunna)\nChanel\nNaina\nLate Night\nBoredom (feat. Rex Orange County & Anna of the North)\nDay 'N' Nite (nightmare)\nShotta (feat. Megan Thee Stallion)\n3 Nights\nPeso\nStronger\n8702\nFloyd Mayweather (feat. Travis Scott, Gucci Mane and Gunna)\nToast 2 That (feat. Freddie Gibbs)\nSoHo Freestyle\nSee You Again (feat. Kali Uchis)\nNEW MAGIC WAND\nI THINK\nLost\nThinkin Bout You\nAll The Stars (with SZA)\nWow Freestyle (feat. Kendrick Lamar)\nKeanu Reeves\nStudio Ground Rules\nBible\nPanini\nWhere This Flower Blooms (feat. Frank Ocean)\nLVL\nHiiiPower\nLying Is the Most Fun a Girl Can Have Without Taking Her Clothes Off\nNicotine\nThis Is Gospel\nDying in LA\nSay Amen (Saturday Night)\nI Write Sins Not Tragedies\nHey Look Ma, I Made It\nMiss Jackson (feat. LOLO)\nCastaway\nI Hear Them Calling (feat. Kid Cudi)\nREVOFEV\nSecond Wind\nLiving Like I Do\nProblemz (feat. Erick The Architect, CJ Fly, The Underachievers, Zombie Juice & Nyck Caution)\nBroke (feat. JID)\nSolo (Reprise)\nGHOST!\nMarijuana\nJust What I Am\nNo Vest\nthrough the late night\nThe Man\nWritten in the Stars (feat. Eric Turner)\nDNA.\nWIN\nASTROTHUNDER\nSKELETONS\nSurfin'\nFrequency\nBy Design\nPursuit Of Happiness (Nightmare)\nDay 'N' Nite (nightmare)\nLose Yourself - From \"8 Mile\" Soundtrack\nAlright\nHalf Manne Half Cocaine\nCataracts\nFake Names\nGiannis (feat. Anderson .Paak)\nSidewalks\nKiss Land\nGifted\nWeekend (feat. Miguel)\nSelf Care\nThuggin’\nBig Rings\nLow Life (feat. The Weeknd)\nWHAT'S GOOD\nEARFQUAKE\nI Feel It Coming\nParty Monster\nThe Hills\nStarboy\nNothing Without You\nDie For You\nHurt You\nThe Party & The After Party\nKill 'Em With Success (with Eearz, ScHoolboy Q & 2 Chainz)\nChewing Gum\nProvider\nThe Morning\nHold On\nPlastic 100°C\nRoll Some Mo\nLove$ick\nSaint Pablo\nAs You Are\nViva La Vida\nTalk 2 U\nSame Old Song\nStay Flo\nTEMPTATION\nMortal Kombat\nHero\nWhite Sand\nDon't Choose\nRunaway\nUnder Ground Kings\nWhat You Need\nGo Legend (& Metro Boomin)\nPhotosynthesis\nMr. Rager\nCurve (feat. The Weeknd)\nReminder\nBackseat Freestyle\nSlide (feat. Frank Ocean & Migos)\nHate Me (with Juice WRLD)\nImpossible\nSweet Life\nSoundtrack 2 My Life\nStay\nDesperado\nHymn for the Weekend\nCrime Pays\nBaptized In Fire\nLocation\nWaves\nA.D.H.D\n03' Adolescence\nPhoenix\nCompton\nParanoid\nFRONTAL LOBE MUZIK\nThe Ways (with Swae Lee)\nOldie\nReborn\nStay\nGet The Bag (feat. A$AP Rocky, A$AP Ferg, A$AP Ant, A$AP Nast, A$AP TyY, Playboi Carti & Smooky MarGielaa)\nFeels So Good (feat. A$AP Ferg, A$AP Nast, A$AP Rocky & A$AP Twelvyy)\nTelephone Calls (feat. A$AP Rocky, Tyler, The Creator, Playboi Carti & Yung Gleesh)\nLondon Town (feat. A$AP Rocky, A$AP Ant & Playboi Carti)\nMoney Man (feat. A$AP Rocky, A$AP Nast & Yung Lord)\nCrazy Brazy (feat. A$AP Rocky, A$AP Twelvyy & Key!)\nFrat Rules (feat. A$AP Rocky, Playboi Carti & Big Sean)\nWalk On Water (feat. A$AP Twelvyy, A$AP Ant, A$AP Nast, A$AP Ferg & Playboi Carti)\nThe London (feat. J. Cole & Travis Scott)\nMIDDLE CHILD\nNew Level REMIX (feat. Future, A$AP Rocky & Lil Uzi Vert)\nDNA.\nCanceled\nMultiply (feat. Juicy J)\nL$D\nSTOP TRYING TO BE GOD\nTell Them (feat. Moses Sumney & Metro Boomin)\nRetrograde\nLife Round Here\nYeah, I Said It\nMile High (feat. Travis Scott & Metro Boomin)\nImpatient\nThe Weekend\nCould've Been (feat. Bryson Tiller)\nSolo\nThink About Me\nGang Over Luv\nLUST.\nLove Galore\nPink Matter\nNights\nBad Religion\nTry Me\nLosin Control\nLearn Ya\nRodeo\nNuh Time / Tek Time\nX (feat. Future)\nOG Beeper\nFind U Again (feat. Camila Cabello)\nCoast/Clear (feat. Kirk Knight, Nyck Caution & Issa Gold)\nShoota (feat. Lil Uzi Vert)\nLOST (feat. Kid Cudi)\nLyrics\nOld Town Road (feat. Billy Ray Cyrus) - Remix\nMine (feat. Drake)\nNi**as In Paris\nEveryday (feat. Rod Stewart, Miguel & Mark Ronson)\nELEMENT.\nFree\nDreamcatcher (feat. Swae Lee & Travis Scott)\nSAD!\nTime Stops\nIII. Telegraph Ave. (\"Oakland\" by Lloyd)\nChanel (feat. Swae Lee & Pharrell) - From Jxmtro\nuntitled 07 | levitate\nKiss It Better\nRooftop Party\nHome\nLike Someone In Love\nIncandescent\nTin Foil Hats\nMan of the Woods\nHigher Higher\nSupplies\nHers (interlude)\nUp\nSome Way\nUnforgettable\nRun Me Dry\nFeelin\nThe Thin Ice\nBring the Boys Back Home\nEternal Return: Eternity\nThe Party & The After Party\nComing Down\nTwenty Eight\nLonely Star\nThe Birds Pt. 1\nGone\nRolling Stone\nHeaven Or Las Vegas\nOutside\nXO / The Host\nInitiation\nThe Fall\nHigh For This\nWicked Games\nLoft Music\nThe Knowing\nLife Of The Party\nThursday\nThe Zone\nThe Birds Pt. 2\nValerie\nD.D.\nMontreal\nNext\nEchoes Of Silence\nTill Dawn (Here Comes The Sun)\nR U Mine?\nKiss Me Thru The Phone\nChale Chalo (From \"Lagaan\")\n\n10 Bands\n\nUllathu Chonnaal\nJimmy Choo\nLet's Get Lost (feat. Devon Baldwin)\nImmortals\nUma Thurman\nIrresistible\nJet Pack Blues\nFourth Of July\nFlames\nSummer Sixteen\nNine in the Afternoon - Single Mix\nThe Ballad of Mona Lisa\nHallelujah\nDon't Threaten Me with a Good Time\nVictorious\nEmperor's New Clothes\nDeath of a Bachelor\nTill I Die\nC.R.E.A.M.\nWhite Iverson\nSwim Good\nPyramids\nNovacane\n100 (feat. Drake)\nI Know\nReal Life\nLosers\nTell Your Friends\nOften\nThe Hills\nAcquainted\nCan't Feel My Face\nShameless\nEarned It (Fifty Shades Of Grey)\nIn The Night\nAs You Are\nDark Times\nPrisoner\nAngel\nBoyz-N-The-Hood - Remix\nThe Language\nA Tale of 2 Citiez\nRight Hand\nHotline Bling\nAbout You\nIn The Air Tonight\nBohemian Rhapsody - Remastered 2011\nHotel California - 2013 Remaster\nBack To Back\nSame Old Song\nStill D.R.E.\nForgot About Dre\nOdd Look\nNah Mean\nMe And My Broken Heart\nCoffee (F***ing) (feat. Wale)\nCan't Feel My Face\nCanal St. (feat. Bones)\nLord Pretty Flacko Jodye 2 (LPFJ2)\nM'$ (feat. Lil Wayne)\nElectric Body (feat. ScHoolboy Q)\nThe Famm\nFormidable\ntous les mêmes\nAlors On Danse\nPapaoutai\nThe Hills\nEnergy\nKnow Yourself\nNo Tellin'\nUsed To\n6 Man\nCompany\nJungle\nHeadlines\nFurthest Thing\nWorst Behavior\nLive For\nWanderlust\nPretty\nThe Town\nWet Dreamz\nG.O.M.D.\nNo Role Modelz\nGang Related\nBuried Alive\nBounce\nUnder Pressure\n"
     ]
    }
   ],
   "source": [
    "results = sp.current_user_saved_tracks()\n",
    "tracks = results['items']\n",
    "while results['next']:\n",
    "    results = sp.next(results)\n",
    "    tracks.extend(results['items'])\n",
    "\n",
    "for track in tracks:\n",
    "    print(track['track']['name'])"
   ]
  },
  {
   "cell_type": "code",
   "execution_count": 13,
   "metadata": {},
   "outputs": [
    {
     "output_type": "execute_result",
     "data": {
      "text/plain": [
       "               danceability  energy  key  loudness  mode  speechiness  \\\n",
       "Entrégala             0.919   0.672   10    -3.404     0       0.1310   \n",
       "Pretty Please         0.906   0.474    1    -6.124     1       0.1940   \n",
       "LA CANCIÓN            0.754   0.646    7    -5.795     1       0.3170   \n",
       "Professional          0.405   0.619   11    -8.920     0       0.0615   \n",
       "Adaptation            0.642   0.790   11    -6.800     0       0.0681   \n",
       "\n",
       "               acousticness  instrumentalness  liveness  valence    tempo  \\\n",
       "Entrégala            0.0637          0.014400    0.0597    0.425  117.002   \n",
       "Pretty Please        0.0311          0.000005    0.2860    0.656  106.976   \n",
       "LA CANCIÓN           0.1520          0.000018    0.1080    0.429  176.089   \n",
       "Professional         0.1620          0.000334    0.0788    0.234  120.092   \n",
       "Adaptation           0.1510          0.000583    0.3050    0.613  114.960   \n",
       "\n",
       "                         type                      id  \\\n",
       "Entrégala      audio_features  46lZpwebFWgqad5CX1iv6r   \n",
       "Pretty Please  audio_features  5Pc594FhDA2Fa2prE75GT0   \n",
       "LA CANCIÓN     audio_features  0fea68AdmYNygeTGI4RC18   \n",
       "Professional   audio_features  5ZicFGBDAi9J2YCVesboUp   \n",
       "Adaptation     audio_features  4pHQ9RYFhn3W0ha5KEuMnj   \n",
       "\n",
       "                                                uri  \\\n",
       "Entrégala      spotify:track:46lZpwebFWgqad5CX1iv6r   \n",
       "Pretty Please  spotify:track:5Pc594FhDA2Fa2prE75GT0   \n",
       "LA CANCIÓN     spotify:track:0fea68AdmYNygeTGI4RC18   \n",
       "Professional   spotify:track:5ZicFGBDAi9J2YCVesboUp   \n",
       "Adaptation     spotify:track:4pHQ9RYFhn3W0ha5KEuMnj   \n",
       "\n",
       "                                                      track_href  \\\n",
       "Entrégala      https://api.spotify.com/v1/tracks/46lZpwebFWgq...   \n",
       "Pretty Please  https://api.spotify.com/v1/tracks/5Pc594FhDA2F...   \n",
       "LA CANCIÓN     https://api.spotify.com/v1/tracks/0fea68AdmYNy...   \n",
       "Professional   https://api.spotify.com/v1/tracks/5ZicFGBDAi9J...   \n",
       "Adaptation     https://api.spotify.com/v1/tracks/4pHQ9RYFhn3W...   \n",
       "\n",
       "                                                    analysis_url  duration_ms  \\\n",
       "Entrégala      https://api.spotify.com/v1/audio-analysis/46lZ...       158040   \n",
       "Pretty Please  https://api.spotify.com/v1/audio-analysis/5Pc5...       194607   \n",
       "LA CANCIÓN     https://api.spotify.com/v1/audio-analysis/0fea...       242573   \n",
       "Professional   https://api.spotify.com/v1/audio-analysis/5Zic...       368720   \n",
       "Adaptation     https://api.spotify.com/v1/audio-analysis/4pHQ...       283933   \n",
       "\n",
       "               time_signature  \n",
       "Entrégala                   4  \n",
       "Pretty Please               4  \n",
       "LA CANCIÓN                  4  \n",
       "Professional                4  \n",
       "Adaptation                  4  "
      ],
      "text/html": "<div>\n<style scoped>\n    .dataframe tbody tr th:only-of-type {\n        vertical-align: middle;\n    }\n\n    .dataframe tbody tr th {\n        vertical-align: top;\n    }\n\n    .dataframe thead th {\n        text-align: right;\n    }\n</style>\n<table border=\"1\" class=\"dataframe\">\n  <thead>\n    <tr style=\"text-align: right;\">\n      <th></th>\n      <th>danceability</th>\n      <th>energy</th>\n      <th>key</th>\n      <th>loudness</th>\n      <th>mode</th>\n      <th>speechiness</th>\n      <th>acousticness</th>\n      <th>instrumentalness</th>\n      <th>liveness</th>\n      <th>valence</th>\n      <th>tempo</th>\n      <th>type</th>\n      <th>id</th>\n      <th>uri</th>\n      <th>track_href</th>\n      <th>analysis_url</th>\n      <th>duration_ms</th>\n      <th>time_signature</th>\n    </tr>\n  </thead>\n  <tbody>\n    <tr>\n      <th>Entrégala</th>\n      <td>0.919</td>\n      <td>0.672</td>\n      <td>10</td>\n      <td>-3.404</td>\n      <td>0</td>\n      <td>0.1310</td>\n      <td>0.0637</td>\n      <td>0.014400</td>\n      <td>0.0597</td>\n      <td>0.425</td>\n      <td>117.002</td>\n      <td>audio_features</td>\n      <td>46lZpwebFWgqad5CX1iv6r</td>\n      <td>spotify:track:46lZpwebFWgqad5CX1iv6r</td>\n      <td>https://api.spotify.com/v1/tracks/46lZpwebFWgq...</td>\n      <td>https://api.spotify.com/v1/audio-analysis/46lZ...</td>\n      <td>158040</td>\n      <td>4</td>\n    </tr>\n    <tr>\n      <th>Pretty Please</th>\n      <td>0.906</td>\n      <td>0.474</td>\n      <td>1</td>\n      <td>-6.124</td>\n      <td>1</td>\n      <td>0.1940</td>\n      <td>0.0311</td>\n      <td>0.000005</td>\n      <td>0.2860</td>\n      <td>0.656</td>\n      <td>106.976</td>\n      <td>audio_features</td>\n      <td>5Pc594FhDA2Fa2prE75GT0</td>\n      <td>spotify:track:5Pc594FhDA2Fa2prE75GT0</td>\n      <td>https://api.spotify.com/v1/tracks/5Pc594FhDA2F...</td>\n      <td>https://api.spotify.com/v1/audio-analysis/5Pc5...</td>\n      <td>194607</td>\n      <td>4</td>\n    </tr>\n    <tr>\n      <th>LA CANCIÓN</th>\n      <td>0.754</td>\n      <td>0.646</td>\n      <td>7</td>\n      <td>-5.795</td>\n      <td>1</td>\n      <td>0.3170</td>\n      <td>0.1520</td>\n      <td>0.000018</td>\n      <td>0.1080</td>\n      <td>0.429</td>\n      <td>176.089</td>\n      <td>audio_features</td>\n      <td>0fea68AdmYNygeTGI4RC18</td>\n      <td>spotify:track:0fea68AdmYNygeTGI4RC18</td>\n      <td>https://api.spotify.com/v1/tracks/0fea68AdmYNy...</td>\n      <td>https://api.spotify.com/v1/audio-analysis/0fea...</td>\n      <td>242573</td>\n      <td>4</td>\n    </tr>\n    <tr>\n      <th>Professional</th>\n      <td>0.405</td>\n      <td>0.619</td>\n      <td>11</td>\n      <td>-8.920</td>\n      <td>0</td>\n      <td>0.0615</td>\n      <td>0.1620</td>\n      <td>0.000334</td>\n      <td>0.0788</td>\n      <td>0.234</td>\n      <td>120.092</td>\n      <td>audio_features</td>\n      <td>5ZicFGBDAi9J2YCVesboUp</td>\n      <td>spotify:track:5ZicFGBDAi9J2YCVesboUp</td>\n      <td>https://api.spotify.com/v1/tracks/5ZicFGBDAi9J...</td>\n      <td>https://api.spotify.com/v1/audio-analysis/5Zic...</td>\n      <td>368720</td>\n      <td>4</td>\n    </tr>\n    <tr>\n      <th>Adaptation</th>\n      <td>0.642</td>\n      <td>0.790</td>\n      <td>11</td>\n      <td>-6.800</td>\n      <td>0</td>\n      <td>0.0681</td>\n      <td>0.1510</td>\n      <td>0.000583</td>\n      <td>0.3050</td>\n      <td>0.613</td>\n      <td>114.960</td>\n      <td>audio_features</td>\n      <td>4pHQ9RYFhn3W0ha5KEuMnj</td>\n      <td>spotify:track:4pHQ9RYFhn3W0ha5KEuMnj</td>\n      <td>https://api.spotify.com/v1/tracks/4pHQ9RYFhn3W...</td>\n      <td>https://api.spotify.com/v1/audio-analysis/4pHQ...</td>\n      <td>283933</td>\n      <td>4</td>\n    </tr>\n  </tbody>\n</table>\n</div>"
     },
     "metadata": {},
     "execution_count": 13
    }
   ],
   "source": [
    "#creating a database of all songs and features\n",
    "import pandas as pd\n",
    "\n",
    "#songs = tracks[\"items\"]\n",
    "\n",
    "track_ids = []\n",
    "track_names = []\n",
    "\n",
    "for i in range(0, len(tracks)):\n",
    "    #Removes the local tracks in your playlist if there is any\n",
    "    if tracks[i]['track']['id'] != None: \n",
    "        track_ids.append(tracks[i]['track']['id'])\n",
    "        track_names.append(tracks[i]['track']['name'])\n",
    "\n",
    "features = []\n",
    "for i in range(0,len(track_ids)):\n",
    "    audio_features = sp.audio_features(track_ids[i])\n",
    "    for track in audio_features:\n",
    "        features.append(track)\n",
    "        \n",
    "playlist_df = pd.DataFrame(features, index = track_names)\n",
    "\n",
    "playlist_df.head()"
   ]
  },
  {
   "cell_type": "code",
   "execution_count": 14,
   "metadata": {},
   "outputs": [
    {
     "output_type": "execute_result",
     "data": {
      "text/plain": [
       "                                   id  acousticness  danceability  \\\n",
       "Entrégala      46lZpwebFWgqad5CX1iv6r        0.0637         0.919   \n",
       "Pretty Please  5Pc594FhDA2Fa2prE75GT0        0.0311         0.906   \n",
       "LA CANCIÓN     0fea68AdmYNygeTGI4RC18        0.1520         0.754   \n",
       "Professional   5ZicFGBDAi9J2YCVesboUp        0.1620         0.405   \n",
       "Adaptation     4pHQ9RYFhn3W0ha5KEuMnj        0.1510         0.642   \n",
       "\n",
       "               duration_ms  energy  instrumentalness  key  liveness  loudness  \\\n",
       "Entrégala           158040   0.672          0.014400   10    0.0597    -3.404   \n",
       "Pretty Please       194607   0.474          0.000005    1    0.2860    -6.124   \n",
       "LA CANCIÓN          242573   0.646          0.000018    7    0.1080    -5.795   \n",
       "Professional        368720   0.619          0.000334   11    0.0788    -8.920   \n",
       "Adaptation          283933   0.790          0.000583   11    0.3050    -6.800   \n",
       "\n",
       "               mode  speechiness    tempo  valence  \n",
       "Entrégala         0       0.1310  117.002    0.425  \n",
       "Pretty Please     1       0.1940  106.976    0.656  \n",
       "LA CANCIÓN        1       0.3170  176.089    0.429  \n",
       "Professional      0       0.0615  120.092    0.234  \n",
       "Adaptation        0       0.0681  114.960    0.613  "
      ],
      "text/html": "<div>\n<style scoped>\n    .dataframe tbody tr th:only-of-type {\n        vertical-align: middle;\n    }\n\n    .dataframe tbody tr th {\n        vertical-align: top;\n    }\n\n    .dataframe thead th {\n        text-align: right;\n    }\n</style>\n<table border=\"1\" class=\"dataframe\">\n  <thead>\n    <tr style=\"text-align: right;\">\n      <th></th>\n      <th>id</th>\n      <th>acousticness</th>\n      <th>danceability</th>\n      <th>duration_ms</th>\n      <th>energy</th>\n      <th>instrumentalness</th>\n      <th>key</th>\n      <th>liveness</th>\n      <th>loudness</th>\n      <th>mode</th>\n      <th>speechiness</th>\n      <th>tempo</th>\n      <th>valence</th>\n    </tr>\n  </thead>\n  <tbody>\n    <tr>\n      <th>Entrégala</th>\n      <td>46lZpwebFWgqad5CX1iv6r</td>\n      <td>0.0637</td>\n      <td>0.919</td>\n      <td>158040</td>\n      <td>0.672</td>\n      <td>0.014400</td>\n      <td>10</td>\n      <td>0.0597</td>\n      <td>-3.404</td>\n      <td>0</td>\n      <td>0.1310</td>\n      <td>117.002</td>\n      <td>0.425</td>\n    </tr>\n    <tr>\n      <th>Pretty Please</th>\n      <td>5Pc594FhDA2Fa2prE75GT0</td>\n      <td>0.0311</td>\n      <td>0.906</td>\n      <td>194607</td>\n      <td>0.474</td>\n      <td>0.000005</td>\n      <td>1</td>\n      <td>0.2860</td>\n      <td>-6.124</td>\n      <td>1</td>\n      <td>0.1940</td>\n      <td>106.976</td>\n      <td>0.656</td>\n    </tr>\n    <tr>\n      <th>LA CANCIÓN</th>\n      <td>0fea68AdmYNygeTGI4RC18</td>\n      <td>0.1520</td>\n      <td>0.754</td>\n      <td>242573</td>\n      <td>0.646</td>\n      <td>0.000018</td>\n      <td>7</td>\n      <td>0.1080</td>\n      <td>-5.795</td>\n      <td>1</td>\n      <td>0.3170</td>\n      <td>176.089</td>\n      <td>0.429</td>\n    </tr>\n    <tr>\n      <th>Professional</th>\n      <td>5ZicFGBDAi9J2YCVesboUp</td>\n      <td>0.1620</td>\n      <td>0.405</td>\n      <td>368720</td>\n      <td>0.619</td>\n      <td>0.000334</td>\n      <td>11</td>\n      <td>0.0788</td>\n      <td>-8.920</td>\n      <td>0</td>\n      <td>0.0615</td>\n      <td>120.092</td>\n      <td>0.234</td>\n    </tr>\n    <tr>\n      <th>Adaptation</th>\n      <td>4pHQ9RYFhn3W0ha5KEuMnj</td>\n      <td>0.1510</td>\n      <td>0.642</td>\n      <td>283933</td>\n      <td>0.790</td>\n      <td>0.000583</td>\n      <td>11</td>\n      <td>0.3050</td>\n      <td>-6.800</td>\n      <td>0</td>\n      <td>0.0681</td>\n      <td>114.960</td>\n      <td>0.613</td>\n    </tr>\n  </tbody>\n</table>\n</div>"
     },
     "metadata": {},
     "execution_count": 14
    }
   ],
   "source": [
    "#keeping only relevant features\n",
    "\n",
    "tracks_df = playlist_df[[\"id\", \"acousticness\", \"danceability\", \"duration_ms\", \n",
    "                         \"energy\", \"instrumentalness\",  \"key\", \"liveness\",\n",
    "                         \"loudness\", \"mode\", \"speechiness\", \"tempo\", \"valence\"]]\n",
    "\n",
    "tracks_df.head()"
   ]
  },
  {
   "cell_type": "code",
   "execution_count": 23,
   "metadata": {},
   "outputs": [],
   "source": [
    "import json\n",
    "\n",
    "#get short term df\n",
    "results_short = sp.current_user_top_tracks(limit = 50, offset=0, time_range='short_term')['items']\n",
    "\n",
    "for song in range(50):\n",
    "        list = []\n",
    "        list.append(results_short)\n",
    "        with open('top50_data.json', 'w', encoding='utf-8') as f:\n",
    "            json.dump(list, f, ensure_ascii=False, indent=4)"
   ]
  },
  {
   "cell_type": "code",
   "execution_count": 26,
   "metadata": {},
   "outputs": [
    {
     "output_type": "execute_result",
     "data": {
      "text/plain": [
       "                                                                       uri\n",
       "to the beginning                      spotify:track:7Fn39khTcovMslPdNxx7b8\n",
       "スパイラル                                 spotify:track:1o9Tn1pO1bVIJBEAcmG0If\n",
       "三原色                                   spotify:track:4rfcYp6k3NG7eYUF8wG40U\n",
       "DYING WISH                            spotify:track:0nm0bdksXzUJwJaB4pbCa9\n",
       "my ex's best friend (with blackbear)  spotify:track:7kDUspsoYfLkWnZR7qwHZl"
      ],
      "text/html": "<div>\n<style scoped>\n    .dataframe tbody tr th:only-of-type {\n        vertical-align: middle;\n    }\n\n    .dataframe tbody tr th {\n        vertical-align: top;\n    }\n\n    .dataframe thead th {\n        text-align: right;\n    }\n</style>\n<table border=\"1\" class=\"dataframe\">\n  <thead>\n    <tr style=\"text-align: right;\">\n      <th></th>\n      <th>uri</th>\n    </tr>\n  </thead>\n  <tbody>\n    <tr>\n      <th>to the beginning</th>\n      <td>spotify:track:7Fn39khTcovMslPdNxx7b8</td>\n    </tr>\n    <tr>\n      <th>スパイラル</th>\n      <td>spotify:track:1o9Tn1pO1bVIJBEAcmG0If</td>\n    </tr>\n    <tr>\n      <th>三原色</th>\n      <td>spotify:track:4rfcYp6k3NG7eYUF8wG40U</td>\n    </tr>\n    <tr>\n      <th>DYING WISH</th>\n      <td>spotify:track:0nm0bdksXzUJwJaB4pbCa9</td>\n    </tr>\n    <tr>\n      <th>my ex's best friend (with blackbear)</th>\n      <td>spotify:track:7kDUspsoYfLkWnZR7qwHZl</td>\n    </tr>\n  </tbody>\n</table>\n</div>"
     },
     "metadata": {},
     "execution_count": 26
    }
   ],
   "source": [
    "short_id = []\n",
    "short_names = []\n",
    "\n",
    "results_short = sp.current_user_top_tracks(limit = 50, offset=0, time_range='short_term')['items']\n",
    "\n",
    "for i in range(0, len(results_short)):\n",
    "    #Removes the local tracks in your playlist if there is any\n",
    "    short_id.append(results_short[i]['uri'])\n",
    "    short_names.append(results_short[i]['name'])\n",
    "\n",
    "short_df = pd.DataFrame(short_id, index = short_names, columns = ['uri'])\n",
    "\n",
    "short_df.head()"
   ]
  },
  {
   "cell_type": "code",
   "execution_count": 27,
   "metadata": {},
   "outputs": [
    {
     "output_type": "execute_result",
     "data": {
      "text/plain": [
       "                                                                uri\n",
       "Shoukei to Shikabane no Michi  spotify:track:7lcTpZtdTyfiIgVIpmTVut\n",
       "Tequila Shots                  spotify:track:30KctD1WsHKTIYczXjip5a\n",
       "revenger                       spotify:track:6olFvRvU0XqcxR7iss86Hv\n",
       "Sad People                     spotify:track:4nuAslShoN77tq12fzwjUq\n",
       "RESISTER                       spotify:track:2lO9sYbtyixyMIlj3TDcuU"
      ],
      "text/html": "<div>\n<style scoped>\n    .dataframe tbody tr th:only-of-type {\n        vertical-align: middle;\n    }\n\n    .dataframe tbody tr th {\n        vertical-align: top;\n    }\n\n    .dataframe thead th {\n        text-align: right;\n    }\n</style>\n<table border=\"1\" class=\"dataframe\">\n  <thead>\n    <tr style=\"text-align: right;\">\n      <th></th>\n      <th>uri</th>\n    </tr>\n  </thead>\n  <tbody>\n    <tr>\n      <th>Shoukei to Shikabane no Michi</th>\n      <td>spotify:track:7lcTpZtdTyfiIgVIpmTVut</td>\n    </tr>\n    <tr>\n      <th>Tequila Shots</th>\n      <td>spotify:track:30KctD1WsHKTIYczXjip5a</td>\n    </tr>\n    <tr>\n      <th>revenger</th>\n      <td>spotify:track:6olFvRvU0XqcxR7iss86Hv</td>\n    </tr>\n    <tr>\n      <th>Sad People</th>\n      <td>spotify:track:4nuAslShoN77tq12fzwjUq</td>\n    </tr>\n    <tr>\n      <th>RESISTER</th>\n      <td>spotify:track:2lO9sYbtyixyMIlj3TDcuU</td>\n    </tr>\n  </tbody>\n</table>\n</div>"
     },
     "metadata": {},
     "execution_count": 27
    }
   ],
   "source": [
    "#get medium term df\n",
    "\n",
    "results_medium = sp.current_user_top_tracks(limit=50,offset=0,time_range='medium_term')['items']\n",
    "\n",
    "med_id = []\n",
    "med_names = []\n",
    "\n",
    "for i in range(0, len(results_medium)):\n",
    "    #Removes the local tracks in your playlist if there is any\n",
    "    med_id.append(results_medium[i]['uri'])\n",
    "    med_names.append(results_medium[i]['name'])\n",
    "\n",
    "med_df = pd.DataFrame(med_id, index = med_names, columns = ['uri'])\n",
    "\n",
    "med_df.head()"
   ]
  },
  {
   "cell_type": "code",
   "execution_count": 28,
   "metadata": {},
   "outputs": [
    {
     "output_type": "execute_result",
     "data": {
      "text/plain": [
       "                                                                uri\n",
       "Ordinary Life                  spotify:track:15k2nBQJ0teDmPZHrOXL2N\n",
       "On My Own                      spotify:track:4D1eVq5AUILwjg3tAe7o6M\n",
       "Reborn                         spotify:track:4RVbK6cV0VqWdpCDcx3hiT\n",
       "Faith                          spotify:track:3orEOtd8CPL8GFlpRpKuoE\n",
       "Shoukei to Shikabane no Michi  spotify:track:7lcTpZtdTyfiIgVIpmTVut"
      ],
      "text/html": "<div>\n<style scoped>\n    .dataframe tbody tr th:only-of-type {\n        vertical-align: middle;\n    }\n\n    .dataframe tbody tr th {\n        vertical-align: top;\n    }\n\n    .dataframe thead th {\n        text-align: right;\n    }\n</style>\n<table border=\"1\" class=\"dataframe\">\n  <thead>\n    <tr style=\"text-align: right;\">\n      <th></th>\n      <th>uri</th>\n    </tr>\n  </thead>\n  <tbody>\n    <tr>\n      <th>Ordinary Life</th>\n      <td>spotify:track:15k2nBQJ0teDmPZHrOXL2N</td>\n    </tr>\n    <tr>\n      <th>On My Own</th>\n      <td>spotify:track:4D1eVq5AUILwjg3tAe7o6M</td>\n    </tr>\n    <tr>\n      <th>Reborn</th>\n      <td>spotify:track:4RVbK6cV0VqWdpCDcx3hiT</td>\n    </tr>\n    <tr>\n      <th>Faith</th>\n      <td>spotify:track:3orEOtd8CPL8GFlpRpKuoE</td>\n    </tr>\n    <tr>\n      <th>Shoukei to Shikabane no Michi</th>\n      <td>spotify:track:7lcTpZtdTyfiIgVIpmTVut</td>\n    </tr>\n  </tbody>\n</table>\n</div>"
     },
     "metadata": {},
     "execution_count": 28
    }
   ],
   "source": [
    "#long term df\n",
    "\n",
    "results_long = sp.current_user_top_tracks(limit=50,offset=0,time_range='long_term')['items']\n",
    "\n",
    "long_id = []\n",
    "long_names = []\n",
    "\n",
    "for i in range(0, len(results_long)):\n",
    "    #Removes the local tracks in your playlist if there is any\n",
    "    long_id.append(results_long[i]['uri'])\n",
    "    long_names.append(results_long[i]['name'])\n",
    "\n",
    "long_df = pd.DataFrame(long_id, index = long_names, columns = ['uri'])\n",
    "\n",
    "long_df.head()"
   ]
  },
  {
   "cell_type": "code",
   "execution_count": 31,
   "metadata": {},
   "outputs": [
    {
     "output_type": "execute_result",
     "data": {
      "text/plain": [
       "                                                                uri  long_pts\n",
       "Ordinary Life                  spotify:track:15k2nBQJ0teDmPZHrOXL2N         1\n",
       "On My Own                      spotify:track:4D1eVq5AUILwjg3tAe7o6M         1\n",
       "Reborn                         spotify:track:4RVbK6cV0VqWdpCDcx3hiT         1\n",
       "Faith                          spotify:track:3orEOtd8CPL8GFlpRpKuoE         1\n",
       "Shoukei to Shikabane no Michi  spotify:track:7lcTpZtdTyfiIgVIpmTVut         1"
      ],
      "text/html": "<div>\n<style scoped>\n    .dataframe tbody tr th:only-of-type {\n        vertical-align: middle;\n    }\n\n    .dataframe tbody tr th {\n        vertical-align: top;\n    }\n\n    .dataframe thead th {\n        text-align: right;\n    }\n</style>\n<table border=\"1\" class=\"dataframe\">\n  <thead>\n    <tr style=\"text-align: right;\">\n      <th></th>\n      <th>uri</th>\n      <th>long_pts</th>\n    </tr>\n  </thead>\n  <tbody>\n    <tr>\n      <th>Ordinary Life</th>\n      <td>spotify:track:15k2nBQJ0teDmPZHrOXL2N</td>\n      <td>1</td>\n    </tr>\n    <tr>\n      <th>On My Own</th>\n      <td>spotify:track:4D1eVq5AUILwjg3tAe7o6M</td>\n      <td>1</td>\n    </tr>\n    <tr>\n      <th>Reborn</th>\n      <td>spotify:track:4RVbK6cV0VqWdpCDcx3hiT</td>\n      <td>1</td>\n    </tr>\n    <tr>\n      <th>Faith</th>\n      <td>spotify:track:3orEOtd8CPL8GFlpRpKuoE</td>\n      <td>1</td>\n    </tr>\n    <tr>\n      <th>Shoukei to Shikabane no Michi</th>\n      <td>spotify:track:7lcTpZtdTyfiIgVIpmTVut</td>\n      <td>1</td>\n    </tr>\n  </tbody>\n</table>\n</div>"
     },
     "metadata": {},
     "execution_count": 31
    }
   ],
   "source": [
    "short_df['short_pts'] = 3\n",
    "med_df['med_pts'] = 2\n",
    "long_df['long_pts'] = 1"
   ]
  },
  {
   "cell_type": "code",
   "execution_count": null,
   "metadata": {},
   "outputs": [],
   "source": []
  }
 ]
}