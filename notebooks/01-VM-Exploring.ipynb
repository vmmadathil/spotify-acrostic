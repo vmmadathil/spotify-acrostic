{
 "metadata": {
  "language_info": {
   "codemirror_mode": {
    "name": "ipython",
    "version": 3
   },
   "file_extension": ".py",
   "mimetype": "text/x-python",
   "name": "python",
   "nbconvert_exporter": "python",
   "pygments_lexer": "ipython3",
   "version": "3.8.8"
  },
  "orig_nbformat": 2,
  "kernelspec": {
   "name": "python388jvsc74a57bd05707b298c9c8c68c541cdaddf1ece1291ea6f2c79c910b2557a8f3d16c4becac",
   "display_name": "Python 3.8.8 64-bit ('spotify-acrostic': conda)"
  },
  "metadata": {
   "interpreter": {
    "hash": "5707b298c9c8c68c541cdaddf1ece1291ea6f2c79c910b2557a8f3d16c4becac"
   }
  }
 },
 "nbformat": 4,
 "nbformat_minor": 2,
 "cells": [
  {
   "cell_type": "code",
   "execution_count": 1,
   "metadata": {},
   "outputs": [],
   "source": [
    "import spotipy\n",
    "from spotipy.oauth2 import SpotifyClientCredentials\n",
    "import spotipy.util as util\n",
    "\n",
    "from pathlib import Path\n",
    "import os\n",
    "\n",
    "from dotenv import load_dotenv"
   ]
  },
  {
   "cell_type": "code",
   "execution_count": 2,
   "metadata": {},
   "outputs": [
    {
     "output_type": "stream",
     "name": "stdout",
     "text": [
      "a3ca004450a041b4b3e13c1f3bcc5ec5 b92d8f78722d44868c8b13dc4501ecd0 madathilvisakh\n"
     ]
    }
   ],
   "source": [
    "load_dotenv()\n",
    "env_path = ('../.env')\n",
    "load_dotenv(dotenv_path=env_path)\n",
    "\n",
    "SPOTIFY_CLIENT = os.getenv('SPOTIFY_CLIENT')\n",
    "SPOTIFY_SECRET = os.getenv('SPOTIFY_SECRET')\n",
    "USERNAME = os.getenv('SPOTIFY_USERNAME')\n",
    "redirect_uri = 'http://localhost:8888/callback/'\n",
    "\n",
    "os.environ['SPOTIPY_CLIENT_ID']= SPOTIFY_CLIENT\n",
    "os.environ['SPOTIPY_CLIENT_SECRET']= USERNAME\n",
    "os.environ['SPOTIPY_REDIRECT_URI']= redirect_uri\n",
    "\n",
    "print(SPOTIFY_CLIENT, SPOTIFY_SECRET, USERNAME)"
   ]
  },
  {
   "cell_type": "code",
   "execution_count": 3,
   "metadata": {},
   "outputs": [],
   "source": [
    "#authorizations\n",
    "scope = 'user-library-read user-top-read playlist-modify-public playlist-read-private'\n",
    "\n",
    "\n",
    "credentials_manager = SpotifyClientCredentials(client_id=SPOTIFY_CLIENT, client_secret=SPOTIFY_SECRET) \n",
    "sp = spotipy.Spotify(client_credentials_manager=credentials_manager)\n",
    "token = util.prompt_for_user_token(USERNAME, scope, SPOTIFY_CLIENT, SPOTIFY_SECRET, redirect_uri)\n",
    "\n",
    "if token:\n",
    "    sp = spotipy.Spotify(auth=token)\n",
    "else:\n",
    "    print(\"Can't get token for\", USERNAME) "
   ]
  },
  {
   "cell_type": "code",
   "execution_count": 4,
   "metadata": {},
   "outputs": [
    {
     "output_type": "stream",
     "name": "stdout",
     "text": [
      "Entrégala\nPretty Please\nLA CANCIÓN\nProfessional\nAdaptation\nKiss Land\nHeat Waves\nMONTERO (Call Me By Your Name)\nSave Your Tears (with Ariana Grande) (Remix)\nKiss Me More (feat. SZA)\nFEEL.\nI Don't Dance\nmy ex's best friend (with blackbear)\nOld Yellow Bricks\nIf You Were There, Beware\n505\nRight Side of My Neck\nthe WORLD\nKingston\nWait a Minute!\nWay Out (feat. Big Sean)\n21C/Delta\nRaingurl\nLove Story (Taylor’s Version)\nFkn Around (feat. Megan Thee Stallion)\nLove It If We Made It\nDon't Touch My Hair (feat. Sampha)\ni finally understand\nGoodie Bag\nLeave The Door Open\nWe're Good\nI Don't Care - Single Version\nThe Phoenix\nMy Songs Know What You Did In The Dark (Light Em Up)\nThe Only Difference Between Martyrdom and Suicide Is Press Coverage\nMisery Business\nMauja Hi Mauja\nBoomin\nLast Time (feat. Snoh Aalegra)\nTú\nDiamond Rings\nLeader Of The Delinquents\nLevitating\nMorrow\nOn My Shit (feat. Joey Bada$$)\n10%\nEasy (with Kacey Musgraves feat. Mark Ronson)\nRainbow\nWorld We Created\nHeartbreak Anniversary\nBest Friend (feat. Doja Cat)\nDon't Like Me (feat. Don Toliver & Gucci Mane)\nSwimming Pools (Drank) - Extended Version\nm.A.A.d city\nBitch, Don’t Kill My Vibe\nBackseat Freestyle\nThe Knowing - Original\nLoft Music - Original\nComing Down - Original\nThe Party & The After Party - Original\nWicked Games - Original\nThe Morning - Original\nHouse Of Balloons / Glass Table Girls - Original\nWhat You Need - Original\nHigh For This - Original\nGhost Town\nThis Ain't Love\nThe Beach\nThe Pines\nStreets\nBarking\nJumanji\nSlow Burn\nFashion Week (feat. G-Eazy)\nLA CANCIÓN\nYEAH RIGHT\nAfterthought\nThe Moment\nWhat You Need (feat THEY.)\nRide With Me\nQuiet Trip (feat. Portugal. The Man & The Last Artful, Dodgr)\nHeaven On Earth\nSteal My Girl\nSoy Peor\nla luz(Fín)\ntelepatía\nvaya con dios\nBlue Eyes\nThe Break Up Mashup\nThe Fall\nNext\nReal\nTwenty Eight\nValerie\nLUCID\nCOFFEE BEAN\nNeed It\nGood Days\nGonna Love Me\nSweet Creature\nOut of the Blue\nBest Friend\nJapanese Denim\nLovebug\nDo You Remember\nEstá Cabrón Ser Yo\nRose In Harlem\nMystery Lady (feat. Don Toliver)\nRiver\nTequila Shots\nSolo Dolo, Pt. III\nLord I Know\n4 Da Kidz\nRockstar Knights (with Trippie Redd)\nThe Pale Moonlight\nShow Out (with Skepta & Pop Smoke)\nSad People\nShe Knows This\nAnother Day\nOrange Juice\nNakhre - Dj Vix Desi Remix\nNakhre (Eyes on You 2)\nComme Des Garçons (Like The Boys)\nBlinding Lights (with ROSALÍA) - Remix\nDistorted Records\nWest Coast Love\nCudi Montage\nOne More Time\nI Run This\nKiss U Right Now\nSo and So\nBUSY / SIRENS\nLIFE\nAmphetamine\nNorth Face\nRapper Weed\n5 Thousand Singles\nXS\n//aguardiente y limón %ᵕ‿‿ᵕ%\nSuper Bounce\nLemonade\nINC.\nBack to the Streets (feat. Jhené Aiko)\nOkay\nReagan\nSmile\nMood (feat. Zacari)\nAfterlife\nManiac\nHawái - Remix\nCarefree\nAphrodite\nLove Is Only a Feeling\nRose Golden\nDÁKITI\nRehab\nMariposa\nAll Night (BTS World Original Soundtrack) [Pt. 3]\nMillions\nRing (feat. Young Thug)\nJump Out the Face (feat. Future)\nSlippery (feat. Gucci Mane)\nWalk It Talk It\n7 rings\n4 Thangs (feat. Big Sean & Hit-Boy)\nMotion\nexile (feat. Bon Iver)\nThe Morning\nEasily\nGet You (feat. Kali Uchis)\nBetter\nwest side\npositions\nlove language\npov\nsix thirty\noff the table (with The Weeknd)\n34+35\nmotive (with Doja Cat)\nSong Goes Off\nUpgrade\nPut Your Records On\nDangerous Woman\nHoneymoon Avenue\nHeartbreak Anniversary\n10%\nGive It Up\nCome Through and Chill (feat. J. Cole & Salaam Remi)\nCaramelo Duro (feat. Kali Uchis)\nDevuelveme\nWest Savannah (feat. SZA)\nThat's Love Ft. Mac Miller & Heather Victoria\nAp3X\nSuper Rich Kids\nFancy\nOne Way Flight (feat. Freddie Gibbs)\nSmokin' And Ridin' (feat. Freddie Gibbs & Problem)\nPERSIAN RUGS\nDead Man Walking\nMorado\nBrillo\nCrush\nMove\nInhale\nRunnin\nNext To You\nThings Change\nSorrows\nYears Go By\nMany Men\nLove Hurts (feat. Travis Scott)\nPassionfruit\nHeartless\nKing Of The Fall\nWicked Games\nTive Razao (I Was Right)\nDiamonds 2 (feat. Cassie Jo Craig & Irie Jane Gibbs)\nToe Tag\n2 Legit\nDeath Row (feat. 03 Greedo)\nSet Set\nBeggin'\nGood News\nWalk on By\nThe Moment\nLet It Happen\nKitchen\nLet Go\n24 (feat. Lil Baby)\nBreak from Toronto\nWith Me\nThis Woman's Work\nLike I Want You\nDays Like This (feat. Khalid)\n745\nBy Any Means\nMojo So Dope\nGood To Know (feat. Masego, Kp & Ambriia)\nThe Last Agni Kai\nThe Plan - From the Motion Picture \"TENET\"\nRembrandt...Run It Back (with JID & J. Cole feat. Vince Staples)\nLondon Beckoned Songs About Money Written by Machines\nHallucinations\nHabit\nI don’t even speak spanish lol - feat. Rio Santana, Judah, Andrez Babii\nEducation (feat. Yasiin Bey & Black Thought)\nTexas Sun\nAntidote\nDip (feat. Nicki Minaj)\nH•A•M\nTokyo Drifting\nNo Hands (feat. Roscoe Dash & Wale)\nIII. Telegraph Ave. (\"Oakland\" by Lloyd)\nMoney Trees\nDown Girl\nDrugs\nSmile (with The Weeknd)\nSomeone Like You\nThe Motion\nChicago Freestyle (feat. Giveon)\nReleaser\nNew Slaves\nSo It Goes\nBad Girl\nDon't Matter\nRight Now (Na Na Na)\nChammak Challo\nSmack That\nI Wanna Love You\nReal Sisters\nPoundz\nTrust\nImmigrant Song - Remaster\nCafeteria (feat. Gunna)\nDrogba (Joanna) - Global Latin Version\nWolves\nOlivia\n18\nLet Me Love You\nSo Sick\nTime of Our Lives\nLet's Go (feat. Ne-Yo)\nWe Found Love (feat. Rihanna)\nSweet Nothing (feat. Florence Welch)\nGet Lucky (feat. Pharrell Williams & Nile Rodgers)\nObvs\nSign of the Times\nLights Up\nB.S. (feat. Kehlani) - Remix\nWasteland\nTake a Byte\nAin't Nothing (feat. Wiz Khalifa & Ty Dolla $ign)\nShine\nNo Explanation\nThe Light\nE.T.\nWhere's My Love\nStickin' (feat. Masego & VanJess)\nLook Easy\nTears In The Rain\nBack Home (feat. Summer Walker)\n24.19\nSWV (with NO1-NOAH)\nMy Affection (with PARTYNEXTDOOR)\nGirls Need Love (with Drake) - Remix\nParty Girl (Remix)\nTime Flies\nTe Boté - Remix\nBring Me To Life\nSmile (feat. Bryson Tiller)\nDeeper\nNo Lames (feat. Summer Walker)\nStunnin'\nBewafa\nYaara Tu\nHells Kitchen\nHells Kitchen\nLit - Bonus\nCome Through and Chill (feat. J. Cole & Salaam Remi)\nYou Belong With Me\nFor The Night (feat. Lil Baby & DaBaby)\nGold Digger\nPOWER\nAll Of The Lights (Interlude)\nWash Us In The Blood\nJoke Ting (feat. Ari PenSmith)\nDOLLAZ ON MY HEAD (feat. Young Thug)\nJuicy\nLike That (feat. Gucci Mane)\nThe Bigger Picture\nThe Humma Song (From \"OK Jaanu\")\nLamberghini\nAankh Marey (From \"Simmba\")\nF.U.B.U. (feat. The-Dream & BJ The Chicago Kid)\nTenu Le Ke\nBlood On The Leaves\nBig Shot (with Travis Scott)\nRoses Remix (feat. Future)\nLEGENDARY\nROCKABYE BABY\nTokyo Drifting (with Denzel Curry)\nDEVASTATED\nTEMPTATION\nHeartless\nT.D (Lil Yachty & Tierra Whack feat. A$AP Rocky & Tyler, The Creator)\nS&M Remix\nFrank Lucas (feat. Benny the Butcher)\nSomething to Rap About (feat. Tyler, The Creator)\nDevil In A New Dress\nCYANIDE\nBeautiful Smile\nFuck The World (Summer in London)\nGrieving (feat. James Blake)\nWater\nCan I\nWax On (Feat. Freddie Gibbs)\nPour It Up\nHate The Club (feat. Masego)\nModern Slavery\nCrew (feat. Brent Faiyaz & Shy Glizzy)\nA Muse\nThe Show Goes On\nNo More Parties In LA\nUntil I Bleed Out\nDeeper\nThe Art of Peer Pressure\nSave Your Tears\nPapi Chulo\nBlack Qualls\nFunny Thing\nOverseas\nWindow\nBeen Away\nGold Plated\nNightrider\nSunny Afternoon\nConfessions\nAfter Hours\nN Side\nShimmy\nThe Need to Know (feat. SZA)\nTHE SCOTTS\nWorkin Out\nEuphoria (feat. Travis Scott & Kaash Paige)\nSlide\nSlide (Remix) (feat. Pop Smoke, A Boogie Wit da Hoodie & Chris Brown)\nSPLIT DECISION\nAround Me\nHair Down (feat. Kendrick Lamar)\nRun & Hide\nForfeit. (ft. Lucky Daye)\n'Flawless' Do It Well Pt. 3 (feat. Summer Walker)\nFriends (feat. PARTYNEXTDOOR)\nDangerous City (feat. Buju Banton)\nm.A.A.d city\nWhen Doves Cry\nBack To Black\nRoses - Imanbek Remix\nRoses\nSteady Mobbin\nI'm a Believer\nIf It's Lovin' That You Want\nYour Love (Déjà Vu)\nWicked Games\ndrugs\nSundress\nHigh Hopes\nWHAT TO DO? (feat. Don Toliver)\nShitsville\nTell Them (feat. Moses Sumney & Metro Boomin)\nOrdinary Life\nEscape From LA\nGive Life Back to Music\nStr8 Outta Mumbai\nLoud Places\nMissed You - Bonus Track\nNothing Compares - Bonus Track\nGOMF\nYessirskiii\nBetter\nWicked Games\nlovely (with Khalid)\n47.48\n32.22\n42.26\n12.38 (feat. 21 Savage, Ink & Kadhja Bonet)\n19.10\nTime (feat. Ariana Grande)\nAlgorhythm\nIn Your Eyes\nSnowchild\nToo Late\nRepeat After Me (Interlude)\nAlone Again\nFaith\nTell Them\nBe Honest (feat. Burna Boy)\nLinger\nZombie\nPeli Waar\nYo x Ti, Tu x Mi\nCon Altura\nOcean Drive\nMy Love (feat. T.I.)\nPray For Me (with Kendrick Lamar)\nCandy\nPrivilege\nCall Out My Name - A Cappella\nChak Glass\nMemphis\nCudi Zone\nDEVASTATED\nDiamonds\nEleven\nHold Tight\nDon't Look Down (feat. Usher)\nme & ur ghost\nDollar\nDog Days Are Over\nNo Sense\nUGH!\nAfter Hours\nCaribbean Queen (No More Love On the Run)\nTwisted Nerve\nDance Monkey\nGod is a woman\nLights On\ncoordinate\nSkinny Love\nHollyhood (feat. Kent Jamz)\nSay So\nLegend - Stripped\nReverse Faults\nOrigin Of Love\nLola\nMIA (feat. Drake)\nDeewani Mastani (From \"Bajirao Mastani\")\nValley of the Dolls\nI Say a Little Prayer\nLoco Contigo (with J. Balvin & Ozuna feat. Nicky Jam, Natti Natasha, Darell & Sech) - REMIX\nLUV\nTo D.R.E.A.M.\nDreams - 2004 Remaster\nIndecision\nRabiosa (feat. El Cata)\nFor You\nChantaje (feat. Maluma)\nWhenever, Wherever\nEmpire\nShe Wolf\nMe Gusta\nDon't Stop Me Now\nTainted\nGirl That You Love\nBabouche (feat. GoldLink)\nStreet Lights\nStreetcar\nMy Favorite Part\nThe Other Half (feat. St. Beauty & Mereba)\nbreak up with your girlfriend, i'm bored\nBang Bang\nWhere the Party At (feat. Nelly)\nWoods\nI Can See\nBelieve\nWhere Were You In The Morning? - Remix\nGood News\nFoolsong\nOrdinary Pleasure\nBelieve\nFlight 99\nRisk\nLava/Treacle\nBoum Boum Boum\nFlaming Hot Cheetos\nChun-Li\nControl\nBussdown (feat. Rich The Kid)\nWasted Times\nOnly 1 (Interlude) (with Travis Scott)\nCAN'T SAY\nHow Much A Dollar Cost\nHeartbeat\nLove In The Sky\nAll I Know\nSine Qua Non\nNowhere To Run\nVideo Girl\nBabylon (feat. Kendrick Lamar)\nSeigfried\n1942\nLA Devotee\nLooped Up (feat. VERNON)\nWaterboy\nHonesty\nBack Up (feat. Wiz Khalifa)\nGrind With Me\nHedwig's Theme\nSage\nBang Bang\nDiva\nORANGE SODA\nYummy\nHabit\nI Don't Know You\nFalling for U\nEarl Grey\nSituation\nOn Your Own\nPut On\nPiñata (feat. Domo Genesis, G-Wiz, Casey Veggies, Sulaiman, Meechy Darko, Mac Miller)\nBlasé (feat. Future & Rae Sremmurd)\nOUT WEST (feat. Young Thug)\nClout (feat. Cardi B)\nDeep Water\nClimax\nVillain (feat. Xodiak)\n3:16AM\nHanging On\nFace Again\nSplashin\nMy Type\nPussy\nNo Idea\nCan't Feel My Legs\nAlone\nNOIZE\nSituations\nMassage Seats\nGat Damn\nHerside Story\nTribe (with J. Cole)\nRedbone\nVossi Bop\nOne Second (feat. H.E.R.)\nCome Back to Earth\nCome Thru\nTonight (Best You Ever Had) (feat. Ludacris)\nSure Thing\nFormation\nBest Part (feat. H.E.R.)\nWhile We're Young\nhot girl bummer\nAdore You\nGolden\nRACE\nMr. Nice Watch\nMOJAITA\nTAlk tO Me (with Rich The Kid feat. Lil Wayne) - Remix\nParty Like A Rock Star\nCodeine Dreaming (feat. Lil Wayne)\nRNP (feat. Anderson .Paak)\nCrack Rock\nPractice\nInto The Red\nIncomplete Kisses\nWhat You Need\nWhite Ferrari\nA Star Is Born\nFree Lunch\nSing About Me, I'm Dying Of Thirst\nActing Like\nShea Butter Baby (with J. Cole)\nHoly Grail\nEmpire State Of Mind\nCrown\nF.U.T.W.\nTom Ford\nMurder To Excellence\nPicasso Baby\nGotta Have It\nNi**as In Paris\nPrimetime\nWelcome To The Jungle\nMade In America\nOceans\nWho Gon Stop Me\nF*ckwithmeyouknowigotit\nNo Church In The Wild\nRENDEZVOUS\nBoca Raton (with A$AP Ferg)\nSummertime Magic\nPrima Donna\nHeartless\nSomething About You\nLosers\nCutting Ties\nU Say (feat. Tyler, The Creator & Jay Prince)\nHalo\nElectric (feat. Khalid)\nCabaret (feat. Drake)\nAcquainted\nNobody Else but You\nStoney\nDoja Sweet (feat. A$AP Rocky & Bun B)\nG.O.A.T.\nFallin (feat. 6LACK)\nLoveeeeeee Song\nGuatemala - From Swaecation\nOverdue (with Travis Scott)\nDon't\nGirls Need Love (with Drake) - Remix\nConsideration\nWhy'd You Only Call Me When You're High?\nWelcome To Heartbreak\nExchange\nHome\nShe Will\nWhat's My Name?\nEx Calling\ncrash\nPrisoner\nMake It Right\nKites\nCleopatra\nNew Light\nSativa\nWhere's The Catch?\nCIGARETTES\nSay Something\nSigns\nBarefoot In The Park (feat. ROSALÍA)\nAfter The Storm (feat. Tyler, The Creator & Bootsy Collins)\nTity and Dolla (feat. Hugh Augustine & Jay Rock)\nblkswn\nCIVIL WAR - Bonus\nShea Butter Baby (with J. Cole)\nSOHO\nNew Choppa\n1999 WILDFIRE\nTints (feat. Kendrick Lamar)\nCrushed Up\nMidsummer Madness\nThe Sequence\n151 Rum\nRunnin (with A$AP Rocky, A$AP Ferg & Nicki Minaj)\nHow Many Drinks? (feat. Kendrick Lamar)\nRITMO (Bad Boys For Life)\nLoco Contigo (feat. J. Balvin & Tyga)\nForrest Gump\nBlinding Lights\nNightcrawler (feat. Swae Lee & Chief Keef)\nTreasure\nWoah\nTHE NEWS\nSunset (with J. Cole feat. Young Nudy)\nWhat Goes Around.../...Comes Around (Interlude)\nXO TOUR Llif3\nCandy Shop\nthank u, next\nI Heard It Through The Grapevine\nPoison\nGeorgia\nIn Da Club\nPlaying Games (with Bryson Tiller) - Extended Version\nDrag Me Down\ngoosebumps\nCaught Up (feat. Khalid)\nCome Thru (with Usher)\nI Want You Around\nWow Freestyle (feat. Kendrick Lamar)\nFRIENDS\nGorgeous\nRacks (feat. YBN Cordae)\nTake Care\nFell In Luv (feat. Bryson Tiller)\nwaves - Tame Impala Remix\nTouch & Go\n2 On (feat. ScHoolboy Q)\nStand By (#CWC19) (feat. Rudimental)\nBMO\nMirrors\nConfident\nJungle\nCould've Been (feat. Bryson Tiller)\nBest Part (feat. Daniel Caesar)\nTrippy (feat. J. Cole)\nHigh (feat. Danny Brown)\nReal Games\nMaula Mere Maula\nFreedom (feat. Kendrick Lamar)\nLove Me Harder\nBest Mistake\nSide To Side\nblazed (feat. Pharrell Williams)\nRollin (feat. Future & Khalid)\nCaught Up\nConfessions Part II\nKiwi\nWatermelon Sugar\nLights Up\nFeel No Ways\nLost In Japan\nLow (feat. T-Pain)\nCrazy In Love (feat. Jay-Z)\nDangerous (feat. Kid Cudi)\nErase Me - Main\nHouse Of Balloons / Glass Table Girls\nAll Of The Lights\nMaria I'm Drunk (feat. Justin Bieber & Young Thug)\nP.Y.T. (Pretty Young Thing)\nLoft Music\nU Say (feat. Tyler, The Creator & Jay Prince)\nSame Ol’ Mistakes\nROCKABYE BABY (feat. ScHoolboy Q)\nHurt You\nBillie Jean\nHigh For This\nMarvins Room\nLalala\nU Got It Bad\nBad Girl\nLove in This Club (feat. Young Jeezy)\nATA\nGot Friends\nSome Girl (feat. Steve Lacy)\nMy Love (feat. Drake)\nRight My Wrongs\nAfraid\nHeartbreaker\nFlatline\nSwap It Out\nLemon\nJump (feat. Gizzle)\nPrograms\nA Lonely Night\nI Feel It Coming\nSecrets\nsweetener\nWake Up in the Sky\nTake It Off\nBurnin' Up\nSexyBack (feat. Timbaland)\nHouse Of Balloons / Glass Table Girls\nNew God Flow.1\nCold.1\nSecrets (feat. the Weeknd)\nI Wonder\nDance, Dance\nWhat a Feeling\nI'm The Plug\nGilligan\nDomo23\nGlitter\nOKRA\nPotato Salad\nFather Stretch My Hands Pt. 1\nFML\nStay With Me\nBottoms Up (feat. Nicki Minaj)\nEverything (feat. John Legend)\nLost Ones\nIn My Room\nAll That Matters\nGrooveline Pt. 2\nEasy\nDrove U Crazy (feat. Bryson Tiller)\nSativa\nWaiting\nGet to You Again\nBiking\nHot (Remix) [feat. Gunna and Travis Scott]\nSwap It Out\nOh Okay (feat. Young Thug & Lil Baby)\nA-Team\nMamacita (feat. Rich Homie Quan & Young Thug)\nEnter Galactic (Love Connection Part I)\nPastime Paradise\nGangsta's Paradise\nMy Boy (feat. J. Cole) - Freestyle\nDiamonds From Sierra Leone - Remix\nI Got 5 On It\nShe Knows (feat. Amber Coffman & Cults)\nPound Cake / Paris Morton Music 2\nBitch, Don’t Kill My Vibe\nMy Name Is\nI Got The... - 2006 Remaster\nFamous\nBam Bam\nNice For What\nEx-Factor\nMystery of Iniquity - Live\nAll Falls Down\nDrunk On Love\nA$AP Forever REMIX (feat. Moby, T.I. & Kid Cudi)\nCrazi\nSky Walker (feat. Travis Scott)\nDie For You\nAlmeda\nRansom\nShot Clock\nOTW\nGone [Feat. YBN Cordae, Bilal, Herbie Hancock]\nThank You\nSophie\nUnder\nMotiv8\nJump Around\n48\nYonkers\nWhatcha Say\nBurnin' Up\nGOLD\nPretty Boy Swag\nHungry Hippo\nWe Alright\nEx-Factor\nSin City\nPuppets (Succession Remix)\nEverything We Need\nClosed On Sunday\nFollow God\nUproar\nStay Fly (feat. Young Buck, Eightball & MJG)\nI Used to Love Him (feat. Mary J. Blige)\nDoo Wop (That Thing)\nKids See Ghosts\nFeel The Love\nFire\nPower On\nI'll Come Too\nWhere's The Catch? (feat. André 3000)\nBarefoot In The Park (feat. ROSALÍA)\nMile High (feat. Travis Scott & Metro Boomin)\nAssume Form\nI Wonder\nHigher\nGrove St. Party (feat. Kebo Gotti)\nFlashing Lights\nAPESHIT\n4th Dimension\nLean 4 Real (feat. Skepta)\nDHL\nCAROUSEL\nDream On\nTa fête\nSavage Mode\nFeel\nHit This Hard\nWhite Iverson\nCold\nTake What You Want (feat. Ozzy Osbourne & Travis Scott)\n100it Racks\nRemember Me\noui\nFluorescent Adolescent\nKnee Socks\nNo. 1 Party Anthem\nOne For The Road\nR U Mine?\nLights Up\nLove... (Her Fault) [feat. Bryson Tiller]\nRussian Roulette\nWhat Goes Around.../...Comes Around (Interlude)\nTunnel Vision\nStrawberry Bubblegum\nVacation (feat. Joey Bada$$)\nLEGENDARY (feat. J. Cole)\nSunday (feat. Frank Ocean)\nWildfire (feat. Frank Ocean)\nNeeded Me\nOpen Safe\nMona Lisa (feat. Kendrick Lamar)\nFamous (feat. Reginae Carter)\nBachelor (feat. A$AP Rocky, Lil Yachty, MadeinTYO & Offset)\nHoliday Inn\nDon't Hold the Wall\nDangerous World (feat. Travis Scott & YG)\n7/11\nCome Get Her\nI Like It\nPartition\nLos Ageless\nPlease Shut Up (feat. A$AP Rocky, KEY! & Gucci Mane)\nDouble Up (feat. Belly and Dom Kennedy)\nExcuse Me\nKeisha's Song (Her Pain)\nUltralight Beam\nOver (feat. 6LACK)\nFloating (feat. 21 Savage)\nRude Boy\nMissed Calls\nColdest Winter\nDirty Diana - 2012 Remaster\nPROM / KING\nCry Me a River\nCall Out My Name\nBad Bad News\nSweet Life\nDrunk (feat. 6LACK)\nTadow\nToo Much\nWoo\nSuperpower (feat. Frank Ocean)\nFlat Tummy Tea\nJoyride\nBASQUIAT\nIvy\ni\nThe Blacker The Berry\nu\nThese Walls\nWesley's Theory\nPothole (feat. Jaden Smith)\nWow.\nGoodbyes (feat. Young Thug)\nDie For Me (feat. Future & Halsey)\nHollywood's Bleeding\nTears In The Rain\nRide Wit Me\nBeautiful Girls\nNC-17\nMy Boo\nGet Low\nStay Fly (feat. Young Buck, Eightball & MJG)\nGo DJ\nThe Way I Are\nGoing Bad (feat. Drake)\nStart A Party\nRAF (feat. A$AP Rocky, Playboi Carti, Quavo, Lil Uzi Vert & Frank Ocean)\nWork REMIX (feat. A$AP Rocky, French Montana, Trinidad James & ScHoolboy Q)\nHands on the Wheel (feat. Asap Rocky)\nI Ain't Got Time!\nThe Birds Pt. 1\nholy terrain\nVerify (feat. Young Thug, Gunna)\nRehab (Winter In Paris)\nRUNNING OUT OF TIME\nYamborghini High (feat. Juicy J)\nCoziest (feat. A$AP Twelvyy & Zack)\nWhat Happens (feat. A$AP Rocky, A$AP Ferg, Joey Bada$$, Kirk Knight, Nyck Caution, Meechy Darko & Zombie Juice)\nuntitled 08 | 09.06.2014.\nuntitled 02 | 06.23.2014.\nuntitled 07 | 2014 - 2016\nZulu Screams (feat. Maleek Berry & Bibi Bourelly)\nFukk Sleep (feat. FKA twigs)\nBad Boys\nBring Da Ruckus\nProtect Ya Neck\nNo New Friends - SFTB Remix\nTelephone\nMonster\nWus Good / Curious\nWaves\nXO / The Host\nLesbian (feat. Gunna & Young Thug)\nChampion\nKid Charlemagne\nFYBR (First Year Being Rich) (feat. A$AP Twelvyy, A$AP Rocky, A$AP Ant, A$AP Ferg, KEY! & Playboi Carti)\nShabba (feat. A$AP Rocky)\nDrunk in Love (feat. Jay-Z)\nBLEACH\nF**kin' Problems (feat. Drake, 2 Chainz & Kendrick Lamar)\n6 Inch (feat. The Weeknd)\nYeah! (feat. Lil Jon & Ludacris)\nDrip Too Hard\nMan Of The Year\nKing's Dead (with Kendrick Lamar, Future & James Blake)\nThrow Sum Mo\nDJ Got Us Fallin' In Love\nMi Gente (feat. Beyoncé)\nLove Galore (feat. Travis Scott)\nJyotiana\nMenu Ki Ah\nSOS\nHair Down (feat. Kendrick Lamar)\nAngel\nPromises (with Sam Smith)\nDancing With A Stranger (with Normani)\nFreeee (Ghost Town Pt. 2)\nWish Wish (feat. Cardi B & 21 Savage)\nSex With Me\nSame Ol’ Mistakes\nYeah, I Said It\nDesperado\nSTARGAZING\nbeibs in the trap\nLost in the Fire (feat. The Weeknd)\nR.I.P. Fredo (feat. Young Nudy) - Notice Me\nStronger\nGasolina\nT-Shirt\nNo Scrubs\nHips Don't Lie (feat. Wyclef Jean)\nHeadlines\nHYFR (Hell Ya Fucking Right)\nLollipop\nPurity (feat. Frank Ocean)\nNikes\nRENTAL\nGreaze Mode\nR.I.P.\nI BEEN BORN AGAIN\nIF YOU PRAY RIGHT\nTake What You Want (feat. Ozzy Osbourne & Travis Scott)\nF**kin' Problems (feat. Drake, 2 Chainz & Kendrick Lamar)\nMask Off (feat. Kendrick Lamar) - Remix\nKing's Dead (with Kendrick Lamar, Future & James Blake)\nCollard Greens\nHUMBLE.\nNever Catch Me\nPoetic Justice\nLOVE. FEAT. ZACARI.\nFEAR.\nLOYALTY. FEAT. RIHANNA.\nDedication (feat. Kendrick Lamar)\ni\nPink + White\n911 / Mr. Lonely (feat. Frank Ocean & Steve Lacy)\nGhost - Remix\nUnder The Sun (with J. Cole & Lute feat. DaBaby)\nI BEEN BORN AGAIN\nMake It Work\nNumb Numb Juice\nRoll Some Mo\nLet Em' Know\nBlowing Smoke\nAntisocial (with Travis Scott)\nBroke As Fuck\nBabushka Boi\nCosta Rica (with Bas & JID feat. Guapdad 4000, Reese LAFLARE, Jace, Mez, Smokepurpp, Buddy & Ski Mask The Slump God)\nKing Kunta\nSwimming Pools (Drank) - Extended Version\nMoney Trees\nForbidden Fruit (feat. Kendrick Lamar)\nDUCKWORTH.\nRigamortus\nXXX. FEAT. U2.\nPon de Replay\nOnly Girl (In The World)\nWhat's My Name?\nWhere Have You Been\nBitch Better Have My Money\nBiking (Solo)\nMight Not\nPrice On My Head (feat. The Weeknd)\nwonderful\nIn Vein\nPray 4 Love (feat. The Weeknd)\nCrew Love\nOne of Those Nights (feat. The Weeknd)\nRemember You (feat. The Weeknd)\nWasted Times\nCall Out My Name\nWanderlust - Pharrell Remix\nPretty\nLive For\nBelong To The World\nProfessional\nDark Times\nIn The Night\nTell Your Friends\nOften\nSix Feet Under\nThe London (feat. J. Cole & Travis Scott)\nChampion (feat. Travis Scott)\nUnFazed (feat. The Weeknd)\nLet It Fly (feat. Travis Scott)\nDon't Quit (feat. Travis Scott & Jeremih)\nI Was Never There\nDesperado\nKiss It Better\nDisturbia\nShut Up And Drive\nDon't Stop The Music\nLove On The Brain\nUmbrella\nAll Eyez (feat. Jeremih)\nChase The Money\nBOY BYE\nST. PERCY\nSUGAR\nNO HALO\nJet Lag\nPeach\nSoulflower\nSuperpowers (with GoldLink)\nMalibu Sleep\nPop Out Again (feat. Lil Baby & Gunna)\nMannequin Challenge (feat. Juice WRLD)\nSup Mate (feat. Future)\nEcstasy (feat. Machine Gun Kelly)\nTalk Shit Like a Preacher\nFeed Me Dope\nGoner\nDreamin (with blackbear)\n100 Racks (Offset feat. Playboi Carti)\nOn My Own\nUnder The Pressure\nBeam (feat. Playboi Carti)\nWat's Wrong (feat. Zacari & Kendrick Lamar)\nS&M\nShameless\nDisturbia\nMr. Brightside\nMake a Mil\nRelax with Me\nHurt Feelings\nThat's What I Like\n100 Degrees\nHot (feat. Gunna)\nChanel\nNaina\nLate Night\nBoredom (feat. Rex Orange County & Anna of the North)\nDay 'N' Nite (nightmare)\nShotta (feat. Megan Thee Stallion)\n3 Nights\nPeso\nStronger\n8702\nFloyd Mayweather (feat. Travis Scott, Gucci Mane and Gunna)\nToast 2 That (feat. Freddie Gibbs)\nSoHo Freestyle\nSee You Again (feat. Kali Uchis)\nNEW MAGIC WAND\nI THINK\nLost\nThinkin Bout You\nAll The Stars (with SZA)\nWow Freestyle (feat. Kendrick Lamar)\nKeanu Reeves\nStudio Ground Rules\nBible\nPanini\nWhere This Flower Blooms (feat. Frank Ocean)\nLVL\nHiiiPower\nLying Is the Most Fun a Girl Can Have Without Taking Her Clothes Off\nNicotine\nThis Is Gospel\nDying in LA\nSay Amen (Saturday Night)\nI Write Sins Not Tragedies\nHey Look Ma, I Made It\nMiss Jackson (feat. LOLO)\nCastaway\nI Hear Them Calling (feat. Kid Cudi)\nREVOFEV\nSecond Wind\nLiving Like I Do\nProblemz (feat. Erick The Architect, CJ Fly, The Underachievers, Zombie Juice & Nyck Caution)\nBroke (feat. JID)\nSolo (Reprise)\nGHOST!\nMarijuana\nJust What I Am\nNo Vest\nthrough the late night\nThe Man\nWritten in the Stars (feat. Eric Turner)\nDNA.\nWIN\nASTROTHUNDER\nSKELETONS\nSurfin'\nFrequency\nBy Design\nPursuit Of Happiness (Nightmare)\nDay 'N' Nite (nightmare)\nLose Yourself - From \"8 Mile\" Soundtrack\nAlright\nHalf Manne Half Cocaine\nCataracts\nFake Names\nGiannis (feat. Anderson .Paak)\nSidewalks\nKiss Land\nGifted\nWeekend (feat. Miguel)\nSelf Care\nThuggin’\nBig Rings\nLow Life (feat. The Weeknd)\nWHAT'S GOOD\nEARFQUAKE\nI Feel It Coming\nParty Monster\nThe Hills\nStarboy\nNothing Without You\nDie For You\nHurt You\nThe Party & The After Party\nKill 'Em With Success (with Eearz, ScHoolboy Q & 2 Chainz)\nChewing Gum\nProvider\nThe Morning\nHold On\nPlastic 100°C\nRoll Some Mo\nLove$ick\nSaint Pablo\nAs You Are\nViva La Vida\nTalk 2 U\nSame Old Song\nStay Flo\nTEMPTATION\nMortal Kombat\nHero\nWhite Sand\nDon't Choose\nRunaway\nUnder Ground Kings\nWhat You Need\nGo Legend (& Metro Boomin)\nPhotosynthesis\nMr. Rager\nCurve (feat. The Weeknd)\nReminder\nBackseat Freestyle\nSlide (feat. Frank Ocean & Migos)\nHate Me (with Juice WRLD)\nImpossible\nSweet Life\nSoundtrack 2 My Life\nStay\nDesperado\nHymn for the Weekend\nCrime Pays\nBaptized In Fire\nLocation\nWaves\nA.D.H.D\n03' Adolescence\nPhoenix\nCompton\nParanoid\nFRONTAL LOBE MUZIK\nThe Ways (with Swae Lee)\nOldie\nReborn\nStay\nGet The Bag (feat. A$AP Rocky, A$AP Ferg, A$AP Ant, A$AP Nast, A$AP TyY, Playboi Carti & Smooky MarGielaa)\nFeels So Good (feat. A$AP Ferg, A$AP Nast, A$AP Rocky & A$AP Twelvyy)\nTelephone Calls (feat. A$AP Rocky, Tyler, The Creator, Playboi Carti & Yung Gleesh)\nLondon Town (feat. A$AP Rocky, A$AP Ant & Playboi Carti)\nMoney Man (feat. A$AP Rocky, A$AP Nast & Yung Lord)\nCrazy Brazy (feat. A$AP Rocky, A$AP Twelvyy & Key!)\nFrat Rules (feat. A$AP Rocky, Playboi Carti & Big Sean)\nWalk On Water (feat. A$AP Twelvyy, A$AP Ant, A$AP Nast, A$AP Ferg & Playboi Carti)\nThe London (feat. J. Cole & Travis Scott)\nMIDDLE CHILD\nNew Level REMIX (feat. Future, A$AP Rocky & Lil Uzi Vert)\nDNA.\nCanceled\nMultiply (feat. Juicy J)\nL$D\nSTOP TRYING TO BE GOD\nTell Them (feat. Moses Sumney & Metro Boomin)\nRetrograde\nLife Round Here\nYeah, I Said It\nMile High (feat. Travis Scott & Metro Boomin)\nImpatient\nThe Weekend\nCould've Been (feat. Bryson Tiller)\nSolo\nThink About Me\nGang Over Luv\nLUST.\nLove Galore\nPink Matter\nNights\nBad Religion\nTry Me\nLosin Control\nLearn Ya\nRodeo\nNuh Time / Tek Time\nX (feat. Future)\nOG Beeper\nFind U Again (feat. Camila Cabello)\nCoast/Clear (feat. Kirk Knight, Nyck Caution & Issa Gold)\nShoota (feat. Lil Uzi Vert)\nLOST (feat. Kid Cudi)\nLyrics\nOld Town Road (feat. Billy Ray Cyrus) - Remix\nMine (feat. Drake)\nNi**as In Paris\nEveryday (feat. Rod Stewart, Miguel & Mark Ronson)\nELEMENT.\nFree\nDreamcatcher (feat. Swae Lee & Travis Scott)\nSAD!\nTime Stops\nIII. Telegraph Ave. (\"Oakland\" by Lloyd)\nChanel (feat. Swae Lee & Pharrell) - From Jxmtro\nuntitled 07 | levitate\nKiss It Better\nRooftop Party\nHome\nLike Someone In Love\nIncandescent\nTin Foil Hats\nMan of the Woods\nHigher Higher\nSupplies\nHers (interlude)\nUp\nSome Way\nUnforgettable\nRun Me Dry\nFeelin\nThe Thin Ice\nBring the Boys Back Home\nEternal Return: Eternity\nThe Party & The After Party\nComing Down\nTwenty Eight\nLonely Star\nThe Birds Pt. 1\nGone\nRolling Stone\nHeaven Or Las Vegas\nOutside\nXO / The Host\nInitiation\nThe Fall\nHigh For This\nWicked Games\nLoft Music\nThe Knowing\nLife Of The Party\nThursday\nThe Zone\nThe Birds Pt. 2\nValerie\nD.D.\nMontreal\nNext\nEchoes Of Silence\nTill Dawn (Here Comes The Sun)\nR U Mine?\nKiss Me Thru The Phone\nChale Chalo (From \"Lagaan\")\n\n10 Bands\n\nUllathu Chonnaal\nJimmy Choo\nLet's Get Lost (feat. Devon Baldwin)\nImmortals\nUma Thurman\nIrresistible\nJet Pack Blues\nFourth Of July\nFlames\nSummer Sixteen\nNine in the Afternoon - Single Mix\nThe Ballad of Mona Lisa\nHallelujah\nDon't Threaten Me with a Good Time\nVictorious\nEmperor's New Clothes\nDeath of a Bachelor\nTill I Die\nC.R.E.A.M.\nWhite Iverson\nSwim Good\nPyramids\nNovacane\n100 (feat. Drake)\nI Know\nReal Life\nLosers\nTell Your Friends\nOften\nThe Hills\nAcquainted\nCan't Feel My Face\nShameless\nEarned It (Fifty Shades Of Grey)\nIn The Night\nAs You Are\nDark Times\nPrisoner\nAngel\nBoyz-N-The-Hood - Remix\nThe Language\nA Tale of 2 Citiez\nRight Hand\nHotline Bling\nAbout You\nIn The Air Tonight\nBohemian Rhapsody - Remastered 2011\nHotel California - 2013 Remaster\nBack To Back\nSame Old Song\nStill D.R.E.\nForgot About Dre\nOdd Look\nNah Mean\nMe And My Broken Heart\nCoffee (F***ing) (feat. Wale)\nCan't Feel My Face\nCanal St. (feat. Bones)\nLord Pretty Flacko Jodye 2 (LPFJ2)\nM'$ (feat. Lil Wayne)\nElectric Body (feat. ScHoolboy Q)\nThe Famm\nFormidable\ntous les mêmes\nAlors On Danse\nPapaoutai\nThe Hills\nEnergy\nKnow Yourself\nNo Tellin'\nUsed To\n6 Man\nCompany\nJungle\nHeadlines\nFurthest Thing\nWorst Behavior\nLive For\nWanderlust\nPretty\nThe Town\nWet Dreamz\nG.O.M.D.\nNo Role Modelz\nGang Related\nBuried Alive\nBounce\nUnder Pressure\n"
     ]
    }
   ],
   "source": [
    "#getting the user's saved tracks \n",
    "\n",
    "results = sp.current_user_saved_tracks()\n",
    "tracks = results['items']\n",
    "while results['next']:\n",
    "    results = sp.next(results)\n",
    "    tracks.extend(results['items'])\n",
    "\n",
    "#printing out all the saved tracks in the user's library \n",
    "for track in tracks:\n",
    "    print(track['track']['name'])"
   ]
  },
  {
   "cell_type": "code",
   "execution_count": 5,
   "metadata": {},
   "outputs": [
    {
     "output_type": "execute_result",
     "data": {
      "text/plain": [
       "               danceability  energy  key  loudness  mode  speechiness  \\\n",
       "Entrégala             0.919   0.672   10    -3.404     0       0.1310   \n",
       "Pretty Please         0.906   0.474    1    -6.124     1       0.1940   \n",
       "LA CANCIÓN            0.754   0.646    7    -5.795     1       0.3170   \n",
       "Professional          0.405   0.619   11    -8.920     0       0.0615   \n",
       "Adaptation            0.642   0.790   11    -6.800     0       0.0681   \n",
       "\n",
       "               acousticness  instrumentalness  liveness  valence    tempo  \\\n",
       "Entrégala            0.0637          0.014400    0.0597    0.425  117.002   \n",
       "Pretty Please        0.0311          0.000005    0.2860    0.656  106.976   \n",
       "LA CANCIÓN           0.1520          0.000018    0.1080    0.429  176.089   \n",
       "Professional         0.1620          0.000334    0.0788    0.234  120.092   \n",
       "Adaptation           0.1510          0.000583    0.3050    0.613  114.960   \n",
       "\n",
       "                         type                      id  \\\n",
       "Entrégala      audio_features  46lZpwebFWgqad5CX1iv6r   \n",
       "Pretty Please  audio_features  5Pc594FhDA2Fa2prE75GT0   \n",
       "LA CANCIÓN     audio_features  0fea68AdmYNygeTGI4RC18   \n",
       "Professional   audio_features  5ZicFGBDAi9J2YCVesboUp   \n",
       "Adaptation     audio_features  4pHQ9RYFhn3W0ha5KEuMnj   \n",
       "\n",
       "                                                uri  \\\n",
       "Entrégala      spotify:track:46lZpwebFWgqad5CX1iv6r   \n",
       "Pretty Please  spotify:track:5Pc594FhDA2Fa2prE75GT0   \n",
       "LA CANCIÓN     spotify:track:0fea68AdmYNygeTGI4RC18   \n",
       "Professional   spotify:track:5ZicFGBDAi9J2YCVesboUp   \n",
       "Adaptation     spotify:track:4pHQ9RYFhn3W0ha5KEuMnj   \n",
       "\n",
       "                                                      track_href  \\\n",
       "Entrégala      https://api.spotify.com/v1/tracks/46lZpwebFWgq...   \n",
       "Pretty Please  https://api.spotify.com/v1/tracks/5Pc594FhDA2F...   \n",
       "LA CANCIÓN     https://api.spotify.com/v1/tracks/0fea68AdmYNy...   \n",
       "Professional   https://api.spotify.com/v1/tracks/5ZicFGBDAi9J...   \n",
       "Adaptation     https://api.spotify.com/v1/tracks/4pHQ9RYFhn3W...   \n",
       "\n",
       "                                                    analysis_url  duration_ms  \\\n",
       "Entrégala      https://api.spotify.com/v1/audio-analysis/46lZ...       158040   \n",
       "Pretty Please  https://api.spotify.com/v1/audio-analysis/5Pc5...       194607   \n",
       "LA CANCIÓN     https://api.spotify.com/v1/audio-analysis/0fea...       242573   \n",
       "Professional   https://api.spotify.com/v1/audio-analysis/5Zic...       368720   \n",
       "Adaptation     https://api.spotify.com/v1/audio-analysis/4pHQ...       283933   \n",
       "\n",
       "               time_signature  \n",
       "Entrégala                   4  \n",
       "Pretty Please               4  \n",
       "LA CANCIÓN                  4  \n",
       "Professional                4  \n",
       "Adaptation                  4  "
      ],
      "text/html": "<div>\n<style scoped>\n    .dataframe tbody tr th:only-of-type {\n        vertical-align: middle;\n    }\n\n    .dataframe tbody tr th {\n        vertical-align: top;\n    }\n\n    .dataframe thead th {\n        text-align: right;\n    }\n</style>\n<table border=\"1\" class=\"dataframe\">\n  <thead>\n    <tr style=\"text-align: right;\">\n      <th></th>\n      <th>danceability</th>\n      <th>energy</th>\n      <th>key</th>\n      <th>loudness</th>\n      <th>mode</th>\n      <th>speechiness</th>\n      <th>acousticness</th>\n      <th>instrumentalness</th>\n      <th>liveness</th>\n      <th>valence</th>\n      <th>tempo</th>\n      <th>type</th>\n      <th>id</th>\n      <th>uri</th>\n      <th>track_href</th>\n      <th>analysis_url</th>\n      <th>duration_ms</th>\n      <th>time_signature</th>\n    </tr>\n  </thead>\n  <tbody>\n    <tr>\n      <th>Entrégala</th>\n      <td>0.919</td>\n      <td>0.672</td>\n      <td>10</td>\n      <td>-3.404</td>\n      <td>0</td>\n      <td>0.1310</td>\n      <td>0.0637</td>\n      <td>0.014400</td>\n      <td>0.0597</td>\n      <td>0.425</td>\n      <td>117.002</td>\n      <td>audio_features</td>\n      <td>46lZpwebFWgqad5CX1iv6r</td>\n      <td>spotify:track:46lZpwebFWgqad5CX1iv6r</td>\n      <td>https://api.spotify.com/v1/tracks/46lZpwebFWgq...</td>\n      <td>https://api.spotify.com/v1/audio-analysis/46lZ...</td>\n      <td>158040</td>\n      <td>4</td>\n    </tr>\n    <tr>\n      <th>Pretty Please</th>\n      <td>0.906</td>\n      <td>0.474</td>\n      <td>1</td>\n      <td>-6.124</td>\n      <td>1</td>\n      <td>0.1940</td>\n      <td>0.0311</td>\n      <td>0.000005</td>\n      <td>0.2860</td>\n      <td>0.656</td>\n      <td>106.976</td>\n      <td>audio_features</td>\n      <td>5Pc594FhDA2Fa2prE75GT0</td>\n      <td>spotify:track:5Pc594FhDA2Fa2prE75GT0</td>\n      <td>https://api.spotify.com/v1/tracks/5Pc594FhDA2F...</td>\n      <td>https://api.spotify.com/v1/audio-analysis/5Pc5...</td>\n      <td>194607</td>\n      <td>4</td>\n    </tr>\n    <tr>\n      <th>LA CANCIÓN</th>\n      <td>0.754</td>\n      <td>0.646</td>\n      <td>7</td>\n      <td>-5.795</td>\n      <td>1</td>\n      <td>0.3170</td>\n      <td>0.1520</td>\n      <td>0.000018</td>\n      <td>0.1080</td>\n      <td>0.429</td>\n      <td>176.089</td>\n      <td>audio_features</td>\n      <td>0fea68AdmYNygeTGI4RC18</td>\n      <td>spotify:track:0fea68AdmYNygeTGI4RC18</td>\n      <td>https://api.spotify.com/v1/tracks/0fea68AdmYNy...</td>\n      <td>https://api.spotify.com/v1/audio-analysis/0fea...</td>\n      <td>242573</td>\n      <td>4</td>\n    </tr>\n    <tr>\n      <th>Professional</th>\n      <td>0.405</td>\n      <td>0.619</td>\n      <td>11</td>\n      <td>-8.920</td>\n      <td>0</td>\n      <td>0.0615</td>\n      <td>0.1620</td>\n      <td>0.000334</td>\n      <td>0.0788</td>\n      <td>0.234</td>\n      <td>120.092</td>\n      <td>audio_features</td>\n      <td>5ZicFGBDAi9J2YCVesboUp</td>\n      <td>spotify:track:5ZicFGBDAi9J2YCVesboUp</td>\n      <td>https://api.spotify.com/v1/tracks/5ZicFGBDAi9J...</td>\n      <td>https://api.spotify.com/v1/audio-analysis/5Zic...</td>\n      <td>368720</td>\n      <td>4</td>\n    </tr>\n    <tr>\n      <th>Adaptation</th>\n      <td>0.642</td>\n      <td>0.790</td>\n      <td>11</td>\n      <td>-6.800</td>\n      <td>0</td>\n      <td>0.0681</td>\n      <td>0.1510</td>\n      <td>0.000583</td>\n      <td>0.3050</td>\n      <td>0.613</td>\n      <td>114.960</td>\n      <td>audio_features</td>\n      <td>4pHQ9RYFhn3W0ha5KEuMnj</td>\n      <td>spotify:track:4pHQ9RYFhn3W0ha5KEuMnj</td>\n      <td>https://api.spotify.com/v1/tracks/4pHQ9RYFhn3W...</td>\n      <td>https://api.spotify.com/v1/audio-analysis/4pHQ...</td>\n      <td>283933</td>\n      <td>4</td>\n    </tr>\n  </tbody>\n</table>\n</div>"
     },
     "metadata": {},
     "execution_count": 5
    }
   ],
   "source": [
    "#creating a DF of all songs and features\n",
    "import pandas as pd\n",
    "\n",
    "track_ids = []\n",
    "track_names = []\n",
    "track_added_time = []\n",
    "track_main_artists = []\n",
    "\n",
    "for i in range(0, len(tracks)):\n",
    "    #Removes the local tracks in your playlist if there is any\n",
    "    if tracks[i]['track']['id'] != None: \n",
    "        track_ids.append(tracks[i]['track']['id'])\n",
    "        track_names.append(tracks[i]['track']['name'])\n",
    "        track_added_time.append(tracks[i]['added_at'])\n",
    "        track_main_artists.append(tracks[i]['track']['artists'][0]['id'])\n",
    "\n",
    "features = []\n",
    "for i in range(0,len(track_ids)):\n",
    "    audio_features = sp.audio_features(track_ids[i])\n",
    "    for track in audio_features:\n",
    "        features.append(track)\n",
    "        \n",
    "playlist_df = pd.DataFrame(features, index = track_names)\n",
    "\n",
    "playlist_df.head()"
   ]
  },
  {
   "cell_type": "code",
   "execution_count": 6,
   "metadata": {},
   "outputs": [
    {
     "output_type": "stream",
     "name": "stderr",
     "text": [
      "<ipython-input-6-36a71a04994c>:8: SettingWithCopyWarning: \nA value is trying to be set on a copy of a slice from a DataFrame.\nTry using .loc[row_indexer,col_indexer] = value instead\n\nSee the caveats in the documentation: https://pandas.pydata.org/pandas-docs/stable/user_guide/indexing.html#returning-a-view-versus-a-copy\n  tracks_df['artist_id'] = track_main_artists\n"
     ]
    },
    {
     "output_type": "execute_result",
     "data": {
      "text/plain": [
       "                                   id  acousticness  danceability  \\\n",
       "Entrégala      46lZpwebFWgqad5CX1iv6r        0.0637         0.919   \n",
       "Pretty Please  5Pc594FhDA2Fa2prE75GT0        0.0311         0.906   \n",
       "LA CANCIÓN     0fea68AdmYNygeTGI4RC18        0.1520         0.754   \n",
       "Professional   5ZicFGBDAi9J2YCVesboUp        0.1620         0.405   \n",
       "Adaptation     4pHQ9RYFhn3W0ha5KEuMnj        0.1510         0.642   \n",
       "\n",
       "               duration_ms  energy  instrumentalness  key  liveness  loudness  \\\n",
       "Entrégala           158040   0.672          0.014400   10    0.0597    -3.404   \n",
       "Pretty Please       194607   0.474          0.000005    1    0.2860    -6.124   \n",
       "LA CANCIÓN          242573   0.646          0.000018    7    0.1080    -5.795   \n",
       "Professional        368720   0.619          0.000334   11    0.0788    -8.920   \n",
       "Adaptation          283933   0.790          0.000583   11    0.3050    -6.800   \n",
       "\n",
       "               mode  speechiness    tempo  valence  \\\n",
       "Entrégala         0       0.1310  117.002    0.425   \n",
       "Pretty Please     1       0.1940  106.976    0.656   \n",
       "LA CANCIÓN        1       0.3170  176.089    0.429   \n",
       "Professional      0       0.0615  120.092    0.234   \n",
       "Adaptation        0       0.0681  114.960    0.613   \n",
       "\n",
       "                                                uri               artist_id  \n",
       "Entrégala      spotify:track:46lZpwebFWgqad5CX1iv6r  3FRVhQjAe73b3Et1XsOCnF  \n",
       "Pretty Please  spotify:track:5Pc594FhDA2Fa2prE75GT0  6M2wZ9GZgrQXHCFfjv46we  \n",
       "LA CANCIÓN     spotify:track:0fea68AdmYNygeTGI4RC18  1vyhD5VmyZ7KMfW5gqLgo5  \n",
       "Professional   spotify:track:5ZicFGBDAi9J2YCVesboUp  1Xyo4u8uXC1ZmMpatF05PJ  \n",
       "Adaptation     spotify:track:4pHQ9RYFhn3W0ha5KEuMnj  1Xyo4u8uXC1ZmMpatF05PJ  "
      ],
      "text/html": "<div>\n<style scoped>\n    .dataframe tbody tr th:only-of-type {\n        vertical-align: middle;\n    }\n\n    .dataframe tbody tr th {\n        vertical-align: top;\n    }\n\n    .dataframe thead th {\n        text-align: right;\n    }\n</style>\n<table border=\"1\" class=\"dataframe\">\n  <thead>\n    <tr style=\"text-align: right;\">\n      <th></th>\n      <th>id</th>\n      <th>acousticness</th>\n      <th>danceability</th>\n      <th>duration_ms</th>\n      <th>energy</th>\n      <th>instrumentalness</th>\n      <th>key</th>\n      <th>liveness</th>\n      <th>loudness</th>\n      <th>mode</th>\n      <th>speechiness</th>\n      <th>tempo</th>\n      <th>valence</th>\n      <th>uri</th>\n      <th>artist_id</th>\n    </tr>\n  </thead>\n  <tbody>\n    <tr>\n      <th>Entrégala</th>\n      <td>46lZpwebFWgqad5CX1iv6r</td>\n      <td>0.0637</td>\n      <td>0.919</td>\n      <td>158040</td>\n      <td>0.672</td>\n      <td>0.014400</td>\n      <td>10</td>\n      <td>0.0597</td>\n      <td>-3.404</td>\n      <td>0</td>\n      <td>0.1310</td>\n      <td>117.002</td>\n      <td>0.425</td>\n      <td>spotify:track:46lZpwebFWgqad5CX1iv6r</td>\n      <td>3FRVhQjAe73b3Et1XsOCnF</td>\n    </tr>\n    <tr>\n      <th>Pretty Please</th>\n      <td>5Pc594FhDA2Fa2prE75GT0</td>\n      <td>0.0311</td>\n      <td>0.906</td>\n      <td>194607</td>\n      <td>0.474</td>\n      <td>0.000005</td>\n      <td>1</td>\n      <td>0.2860</td>\n      <td>-6.124</td>\n      <td>1</td>\n      <td>0.1940</td>\n      <td>106.976</td>\n      <td>0.656</td>\n      <td>spotify:track:5Pc594FhDA2Fa2prE75GT0</td>\n      <td>6M2wZ9GZgrQXHCFfjv46we</td>\n    </tr>\n    <tr>\n      <th>LA CANCIÓN</th>\n      <td>0fea68AdmYNygeTGI4RC18</td>\n      <td>0.1520</td>\n      <td>0.754</td>\n      <td>242573</td>\n      <td>0.646</td>\n      <td>0.000018</td>\n      <td>7</td>\n      <td>0.1080</td>\n      <td>-5.795</td>\n      <td>1</td>\n      <td>0.3170</td>\n      <td>176.089</td>\n      <td>0.429</td>\n      <td>spotify:track:0fea68AdmYNygeTGI4RC18</td>\n      <td>1vyhD5VmyZ7KMfW5gqLgo5</td>\n    </tr>\n    <tr>\n      <th>Professional</th>\n      <td>5ZicFGBDAi9J2YCVesboUp</td>\n      <td>0.1620</td>\n      <td>0.405</td>\n      <td>368720</td>\n      <td>0.619</td>\n      <td>0.000334</td>\n      <td>11</td>\n      <td>0.0788</td>\n      <td>-8.920</td>\n      <td>0</td>\n      <td>0.0615</td>\n      <td>120.092</td>\n      <td>0.234</td>\n      <td>spotify:track:5ZicFGBDAi9J2YCVesboUp</td>\n      <td>1Xyo4u8uXC1ZmMpatF05PJ</td>\n    </tr>\n    <tr>\n      <th>Adaptation</th>\n      <td>4pHQ9RYFhn3W0ha5KEuMnj</td>\n      <td>0.1510</td>\n      <td>0.642</td>\n      <td>283933</td>\n      <td>0.790</td>\n      <td>0.000583</td>\n      <td>11</td>\n      <td>0.3050</td>\n      <td>-6.800</td>\n      <td>0</td>\n      <td>0.0681</td>\n      <td>114.960</td>\n      <td>0.613</td>\n      <td>spotify:track:4pHQ9RYFhn3W0ha5KEuMnj</td>\n      <td>1Xyo4u8uXC1ZmMpatF05PJ</td>\n    </tr>\n  </tbody>\n</table>\n</div>"
     },
     "metadata": {},
     "execution_count": 6
    }
   ],
   "source": [
    "#keeping only relevant features\n",
    "\n",
    "tracks_df = playlist_df[[\"id\", \"acousticness\", \"danceability\", \"duration_ms\", \n",
    "                         \"energy\", \"instrumentalness\",  \"key\", \"liveness\",\n",
    "                         \"loudness\", \"mode\", \"speechiness\", \"tempo\", \"valence\", 'uri']]\n",
    "\n",
    "# adding main aritst ID\n",
    "tracks_df['artist_id'] = track_main_artists\n",
    "\n",
    "tracks_df.head()"
   ]
  },
  {
   "cell_type": "code",
   "execution_count": 7,
   "metadata": {},
   "outputs": [
    {
     "output_type": "stream",
     "name": "stderr",
     "text": [
      "<ipython-input-7-59cea2414a09>:11: SettingWithCopyWarning: \nA value is trying to be set on a copy of a slice from a DataFrame.\nTry using .loc[row_indexer,col_indexer] = value instead\n\nSee the caveats in the documentation: https://pandas.pydata.org/pandas-docs/stable/user_guide/indexing.html#returning-a-view-versus-a-copy\n  tracks_df['added_time'] = time_processed\n"
     ]
    },
    {
     "output_type": "execute_result",
     "data": {
      "text/plain": [
       "                                   id  acousticness  danceability  \\\n",
       "Entrégala      46lZpwebFWgqad5CX1iv6r        0.0637         0.919   \n",
       "Pretty Please  5Pc594FhDA2Fa2prE75GT0        0.0311         0.906   \n",
       "LA CANCIÓN     0fea68AdmYNygeTGI4RC18        0.1520         0.754   \n",
       "Professional   5ZicFGBDAi9J2YCVesboUp        0.1620         0.405   \n",
       "Adaptation     4pHQ9RYFhn3W0ha5KEuMnj        0.1510         0.642   \n",
       "\n",
       "               duration_ms  energy  instrumentalness  key  liveness  loudness  \\\n",
       "Entrégala           158040   0.672          0.014400   10    0.0597    -3.404   \n",
       "Pretty Please       194607   0.474          0.000005    1    0.2860    -6.124   \n",
       "LA CANCIÓN          242573   0.646          0.000018    7    0.1080    -5.795   \n",
       "Professional        368720   0.619          0.000334   11    0.0788    -8.920   \n",
       "Adaptation          283933   0.790          0.000583   11    0.3050    -6.800   \n",
       "\n",
       "               mode  speechiness    tempo  valence  \\\n",
       "Entrégala         0       0.1310  117.002    0.425   \n",
       "Pretty Please     1       0.1940  106.976    0.656   \n",
       "LA CANCIÓN        1       0.3170  176.089    0.429   \n",
       "Professional      0       0.0615  120.092    0.234   \n",
       "Adaptation        0       0.0681  114.960    0.613   \n",
       "\n",
       "                                                uri               artist_id  \\\n",
       "Entrégala      spotify:track:46lZpwebFWgqad5CX1iv6r  3FRVhQjAe73b3Et1XsOCnF   \n",
       "Pretty Please  spotify:track:5Pc594FhDA2Fa2prE75GT0  6M2wZ9GZgrQXHCFfjv46we   \n",
       "LA CANCIÓN     spotify:track:0fea68AdmYNygeTGI4RC18  1vyhD5VmyZ7KMfW5gqLgo5   \n",
       "Professional   spotify:track:5ZicFGBDAi9J2YCVesboUp  1Xyo4u8uXC1ZmMpatF05PJ   \n",
       "Adaptation     spotify:track:4pHQ9RYFhn3W0ha5KEuMnj  1Xyo4u8uXC1ZmMpatF05PJ   \n",
       "\n",
       "                             added_time  \n",
       "Entrégala     2021-05-14 19:10:01+00:00  \n",
       "Pretty Please 2021-05-13 22:30:16+00:00  \n",
       "LA CANCIÓN    2021-05-13 03:41:42+00:00  \n",
       "Professional  2021-05-11 16:09:42+00:00  \n",
       "Adaptation    2021-05-11 16:09:32+00:00  "
      ],
      "text/html": "<div>\n<style scoped>\n    .dataframe tbody tr th:only-of-type {\n        vertical-align: middle;\n    }\n\n    .dataframe tbody tr th {\n        vertical-align: top;\n    }\n\n    .dataframe thead th {\n        text-align: right;\n    }\n</style>\n<table border=\"1\" class=\"dataframe\">\n  <thead>\n    <tr style=\"text-align: right;\">\n      <th></th>\n      <th>id</th>\n      <th>acousticness</th>\n      <th>danceability</th>\n      <th>duration_ms</th>\n      <th>energy</th>\n      <th>instrumentalness</th>\n      <th>key</th>\n      <th>liveness</th>\n      <th>loudness</th>\n      <th>mode</th>\n      <th>speechiness</th>\n      <th>tempo</th>\n      <th>valence</th>\n      <th>uri</th>\n      <th>artist_id</th>\n      <th>added_time</th>\n    </tr>\n  </thead>\n  <tbody>\n    <tr>\n      <th>Entrégala</th>\n      <td>46lZpwebFWgqad5CX1iv6r</td>\n      <td>0.0637</td>\n      <td>0.919</td>\n      <td>158040</td>\n      <td>0.672</td>\n      <td>0.014400</td>\n      <td>10</td>\n      <td>0.0597</td>\n      <td>-3.404</td>\n      <td>0</td>\n      <td>0.1310</td>\n      <td>117.002</td>\n      <td>0.425</td>\n      <td>spotify:track:46lZpwebFWgqad5CX1iv6r</td>\n      <td>3FRVhQjAe73b3Et1XsOCnF</td>\n      <td>2021-05-14 19:10:01+00:00</td>\n    </tr>\n    <tr>\n      <th>Pretty Please</th>\n      <td>5Pc594FhDA2Fa2prE75GT0</td>\n      <td>0.0311</td>\n      <td>0.906</td>\n      <td>194607</td>\n      <td>0.474</td>\n      <td>0.000005</td>\n      <td>1</td>\n      <td>0.2860</td>\n      <td>-6.124</td>\n      <td>1</td>\n      <td>0.1940</td>\n      <td>106.976</td>\n      <td>0.656</td>\n      <td>spotify:track:5Pc594FhDA2Fa2prE75GT0</td>\n      <td>6M2wZ9GZgrQXHCFfjv46we</td>\n      <td>2021-05-13 22:30:16+00:00</td>\n    </tr>\n    <tr>\n      <th>LA CANCIÓN</th>\n      <td>0fea68AdmYNygeTGI4RC18</td>\n      <td>0.1520</td>\n      <td>0.754</td>\n      <td>242573</td>\n      <td>0.646</td>\n      <td>0.000018</td>\n      <td>7</td>\n      <td>0.1080</td>\n      <td>-5.795</td>\n      <td>1</td>\n      <td>0.3170</td>\n      <td>176.089</td>\n      <td>0.429</td>\n      <td>spotify:track:0fea68AdmYNygeTGI4RC18</td>\n      <td>1vyhD5VmyZ7KMfW5gqLgo5</td>\n      <td>2021-05-13 03:41:42+00:00</td>\n    </tr>\n    <tr>\n      <th>Professional</th>\n      <td>5ZicFGBDAi9J2YCVesboUp</td>\n      <td>0.1620</td>\n      <td>0.405</td>\n      <td>368720</td>\n      <td>0.619</td>\n      <td>0.000334</td>\n      <td>11</td>\n      <td>0.0788</td>\n      <td>-8.920</td>\n      <td>0</td>\n      <td>0.0615</td>\n      <td>120.092</td>\n      <td>0.234</td>\n      <td>spotify:track:5ZicFGBDAi9J2YCVesboUp</td>\n      <td>1Xyo4u8uXC1ZmMpatF05PJ</td>\n      <td>2021-05-11 16:09:42+00:00</td>\n    </tr>\n    <tr>\n      <th>Adaptation</th>\n      <td>4pHQ9RYFhn3W0ha5KEuMnj</td>\n      <td>0.1510</td>\n      <td>0.642</td>\n      <td>283933</td>\n      <td>0.790</td>\n      <td>0.000583</td>\n      <td>11</td>\n      <td>0.3050</td>\n      <td>-6.800</td>\n      <td>0</td>\n      <td>0.0681</td>\n      <td>114.960</td>\n      <td>0.613</td>\n      <td>spotify:track:4pHQ9RYFhn3W0ha5KEuMnj</td>\n      <td>1Xyo4u8uXC1ZmMpatF05PJ</td>\n      <td>2021-05-11 16:09:32+00:00</td>\n    </tr>\n  </tbody>\n</table>\n</div>"
     },
     "metadata": {},
     "execution_count": 7
    }
   ],
   "source": [
    "import datetime\n",
    "\n",
    "#adding the time added to the df as a feature\n",
    "time_processed = []\n",
    "\n",
    "#stripping time to a datetime object\n",
    "for time in track_added_time:\n",
    "    time = datetime.datetime.strptime(time, \"%Y-%m-%dT%H:%M:%S%z\")\n",
    "    time_processed.append(time)\n",
    "\n",
    "tracks_df['added_time'] = time_processed\n",
    "\n",
    "tracks_df.head()"
   ]
  },
  {
   "cell_type": "code",
   "execution_count": 8,
   "metadata": {},
   "outputs": [
    {
     "output_type": "execute_result",
     "data": {
      "text/plain": [
       "                                                                       uri\n",
       "to the beginning                      spotify:track:7Fn39khTcovMslPdNxx7b8\n",
       "スパイラル                                 spotify:track:1o9Tn1pO1bVIJBEAcmG0If\n",
       "DYING WISH                            spotify:track:0nm0bdksXzUJwJaB4pbCa9\n",
       "三原色                                   spotify:track:4rfcYp6k3NG7eYUF8wG40U\n",
       "my ex's best friend (with blackbear)  spotify:track:7kDUspsoYfLkWnZR7qwHZl"
      ],
      "text/html": "<div>\n<style scoped>\n    .dataframe tbody tr th:only-of-type {\n        vertical-align: middle;\n    }\n\n    .dataframe tbody tr th {\n        vertical-align: top;\n    }\n\n    .dataframe thead th {\n        text-align: right;\n    }\n</style>\n<table border=\"1\" class=\"dataframe\">\n  <thead>\n    <tr style=\"text-align: right;\">\n      <th></th>\n      <th>uri</th>\n    </tr>\n  </thead>\n  <tbody>\n    <tr>\n      <th>to the beginning</th>\n      <td>spotify:track:7Fn39khTcovMslPdNxx7b8</td>\n    </tr>\n    <tr>\n      <th>スパイラル</th>\n      <td>spotify:track:1o9Tn1pO1bVIJBEAcmG0If</td>\n    </tr>\n    <tr>\n      <th>DYING WISH</th>\n      <td>spotify:track:0nm0bdksXzUJwJaB4pbCa9</td>\n    </tr>\n    <tr>\n      <th>三原色</th>\n      <td>spotify:track:4rfcYp6k3NG7eYUF8wG40U</td>\n    </tr>\n    <tr>\n      <th>my ex's best friend (with blackbear)</th>\n      <td>spotify:track:7kDUspsoYfLkWnZR7qwHZl</td>\n    </tr>\n  </tbody>\n</table>\n</div>"
     },
     "metadata": {},
     "execution_count": 8
    }
   ],
   "source": [
    "#creating DF of top 100 short term songs\n",
    "\n",
    "short_id = []\n",
    "short_names = []\n",
    "\n",
    "results_short = sp.current_user_top_tracks(limit = 100, offset=0, time_range='short_term')['items']\n",
    "\n",
    "for i in range(0, len(results_short)):\n",
    "    #Removes the local tracks in your playlist if there is any\n",
    "    short_id.append(results_short[i]['uri'])\n",
    "    short_names.append(results_short[i]['name'])\n",
    "\n",
    "short_df = pd.DataFrame(short_id, index = short_names, columns = ['uri'])\n",
    "\n",
    "short_df.head()"
   ]
  },
  {
   "cell_type": "code",
   "execution_count": 9,
   "metadata": {},
   "outputs": [
    {
     "output_type": "execute_result",
     "data": {
      "text/plain": [
       "                                                                uri\n",
       "Shoukei to Shikabane no Michi  spotify:track:7lcTpZtdTyfiIgVIpmTVut\n",
       "Tequila Shots                  spotify:track:30KctD1WsHKTIYczXjip5a\n",
       "revenger                       spotify:track:6olFvRvU0XqcxR7iss86Hv\n",
       "Sad People                     spotify:track:4nuAslShoN77tq12fzwjUq\n",
       "RESISTER                       spotify:track:2lO9sYbtyixyMIlj3TDcuU"
      ],
      "text/html": "<div>\n<style scoped>\n    .dataframe tbody tr th:only-of-type {\n        vertical-align: middle;\n    }\n\n    .dataframe tbody tr th {\n        vertical-align: top;\n    }\n\n    .dataframe thead th {\n        text-align: right;\n    }\n</style>\n<table border=\"1\" class=\"dataframe\">\n  <thead>\n    <tr style=\"text-align: right;\">\n      <th></th>\n      <th>uri</th>\n    </tr>\n  </thead>\n  <tbody>\n    <tr>\n      <th>Shoukei to Shikabane no Michi</th>\n      <td>spotify:track:7lcTpZtdTyfiIgVIpmTVut</td>\n    </tr>\n    <tr>\n      <th>Tequila Shots</th>\n      <td>spotify:track:30KctD1WsHKTIYczXjip5a</td>\n    </tr>\n    <tr>\n      <th>revenger</th>\n      <td>spotify:track:6olFvRvU0XqcxR7iss86Hv</td>\n    </tr>\n    <tr>\n      <th>Sad People</th>\n      <td>spotify:track:4nuAslShoN77tq12fzwjUq</td>\n    </tr>\n    <tr>\n      <th>RESISTER</th>\n      <td>spotify:track:2lO9sYbtyixyMIlj3TDcuU</td>\n    </tr>\n  </tbody>\n</table>\n</div>"
     },
     "metadata": {},
     "execution_count": 9
    }
   ],
   "source": [
    "#creating DF of top 100 medium term songs\n",
    "\n",
    "results_medium = sp.current_user_top_tracks(limit=100,offset=0,time_range='medium_term')['items']\n",
    "\n",
    "med_id = []\n",
    "med_names = []\n",
    "\n",
    "for i in range(0, len(results_medium)):\n",
    "    #Removes the local tracks in your playlist if there is any\n",
    "    med_id.append(results_medium[i]['uri'])\n",
    "    med_names.append(results_medium[i]['name'])\n",
    "\n",
    "med_df = pd.DataFrame(med_id, index = med_names, columns = ['uri'])\n",
    "\n",
    "med_df.head()"
   ]
  },
  {
   "cell_type": "code",
   "execution_count": 10,
   "metadata": {},
   "outputs": [
    {
     "output_type": "execute_result",
     "data": {
      "text/plain": [
       "                                                                uri\n",
       "Ordinary Life                  spotify:track:15k2nBQJ0teDmPZHrOXL2N\n",
       "On My Own                      spotify:track:4D1eVq5AUILwjg3tAe7o6M\n",
       "Reborn                         spotify:track:4RVbK6cV0VqWdpCDcx3hiT\n",
       "Faith                          spotify:track:3orEOtd8CPL8GFlpRpKuoE\n",
       "Shoukei to Shikabane no Michi  spotify:track:7lcTpZtdTyfiIgVIpmTVut"
      ],
      "text/html": "<div>\n<style scoped>\n    .dataframe tbody tr th:only-of-type {\n        vertical-align: middle;\n    }\n\n    .dataframe tbody tr th {\n        vertical-align: top;\n    }\n\n    .dataframe thead th {\n        text-align: right;\n    }\n</style>\n<table border=\"1\" class=\"dataframe\">\n  <thead>\n    <tr style=\"text-align: right;\">\n      <th></th>\n      <th>uri</th>\n    </tr>\n  </thead>\n  <tbody>\n    <tr>\n      <th>Ordinary Life</th>\n      <td>spotify:track:15k2nBQJ0teDmPZHrOXL2N</td>\n    </tr>\n    <tr>\n      <th>On My Own</th>\n      <td>spotify:track:4D1eVq5AUILwjg3tAe7o6M</td>\n    </tr>\n    <tr>\n      <th>Reborn</th>\n      <td>spotify:track:4RVbK6cV0VqWdpCDcx3hiT</td>\n    </tr>\n    <tr>\n      <th>Faith</th>\n      <td>spotify:track:3orEOtd8CPL8GFlpRpKuoE</td>\n    </tr>\n    <tr>\n      <th>Shoukei to Shikabane no Michi</th>\n      <td>spotify:track:7lcTpZtdTyfiIgVIpmTVut</td>\n    </tr>\n  </tbody>\n</table>\n</div>"
     },
     "metadata": {},
     "execution_count": 10
    }
   ],
   "source": [
    "#creating DF of top 100 long term songs\n",
    "\n",
    "results_long = sp.current_user_top_tracks(limit=100,offset=0,time_range='long_term')['items']\n",
    "\n",
    "long_id = [] \n",
    "long_names = []\n",
    "\n",
    "for i in range(0, len(results_long)):\n",
    "    #Removes the local tracks in your playlist if there is any\n",
    "    long_id.append(results_long[i]['uri'])\n",
    "    long_names.append(results_long[i]['name'])\n",
    "\n",
    "long_df = pd.DataFrame(long_id, index = long_names, columns = ['uri'])\n",
    "\n",
    "long_df.head()"
   ]
  },
  {
   "cell_type": "code",
   "execution_count": 11,
   "metadata": {},
   "outputs": [],
   "source": [
    "short_df['short_pts'] = 3\n",
    "med_df['med_pts'] = 2\n",
    "long_df['long_pts'] = 1"
   ]
  },
  {
   "cell_type": "code",
   "execution_count": 12,
   "metadata": {},
   "outputs": [],
   "source": [
    "#there should be added points for recency\n",
    "import datetime\n",
    "from dateutil.relativedelta import relativedelta\n",
    "\n",
    "ct = datetime.date.today()\n",
    "#last 0 - 1 month\n",
    "last_month = ct - relativedelta(months = 1)\n",
    "\n",
    "#last 1 - 3 months\n",
    "three_months = ct - relativedelta(months = 3)\n",
    "\n",
    "#last 6 months\n",
    "six_months = ct - relativedelta(months = 6)\n",
    "\n",
    "#last year\n",
    "last_year = ct - relativedelta(years = 1)"
   ]
  },
  {
   "cell_type": "code",
   "execution_count": 13,
   "metadata": {},
   "outputs": [
    {
     "output_type": "stream",
     "name": "stdout",
     "text": [
      "2021-04-18 2021-02-18 2020-11-18 2020-05-18\n"
     ]
    }
   ],
   "source": [
    "print(last_month, three_months, six_months, last_year)"
   ]
  },
  {
   "cell_type": "code",
   "execution_count": 14,
   "metadata": {},
   "outputs": [
    {
     "output_type": "execute_result",
     "data": {
      "text/plain": [
       "                                   id  acousticness  danceability  \\\n",
       "Entrégala      46lZpwebFWgqad5CX1iv6r        0.0637         0.919   \n",
       "Pretty Please  5Pc594FhDA2Fa2prE75GT0        0.0311         0.906   \n",
       "LA CANCIÓN     0fea68AdmYNygeTGI4RC18        0.1520         0.754   \n",
       "Professional   5ZicFGBDAi9J2YCVesboUp        0.1620         0.405   \n",
       "Adaptation     4pHQ9RYFhn3W0ha5KEuMnj        0.1510         0.642   \n",
       "\n",
       "               duration_ms  energy  instrumentalness  key  liveness  loudness  \\\n",
       "Entrégala           158040   0.672          0.014400   10    0.0597    -3.404   \n",
       "Pretty Please       194607   0.474          0.000005    1    0.2860    -6.124   \n",
       "LA CANCIÓN          242573   0.646          0.000018    7    0.1080    -5.795   \n",
       "Professional        368720   0.619          0.000334   11    0.0788    -8.920   \n",
       "Adaptation          283933   0.790          0.000583   11    0.3050    -6.800   \n",
       "\n",
       "               mode  speechiness    tempo  valence  \\\n",
       "Entrégala         0       0.1310  117.002    0.425   \n",
       "Pretty Please     1       0.1940  106.976    0.656   \n",
       "LA CANCIÓN        1       0.3170  176.089    0.429   \n",
       "Professional      0       0.0615  120.092    0.234   \n",
       "Adaptation        0       0.0681  114.960    0.613   \n",
       "\n",
       "                                                uri               artist_id  \\\n",
       "Entrégala      spotify:track:46lZpwebFWgqad5CX1iv6r  3FRVhQjAe73b3Et1XsOCnF   \n",
       "Pretty Please  spotify:track:5Pc594FhDA2Fa2prE75GT0  6M2wZ9GZgrQXHCFfjv46we   \n",
       "LA CANCIÓN     spotify:track:0fea68AdmYNygeTGI4RC18  1vyhD5VmyZ7KMfW5gqLgo5   \n",
       "Professional   spotify:track:5ZicFGBDAi9J2YCVesboUp  1Xyo4u8uXC1ZmMpatF05PJ   \n",
       "Adaptation     spotify:track:4pHQ9RYFhn3W0ha5KEuMnj  1Xyo4u8uXC1ZmMpatF05PJ   \n",
       "\n",
       "                             added_time  \n",
       "Entrégala     2021-05-14 19:10:01+00:00  \n",
       "Pretty Please 2021-05-13 22:30:16+00:00  \n",
       "LA CANCIÓN    2021-05-13 03:41:42+00:00  \n",
       "Professional  2021-05-11 16:09:42+00:00  \n",
       "Adaptation    2021-05-11 16:09:32+00:00  "
      ],
      "text/html": "<div>\n<style scoped>\n    .dataframe tbody tr th:only-of-type {\n        vertical-align: middle;\n    }\n\n    .dataframe tbody tr th {\n        vertical-align: top;\n    }\n\n    .dataframe thead th {\n        text-align: right;\n    }\n</style>\n<table border=\"1\" class=\"dataframe\">\n  <thead>\n    <tr style=\"text-align: right;\">\n      <th></th>\n      <th>id</th>\n      <th>acousticness</th>\n      <th>danceability</th>\n      <th>duration_ms</th>\n      <th>energy</th>\n      <th>instrumentalness</th>\n      <th>key</th>\n      <th>liveness</th>\n      <th>loudness</th>\n      <th>mode</th>\n      <th>speechiness</th>\n      <th>tempo</th>\n      <th>valence</th>\n      <th>uri</th>\n      <th>artist_id</th>\n      <th>added_time</th>\n    </tr>\n  </thead>\n  <tbody>\n    <tr>\n      <th>Entrégala</th>\n      <td>46lZpwebFWgqad5CX1iv6r</td>\n      <td>0.0637</td>\n      <td>0.919</td>\n      <td>158040</td>\n      <td>0.672</td>\n      <td>0.014400</td>\n      <td>10</td>\n      <td>0.0597</td>\n      <td>-3.404</td>\n      <td>0</td>\n      <td>0.1310</td>\n      <td>117.002</td>\n      <td>0.425</td>\n      <td>spotify:track:46lZpwebFWgqad5CX1iv6r</td>\n      <td>3FRVhQjAe73b3Et1XsOCnF</td>\n      <td>2021-05-14 19:10:01+00:00</td>\n    </tr>\n    <tr>\n      <th>Pretty Please</th>\n      <td>5Pc594FhDA2Fa2prE75GT0</td>\n      <td>0.0311</td>\n      <td>0.906</td>\n      <td>194607</td>\n      <td>0.474</td>\n      <td>0.000005</td>\n      <td>1</td>\n      <td>0.2860</td>\n      <td>-6.124</td>\n      <td>1</td>\n      <td>0.1940</td>\n      <td>106.976</td>\n      <td>0.656</td>\n      <td>spotify:track:5Pc594FhDA2Fa2prE75GT0</td>\n      <td>6M2wZ9GZgrQXHCFfjv46we</td>\n      <td>2021-05-13 22:30:16+00:00</td>\n    </tr>\n    <tr>\n      <th>LA CANCIÓN</th>\n      <td>0fea68AdmYNygeTGI4RC18</td>\n      <td>0.1520</td>\n      <td>0.754</td>\n      <td>242573</td>\n      <td>0.646</td>\n      <td>0.000018</td>\n      <td>7</td>\n      <td>0.1080</td>\n      <td>-5.795</td>\n      <td>1</td>\n      <td>0.3170</td>\n      <td>176.089</td>\n      <td>0.429</td>\n      <td>spotify:track:0fea68AdmYNygeTGI4RC18</td>\n      <td>1vyhD5VmyZ7KMfW5gqLgo5</td>\n      <td>2021-05-13 03:41:42+00:00</td>\n    </tr>\n    <tr>\n      <th>Professional</th>\n      <td>5ZicFGBDAi9J2YCVesboUp</td>\n      <td>0.1620</td>\n      <td>0.405</td>\n      <td>368720</td>\n      <td>0.619</td>\n      <td>0.000334</td>\n      <td>11</td>\n      <td>0.0788</td>\n      <td>-8.920</td>\n      <td>0</td>\n      <td>0.0615</td>\n      <td>120.092</td>\n      <td>0.234</td>\n      <td>spotify:track:5ZicFGBDAi9J2YCVesboUp</td>\n      <td>1Xyo4u8uXC1ZmMpatF05PJ</td>\n      <td>2021-05-11 16:09:42+00:00</td>\n    </tr>\n    <tr>\n      <th>Adaptation</th>\n      <td>4pHQ9RYFhn3W0ha5KEuMnj</td>\n      <td>0.1510</td>\n      <td>0.642</td>\n      <td>283933</td>\n      <td>0.790</td>\n      <td>0.000583</td>\n      <td>11</td>\n      <td>0.3050</td>\n      <td>-6.800</td>\n      <td>0</td>\n      <td>0.0681</td>\n      <td>114.960</td>\n      <td>0.613</td>\n      <td>spotify:track:4pHQ9RYFhn3W0ha5KEuMnj</td>\n      <td>1Xyo4u8uXC1ZmMpatF05PJ</td>\n      <td>2021-05-11 16:09:32+00:00</td>\n    </tr>\n  </tbody>\n</table>\n</div>"
     },
     "metadata": {},
     "execution_count": 14
    }
   ],
   "source": [
    "tracks_df.head()"
   ]
  },
  {
   "cell_type": "code",
   "execution_count": 16,
   "metadata": {},
   "outputs": [
    {
     "output_type": "stream",
     "name": "stderr",
     "text": [
      "<ipython-input-16-b333b1709d7f>:1: SettingWithCopyWarning: \nA value is trying to be set on a copy of a slice from a DataFrame.\nTry using .loc[row_indexer,col_indexer] = value instead\n\nSee the caveats in the documentation: https://pandas.pydata.org/pandas-docs/stable/user_guide/indexing.html#returning-a-view-versus-a-copy\n  tracks_df['song_name'] = tracks_df.index\n"
     ]
    },
    {
     "output_type": "execute_result",
     "data": {
      "text/plain": [
       "                                   id  acousticness  danceability  \\\n",
       "Entrégala      46lZpwebFWgqad5CX1iv6r        0.0637         0.919   \n",
       "Pretty Please  5Pc594FhDA2Fa2prE75GT0        0.0311         0.906   \n",
       "LA CANCIÓN     0fea68AdmYNygeTGI4RC18        0.1520         0.754   \n",
       "Professional   5ZicFGBDAi9J2YCVesboUp        0.1620         0.405   \n",
       "Adaptation     4pHQ9RYFhn3W0ha5KEuMnj        0.1510         0.642   \n",
       "\n",
       "               duration_ms  energy  instrumentalness  key  liveness  loudness  \\\n",
       "Entrégala           158040   0.672          0.014400   10    0.0597    -3.404   \n",
       "Pretty Please       194607   0.474          0.000005    1    0.2860    -6.124   \n",
       "LA CANCIÓN          242573   0.646          0.000018    7    0.1080    -5.795   \n",
       "Professional        368720   0.619          0.000334   11    0.0788    -8.920   \n",
       "Adaptation          283933   0.790          0.000583   11    0.3050    -6.800   \n",
       "\n",
       "               mode  speechiness    tempo  valence  \\\n",
       "Entrégala         0       0.1310  117.002    0.425   \n",
       "Pretty Please     1       0.1940  106.976    0.656   \n",
       "LA CANCIÓN        1       0.3170  176.089    0.429   \n",
       "Professional      0       0.0615  120.092    0.234   \n",
       "Adaptation        0       0.0681  114.960    0.613   \n",
       "\n",
       "                                                uri               artist_id  \\\n",
       "Entrégala      spotify:track:46lZpwebFWgqad5CX1iv6r  3FRVhQjAe73b3Et1XsOCnF   \n",
       "Pretty Please  spotify:track:5Pc594FhDA2Fa2prE75GT0  6M2wZ9GZgrQXHCFfjv46we   \n",
       "LA CANCIÓN     spotify:track:0fea68AdmYNygeTGI4RC18  1vyhD5VmyZ7KMfW5gqLgo5   \n",
       "Professional   spotify:track:5ZicFGBDAi9J2YCVesboUp  1Xyo4u8uXC1ZmMpatF05PJ   \n",
       "Adaptation     spotify:track:4pHQ9RYFhn3W0ha5KEuMnj  1Xyo4u8uXC1ZmMpatF05PJ   \n",
       "\n",
       "                             added_time      song_name  \n",
       "Entrégala     2021-05-14 19:10:01+00:00      Entrégala  \n",
       "Pretty Please 2021-05-13 22:30:16+00:00  Pretty Please  \n",
       "LA CANCIÓN    2021-05-13 03:41:42+00:00     LA CANCIÓN  \n",
       "Professional  2021-05-11 16:09:42+00:00   Professional  \n",
       "Adaptation    2021-05-11 16:09:32+00:00     Adaptation  "
      ],
      "text/html": "<div>\n<style scoped>\n    .dataframe tbody tr th:only-of-type {\n        vertical-align: middle;\n    }\n\n    .dataframe tbody tr th {\n        vertical-align: top;\n    }\n\n    .dataframe thead th {\n        text-align: right;\n    }\n</style>\n<table border=\"1\" class=\"dataframe\">\n  <thead>\n    <tr style=\"text-align: right;\">\n      <th></th>\n      <th>id</th>\n      <th>acousticness</th>\n      <th>danceability</th>\n      <th>duration_ms</th>\n      <th>energy</th>\n      <th>instrumentalness</th>\n      <th>key</th>\n      <th>liveness</th>\n      <th>loudness</th>\n      <th>mode</th>\n      <th>speechiness</th>\n      <th>tempo</th>\n      <th>valence</th>\n      <th>uri</th>\n      <th>artist_id</th>\n      <th>added_time</th>\n      <th>song_name</th>\n    </tr>\n  </thead>\n  <tbody>\n    <tr>\n      <th>Entrégala</th>\n      <td>46lZpwebFWgqad5CX1iv6r</td>\n      <td>0.0637</td>\n      <td>0.919</td>\n      <td>158040</td>\n      <td>0.672</td>\n      <td>0.014400</td>\n      <td>10</td>\n      <td>0.0597</td>\n      <td>-3.404</td>\n      <td>0</td>\n      <td>0.1310</td>\n      <td>117.002</td>\n      <td>0.425</td>\n      <td>spotify:track:46lZpwebFWgqad5CX1iv6r</td>\n      <td>3FRVhQjAe73b3Et1XsOCnF</td>\n      <td>2021-05-14 19:10:01+00:00</td>\n      <td>Entrégala</td>\n    </tr>\n    <tr>\n      <th>Pretty Please</th>\n      <td>5Pc594FhDA2Fa2prE75GT0</td>\n      <td>0.0311</td>\n      <td>0.906</td>\n      <td>194607</td>\n      <td>0.474</td>\n      <td>0.000005</td>\n      <td>1</td>\n      <td>0.2860</td>\n      <td>-6.124</td>\n      <td>1</td>\n      <td>0.1940</td>\n      <td>106.976</td>\n      <td>0.656</td>\n      <td>spotify:track:5Pc594FhDA2Fa2prE75GT0</td>\n      <td>6M2wZ9GZgrQXHCFfjv46we</td>\n      <td>2021-05-13 22:30:16+00:00</td>\n      <td>Pretty Please</td>\n    </tr>\n    <tr>\n      <th>LA CANCIÓN</th>\n      <td>0fea68AdmYNygeTGI4RC18</td>\n      <td>0.1520</td>\n      <td>0.754</td>\n      <td>242573</td>\n      <td>0.646</td>\n      <td>0.000018</td>\n      <td>7</td>\n      <td>0.1080</td>\n      <td>-5.795</td>\n      <td>1</td>\n      <td>0.3170</td>\n      <td>176.089</td>\n      <td>0.429</td>\n      <td>spotify:track:0fea68AdmYNygeTGI4RC18</td>\n      <td>1vyhD5VmyZ7KMfW5gqLgo5</td>\n      <td>2021-05-13 03:41:42+00:00</td>\n      <td>LA CANCIÓN</td>\n    </tr>\n    <tr>\n      <th>Professional</th>\n      <td>5ZicFGBDAi9J2YCVesboUp</td>\n      <td>0.1620</td>\n      <td>0.405</td>\n      <td>368720</td>\n      <td>0.619</td>\n      <td>0.000334</td>\n      <td>11</td>\n      <td>0.0788</td>\n      <td>-8.920</td>\n      <td>0</td>\n      <td>0.0615</td>\n      <td>120.092</td>\n      <td>0.234</td>\n      <td>spotify:track:5ZicFGBDAi9J2YCVesboUp</td>\n      <td>1Xyo4u8uXC1ZmMpatF05PJ</td>\n      <td>2021-05-11 16:09:42+00:00</td>\n      <td>Professional</td>\n    </tr>\n    <tr>\n      <th>Adaptation</th>\n      <td>4pHQ9RYFhn3W0ha5KEuMnj</td>\n      <td>0.1510</td>\n      <td>0.642</td>\n      <td>283933</td>\n      <td>0.790</td>\n      <td>0.000583</td>\n      <td>11</td>\n      <td>0.3050</td>\n      <td>-6.800</td>\n      <td>0</td>\n      <td>0.0681</td>\n      <td>114.960</td>\n      <td>0.613</td>\n      <td>spotify:track:4pHQ9RYFhn3W0ha5KEuMnj</td>\n      <td>1Xyo4u8uXC1ZmMpatF05PJ</td>\n      <td>2021-05-11 16:09:32+00:00</td>\n      <td>Adaptation</td>\n    </tr>\n  </tbody>\n</table>\n</div>"
     },
     "metadata": {},
     "execution_count": 16
    }
   ],
   "source": [
    "tracks_df['song_name'] = tracks_df.index\n",
    "\n",
    "tracks_df.head()"
   ]
  },
  {
   "cell_type": "code",
   "execution_count": 17,
   "metadata": {},
   "outputs": [
    {
     "output_type": "execute_result",
     "data": {
      "text/plain": [
       "                       id  acousticness  danceability  duration_ms  energy  \\\n",
       "0  46lZpwebFWgqad5CX1iv6r        0.0637         0.919       158040   0.672   \n",
       "1  5Pc594FhDA2Fa2prE75GT0        0.0311         0.906       194607   0.474   \n",
       "2  0fea68AdmYNygeTGI4RC18        0.1520         0.754       242573   0.646   \n",
       "3  5ZicFGBDAi9J2YCVesboUp        0.1620         0.405       368720   0.619   \n",
       "4  4pHQ9RYFhn3W0ha5KEuMnj        0.1510         0.642       283933   0.790   \n",
       "\n",
       "   instrumentalness  key  liveness  loudness  mode  speechiness    tempo  \\\n",
       "0          0.014400   10    0.0597    -3.404     0       0.1310  117.002   \n",
       "1          0.000005    1    0.2860    -6.124     1       0.1940  106.976   \n",
       "2          0.000018    7    0.1080    -5.795     1       0.3170  176.089   \n",
       "3          0.000334   11    0.0788    -8.920     0       0.0615  120.092   \n",
       "4          0.000583   11    0.3050    -6.800     0       0.0681  114.960   \n",
       "\n",
       "   valence                                   uri               artist_id  \\\n",
       "0    0.425  spotify:track:46lZpwebFWgqad5CX1iv6r  3FRVhQjAe73b3Et1XsOCnF   \n",
       "1    0.656  spotify:track:5Pc594FhDA2Fa2prE75GT0  6M2wZ9GZgrQXHCFfjv46we   \n",
       "2    0.429  spotify:track:0fea68AdmYNygeTGI4RC18  1vyhD5VmyZ7KMfW5gqLgo5   \n",
       "3    0.234  spotify:track:5ZicFGBDAi9J2YCVesboUp  1Xyo4u8uXC1ZmMpatF05PJ   \n",
       "4    0.613  spotify:track:4pHQ9RYFhn3W0ha5KEuMnj  1Xyo4u8uXC1ZmMpatF05PJ   \n",
       "\n",
       "                 added_time      song_name  short_pts  med_pts  long_pts  \n",
       "0 2021-05-14 19:10:01+00:00      Entrégala        3.0      NaN       NaN  \n",
       "1 2021-05-13 22:30:16+00:00  Pretty Please        3.0      NaN       NaN  \n",
       "2 2021-05-13 03:41:42+00:00     LA CANCIÓN        NaN      NaN       NaN  \n",
       "3 2021-05-11 16:09:42+00:00   Professional        NaN      NaN       NaN  \n",
       "4 2021-05-11 16:09:32+00:00     Adaptation        NaN      NaN       NaN  "
      ],
      "text/html": "<div>\n<style scoped>\n    .dataframe tbody tr th:only-of-type {\n        vertical-align: middle;\n    }\n\n    .dataframe tbody tr th {\n        vertical-align: top;\n    }\n\n    .dataframe thead th {\n        text-align: right;\n    }\n</style>\n<table border=\"1\" class=\"dataframe\">\n  <thead>\n    <tr style=\"text-align: right;\">\n      <th></th>\n      <th>id</th>\n      <th>acousticness</th>\n      <th>danceability</th>\n      <th>duration_ms</th>\n      <th>energy</th>\n      <th>instrumentalness</th>\n      <th>key</th>\n      <th>liveness</th>\n      <th>loudness</th>\n      <th>mode</th>\n      <th>speechiness</th>\n      <th>tempo</th>\n      <th>valence</th>\n      <th>uri</th>\n      <th>artist_id</th>\n      <th>added_time</th>\n      <th>song_name</th>\n      <th>short_pts</th>\n      <th>med_pts</th>\n      <th>long_pts</th>\n    </tr>\n  </thead>\n  <tbody>\n    <tr>\n      <th>0</th>\n      <td>46lZpwebFWgqad5CX1iv6r</td>\n      <td>0.0637</td>\n      <td>0.919</td>\n      <td>158040</td>\n      <td>0.672</td>\n      <td>0.014400</td>\n      <td>10</td>\n      <td>0.0597</td>\n      <td>-3.404</td>\n      <td>0</td>\n      <td>0.1310</td>\n      <td>117.002</td>\n      <td>0.425</td>\n      <td>spotify:track:46lZpwebFWgqad5CX1iv6r</td>\n      <td>3FRVhQjAe73b3Et1XsOCnF</td>\n      <td>2021-05-14 19:10:01+00:00</td>\n      <td>Entrégala</td>\n      <td>3.0</td>\n      <td>NaN</td>\n      <td>NaN</td>\n    </tr>\n    <tr>\n      <th>1</th>\n      <td>5Pc594FhDA2Fa2prE75GT0</td>\n      <td>0.0311</td>\n      <td>0.906</td>\n      <td>194607</td>\n      <td>0.474</td>\n      <td>0.000005</td>\n      <td>1</td>\n      <td>0.2860</td>\n      <td>-6.124</td>\n      <td>1</td>\n      <td>0.1940</td>\n      <td>106.976</td>\n      <td>0.656</td>\n      <td>spotify:track:5Pc594FhDA2Fa2prE75GT0</td>\n      <td>6M2wZ9GZgrQXHCFfjv46we</td>\n      <td>2021-05-13 22:30:16+00:00</td>\n      <td>Pretty Please</td>\n      <td>3.0</td>\n      <td>NaN</td>\n      <td>NaN</td>\n    </tr>\n    <tr>\n      <th>2</th>\n      <td>0fea68AdmYNygeTGI4RC18</td>\n      <td>0.1520</td>\n      <td>0.754</td>\n      <td>242573</td>\n      <td>0.646</td>\n      <td>0.000018</td>\n      <td>7</td>\n      <td>0.1080</td>\n      <td>-5.795</td>\n      <td>1</td>\n      <td>0.3170</td>\n      <td>176.089</td>\n      <td>0.429</td>\n      <td>spotify:track:0fea68AdmYNygeTGI4RC18</td>\n      <td>1vyhD5VmyZ7KMfW5gqLgo5</td>\n      <td>2021-05-13 03:41:42+00:00</td>\n      <td>LA CANCIÓN</td>\n      <td>NaN</td>\n      <td>NaN</td>\n      <td>NaN</td>\n    </tr>\n    <tr>\n      <th>3</th>\n      <td>5ZicFGBDAi9J2YCVesboUp</td>\n      <td>0.1620</td>\n      <td>0.405</td>\n      <td>368720</td>\n      <td>0.619</td>\n      <td>0.000334</td>\n      <td>11</td>\n      <td>0.0788</td>\n      <td>-8.920</td>\n      <td>0</td>\n      <td>0.0615</td>\n      <td>120.092</td>\n      <td>0.234</td>\n      <td>spotify:track:5ZicFGBDAi9J2YCVesboUp</td>\n      <td>1Xyo4u8uXC1ZmMpatF05PJ</td>\n      <td>2021-05-11 16:09:42+00:00</td>\n      <td>Professional</td>\n      <td>NaN</td>\n      <td>NaN</td>\n      <td>NaN</td>\n    </tr>\n    <tr>\n      <th>4</th>\n      <td>4pHQ9RYFhn3W0ha5KEuMnj</td>\n      <td>0.1510</td>\n      <td>0.642</td>\n      <td>283933</td>\n      <td>0.790</td>\n      <td>0.000583</td>\n      <td>11</td>\n      <td>0.3050</td>\n      <td>-6.800</td>\n      <td>0</td>\n      <td>0.0681</td>\n      <td>114.960</td>\n      <td>0.613</td>\n      <td>spotify:track:4pHQ9RYFhn3W0ha5KEuMnj</td>\n      <td>1Xyo4u8uXC1ZmMpatF05PJ</td>\n      <td>2021-05-11 16:09:32+00:00</td>\n      <td>Adaptation</td>\n      <td>NaN</td>\n      <td>NaN</td>\n      <td>NaN</td>\n    </tr>\n  </tbody>\n</table>\n</div>"
     },
     "metadata": {},
     "execution_count": 17
    }
   ],
   "source": [
    "tracks_df = tracks_df.merge(short_df, how = 'left', on = 'uri')\n",
    "\n",
    "tracks_df = tracks_df.merge(med_df, how = 'left', on = 'uri')\n",
    "\n",
    "tracks_df = tracks_df.merge(long_df, how = 'left', on = 'uri')\n",
    "\n",
    "tracks_df.head()"
   ]
  },
  {
   "cell_type": "code",
   "execution_count": 44,
   "metadata": {},
   "outputs": [
    {
     "output_type": "execute_result",
     "data": {
      "text/plain": [
       "                       id  acousticness  danceability  duration_ms  energy  \\\n",
       "0  46lZpwebFWgqad5CX1iv6r        0.0637         0.919       158040   0.672   \n",
       "1  5Pc594FhDA2Fa2prE75GT0        0.0311         0.906       194607   0.474   \n",
       "2  0fea68AdmYNygeTGI4RC18        0.1520         0.754       242573   0.646   \n",
       "3  5ZicFGBDAi9J2YCVesboUp        0.1620         0.405       368720   0.619   \n",
       "4  4pHQ9RYFhn3W0ha5KEuMnj        0.1510         0.642       283933   0.790   \n",
       "\n",
       "   instrumentalness  key  liveness  loudness  mode  ...      song_name  \\\n",
       "0          0.014400   10    0.0597    -3.404     0  ...      Entrégala   \n",
       "1          0.000005    1    0.2860    -6.124     1  ...  Pretty Please   \n",
       "2          0.000018    7    0.1080    -5.795     1  ...     LA CANCIÓN   \n",
       "3          0.000334   11    0.0788    -8.920     0  ...   Professional   \n",
       "4          0.000583   11    0.3050    -6.800     0  ...     Adaptation   \n",
       "\n",
       "   short_pts  med_pts long_pts time_pts total_pts  artist_short_pts  \\\n",
       "0        3.0      0.0      0.0      3.0       7.0               0.0   \n",
       "1        3.0      0.0      0.0      3.0       7.0               0.0   \n",
       "2        0.0      0.0      0.0      3.0       4.0               0.0   \n",
       "3        0.0      0.0      0.0      3.0       7.0               3.0   \n",
       "4        0.0      0.0      0.0      3.0       7.0               3.0   \n",
       "\n",
       "   artist_med_pts  artist_name  artist_long_pts  \n",
       "0             0.0            0              0.0  \n",
       "1             0.0            0              0.0  \n",
       "2             0.0            0              0.0  \n",
       "3             0.0   The Weeknd              0.0  \n",
       "4             0.0   The Weeknd              0.0  \n",
       "\n",
       "[5 rows x 25 columns]"
      ],
      "text/html": "<div>\n<style scoped>\n    .dataframe tbody tr th:only-of-type {\n        vertical-align: middle;\n    }\n\n    .dataframe tbody tr th {\n        vertical-align: top;\n    }\n\n    .dataframe thead th {\n        text-align: right;\n    }\n</style>\n<table border=\"1\" class=\"dataframe\">\n  <thead>\n    <tr style=\"text-align: right;\">\n      <th></th>\n      <th>id</th>\n      <th>acousticness</th>\n      <th>danceability</th>\n      <th>duration_ms</th>\n      <th>energy</th>\n      <th>instrumentalness</th>\n      <th>key</th>\n      <th>liveness</th>\n      <th>loudness</th>\n      <th>mode</th>\n      <th>...</th>\n      <th>song_name</th>\n      <th>short_pts</th>\n      <th>med_pts</th>\n      <th>long_pts</th>\n      <th>time_pts</th>\n      <th>total_pts</th>\n      <th>artist_short_pts</th>\n      <th>artist_med_pts</th>\n      <th>artist_name</th>\n      <th>artist_long_pts</th>\n    </tr>\n  </thead>\n  <tbody>\n    <tr>\n      <th>0</th>\n      <td>46lZpwebFWgqad5CX1iv6r</td>\n      <td>0.0637</td>\n      <td>0.919</td>\n      <td>158040</td>\n      <td>0.672</td>\n      <td>0.014400</td>\n      <td>10</td>\n      <td>0.0597</td>\n      <td>-3.404</td>\n      <td>0</td>\n      <td>...</td>\n      <td>Entrégala</td>\n      <td>3.0</td>\n      <td>0.0</td>\n      <td>0.0</td>\n      <td>3.0</td>\n      <td>7.0</td>\n      <td>0.0</td>\n      <td>0.0</td>\n      <td>0</td>\n      <td>0.0</td>\n    </tr>\n    <tr>\n      <th>1</th>\n      <td>5Pc594FhDA2Fa2prE75GT0</td>\n      <td>0.0311</td>\n      <td>0.906</td>\n      <td>194607</td>\n      <td>0.474</td>\n      <td>0.000005</td>\n      <td>1</td>\n      <td>0.2860</td>\n      <td>-6.124</td>\n      <td>1</td>\n      <td>...</td>\n      <td>Pretty Please</td>\n      <td>3.0</td>\n      <td>0.0</td>\n      <td>0.0</td>\n      <td>3.0</td>\n      <td>7.0</td>\n      <td>0.0</td>\n      <td>0.0</td>\n      <td>0</td>\n      <td>0.0</td>\n    </tr>\n    <tr>\n      <th>2</th>\n      <td>0fea68AdmYNygeTGI4RC18</td>\n      <td>0.1520</td>\n      <td>0.754</td>\n      <td>242573</td>\n      <td>0.646</td>\n      <td>0.000018</td>\n      <td>7</td>\n      <td>0.1080</td>\n      <td>-5.795</td>\n      <td>1</td>\n      <td>...</td>\n      <td>LA CANCIÓN</td>\n      <td>0.0</td>\n      <td>0.0</td>\n      <td>0.0</td>\n      <td>3.0</td>\n      <td>4.0</td>\n      <td>0.0</td>\n      <td>0.0</td>\n      <td>0</td>\n      <td>0.0</td>\n    </tr>\n    <tr>\n      <th>3</th>\n      <td>5ZicFGBDAi9J2YCVesboUp</td>\n      <td>0.1620</td>\n      <td>0.405</td>\n      <td>368720</td>\n      <td>0.619</td>\n      <td>0.000334</td>\n      <td>11</td>\n      <td>0.0788</td>\n      <td>-8.920</td>\n      <td>0</td>\n      <td>...</td>\n      <td>Professional</td>\n      <td>0.0</td>\n      <td>0.0</td>\n      <td>0.0</td>\n      <td>3.0</td>\n      <td>7.0</td>\n      <td>3.0</td>\n      <td>0.0</td>\n      <td>The Weeknd</td>\n      <td>0.0</td>\n    </tr>\n    <tr>\n      <th>4</th>\n      <td>4pHQ9RYFhn3W0ha5KEuMnj</td>\n      <td>0.1510</td>\n      <td>0.642</td>\n      <td>283933</td>\n      <td>0.790</td>\n      <td>0.000583</td>\n      <td>11</td>\n      <td>0.3050</td>\n      <td>-6.800</td>\n      <td>0</td>\n      <td>...</td>\n      <td>Adaptation</td>\n      <td>0.0</td>\n      <td>0.0</td>\n      <td>0.0</td>\n      <td>3.0</td>\n      <td>7.0</td>\n      <td>3.0</td>\n      <td>0.0</td>\n      <td>The Weeknd</td>\n      <td>0.0</td>\n    </tr>\n  </tbody>\n</table>\n<p>5 rows × 25 columns</p>\n</div>"
     },
     "metadata": {},
     "execution_count": 44
    }
   ],
   "source": [
    "#tracks_df.loc[tracks_df['added_time'].dt.date >= last_month, 'time_pts'] = 4\n",
    "\n",
    "tracks_df.loc[(tracks_df['added_time'].dt.date >= three_months), 'time_pts'] = 3\n",
    "\n",
    "tracks_df.loc[(three_months > tracks_df['added_time'].dt.date) & (tracks_df['added_time'].dt.date  >= six_months), 'time_pts'] = 2\n",
    "\n",
    "tracks_df.loc[(six_months > tracks_df['added_time'].dt.date) & (tracks_df['added_time'].dt.date >= last_year), 'time_pts'] = 1\n",
    "\n",
    "tracks_df.head()"
   ]
  },
  {
   "cell_type": "code",
   "execution_count": 19,
   "metadata": {},
   "outputs": [
    {
     "output_type": "execute_result",
     "data": {
      "text/plain": [
       "                       id  acousticness  danceability  duration_ms  energy  \\\n",
       "0  46lZpwebFWgqad5CX1iv6r        0.0637         0.919       158040   0.672   \n",
       "1  5Pc594FhDA2Fa2prE75GT0        0.0311         0.906       194607   0.474   \n",
       "2  0fea68AdmYNygeTGI4RC18        0.1520         0.754       242573   0.646   \n",
       "3  5ZicFGBDAi9J2YCVesboUp        0.1620         0.405       368720   0.619   \n",
       "4  4pHQ9RYFhn3W0ha5KEuMnj        0.1510         0.642       283933   0.790   \n",
       "\n",
       "   instrumentalness  key  liveness  loudness  mode  ...  valence  \\\n",
       "0          0.014400   10    0.0597    -3.404     0  ...    0.425   \n",
       "1          0.000005    1    0.2860    -6.124     1  ...    0.656   \n",
       "2          0.000018    7    0.1080    -5.795     1  ...    0.429   \n",
       "3          0.000334   11    0.0788    -8.920     0  ...    0.234   \n",
       "4          0.000583   11    0.3050    -6.800     0  ...    0.613   \n",
       "\n",
       "                                    uri               artist_id  \\\n",
       "0  spotify:track:46lZpwebFWgqad5CX1iv6r  3FRVhQjAe73b3Et1XsOCnF   \n",
       "1  spotify:track:5Pc594FhDA2Fa2prE75GT0  6M2wZ9GZgrQXHCFfjv46we   \n",
       "2  spotify:track:0fea68AdmYNygeTGI4RC18  1vyhD5VmyZ7KMfW5gqLgo5   \n",
       "3  spotify:track:5ZicFGBDAi9J2YCVesboUp  1Xyo4u8uXC1ZmMpatF05PJ   \n",
       "4  spotify:track:4pHQ9RYFhn3W0ha5KEuMnj  1Xyo4u8uXC1ZmMpatF05PJ   \n",
       "\n",
       "                 added_time      song_name short_pts med_pts  long_pts  \\\n",
       "0 2021-05-14 19:10:01+00:00      Entrégala       3.0     0.0       0.0   \n",
       "1 2021-05-13 22:30:16+00:00  Pretty Please       3.0     0.0       0.0   \n",
       "2 2021-05-13 03:41:42+00:00     LA CANCIÓN       0.0     0.0       0.0   \n",
       "3 2021-05-11 16:09:42+00:00   Professional       0.0     0.0       0.0   \n",
       "4 2021-05-11 16:09:32+00:00     Adaptation       0.0     0.0       0.0   \n",
       "\n",
       "   time_pts  total_pts  \n",
       "0       4.0        7.0  \n",
       "1       4.0        7.0  \n",
       "2       4.0        4.0  \n",
       "3       4.0        4.0  \n",
       "4       4.0        4.0  \n",
       "\n",
       "[5 rows x 22 columns]"
      ],
      "text/html": "<div>\n<style scoped>\n    .dataframe tbody tr th:only-of-type {\n        vertical-align: middle;\n    }\n\n    .dataframe tbody tr th {\n        vertical-align: top;\n    }\n\n    .dataframe thead th {\n        text-align: right;\n    }\n</style>\n<table border=\"1\" class=\"dataframe\">\n  <thead>\n    <tr style=\"text-align: right;\">\n      <th></th>\n      <th>id</th>\n      <th>acousticness</th>\n      <th>danceability</th>\n      <th>duration_ms</th>\n      <th>energy</th>\n      <th>instrumentalness</th>\n      <th>key</th>\n      <th>liveness</th>\n      <th>loudness</th>\n      <th>mode</th>\n      <th>...</th>\n      <th>valence</th>\n      <th>uri</th>\n      <th>artist_id</th>\n      <th>added_time</th>\n      <th>song_name</th>\n      <th>short_pts</th>\n      <th>med_pts</th>\n      <th>long_pts</th>\n      <th>time_pts</th>\n      <th>total_pts</th>\n    </tr>\n  </thead>\n  <tbody>\n    <tr>\n      <th>0</th>\n      <td>46lZpwebFWgqad5CX1iv6r</td>\n      <td>0.0637</td>\n      <td>0.919</td>\n      <td>158040</td>\n      <td>0.672</td>\n      <td>0.014400</td>\n      <td>10</td>\n      <td>0.0597</td>\n      <td>-3.404</td>\n      <td>0</td>\n      <td>...</td>\n      <td>0.425</td>\n      <td>spotify:track:46lZpwebFWgqad5CX1iv6r</td>\n      <td>3FRVhQjAe73b3Et1XsOCnF</td>\n      <td>2021-05-14 19:10:01+00:00</td>\n      <td>Entrégala</td>\n      <td>3.0</td>\n      <td>0.0</td>\n      <td>0.0</td>\n      <td>4.0</td>\n      <td>7.0</td>\n    </tr>\n    <tr>\n      <th>1</th>\n      <td>5Pc594FhDA2Fa2prE75GT0</td>\n      <td>0.0311</td>\n      <td>0.906</td>\n      <td>194607</td>\n      <td>0.474</td>\n      <td>0.000005</td>\n      <td>1</td>\n      <td>0.2860</td>\n      <td>-6.124</td>\n      <td>1</td>\n      <td>...</td>\n      <td>0.656</td>\n      <td>spotify:track:5Pc594FhDA2Fa2prE75GT0</td>\n      <td>6M2wZ9GZgrQXHCFfjv46we</td>\n      <td>2021-05-13 22:30:16+00:00</td>\n      <td>Pretty Please</td>\n      <td>3.0</td>\n      <td>0.0</td>\n      <td>0.0</td>\n      <td>4.0</td>\n      <td>7.0</td>\n    </tr>\n    <tr>\n      <th>2</th>\n      <td>0fea68AdmYNygeTGI4RC18</td>\n      <td>0.1520</td>\n      <td>0.754</td>\n      <td>242573</td>\n      <td>0.646</td>\n      <td>0.000018</td>\n      <td>7</td>\n      <td>0.1080</td>\n      <td>-5.795</td>\n      <td>1</td>\n      <td>...</td>\n      <td>0.429</td>\n      <td>spotify:track:0fea68AdmYNygeTGI4RC18</td>\n      <td>1vyhD5VmyZ7KMfW5gqLgo5</td>\n      <td>2021-05-13 03:41:42+00:00</td>\n      <td>LA CANCIÓN</td>\n      <td>0.0</td>\n      <td>0.0</td>\n      <td>0.0</td>\n      <td>4.0</td>\n      <td>4.0</td>\n    </tr>\n    <tr>\n      <th>3</th>\n      <td>5ZicFGBDAi9J2YCVesboUp</td>\n      <td>0.1620</td>\n      <td>0.405</td>\n      <td>368720</td>\n      <td>0.619</td>\n      <td>0.000334</td>\n      <td>11</td>\n      <td>0.0788</td>\n      <td>-8.920</td>\n      <td>0</td>\n      <td>...</td>\n      <td>0.234</td>\n      <td>spotify:track:5ZicFGBDAi9J2YCVesboUp</td>\n      <td>1Xyo4u8uXC1ZmMpatF05PJ</td>\n      <td>2021-05-11 16:09:42+00:00</td>\n      <td>Professional</td>\n      <td>0.0</td>\n      <td>0.0</td>\n      <td>0.0</td>\n      <td>4.0</td>\n      <td>4.0</td>\n    </tr>\n    <tr>\n      <th>4</th>\n      <td>4pHQ9RYFhn3W0ha5KEuMnj</td>\n      <td>0.1510</td>\n      <td>0.642</td>\n      <td>283933</td>\n      <td>0.790</td>\n      <td>0.000583</td>\n      <td>11</td>\n      <td>0.3050</td>\n      <td>-6.800</td>\n      <td>0</td>\n      <td>...</td>\n      <td>0.613</td>\n      <td>spotify:track:4pHQ9RYFhn3W0ha5KEuMnj</td>\n      <td>1Xyo4u8uXC1ZmMpatF05PJ</td>\n      <td>2021-05-11 16:09:32+00:00</td>\n      <td>Adaptation</td>\n      <td>0.0</td>\n      <td>0.0</td>\n      <td>0.0</td>\n      <td>4.0</td>\n      <td>4.0</td>\n    </tr>\n  </tbody>\n</table>\n<p>5 rows × 22 columns</p>\n</div>"
     },
     "metadata": {},
     "execution_count": 19
    }
   ],
   "source": [
    "tracks_df = tracks_df.fillna(0) \n",
    "tracks_df['total_pts'] = tracks_df['short_pts'] + tracks_df['med_pts'] + tracks_df['long_pts'] + tracks_df['time_pts']\n",
    "\n",
    "tracks_df.head()"
   ]
  },
  {
   "cell_type": "code",
   "execution_count": 20,
   "metadata": {},
   "outputs": [
    {
     "output_type": "execute_result",
     "data": {
      "text/plain": [
       "array([[<AxesSubplot:title={'center':'total_pts'}>]], dtype=object)"
      ]
     },
     "metadata": {},
     "execution_count": 20
    },
    {
     "output_type": "display_data",
     "data": {
      "text/plain": "<Figure size 432x288 with 1 Axes>",
      "image/svg+xml": "<?xml version=\"1.0\" encoding=\"utf-8\" standalone=\"no\"?>\r\n<!DOCTYPE svg PUBLIC \"-//W3C//DTD SVG 1.1//EN\"\r\n  \"http://www.w3.org/Graphics/SVG/1.1/DTD/svg11.dtd\">\r\n<svg height=\"263.63625pt\" version=\"1.1\" viewBox=\"0 0 381.65 263.63625\" width=\"381.65pt\" xmlns=\"http://www.w3.org/2000/svg\" xmlns:xlink=\"http://www.w3.org/1999/xlink\">\r\n <metadata>\r\n  <rdf:RDF xmlns:cc=\"http://creativecommons.org/ns#\" xmlns:dc=\"http://purl.org/dc/elements/1.1/\" xmlns:rdf=\"http://www.w3.org/1999/02/22-rdf-syntax-ns#\">\r\n   <cc:Work>\r\n    <dc:type rdf:resource=\"http://purl.org/dc/dcmitype/StillImage\"/>\r\n    <dc:date>2021-05-18T17:54:08.297376</dc:date>\r\n    <dc:format>image/svg+xml</dc:format>\r\n    <dc:creator>\r\n     <cc:Agent>\r\n      <dc:title>Matplotlib v3.4.2, https://matplotlib.org/</dc:title>\r\n     </cc:Agent>\r\n    </dc:creator>\r\n   </cc:Work>\r\n  </rdf:RDF>\r\n </metadata>\r\n <defs>\r\n  <style type=\"text/css\">*{stroke-linecap:butt;stroke-linejoin:round;}</style>\r\n </defs>\r\n <g id=\"figure_1\">\r\n  <g id=\"patch_1\">\r\n   <path d=\"M -0 263.63625 \r\nL 381.65 263.63625 \r\nL 381.65 0 \r\nL -0 0 \r\nz\r\n\" style=\"fill:none;\"/>\r\n  </g>\r\n  <g id=\"axes_1\">\r\n   <g id=\"patch_2\">\r\n    <path d=\"M 39.65 239.758125 \r\nL 374.45 239.758125 \r\nL 374.45 22.318125 \r\nL 39.65 22.318125 \r\nz\r\n\" style=\"fill:#ffffff;\"/>\r\n   </g>\r\n   <g id=\"patch_3\">\r\n    <path clip-path=\"url(#pea077622fc)\" d=\"M 54.868182 239.758125 \r\nL 85.304545 239.758125 \r\nL 85.304545 32.672411 \r\nL 54.868182 32.672411 \r\nz\r\n\" style=\"fill:#1f77b4;\"/>\r\n   </g>\r\n   <g id=\"patch_4\">\r\n    <path clip-path=\"url(#pea077622fc)\" d=\"M 85.304545 239.758125 \r\nL 115.740909 239.758125 \r\nL 115.740909 194.822628 \r\nL 85.304545 194.822628 \r\nz\r\n\" style=\"fill:#1f77b4;\"/>\r\n   </g>\r\n   <g id=\"patch_5\">\r\n    <path clip-path=\"url(#pea077622fc)\" d=\"M 115.740909 239.758125 \r\nL 146.177273 239.758125 \r\nL 146.177273 228.285232 \r\nL 115.740909 228.285232 \r\nz\r\n\" style=\"fill:#1f77b4;\"/>\r\n   </g>\r\n   <g id=\"patch_6\">\r\n    <path clip-path=\"url(#pea077622fc)\" d=\"M 146.177273 239.758125 \r\nL 176.613636 239.758125 \r\nL 176.613636 229.050092 \r\nL 146.177273 229.050092 \r\nz\r\n\" style=\"fill:#1f77b4;\"/>\r\n   </g>\r\n   <g id=\"patch_7\">\r\n    <path clip-path=\"url(#pea077622fc)\" d=\"M 176.613636 239.758125 \r\nL 207.05 239.758125 \r\nL 207.05 239.758125 \r\nL 176.613636 239.758125 \r\nz\r\n\" style=\"fill:#1f77b4;\"/>\r\n   </g>\r\n   <g id=\"patch_8\">\r\n    <path clip-path=\"url(#pea077622fc)\" d=\"M 207.05 239.758125 \r\nL 237.486364 239.758125 \r\nL 237.486364 236.125042 \r\nL 207.05 236.125042 \r\nz\r\n\" style=\"fill:#1f77b4;\"/>\r\n   </g>\r\n   <g id=\"patch_9\">\r\n    <path clip-path=\"url(#pea077622fc)\" d=\"M 237.486364 239.758125 \r\nL 267.922727 239.758125 \r\nL 267.922727 239.375695 \r\nL 237.486364 239.375695 \r\nz\r\n\" style=\"fill:#1f77b4;\"/>\r\n   </g>\r\n   <g id=\"patch_10\">\r\n    <path clip-path=\"url(#pea077622fc)\" d=\"M 267.922727 239.758125 \r\nL 298.359091 239.758125 \r\nL 298.359091 238.993265 \r\nL 267.922727 238.993265 \r\nz\r\n\" style=\"fill:#1f77b4;\"/>\r\n   </g>\r\n   <g id=\"patch_11\">\r\n    <path clip-path=\"url(#pea077622fc)\" d=\"M 298.359091 239.758125 \r\nL 328.795455 239.758125 \r\nL 328.795455 238.228406 \r\nL 298.359091 238.228406 \r\nz\r\n\" style=\"fill:#1f77b4;\"/>\r\n   </g>\r\n   <g id=\"patch_12\">\r\n    <path clip-path=\"url(#pea077622fc)\" d=\"M 328.795455 239.758125 \r\nL 359.231818 239.758125 \r\nL 359.231818 239.56691 \r\nL 328.795455 239.56691 \r\nz\r\n\" style=\"fill:#1f77b4;\"/>\r\n   </g>\r\n   <g id=\"matplotlib.axis_1\">\r\n    <g id=\"xtick_1\">\r\n     <g id=\"line2d_1\">\r\n      <path clip-path=\"url(#pea077622fc)\" d=\"M 54.868182 239.758125 \r\nL 54.868182 22.318125 \r\n\" style=\"fill:none;stroke:#b0b0b0;stroke-linecap:square;stroke-width:0.8;\"/>\r\n     </g>\r\n     <g id=\"line2d_2\">\r\n      <defs>\r\n       <path d=\"M 0 0 \r\nL 0 3.5 \r\n\" id=\"m2de99ca3aa\" style=\"stroke:#000000;stroke-width:0.8;\"/>\r\n      </defs>\r\n      <g>\r\n       <use style=\"stroke:#000000;stroke-width:0.8;\" x=\"54.868182\" xlink:href=\"#m2de99ca3aa\" y=\"239.758125\"/>\r\n      </g>\r\n     </g>\r\n     <g id=\"text_1\">\r\n      <!-- 0 -->\r\n      <g transform=\"translate(51.686932 254.356563)scale(0.1 -0.1)\">\r\n       <defs>\r\n        <path d=\"M 2034 4250 \r\nQ 1547 4250 1301 3770 \r\nQ 1056 3291 1056 2328 \r\nQ 1056 1369 1301 889 \r\nQ 1547 409 2034 409 \r\nQ 2525 409 2770 889 \r\nQ 3016 1369 3016 2328 \r\nQ 3016 3291 2770 3770 \r\nQ 2525 4250 2034 4250 \r\nz\r\nM 2034 4750 \r\nQ 2819 4750 3233 4129 \r\nQ 3647 3509 3647 2328 \r\nQ 3647 1150 3233 529 \r\nQ 2819 -91 2034 -91 \r\nQ 1250 -91 836 529 \r\nQ 422 1150 422 2328 \r\nQ 422 3509 836 4129 \r\nQ 1250 4750 2034 4750 \r\nz\r\n\" id=\"DejaVuSans-30\" transform=\"scale(0.015625)\"/>\r\n       </defs>\r\n       <use xlink:href=\"#DejaVuSans-30\"/>\r\n      </g>\r\n     </g>\r\n    </g>\r\n    <g id=\"xtick_2\">\r\n     <g id=\"line2d_3\">\r\n      <path clip-path=\"url(#pea077622fc)\" d=\"M 92.913636 239.758125 \r\nL 92.913636 22.318125 \r\n\" style=\"fill:none;stroke:#b0b0b0;stroke-linecap:square;stroke-width:0.8;\"/>\r\n     </g>\r\n     <g id=\"line2d_4\">\r\n      <g>\r\n       <use style=\"stroke:#000000;stroke-width:0.8;\" x=\"92.913636\" xlink:href=\"#m2de99ca3aa\" y=\"239.758125\"/>\r\n      </g>\r\n     </g>\r\n     <g id=\"text_2\">\r\n      <!-- 1 -->\r\n      <g transform=\"translate(89.732386 254.356563)scale(0.1 -0.1)\">\r\n       <defs>\r\n        <path d=\"M 794 531 \r\nL 1825 531 \r\nL 1825 4091 \r\nL 703 3866 \r\nL 703 4441 \r\nL 1819 4666 \r\nL 2450 4666 \r\nL 2450 531 \r\nL 3481 531 \r\nL 3481 0 \r\nL 794 0 \r\nL 794 531 \r\nz\r\n\" id=\"DejaVuSans-31\" transform=\"scale(0.015625)\"/>\r\n       </defs>\r\n       <use xlink:href=\"#DejaVuSans-31\"/>\r\n      </g>\r\n     </g>\r\n    </g>\r\n    <g id=\"xtick_3\">\r\n     <g id=\"line2d_5\">\r\n      <path clip-path=\"url(#pea077622fc)\" d=\"M 130.959091 239.758125 \r\nL 130.959091 22.318125 \r\n\" style=\"fill:none;stroke:#b0b0b0;stroke-linecap:square;stroke-width:0.8;\"/>\r\n     </g>\r\n     <g id=\"line2d_6\">\r\n      <g>\r\n       <use style=\"stroke:#000000;stroke-width:0.8;\" x=\"130.959091\" xlink:href=\"#m2de99ca3aa\" y=\"239.758125\"/>\r\n      </g>\r\n     </g>\r\n     <g id=\"text_3\">\r\n      <!-- 2 -->\r\n      <g transform=\"translate(127.777841 254.356563)scale(0.1 -0.1)\">\r\n       <defs>\r\n        <path d=\"M 1228 531 \r\nL 3431 531 \r\nL 3431 0 \r\nL 469 0 \r\nL 469 531 \r\nQ 828 903 1448 1529 \r\nQ 2069 2156 2228 2338 \r\nQ 2531 2678 2651 2914 \r\nQ 2772 3150 2772 3378 \r\nQ 2772 3750 2511 3984 \r\nQ 2250 4219 1831 4219 \r\nQ 1534 4219 1204 4116 \r\nQ 875 4013 500 3803 \r\nL 500 4441 \r\nQ 881 4594 1212 4672 \r\nQ 1544 4750 1819 4750 \r\nQ 2544 4750 2975 4387 \r\nQ 3406 4025 3406 3419 \r\nQ 3406 3131 3298 2873 \r\nQ 3191 2616 2906 2266 \r\nQ 2828 2175 2409 1742 \r\nQ 1991 1309 1228 531 \r\nz\r\n\" id=\"DejaVuSans-32\" transform=\"scale(0.015625)\"/>\r\n       </defs>\r\n       <use xlink:href=\"#DejaVuSans-32\"/>\r\n      </g>\r\n     </g>\r\n    </g>\r\n    <g id=\"xtick_4\">\r\n     <g id=\"line2d_7\">\r\n      <path clip-path=\"url(#pea077622fc)\" d=\"M 169.004545 239.758125 \r\nL 169.004545 22.318125 \r\n\" style=\"fill:none;stroke:#b0b0b0;stroke-linecap:square;stroke-width:0.8;\"/>\r\n     </g>\r\n     <g id=\"line2d_8\">\r\n      <g>\r\n       <use style=\"stroke:#000000;stroke-width:0.8;\" x=\"169.004545\" xlink:href=\"#m2de99ca3aa\" y=\"239.758125\"/>\r\n      </g>\r\n     </g>\r\n     <g id=\"text_4\">\r\n      <!-- 3 -->\r\n      <g transform=\"translate(165.823295 254.356563)scale(0.1 -0.1)\">\r\n       <defs>\r\n        <path d=\"M 2597 2516 \r\nQ 3050 2419 3304 2112 \r\nQ 3559 1806 3559 1356 \r\nQ 3559 666 3084 287 \r\nQ 2609 -91 1734 -91 \r\nQ 1441 -91 1130 -33 \r\nQ 819 25 488 141 \r\nL 488 750 \r\nQ 750 597 1062 519 \r\nQ 1375 441 1716 441 \r\nQ 2309 441 2620 675 \r\nQ 2931 909 2931 1356 \r\nQ 2931 1769 2642 2001 \r\nQ 2353 2234 1838 2234 \r\nL 1294 2234 \r\nL 1294 2753 \r\nL 1863 2753 \r\nQ 2328 2753 2575 2939 \r\nQ 2822 3125 2822 3475 \r\nQ 2822 3834 2567 4026 \r\nQ 2313 4219 1838 4219 \r\nQ 1578 4219 1281 4162 \r\nQ 984 4106 628 3988 \r\nL 628 4550 \r\nQ 988 4650 1302 4700 \r\nQ 1616 4750 1894 4750 \r\nQ 2613 4750 3031 4423 \r\nQ 3450 4097 3450 3541 \r\nQ 3450 3153 3228 2886 \r\nQ 3006 2619 2597 2516 \r\nz\r\n\" id=\"DejaVuSans-33\" transform=\"scale(0.015625)\"/>\r\n       </defs>\r\n       <use xlink:href=\"#DejaVuSans-33\"/>\r\n      </g>\r\n     </g>\r\n    </g>\r\n    <g id=\"xtick_5\">\r\n     <g id=\"line2d_9\">\r\n      <path clip-path=\"url(#pea077622fc)\" d=\"M 207.05 239.758125 \r\nL 207.05 22.318125 \r\n\" style=\"fill:none;stroke:#b0b0b0;stroke-linecap:square;stroke-width:0.8;\"/>\r\n     </g>\r\n     <g id=\"line2d_10\">\r\n      <g>\r\n       <use style=\"stroke:#000000;stroke-width:0.8;\" x=\"207.05\" xlink:href=\"#m2de99ca3aa\" y=\"239.758125\"/>\r\n      </g>\r\n     </g>\r\n     <g id=\"text_5\">\r\n      <!-- 4 -->\r\n      <g transform=\"translate(203.86875 254.356563)scale(0.1 -0.1)\">\r\n       <defs>\r\n        <path d=\"M 2419 4116 \r\nL 825 1625 \r\nL 2419 1625 \r\nL 2419 4116 \r\nz\r\nM 2253 4666 \r\nL 3047 4666 \r\nL 3047 1625 \r\nL 3713 1625 \r\nL 3713 1100 \r\nL 3047 1100 \r\nL 3047 0 \r\nL 2419 0 \r\nL 2419 1100 \r\nL 313 1100 \r\nL 313 1709 \r\nL 2253 4666 \r\nz\r\n\" id=\"DejaVuSans-34\" transform=\"scale(0.015625)\"/>\r\n       </defs>\r\n       <use xlink:href=\"#DejaVuSans-34\"/>\r\n      </g>\r\n     </g>\r\n    </g>\r\n    <g id=\"xtick_6\">\r\n     <g id=\"line2d_11\">\r\n      <path clip-path=\"url(#pea077622fc)\" d=\"M 245.095455 239.758125 \r\nL 245.095455 22.318125 \r\n\" style=\"fill:none;stroke:#b0b0b0;stroke-linecap:square;stroke-width:0.8;\"/>\r\n     </g>\r\n     <g id=\"line2d_12\">\r\n      <g>\r\n       <use style=\"stroke:#000000;stroke-width:0.8;\" x=\"245.095455\" xlink:href=\"#m2de99ca3aa\" y=\"239.758125\"/>\r\n      </g>\r\n     </g>\r\n     <g id=\"text_6\">\r\n      <!-- 5 -->\r\n      <g transform=\"translate(241.914205 254.356563)scale(0.1 -0.1)\">\r\n       <defs>\r\n        <path d=\"M 691 4666 \r\nL 3169 4666 \r\nL 3169 4134 \r\nL 1269 4134 \r\nL 1269 2991 \r\nQ 1406 3038 1543 3061 \r\nQ 1681 3084 1819 3084 \r\nQ 2600 3084 3056 2656 \r\nQ 3513 2228 3513 1497 \r\nQ 3513 744 3044 326 \r\nQ 2575 -91 1722 -91 \r\nQ 1428 -91 1123 -41 \r\nQ 819 9 494 109 \r\nL 494 744 \r\nQ 775 591 1075 516 \r\nQ 1375 441 1709 441 \r\nQ 2250 441 2565 725 \r\nQ 2881 1009 2881 1497 \r\nQ 2881 1984 2565 2268 \r\nQ 2250 2553 1709 2553 \r\nQ 1456 2553 1204 2497 \r\nQ 953 2441 691 2322 \r\nL 691 4666 \r\nz\r\n\" id=\"DejaVuSans-35\" transform=\"scale(0.015625)\"/>\r\n       </defs>\r\n       <use xlink:href=\"#DejaVuSans-35\"/>\r\n      </g>\r\n     </g>\r\n    </g>\r\n    <g id=\"xtick_7\">\r\n     <g id=\"line2d_13\">\r\n      <path clip-path=\"url(#pea077622fc)\" d=\"M 283.140909 239.758125 \r\nL 283.140909 22.318125 \r\n\" style=\"fill:none;stroke:#b0b0b0;stroke-linecap:square;stroke-width:0.8;\"/>\r\n     </g>\r\n     <g id=\"line2d_14\">\r\n      <g>\r\n       <use style=\"stroke:#000000;stroke-width:0.8;\" x=\"283.140909\" xlink:href=\"#m2de99ca3aa\" y=\"239.758125\"/>\r\n      </g>\r\n     </g>\r\n     <g id=\"text_7\">\r\n      <!-- 6 -->\r\n      <g transform=\"translate(279.959659 254.356563)scale(0.1 -0.1)\">\r\n       <defs>\r\n        <path d=\"M 2113 2584 \r\nQ 1688 2584 1439 2293 \r\nQ 1191 2003 1191 1497 \r\nQ 1191 994 1439 701 \r\nQ 1688 409 2113 409 \r\nQ 2538 409 2786 701 \r\nQ 3034 994 3034 1497 \r\nQ 3034 2003 2786 2293 \r\nQ 2538 2584 2113 2584 \r\nz\r\nM 3366 4563 \r\nL 3366 3988 \r\nQ 3128 4100 2886 4159 \r\nQ 2644 4219 2406 4219 \r\nQ 1781 4219 1451 3797 \r\nQ 1122 3375 1075 2522 \r\nQ 1259 2794 1537 2939 \r\nQ 1816 3084 2150 3084 \r\nQ 2853 3084 3261 2657 \r\nQ 3669 2231 3669 1497 \r\nQ 3669 778 3244 343 \r\nQ 2819 -91 2113 -91 \r\nQ 1303 -91 875 529 \r\nQ 447 1150 447 2328 \r\nQ 447 3434 972 4092 \r\nQ 1497 4750 2381 4750 \r\nQ 2619 4750 2861 4703 \r\nQ 3103 4656 3366 4563 \r\nz\r\n\" id=\"DejaVuSans-36\" transform=\"scale(0.015625)\"/>\r\n       </defs>\r\n       <use xlink:href=\"#DejaVuSans-36\"/>\r\n      </g>\r\n     </g>\r\n    </g>\r\n    <g id=\"xtick_8\">\r\n     <g id=\"line2d_15\">\r\n      <path clip-path=\"url(#pea077622fc)\" d=\"M 321.186364 239.758125 \r\nL 321.186364 22.318125 \r\n\" style=\"fill:none;stroke:#b0b0b0;stroke-linecap:square;stroke-width:0.8;\"/>\r\n     </g>\r\n     <g id=\"line2d_16\">\r\n      <g>\r\n       <use style=\"stroke:#000000;stroke-width:0.8;\" x=\"321.186364\" xlink:href=\"#m2de99ca3aa\" y=\"239.758125\"/>\r\n      </g>\r\n     </g>\r\n     <g id=\"text_8\">\r\n      <!-- 7 -->\r\n      <g transform=\"translate(318.005114 254.356563)scale(0.1 -0.1)\">\r\n       <defs>\r\n        <path d=\"M 525 4666 \r\nL 3525 4666 \r\nL 3525 4397 \r\nL 1831 0 \r\nL 1172 0 \r\nL 2766 4134 \r\nL 525 4134 \r\nL 525 4666 \r\nz\r\n\" id=\"DejaVuSans-37\" transform=\"scale(0.015625)\"/>\r\n       </defs>\r\n       <use xlink:href=\"#DejaVuSans-37\"/>\r\n      </g>\r\n     </g>\r\n    </g>\r\n    <g id=\"xtick_9\">\r\n     <g id=\"line2d_17\">\r\n      <path clip-path=\"url(#pea077622fc)\" d=\"M 359.231818 239.758125 \r\nL 359.231818 22.318125 \r\n\" style=\"fill:none;stroke:#b0b0b0;stroke-linecap:square;stroke-width:0.8;\"/>\r\n     </g>\r\n     <g id=\"line2d_18\">\r\n      <g>\r\n       <use style=\"stroke:#000000;stroke-width:0.8;\" x=\"359.231818\" xlink:href=\"#m2de99ca3aa\" y=\"239.758125\"/>\r\n      </g>\r\n     </g>\r\n     <g id=\"text_9\">\r\n      <!-- 8 -->\r\n      <g transform=\"translate(356.050568 254.356563)scale(0.1 -0.1)\">\r\n       <defs>\r\n        <path d=\"M 2034 2216 \r\nQ 1584 2216 1326 1975 \r\nQ 1069 1734 1069 1313 \r\nQ 1069 891 1326 650 \r\nQ 1584 409 2034 409 \r\nQ 2484 409 2743 651 \r\nQ 3003 894 3003 1313 \r\nQ 3003 1734 2745 1975 \r\nQ 2488 2216 2034 2216 \r\nz\r\nM 1403 2484 \r\nQ 997 2584 770 2862 \r\nQ 544 3141 544 3541 \r\nQ 544 4100 942 4425 \r\nQ 1341 4750 2034 4750 \r\nQ 2731 4750 3128 4425 \r\nQ 3525 4100 3525 3541 \r\nQ 3525 3141 3298 2862 \r\nQ 3072 2584 2669 2484 \r\nQ 3125 2378 3379 2068 \r\nQ 3634 1759 3634 1313 \r\nQ 3634 634 3220 271 \r\nQ 2806 -91 2034 -91 \r\nQ 1263 -91 848 271 \r\nQ 434 634 434 1313 \r\nQ 434 1759 690 2068 \r\nQ 947 2378 1403 2484 \r\nz\r\nM 1172 3481 \r\nQ 1172 3119 1398 2916 \r\nQ 1625 2713 2034 2713 \r\nQ 2441 2713 2670 2916 \r\nQ 2900 3119 2900 3481 \r\nQ 2900 3844 2670 4047 \r\nQ 2441 4250 2034 4250 \r\nQ 1625 4250 1398 4047 \r\nQ 1172 3844 1172 3481 \r\nz\r\n\" id=\"DejaVuSans-38\" transform=\"scale(0.015625)\"/>\r\n       </defs>\r\n       <use xlink:href=\"#DejaVuSans-38\"/>\r\n      </g>\r\n     </g>\r\n    </g>\r\n   </g>\r\n   <g id=\"matplotlib.axis_2\">\r\n    <g id=\"ytick_1\">\r\n     <g id=\"line2d_19\">\r\n      <path clip-path=\"url(#pea077622fc)\" d=\"M 39.65 239.758125 \r\nL 374.45 239.758125 \r\n\" style=\"fill:none;stroke:#b0b0b0;stroke-linecap:square;stroke-width:0.8;\"/>\r\n     </g>\r\n     <g id=\"line2d_20\">\r\n      <defs>\r\n       <path d=\"M 0 0 \r\nL -3.5 0 \r\n\" id=\"m59bced5acc\" style=\"stroke:#000000;stroke-width:0.8;\"/>\r\n      </defs>\r\n      <g>\r\n       <use style=\"stroke:#000000;stroke-width:0.8;\" x=\"39.65\" xlink:href=\"#m59bced5acc\" y=\"239.758125\"/>\r\n      </g>\r\n     </g>\r\n     <g id=\"text_10\">\r\n      <!-- 0 -->\r\n      <g transform=\"translate(26.2875 243.557344)scale(0.1 -0.1)\">\r\n       <use xlink:href=\"#DejaVuSans-30\"/>\r\n      </g>\r\n     </g>\r\n    </g>\r\n    <g id=\"ytick_2\">\r\n     <g id=\"line2d_21\">\r\n      <path clip-path=\"url(#pea077622fc)\" d=\"M 39.65 201.515149 \r\nL 374.45 201.515149 \r\n\" style=\"fill:none;stroke:#b0b0b0;stroke-linecap:square;stroke-width:0.8;\"/>\r\n     </g>\r\n     <g id=\"line2d_22\">\r\n      <g>\r\n       <use style=\"stroke:#000000;stroke-width:0.8;\" x=\"39.65\" xlink:href=\"#m59bced5acc\" y=\"201.515149\"/>\r\n      </g>\r\n     </g>\r\n     <g id=\"text_11\">\r\n      <!-- 200 -->\r\n      <g transform=\"translate(13.5625 205.314368)scale(0.1 -0.1)\">\r\n       <use xlink:href=\"#DejaVuSans-32\"/>\r\n       <use x=\"63.623047\" xlink:href=\"#DejaVuSans-30\"/>\r\n       <use x=\"127.246094\" xlink:href=\"#DejaVuSans-30\"/>\r\n      </g>\r\n     </g>\r\n    </g>\r\n    <g id=\"ytick_3\">\r\n     <g id=\"line2d_23\">\r\n      <path clip-path=\"url(#pea077622fc)\" d=\"M 39.65 163.272173 \r\nL 374.45 163.272173 \r\n\" style=\"fill:none;stroke:#b0b0b0;stroke-linecap:square;stroke-width:0.8;\"/>\r\n     </g>\r\n     <g id=\"line2d_24\">\r\n      <g>\r\n       <use style=\"stroke:#000000;stroke-width:0.8;\" x=\"39.65\" xlink:href=\"#m59bced5acc\" y=\"163.272173\"/>\r\n      </g>\r\n     </g>\r\n     <g id=\"text_12\">\r\n      <!-- 400 -->\r\n      <g transform=\"translate(13.5625 167.071392)scale(0.1 -0.1)\">\r\n       <use xlink:href=\"#DejaVuSans-34\"/>\r\n       <use x=\"63.623047\" xlink:href=\"#DejaVuSans-30\"/>\r\n       <use x=\"127.246094\" xlink:href=\"#DejaVuSans-30\"/>\r\n      </g>\r\n     </g>\r\n    </g>\r\n    <g id=\"ytick_4\">\r\n     <g id=\"line2d_25\">\r\n      <path clip-path=\"url(#pea077622fc)\" d=\"M 39.65 125.029197 \r\nL 374.45 125.029197 \r\n\" style=\"fill:none;stroke:#b0b0b0;stroke-linecap:square;stroke-width:0.8;\"/>\r\n     </g>\r\n     <g id=\"line2d_26\">\r\n      <g>\r\n       <use style=\"stroke:#000000;stroke-width:0.8;\" x=\"39.65\" xlink:href=\"#m59bced5acc\" y=\"125.029197\"/>\r\n      </g>\r\n     </g>\r\n     <g id=\"text_13\">\r\n      <!-- 600 -->\r\n      <g transform=\"translate(13.5625 128.828416)scale(0.1 -0.1)\">\r\n       <use xlink:href=\"#DejaVuSans-36\"/>\r\n       <use x=\"63.623047\" xlink:href=\"#DejaVuSans-30\"/>\r\n       <use x=\"127.246094\" xlink:href=\"#DejaVuSans-30\"/>\r\n      </g>\r\n     </g>\r\n    </g>\r\n    <g id=\"ytick_5\">\r\n     <g id=\"line2d_27\">\r\n      <path clip-path=\"url(#pea077622fc)\" d=\"M 39.65 86.786222 \r\nL 374.45 86.786222 \r\n\" style=\"fill:none;stroke:#b0b0b0;stroke-linecap:square;stroke-width:0.8;\"/>\r\n     </g>\r\n     <g id=\"line2d_28\">\r\n      <g>\r\n       <use style=\"stroke:#000000;stroke-width:0.8;\" x=\"39.65\" xlink:href=\"#m59bced5acc\" y=\"86.786222\"/>\r\n      </g>\r\n     </g>\r\n     <g id=\"text_14\">\r\n      <!-- 800 -->\r\n      <g transform=\"translate(13.5625 90.58544)scale(0.1 -0.1)\">\r\n       <use xlink:href=\"#DejaVuSans-38\"/>\r\n       <use x=\"63.623047\" xlink:href=\"#DejaVuSans-30\"/>\r\n       <use x=\"127.246094\" xlink:href=\"#DejaVuSans-30\"/>\r\n      </g>\r\n     </g>\r\n    </g>\r\n    <g id=\"ytick_6\">\r\n     <g id=\"line2d_29\">\r\n      <path clip-path=\"url(#pea077622fc)\" d=\"M 39.65 48.543246 \r\nL 374.45 48.543246 \r\n\" style=\"fill:none;stroke:#b0b0b0;stroke-linecap:square;stroke-width:0.8;\"/>\r\n     </g>\r\n     <g id=\"line2d_30\">\r\n      <g>\r\n       <use style=\"stroke:#000000;stroke-width:0.8;\" x=\"39.65\" xlink:href=\"#m59bced5acc\" y=\"48.543246\"/>\r\n      </g>\r\n     </g>\r\n     <g id=\"text_15\">\r\n      <!-- 1000 -->\r\n      <g transform=\"translate(7.2 52.342464)scale(0.1 -0.1)\">\r\n       <use xlink:href=\"#DejaVuSans-31\"/>\r\n       <use x=\"63.623047\" xlink:href=\"#DejaVuSans-30\"/>\r\n       <use x=\"127.246094\" xlink:href=\"#DejaVuSans-30\"/>\r\n       <use x=\"190.869141\" xlink:href=\"#DejaVuSans-30\"/>\r\n      </g>\r\n     </g>\r\n    </g>\r\n   </g>\r\n   <g id=\"patch_13\">\r\n    <path d=\"M 39.65 239.758125 \r\nL 39.65 22.318125 \r\n\" style=\"fill:none;stroke:#000000;stroke-linecap:square;stroke-linejoin:miter;stroke-width:0.8;\"/>\r\n   </g>\r\n   <g id=\"patch_14\">\r\n    <path d=\"M 374.45 239.758125 \r\nL 374.45 22.318125 \r\n\" style=\"fill:none;stroke:#000000;stroke-linecap:square;stroke-linejoin:miter;stroke-width:0.8;\"/>\r\n   </g>\r\n   <g id=\"patch_15\">\r\n    <path d=\"M 39.65 239.758125 \r\nL 374.45 239.758125 \r\n\" style=\"fill:none;stroke:#000000;stroke-linecap:square;stroke-linejoin:miter;stroke-width:0.8;\"/>\r\n   </g>\r\n   <g id=\"patch_16\">\r\n    <path d=\"M 39.65 22.318125 \r\nL 374.45 22.318125 \r\n\" style=\"fill:none;stroke:#000000;stroke-linecap:square;stroke-linejoin:miter;stroke-width:0.8;\"/>\r\n   </g>\r\n   <g id=\"text_16\">\r\n    <!-- total_pts -->\r\n    <g transform=\"translate(181.04375 16.318125)scale(0.12 -0.12)\">\r\n     <defs>\r\n      <path d=\"M 1172 4494 \r\nL 1172 3500 \r\nL 2356 3500 \r\nL 2356 3053 \r\nL 1172 3053 \r\nL 1172 1153 \r\nQ 1172 725 1289 603 \r\nQ 1406 481 1766 481 \r\nL 2356 481 \r\nL 2356 0 \r\nL 1766 0 \r\nQ 1100 0 847 248 \r\nQ 594 497 594 1153 \r\nL 594 3053 \r\nL 172 3053 \r\nL 172 3500 \r\nL 594 3500 \r\nL 594 4494 \r\nL 1172 4494 \r\nz\r\n\" id=\"DejaVuSans-74\" transform=\"scale(0.015625)\"/>\r\n      <path d=\"M 1959 3097 \r\nQ 1497 3097 1228 2736 \r\nQ 959 2375 959 1747 \r\nQ 959 1119 1226 758 \r\nQ 1494 397 1959 397 \r\nQ 2419 397 2687 759 \r\nQ 2956 1122 2956 1747 \r\nQ 2956 2369 2687 2733 \r\nQ 2419 3097 1959 3097 \r\nz\r\nM 1959 3584 \r\nQ 2709 3584 3137 3096 \r\nQ 3566 2609 3566 1747 \r\nQ 3566 888 3137 398 \r\nQ 2709 -91 1959 -91 \r\nQ 1206 -91 779 398 \r\nQ 353 888 353 1747 \r\nQ 353 2609 779 3096 \r\nQ 1206 3584 1959 3584 \r\nz\r\n\" id=\"DejaVuSans-6f\" transform=\"scale(0.015625)\"/>\r\n      <path d=\"M 2194 1759 \r\nQ 1497 1759 1228 1600 \r\nQ 959 1441 959 1056 \r\nQ 959 750 1161 570 \r\nQ 1363 391 1709 391 \r\nQ 2188 391 2477 730 \r\nQ 2766 1069 2766 1631 \r\nL 2766 1759 \r\nL 2194 1759 \r\nz\r\nM 3341 1997 \r\nL 3341 0 \r\nL 2766 0 \r\nL 2766 531 \r\nQ 2569 213 2275 61 \r\nQ 1981 -91 1556 -91 \r\nQ 1019 -91 701 211 \r\nQ 384 513 384 1019 \r\nQ 384 1609 779 1909 \r\nQ 1175 2209 1959 2209 \r\nL 2766 2209 \r\nL 2766 2266 \r\nQ 2766 2663 2505 2880 \r\nQ 2244 3097 1772 3097 \r\nQ 1472 3097 1187 3025 \r\nQ 903 2953 641 2809 \r\nL 641 3341 \r\nQ 956 3463 1253 3523 \r\nQ 1550 3584 1831 3584 \r\nQ 2591 3584 2966 3190 \r\nQ 3341 2797 3341 1997 \r\nz\r\n\" id=\"DejaVuSans-61\" transform=\"scale(0.015625)\"/>\r\n      <path d=\"M 603 4863 \r\nL 1178 4863 \r\nL 1178 0 \r\nL 603 0 \r\nL 603 4863 \r\nz\r\n\" id=\"DejaVuSans-6c\" transform=\"scale(0.015625)\"/>\r\n      <path d=\"M 3263 -1063 \r\nL 3263 -1509 \r\nL -63 -1509 \r\nL -63 -1063 \r\nL 3263 -1063 \r\nz\r\n\" id=\"DejaVuSans-5f\" transform=\"scale(0.015625)\"/>\r\n      <path d=\"M 1159 525 \r\nL 1159 -1331 \r\nL 581 -1331 \r\nL 581 3500 \r\nL 1159 3500 \r\nL 1159 2969 \r\nQ 1341 3281 1617 3432 \r\nQ 1894 3584 2278 3584 \r\nQ 2916 3584 3314 3078 \r\nQ 3713 2572 3713 1747 \r\nQ 3713 922 3314 415 \r\nQ 2916 -91 2278 -91 \r\nQ 1894 -91 1617 61 \r\nQ 1341 213 1159 525 \r\nz\r\nM 3116 1747 \r\nQ 3116 2381 2855 2742 \r\nQ 2594 3103 2138 3103 \r\nQ 1681 3103 1420 2742 \r\nQ 1159 2381 1159 1747 \r\nQ 1159 1113 1420 752 \r\nQ 1681 391 2138 391 \r\nQ 2594 391 2855 752 \r\nQ 3116 1113 3116 1747 \r\nz\r\n\" id=\"DejaVuSans-70\" transform=\"scale(0.015625)\"/>\r\n      <path d=\"M 2834 3397 \r\nL 2834 2853 \r\nQ 2591 2978 2328 3040 \r\nQ 2066 3103 1784 3103 \r\nQ 1356 3103 1142 2972 \r\nQ 928 2841 928 2578 \r\nQ 928 2378 1081 2264 \r\nQ 1234 2150 1697 2047 \r\nL 1894 2003 \r\nQ 2506 1872 2764 1633 \r\nQ 3022 1394 3022 966 \r\nQ 3022 478 2636 193 \r\nQ 2250 -91 1575 -91 \r\nQ 1294 -91 989 -36 \r\nQ 684 19 347 128 \r\nL 347 722 \r\nQ 666 556 975 473 \r\nQ 1284 391 1588 391 \r\nQ 1994 391 2212 530 \r\nQ 2431 669 2431 922 \r\nQ 2431 1156 2273 1281 \r\nQ 2116 1406 1581 1522 \r\nL 1381 1569 \r\nQ 847 1681 609 1914 \r\nQ 372 2147 372 2553 \r\nQ 372 3047 722 3315 \r\nQ 1072 3584 1716 3584 \r\nQ 2034 3584 2315 3537 \r\nQ 2597 3491 2834 3397 \r\nz\r\n\" id=\"DejaVuSans-73\" transform=\"scale(0.015625)\"/>\r\n     </defs>\r\n     <use xlink:href=\"#DejaVuSans-74\"/>\r\n     <use x=\"39.208984\" xlink:href=\"#DejaVuSans-6f\"/>\r\n     <use x=\"100.390625\" xlink:href=\"#DejaVuSans-74\"/>\r\n     <use x=\"139.599609\" xlink:href=\"#DejaVuSans-61\"/>\r\n     <use x=\"200.878906\" xlink:href=\"#DejaVuSans-6c\"/>\r\n     <use x=\"228.662109\" xlink:href=\"#DejaVuSans-5f\"/>\r\n     <use x=\"278.662109\" xlink:href=\"#DejaVuSans-70\"/>\r\n     <use x=\"342.138672\" xlink:href=\"#DejaVuSans-74\"/>\r\n     <use x=\"381.347656\" xlink:href=\"#DejaVuSans-73\"/>\r\n    </g>\r\n   </g>\r\n  </g>\r\n </g>\r\n <defs>\r\n  <clipPath id=\"pea077622fc\">\r\n   <rect height=\"217.44\" width=\"334.8\" x=\"39.65\" y=\"22.318125\"/>\r\n  </clipPath>\r\n </defs>\r\n</svg>\r\n",
      "image/png": "[encoded data removed]"
     },
     "metadata": {
      "needs_background": "light"
     }
    }
   ],
   "source": [
    "import matplotlib\n",
    "\n",
    "tracks_df.hist(column = 'total_pts')"
   ]
  },
  {
   "cell_type": "code",
   "execution_count": 21,
   "metadata": {},
   "outputs": [],
   "source": [
    "# getting top artists\n",
    "\n",
    "#top short term artists (3)\n",
    "artists_short = sp.current_user_top_artists(limit = 100, offset=0, time_range='short_term')['items']\n",
    "\n",
    "artist_short_id = [] \n",
    "artist_short_names = []\n",
    "\n",
    "for i in range(0, len(artists_short)):\n",
    "    #Removes the local tracks in your playlist if there is any\n",
    "    artist_short_id.append(artists_short[i]['id'])\n",
    "    artist_short_names.append(artists_short[i]['name'])\n",
    "\n",
    "#top medium term artists (2)\n",
    "\n",
    "artists_med = sp.current_user_top_artists(limit = 100, offset=0, time_range='medium_term')['items']\n",
    "\n",
    "artist_med_id = [] \n",
    "artist_med_names = []\n",
    "\n",
    "for i in range(0, len(artists_med)):\n",
    "    #Removes the local tracks in your playlist if there is any\n",
    "    artist_med_id.append(artists_med[i]['id'])\n",
    "    artist_med_names.append(artists_med[i]['name'])\n",
    "\n",
    "#top long term artists (1)\n",
    "\n",
    "artists_long = sp.current_user_top_artists(limit = 100, offset=0, time_range='long_term')['items']\n",
    "\n",
    "artist_long_id = [] \n",
    "artist_long_names = []\n",
    "\n",
    "for i in range(0, len(artists_long)):\n",
    "    #Removes the local tracks in your playlist if there is any\n",
    "    artist_long_id.append(artists_long[i]['id'])\n",
    "    artist_long_names.append(artists_long[i]['name'])"
   ]
  },
  {
   "cell_type": "code",
   "execution_count": 22,
   "metadata": {},
   "outputs": [
    {
     "output_type": "execute_result",
     "data": {
      "text/plain": [
       "                artist_id  artist_name  artist_short_pts\n",
       "0  1Xyo4u8uXC1ZmMpatF05PJ   The Weeknd                 3\n",
       "1  0fA0VVWsXO9YnASrzqfmYu     Kid Cudi                 3\n",
       "2  6l3HvQ5sa6mXTsMTB19rO5      J. Cole                 3\n",
       "3  5pKCCKE2ajJHZ9KAiaK11H      Rihanna                 3\n",
       "4  2h93pZq0e7k5yf4dywlkpM  Frank Ocean                 3"
      ],
      "text/html": "<div>\n<style scoped>\n    .dataframe tbody tr th:only-of-type {\n        vertical-align: middle;\n    }\n\n    .dataframe tbody tr th {\n        vertical-align: top;\n    }\n\n    .dataframe thead th {\n        text-align: right;\n    }\n</style>\n<table border=\"1\" class=\"dataframe\">\n  <thead>\n    <tr style=\"text-align: right;\">\n      <th></th>\n      <th>artist_id</th>\n      <th>artist_name</th>\n      <th>artist_short_pts</th>\n    </tr>\n  </thead>\n  <tbody>\n    <tr>\n      <th>0</th>\n      <td>1Xyo4u8uXC1ZmMpatF05PJ</td>\n      <td>The Weeknd</td>\n      <td>3</td>\n    </tr>\n    <tr>\n      <th>1</th>\n      <td>0fA0VVWsXO9YnASrzqfmYu</td>\n      <td>Kid Cudi</td>\n      <td>3</td>\n    </tr>\n    <tr>\n      <th>2</th>\n      <td>6l3HvQ5sa6mXTsMTB19rO5</td>\n      <td>J. Cole</td>\n      <td>3</td>\n    </tr>\n    <tr>\n      <th>3</th>\n      <td>5pKCCKE2ajJHZ9KAiaK11H</td>\n      <td>Rihanna</td>\n      <td>3</td>\n    </tr>\n    <tr>\n      <th>4</th>\n      <td>2h93pZq0e7k5yf4dywlkpM</td>\n      <td>Frank Ocean</td>\n      <td>3</td>\n    </tr>\n  </tbody>\n</table>\n</div>"
     },
     "metadata": {},
     "execution_count": 22
    }
   ],
   "source": [
    "short_tuples = list(zip(artist_short_id, artist_short_names))\n",
    "\n",
    "artist_short_df = pd.DataFrame(short_tuples, columns=['artist_id','artist_name'])\n",
    "\n",
    "artist_short_df['artist_short_pts'] = 3\n",
    "\n",
    "artist_short_df.head()"
   ]
  },
  {
   "cell_type": "code",
   "execution_count": 23,
   "metadata": {},
   "outputs": [
    {
     "output_type": "execute_result",
     "data": {
      "text/plain": [
       "                artist_id     artist_name  artist_med_pts\n",
       "0  1Xyo4u8uXC1ZmMpatF05PJ      The Weeknd               2\n",
       "1  0fA0VVWsXO9YnASrzqfmYu        Kid Cudi               2\n",
       "2  3eNYrVLcWfjJ9JdH9kiPJO  Linked Horizon               2\n",
       "3  0YC192cP3KPCRWx8zr8MfZ     Hans Zimmer               2\n",
       "4  6m14xgA0m3w92UM7ujJgky       UVERworld               2"
      ],
      "text/html": "<div>\n<style scoped>\n    .dataframe tbody tr th:only-of-type {\n        vertical-align: middle;\n    }\n\n    .dataframe tbody tr th {\n        vertical-align: top;\n    }\n\n    .dataframe thead th {\n        text-align: right;\n    }\n</style>\n<table border=\"1\" class=\"dataframe\">\n  <thead>\n    <tr style=\"text-align: right;\">\n      <th></th>\n      <th>artist_id</th>\n      <th>artist_name</th>\n      <th>artist_med_pts</th>\n    </tr>\n  </thead>\n  <tbody>\n    <tr>\n      <th>0</th>\n      <td>1Xyo4u8uXC1ZmMpatF05PJ</td>\n      <td>The Weeknd</td>\n      <td>2</td>\n    </tr>\n    <tr>\n      <th>1</th>\n      <td>0fA0VVWsXO9YnASrzqfmYu</td>\n      <td>Kid Cudi</td>\n      <td>2</td>\n    </tr>\n    <tr>\n      <th>2</th>\n      <td>3eNYrVLcWfjJ9JdH9kiPJO</td>\n      <td>Linked Horizon</td>\n      <td>2</td>\n    </tr>\n    <tr>\n      <th>3</th>\n      <td>0YC192cP3KPCRWx8zr8MfZ</td>\n      <td>Hans Zimmer</td>\n      <td>2</td>\n    </tr>\n    <tr>\n      <th>4</th>\n      <td>6m14xgA0m3w92UM7ujJgky</td>\n      <td>UVERworld</td>\n      <td>2</td>\n    </tr>\n  </tbody>\n</table>\n</div>"
     },
     "metadata": {},
     "execution_count": 23
    }
   ],
   "source": [
    "med_tuples = list(zip(artist_med_id, artist_med_names))\n",
    "\n",
    "artist_med_df = pd.DataFrame(med_tuples, columns=['artist_id','artist_name'])\n",
    "\n",
    "artist_med_df['artist_med_pts'] = 2\n",
    "\n",
    "artist_med_df.head()"
   ]
  },
  {
   "cell_type": "code",
   "execution_count": 24,
   "metadata": {},
   "outputs": [
    {
     "output_type": "execute_result",
     "data": {
      "text/plain": [
       "                artist_id   artist_name  artist_long_pts\n",
       "0  1Xyo4u8uXC1ZmMpatF05PJ    The Weeknd                1\n",
       "1  3TVXtAsR1Inumwj472S9r4         Drake                1\n",
       "2  1RyvyyTE3xzB2ZywiAwp0i        Future                1\n",
       "3  5K4W6rqBFWDnAN6FQUkS6x    Kanye West                1\n",
       "4  0Y5tJX1MQlPlqiwlOH1tJY  Travis Scott                1"
      ],
      "text/html": "<div>\n<style scoped>\n    .dataframe tbody tr th:only-of-type {\n        vertical-align: middle;\n    }\n\n    .dataframe tbody tr th {\n        vertical-align: top;\n    }\n\n    .dataframe thead th {\n        text-align: right;\n    }\n</style>\n<table border=\"1\" class=\"dataframe\">\n  <thead>\n    <tr style=\"text-align: right;\">\n      <th></th>\n      <th>artist_id</th>\n      <th>artist_name</th>\n      <th>artist_long_pts</th>\n    </tr>\n  </thead>\n  <tbody>\n    <tr>\n      <th>0</th>\n      <td>1Xyo4u8uXC1ZmMpatF05PJ</td>\n      <td>The Weeknd</td>\n      <td>1</td>\n    </tr>\n    <tr>\n      <th>1</th>\n      <td>3TVXtAsR1Inumwj472S9r4</td>\n      <td>Drake</td>\n      <td>1</td>\n    </tr>\n    <tr>\n      <th>2</th>\n      <td>1RyvyyTE3xzB2ZywiAwp0i</td>\n      <td>Future</td>\n      <td>1</td>\n    </tr>\n    <tr>\n      <th>3</th>\n      <td>5K4W6rqBFWDnAN6FQUkS6x</td>\n      <td>Kanye West</td>\n      <td>1</td>\n    </tr>\n    <tr>\n      <th>4</th>\n      <td>0Y5tJX1MQlPlqiwlOH1tJY</td>\n      <td>Travis Scott</td>\n      <td>1</td>\n    </tr>\n  </tbody>\n</table>\n</div>"
     },
     "metadata": {},
     "execution_count": 24
    }
   ],
   "source": [
    "long_tuples = list(zip(artist_long_id, artist_long_names))\n",
    "\n",
    "artist_long_df = pd.DataFrame(long_tuples, columns = ['artist_id', 'artist_name'])\n",
    "\n",
    "artist_long_df['artist_long_pts'] = 1\n",
    "\n",
    "artist_long_df.head()"
   ]
  },
  {
   "cell_type": "code",
   "execution_count": 78,
   "metadata": {},
   "outputs": [
    {
     "output_type": "execute_result",
     "data": {
      "text/plain": [
       "                       id  acousticness  danceability  duration_ms  energy  \\\n",
       "0  46lZpwebFWgqad5CX1iv6r        0.0637         0.919       158040   0.672   \n",
       "1  5Pc594FhDA2Fa2prE75GT0        0.0311         0.906       194607   0.474   \n",
       "2  0fea68AdmYNygeTGI4RC18        0.1520         0.754       242573   0.646   \n",
       "3  5ZicFGBDAi9J2YCVesboUp        0.1620         0.405       368720   0.619   \n",
       "4  4pHQ9RYFhn3W0ha5KEuMnj        0.1510         0.642       283933   0.790   \n",
       "\n",
       "   instrumentalness  key  liveness  loudness  mode  ...    tempo  valence  \\\n",
       "0          0.014400   10    0.0597    -3.404     0  ...  117.002    0.425   \n",
       "1          0.000005    1    0.2860    -6.124     1  ...  106.976    0.656   \n",
       "2          0.000018    7    0.1080    -5.795     1  ...  176.089    0.429   \n",
       "3          0.000334   11    0.0788    -8.920     0  ...  120.092    0.234   \n",
       "4          0.000583   11    0.3050    -6.800     0  ...  114.960    0.613   \n",
       "\n",
       "                                    uri                added_time short_pts  \\\n",
       "0  spotify:track:46lZpwebFWgqad5CX1iv6r 2021-05-14 19:10:01+00:00       3.0   \n",
       "1  spotify:track:5Pc594FhDA2Fa2prE75GT0 2021-05-13 22:30:16+00:00       3.0   \n",
       "2  spotify:track:0fea68AdmYNygeTGI4RC18 2021-05-13 03:41:42+00:00       0.0   \n",
       "3  spotify:track:5ZicFGBDAi9J2YCVesboUp 2021-05-11 16:09:42+00:00       0.0   \n",
       "4  spotify:track:4pHQ9RYFhn3W0ha5KEuMnj 2021-05-11 16:09:32+00:00       0.0   \n",
       "\n",
       "   med_pts  long_pts  time_pts  total_pts               artist_id  \n",
       "0      0.0       0.0       4.0        7.0  3FRVhQjAe73b3Et1XsOCnF  \n",
       "1      0.0       0.0       4.0        7.0  6M2wZ9GZgrQXHCFfjv46we  \n",
       "2      0.0       0.0       4.0        4.0  1vyhD5VmyZ7KMfW5gqLgo5  \n",
       "3      0.0       0.0       4.0        4.0  1Xyo4u8uXC1ZmMpatF05PJ  \n",
       "4      0.0       0.0       4.0        4.0  1Xyo4u8uXC1ZmMpatF05PJ  \n",
       "\n",
       "[5 rows x 21 columns]"
      ],
      "text/html": "<div>\n<style scoped>\n    .dataframe tbody tr th:only-of-type {\n        vertical-align: middle;\n    }\n\n    .dataframe tbody tr th {\n        vertical-align: top;\n    }\n\n    .dataframe thead th {\n        text-align: right;\n    }\n</style>\n<table border=\"1\" class=\"dataframe\">\n  <thead>\n    <tr style=\"text-align: right;\">\n      <th></th>\n      <th>id</th>\n      <th>acousticness</th>\n      <th>danceability</th>\n      <th>duration_ms</th>\n      <th>energy</th>\n      <th>instrumentalness</th>\n      <th>key</th>\n      <th>liveness</th>\n      <th>loudness</th>\n      <th>mode</th>\n      <th>...</th>\n      <th>tempo</th>\n      <th>valence</th>\n      <th>uri</th>\n      <th>added_time</th>\n      <th>short_pts</th>\n      <th>med_pts</th>\n      <th>long_pts</th>\n      <th>time_pts</th>\n      <th>total_pts</th>\n      <th>artist_id</th>\n    </tr>\n  </thead>\n  <tbody>\n    <tr>\n      <th>0</th>\n      <td>46lZpwebFWgqad5CX1iv6r</td>\n      <td>0.0637</td>\n      <td>0.919</td>\n      <td>158040</td>\n      <td>0.672</td>\n      <td>0.014400</td>\n      <td>10</td>\n      <td>0.0597</td>\n      <td>-3.404</td>\n      <td>0</td>\n      <td>...</td>\n      <td>117.002</td>\n      <td>0.425</td>\n      <td>spotify:track:46lZpwebFWgqad5CX1iv6r</td>\n      <td>2021-05-14 19:10:01+00:00</td>\n      <td>3.0</td>\n      <td>0.0</td>\n      <td>0.0</td>\n      <td>4.0</td>\n      <td>7.0</td>\n      <td>3FRVhQjAe73b3Et1XsOCnF</td>\n    </tr>\n    <tr>\n      <th>1</th>\n      <td>5Pc594FhDA2Fa2prE75GT0</td>\n      <td>0.0311</td>\n      <td>0.906</td>\n      <td>194607</td>\n      <td>0.474</td>\n      <td>0.000005</td>\n      <td>1</td>\n      <td>0.2860</td>\n      <td>-6.124</td>\n      <td>1</td>\n      <td>...</td>\n      <td>106.976</td>\n      <td>0.656</td>\n      <td>spotify:track:5Pc594FhDA2Fa2prE75GT0</td>\n      <td>2021-05-13 22:30:16+00:00</td>\n      <td>3.0</td>\n      <td>0.0</td>\n      <td>0.0</td>\n      <td>4.0</td>\n      <td>7.0</td>\n      <td>6M2wZ9GZgrQXHCFfjv46we</td>\n    </tr>\n    <tr>\n      <th>2</th>\n      <td>0fea68AdmYNygeTGI4RC18</td>\n      <td>0.1520</td>\n      <td>0.754</td>\n      <td>242573</td>\n      <td>0.646</td>\n      <td>0.000018</td>\n      <td>7</td>\n      <td>0.1080</td>\n      <td>-5.795</td>\n      <td>1</td>\n      <td>...</td>\n      <td>176.089</td>\n      <td>0.429</td>\n      <td>spotify:track:0fea68AdmYNygeTGI4RC18</td>\n      <td>2021-05-13 03:41:42+00:00</td>\n      <td>0.0</td>\n      <td>0.0</td>\n      <td>0.0</td>\n      <td>4.0</td>\n      <td>4.0</td>\n      <td>1vyhD5VmyZ7KMfW5gqLgo5</td>\n    </tr>\n    <tr>\n      <th>3</th>\n      <td>5ZicFGBDAi9J2YCVesboUp</td>\n      <td>0.1620</td>\n      <td>0.405</td>\n      <td>368720</td>\n      <td>0.619</td>\n      <td>0.000334</td>\n      <td>11</td>\n      <td>0.0788</td>\n      <td>-8.920</td>\n      <td>0</td>\n      <td>...</td>\n      <td>120.092</td>\n      <td>0.234</td>\n      <td>spotify:track:5ZicFGBDAi9J2YCVesboUp</td>\n      <td>2021-05-11 16:09:42+00:00</td>\n      <td>0.0</td>\n      <td>0.0</td>\n      <td>0.0</td>\n      <td>4.0</td>\n      <td>4.0</td>\n      <td>1Xyo4u8uXC1ZmMpatF05PJ</td>\n    </tr>\n    <tr>\n      <th>4</th>\n      <td>4pHQ9RYFhn3W0ha5KEuMnj</td>\n      <td>0.1510</td>\n      <td>0.642</td>\n      <td>283933</td>\n      <td>0.790</td>\n      <td>0.000583</td>\n      <td>11</td>\n      <td>0.3050</td>\n      <td>-6.800</td>\n      <td>0</td>\n      <td>...</td>\n      <td>114.960</td>\n      <td>0.613</td>\n      <td>spotify:track:4pHQ9RYFhn3W0ha5KEuMnj</td>\n      <td>2021-05-11 16:09:32+00:00</td>\n      <td>0.0</td>\n      <td>0.0</td>\n      <td>0.0</td>\n      <td>4.0</td>\n      <td>4.0</td>\n      <td>1Xyo4u8uXC1ZmMpatF05PJ</td>\n    </tr>\n  </tbody>\n</table>\n<p>5 rows × 21 columns</p>\n</div>"
     },
     "metadata": {},
     "execution_count": 78
    }
   ],
   "source": [
    "tracks_df.head()"
   ]
  },
  {
   "cell_type": "code",
   "execution_count": 26,
   "metadata": {},
   "outputs": [
    {
     "output_type": "execute_result",
     "data": {
      "text/plain": [
       "                       id  acousticness  danceability  duration_ms  energy  \\\n",
       "0  46lZpwebFWgqad5CX1iv6r        0.0637         0.919       158040   0.672   \n",
       "1  5Pc594FhDA2Fa2prE75GT0        0.0311         0.906       194607   0.474   \n",
       "2  0fea68AdmYNygeTGI4RC18        0.1520         0.754       242573   0.646   \n",
       "3  5ZicFGBDAi9J2YCVesboUp        0.1620         0.405       368720   0.619   \n",
       "4  4pHQ9RYFhn3W0ha5KEuMnj        0.1510         0.642       283933   0.790   \n",
       "\n",
       "   instrumentalness  key  liveness  loudness  mode  ...  med_pts  long_pts  \\\n",
       "0          0.014400   10    0.0597    -3.404     0  ...      0.0       0.0   \n",
       "1          0.000005    1    0.2860    -6.124     1  ...      0.0       0.0   \n",
       "2          0.000018    7    0.1080    -5.795     1  ...      0.0       0.0   \n",
       "3          0.000334   11    0.0788    -8.920     0  ...      0.0       0.0   \n",
       "4          0.000583   11    0.3050    -6.800     0  ...      0.0       0.0   \n",
       "\n",
       "   time_pts total_pts artist_name_x artist_short_pts artist_name_y  \\\n",
       "0       4.0       7.0           NaN              NaN           NaN   \n",
       "1       4.0       7.0           NaN              NaN           NaN   \n",
       "2       4.0       4.0           NaN              NaN           NaN   \n",
       "3       4.0       4.0    The Weeknd              3.0    The Weeknd   \n",
       "4       4.0       4.0    The Weeknd              3.0    The Weeknd   \n",
       "\n",
       "   artist_med_pts  artist_name  artist_long_pts  \n",
       "0             NaN          NaN              NaN  \n",
       "1             NaN          NaN              NaN  \n",
       "2             NaN          NaN              NaN  \n",
       "3             2.0   The Weeknd              1.0  \n",
       "4             2.0   The Weeknd              1.0  \n",
       "\n",
       "[5 rows x 28 columns]"
      ],
      "text/html": "<div>\n<style scoped>\n    .dataframe tbody tr th:only-of-type {\n        vertical-align: middle;\n    }\n\n    .dataframe tbody tr th {\n        vertical-align: top;\n    }\n\n    .dataframe thead th {\n        text-align: right;\n    }\n</style>\n<table border=\"1\" class=\"dataframe\">\n  <thead>\n    <tr style=\"text-align: right;\">\n      <th></th>\n      <th>id</th>\n      <th>acousticness</th>\n      <th>danceability</th>\n      <th>duration_ms</th>\n      <th>energy</th>\n      <th>instrumentalness</th>\n      <th>key</th>\n      <th>liveness</th>\n      <th>loudness</th>\n      <th>mode</th>\n      <th>...</th>\n      <th>med_pts</th>\n      <th>long_pts</th>\n      <th>time_pts</th>\n      <th>total_pts</th>\n      <th>artist_name_x</th>\n      <th>artist_short_pts</th>\n      <th>artist_name_y</th>\n      <th>artist_med_pts</th>\n      <th>artist_name</th>\n      <th>artist_long_pts</th>\n    </tr>\n  </thead>\n  <tbody>\n    <tr>\n      <th>0</th>\n      <td>46lZpwebFWgqad5CX1iv6r</td>\n      <td>0.0637</td>\n      <td>0.919</td>\n      <td>158040</td>\n      <td>0.672</td>\n      <td>0.014400</td>\n      <td>10</td>\n      <td>0.0597</td>\n      <td>-3.404</td>\n      <td>0</td>\n      <td>...</td>\n      <td>0.0</td>\n      <td>0.0</td>\n      <td>4.0</td>\n      <td>7.0</td>\n      <td>NaN</td>\n      <td>NaN</td>\n      <td>NaN</td>\n      <td>NaN</td>\n      <td>NaN</td>\n      <td>NaN</td>\n    </tr>\n    <tr>\n      <th>1</th>\n      <td>5Pc594FhDA2Fa2prE75GT0</td>\n      <td>0.0311</td>\n      <td>0.906</td>\n      <td>194607</td>\n      <td>0.474</td>\n      <td>0.000005</td>\n      <td>1</td>\n      <td>0.2860</td>\n      <td>-6.124</td>\n      <td>1</td>\n      <td>...</td>\n      <td>0.0</td>\n      <td>0.0</td>\n      <td>4.0</td>\n      <td>7.0</td>\n      <td>NaN</td>\n      <td>NaN</td>\n      <td>NaN</td>\n      <td>NaN</td>\n      <td>NaN</td>\n      <td>NaN</td>\n    </tr>\n    <tr>\n      <th>2</th>\n      <td>0fea68AdmYNygeTGI4RC18</td>\n      <td>0.1520</td>\n      <td>0.754</td>\n      <td>242573</td>\n      <td>0.646</td>\n      <td>0.000018</td>\n      <td>7</td>\n      <td>0.1080</td>\n      <td>-5.795</td>\n      <td>1</td>\n      <td>...</td>\n      <td>0.0</td>\n      <td>0.0</td>\n      <td>4.0</td>\n      <td>4.0</td>\n      <td>NaN</td>\n      <td>NaN</td>\n      <td>NaN</td>\n      <td>NaN</td>\n      <td>NaN</td>\n      <td>NaN</td>\n    </tr>\n    <tr>\n      <th>3</th>\n      <td>5ZicFGBDAi9J2YCVesboUp</td>\n      <td>0.1620</td>\n      <td>0.405</td>\n      <td>368720</td>\n      <td>0.619</td>\n      <td>0.000334</td>\n      <td>11</td>\n      <td>0.0788</td>\n      <td>-8.920</td>\n      <td>0</td>\n      <td>...</td>\n      <td>0.0</td>\n      <td>0.0</td>\n      <td>4.0</td>\n      <td>4.0</td>\n      <td>The Weeknd</td>\n      <td>3.0</td>\n      <td>The Weeknd</td>\n      <td>2.0</td>\n      <td>The Weeknd</td>\n      <td>1.0</td>\n    </tr>\n    <tr>\n      <th>4</th>\n      <td>4pHQ9RYFhn3W0ha5KEuMnj</td>\n      <td>0.1510</td>\n      <td>0.642</td>\n      <td>283933</td>\n      <td>0.790</td>\n      <td>0.000583</td>\n      <td>11</td>\n      <td>0.3050</td>\n      <td>-6.800</td>\n      <td>0</td>\n      <td>...</td>\n      <td>0.0</td>\n      <td>0.0</td>\n      <td>4.0</td>\n      <td>4.0</td>\n      <td>The Weeknd</td>\n      <td>3.0</td>\n      <td>The Weeknd</td>\n      <td>2.0</td>\n      <td>The Weeknd</td>\n      <td>1.0</td>\n    </tr>\n  </tbody>\n</table>\n<p>5 rows × 28 columns</p>\n</div>"
     },
     "metadata": {},
     "execution_count": 26
    }
   ],
   "source": [
    "tracks_df = tracks_df.merge(artist_short_df, how = 'left', on = 'artist_id')\n",
    "tracks_df = tracks_df.merge(artist_med_df, how = 'left', on = 'artist_id')\n",
    "tracks_df = tracks_df.merge(artist_long_df, how = 'left', on = 'artist_id')\n",
    "\n",
    "\n",
    "tracks_df.head()"
   ]
  },
  {
   "cell_type": "code",
   "execution_count": 36,
   "metadata": {},
   "outputs": [],
   "source": [
    "tracks_df.loc[tracks_df['artist_short_pts'] > 1, 'artist_med_pts'] = 0\n",
    "tracks_df.loc[tracks_df['artist_short_pts'] > 1, 'artist_long_pts'] = 0\n",
    "\n",
    "tracks_df.loc[tracks_df['artist_med_pts'] > 1, 'artist_long_pts'] = 0"
   ]
  },
  {
   "cell_type": "code",
   "execution_count": 45,
   "metadata": {},
   "outputs": [
    {
     "output_type": "stream",
     "name": "stdout",
     "text": [
      "11.0\n"
     ]
    }
   ],
   "source": [
    "tracks_df['total_pts'] = tracks_df['short_pts'] + tracks_df['med_pts'] + tracks_df['long_pts'] + tracks_df['time_pts'] + tracks_df['artist_short_pts'] + tracks_df['artist_med_pts'] + tracks_df['artist_long_pts']\n",
    "\n",
    "print(max(tracks_df['total_pts']))"
   ]
  },
  {
   "cell_type": "code",
   "execution_count": 51,
   "metadata": {},
   "outputs": [
    {
     "output_type": "execute_result",
     "data": {
      "text/plain": [
       "array([[<AxesSubplot:title={'center':'total_pts'}>]], dtype=object)"
      ]
     },
     "metadata": {},
     "execution_count": 51
    },
    {
     "output_type": "display_data",
     "data": {
      "text/plain": "<Figure size 432x288 with 1 Axes>",
      "image/svg+xml": "<?xml version=\"1.0\" encoding=\"utf-8\" standalone=\"no\"?>\r\n<!DOCTYPE svg PUBLIC \"-//W3C//DTD SVG 1.1//EN\"\r\n  \"http://www.w3.org/Graphics/SVG/1.1/DTD/svg11.dtd\">\r\n<svg height=\"263.63625pt\" version=\"1.1\" viewBox=\"0 0 375.2875 263.63625\" width=\"375.2875pt\" xmlns=\"http://www.w3.org/2000/svg\" xmlns:xlink=\"http://www.w3.org/1999/xlink\">\r\n <metadata>\r\n  <rdf:RDF xmlns:cc=\"http://creativecommons.org/ns#\" xmlns:dc=\"http://purl.org/dc/elements/1.1/\" xmlns:rdf=\"http://www.w3.org/1999/02/22-rdf-syntax-ns#\">\r\n   <cc:Work>\r\n    <dc:type rdf:resource=\"http://purl.org/dc/dcmitype/StillImage\"/>\r\n    <dc:date>2021-05-18T18:37:23.232731</dc:date>\r\n    <dc:format>image/svg+xml</dc:format>\r\n    <dc:creator>\r\n     <cc:Agent>\r\n      <dc:title>Matplotlib v3.4.2, https://matplotlib.org/</dc:title>\r\n     </cc:Agent>\r\n    </dc:creator>\r\n   </cc:Work>\r\n  </rdf:RDF>\r\n </metadata>\r\n <defs>\r\n  <style type=\"text/css\">*{stroke-linecap:butt;stroke-linejoin:round;}</style>\r\n </defs>\r\n <g id=\"figure_1\">\r\n  <g id=\"patch_1\">\r\n   <path d=\"M 0 263.63625 \r\nL 375.2875 263.63625 \r\nL 375.2875 0 \r\nL 0 0 \r\nz\r\n\" style=\"fill:none;\"/>\r\n  </g>\r\n  <g id=\"axes_1\">\r\n   <g id=\"patch_2\">\r\n    <path d=\"M 33.2875 239.758125 \r\nL 368.0875 239.758125 \r\nL 368.0875 22.318125 \r\nL 33.2875 22.318125 \r\nz\r\n\" style=\"fill:#ffffff;\"/>\r\n   </g>\r\n   <g id=\"patch_3\">\r\n    <path clip-path=\"url(#pa4b770dfd9)\" d=\"M 48.505682 239.758125 \r\nL 78.942045 239.758125 \r\nL 78.942045 32.672411 \r\nL 48.505682 32.672411 \r\nz\r\n\" style=\"fill:#1f77b4;\"/>\r\n   </g>\r\n   <g id=\"patch_4\">\r\n    <path clip-path=\"url(#pa4b770dfd9)\" d=\"M 78.942045 239.758125 \r\nL 109.378409 239.758125 \r\nL 109.378409 175.72085 \r\nL 78.942045 175.72085 \r\nz\r\n\" style=\"fill:#1f77b4;\"/>\r\n   </g>\r\n   <g id=\"patch_5\">\r\n    <path clip-path=\"url(#pa4b770dfd9)\" d=\"M 109.378409 239.758125 \r\nL 139.814773 239.758125 \r\nL 139.814773 90.337817 \r\nL 109.378409 90.337817 \r\nz\r\n\" style=\"fill:#1f77b4;\"/>\r\n   </g>\r\n   <g id=\"patch_6\">\r\n    <path clip-path=\"url(#pa4b770dfd9)\" d=\"M 139.814773 239.758125 \r\nL 170.251136 239.758125 \r\nL 170.251136 213.952059 \r\nL 139.814773 213.952059 \r\nz\r\n\" style=\"fill:#1f77b4;\"/>\r\n   </g>\r\n   <g id=\"patch_7\">\r\n    <path clip-path=\"url(#pa4b770dfd9)\" d=\"M 170.251136 239.758125 \r\nL 200.6875 239.758125 \r\nL 200.6875 234.023444 \r\nL 170.251136 234.023444 \r\nz\r\n\" style=\"fill:#1f77b4;\"/>\r\n   </g>\r\n   <g id=\"patch_8\">\r\n    <path clip-path=\"url(#pa4b770dfd9)\" d=\"M 200.6875 239.758125 \r\nL 231.123864 239.758125 \r\nL 231.123864 228.288762 \r\nL 200.6875 228.288762 \r\nz\r\n\" style=\"fill:#1f77b4;\"/>\r\n   </g>\r\n   <g id=\"patch_9\">\r\n    <path clip-path=\"url(#pa4b770dfd9)\" d=\"M 231.123864 239.758125 \r\nL 261.560227 239.758125 \r\nL 261.560227 238.802345 \r\nL 231.123864 238.802345 \r\nz\r\n\" style=\"fill:#1f77b4;\"/>\r\n   </g>\r\n   <g id=\"patch_10\">\r\n    <path clip-path=\"url(#pa4b770dfd9)\" d=\"M 261.560227 239.758125 \r\nL 291.996591 239.758125 \r\nL 291.996591 239.120938 \r\nL 261.560227 239.120938 \r\nz\r\n\" style=\"fill:#1f77b4;\"/>\r\n   </g>\r\n   <g id=\"patch_11\">\r\n    <path clip-path=\"url(#pa4b770dfd9)\" d=\"M 291.996591 239.758125 \r\nL 322.432955 239.758125 \r\nL 322.432955 237.846565 \r\nL 291.996591 237.846565 \r\nz\r\n\" style=\"fill:#1f77b4;\"/>\r\n   </g>\r\n   <g id=\"patch_12\">\r\n    <path clip-path=\"url(#pa4b770dfd9)\" d=\"M 322.432955 239.758125 \r\nL 352.869318 239.758125 \r\nL 352.869318 239.120938 \r\nL 322.432955 239.120938 \r\nz\r\n\" style=\"fill:#1f77b4;\"/>\r\n   </g>\r\n   <g id=\"matplotlib.axis_1\">\r\n    <g id=\"xtick_1\">\r\n     <g id=\"line2d_1\">\r\n      <path clip-path=\"url(#pa4b770dfd9)\" d=\"M 48.505682 239.758125 \r\nL 48.505682 22.318125 \r\n\" style=\"fill:none;stroke:#b0b0b0;stroke-linecap:square;stroke-width:0.8;\"/>\r\n     </g>\r\n     <g id=\"line2d_2\">\r\n      <defs>\r\n       <path d=\"M 0 0 \r\nL 0 3.5 \r\n\" id=\"m0a264a9153\" style=\"stroke:#000000;stroke-width:0.8;\"/>\r\n      </defs>\r\n      <g>\r\n       <use style=\"stroke:#000000;stroke-width:0.8;\" x=\"48.505682\" xlink:href=\"#m0a264a9153\" y=\"239.758125\"/>\r\n      </g>\r\n     </g>\r\n     <g id=\"text_1\">\r\n      <!-- 0 -->\r\n      <g transform=\"translate(45.324432 254.356563)scale(0.1 -0.1)\">\r\n       <defs>\r\n        <path d=\"M 2034 4250 \r\nQ 1547 4250 1301 3770 \r\nQ 1056 3291 1056 2328 \r\nQ 1056 1369 1301 889 \r\nQ 1547 409 2034 409 \r\nQ 2525 409 2770 889 \r\nQ 3016 1369 3016 2328 \r\nQ 3016 3291 2770 3770 \r\nQ 2525 4250 2034 4250 \r\nz\r\nM 2034 4750 \r\nQ 2819 4750 3233 4129 \r\nQ 3647 3509 3647 2328 \r\nQ 3647 1150 3233 529 \r\nQ 2819 -91 2034 -91 \r\nQ 1250 -91 836 529 \r\nQ 422 1150 422 2328 \r\nQ 422 3509 836 4129 \r\nQ 1250 4750 2034 4750 \r\nz\r\n\" id=\"DejaVuSans-30\" transform=\"scale(0.015625)\"/>\r\n       </defs>\r\n       <use xlink:href=\"#DejaVuSans-30\"/>\r\n      </g>\r\n     </g>\r\n    </g>\r\n    <g id=\"xtick_2\">\r\n     <g id=\"line2d_3\">\r\n      <path clip-path=\"url(#pa4b770dfd9)\" d=\"M 103.844525 239.758125 \r\nL 103.844525 22.318125 \r\n\" style=\"fill:none;stroke:#b0b0b0;stroke-linecap:square;stroke-width:0.8;\"/>\r\n     </g>\r\n     <g id=\"line2d_4\">\r\n      <g>\r\n       <use style=\"stroke:#000000;stroke-width:0.8;\" x=\"103.844525\" xlink:href=\"#m0a264a9153\" y=\"239.758125\"/>\r\n      </g>\r\n     </g>\r\n     <g id=\"text_2\">\r\n      <!-- 2 -->\r\n      <g transform=\"translate(100.663275 254.356563)scale(0.1 -0.1)\">\r\n       <defs>\r\n        <path d=\"M 1228 531 \r\nL 3431 531 \r\nL 3431 0 \r\nL 469 0 \r\nL 469 531 \r\nQ 828 903 1448 1529 \r\nQ 2069 2156 2228 2338 \r\nQ 2531 2678 2651 2914 \r\nQ 2772 3150 2772 3378 \r\nQ 2772 3750 2511 3984 \r\nQ 2250 4219 1831 4219 \r\nQ 1534 4219 1204 4116 \r\nQ 875 4013 500 3803 \r\nL 500 4441 \r\nQ 881 4594 1212 4672 \r\nQ 1544 4750 1819 4750 \r\nQ 2544 4750 2975 4387 \r\nQ 3406 4025 3406 3419 \r\nQ 3406 3131 3298 2873 \r\nQ 3191 2616 2906 2266 \r\nQ 2828 2175 2409 1742 \r\nQ 1991 1309 1228 531 \r\nz\r\n\" id=\"DejaVuSans-32\" transform=\"scale(0.015625)\"/>\r\n       </defs>\r\n       <use xlink:href=\"#DejaVuSans-32\"/>\r\n      </g>\r\n     </g>\r\n    </g>\r\n    <g id=\"xtick_3\">\r\n     <g id=\"line2d_5\">\r\n      <path clip-path=\"url(#pa4b770dfd9)\" d=\"M 159.183368 239.758125 \r\nL 159.183368 22.318125 \r\n\" style=\"fill:none;stroke:#b0b0b0;stroke-linecap:square;stroke-width:0.8;\"/>\r\n     </g>\r\n     <g id=\"line2d_6\">\r\n      <g>\r\n       <use style=\"stroke:#000000;stroke-width:0.8;\" x=\"159.183368\" xlink:href=\"#m0a264a9153\" y=\"239.758125\"/>\r\n      </g>\r\n     </g>\r\n     <g id=\"text_3\">\r\n      <!-- 4 -->\r\n      <g transform=\"translate(156.002118 254.356563)scale(0.1 -0.1)\">\r\n       <defs>\r\n        <path d=\"M 2419 4116 \r\nL 825 1625 \r\nL 2419 1625 \r\nL 2419 4116 \r\nz\r\nM 2253 4666 \r\nL 3047 4666 \r\nL 3047 1625 \r\nL 3713 1625 \r\nL 3713 1100 \r\nL 3047 1100 \r\nL 3047 0 \r\nL 2419 0 \r\nL 2419 1100 \r\nL 313 1100 \r\nL 313 1709 \r\nL 2253 4666 \r\nz\r\n\" id=\"DejaVuSans-34\" transform=\"scale(0.015625)\"/>\r\n       </defs>\r\n       <use xlink:href=\"#DejaVuSans-34\"/>\r\n      </g>\r\n     </g>\r\n    </g>\r\n    <g id=\"xtick_4\">\r\n     <g id=\"line2d_7\">\r\n      <path clip-path=\"url(#pa4b770dfd9)\" d=\"M 214.522211 239.758125 \r\nL 214.522211 22.318125 \r\n\" style=\"fill:none;stroke:#b0b0b0;stroke-linecap:square;stroke-width:0.8;\"/>\r\n     </g>\r\n     <g id=\"line2d_8\">\r\n      <g>\r\n       <use style=\"stroke:#000000;stroke-width:0.8;\" x=\"214.522211\" xlink:href=\"#m0a264a9153\" y=\"239.758125\"/>\r\n      </g>\r\n     </g>\r\n     <g id=\"text_4\">\r\n      <!-- 6 -->\r\n      <g transform=\"translate(211.340961 254.356563)scale(0.1 -0.1)\">\r\n       <defs>\r\n        <path d=\"M 2113 2584 \r\nQ 1688 2584 1439 2293 \r\nQ 1191 2003 1191 1497 \r\nQ 1191 994 1439 701 \r\nQ 1688 409 2113 409 \r\nQ 2538 409 2786 701 \r\nQ 3034 994 3034 1497 \r\nQ 3034 2003 2786 2293 \r\nQ 2538 2584 2113 2584 \r\nz\r\nM 3366 4563 \r\nL 3366 3988 \r\nQ 3128 4100 2886 4159 \r\nQ 2644 4219 2406 4219 \r\nQ 1781 4219 1451 3797 \r\nQ 1122 3375 1075 2522 \r\nQ 1259 2794 1537 2939 \r\nQ 1816 3084 2150 3084 \r\nQ 2853 3084 3261 2657 \r\nQ 3669 2231 3669 1497 \r\nQ 3669 778 3244 343 \r\nQ 2819 -91 2113 -91 \r\nQ 1303 -91 875 529 \r\nQ 447 1150 447 2328 \r\nQ 447 3434 972 4092 \r\nQ 1497 4750 2381 4750 \r\nQ 2619 4750 2861 4703 \r\nQ 3103 4656 3366 4563 \r\nz\r\n\" id=\"DejaVuSans-36\" transform=\"scale(0.015625)\"/>\r\n       </defs>\r\n       <use xlink:href=\"#DejaVuSans-36\"/>\r\n      </g>\r\n     </g>\r\n    </g>\r\n    <g id=\"xtick_5\">\r\n     <g id=\"line2d_9\">\r\n      <path clip-path=\"url(#pa4b770dfd9)\" d=\"M 269.861054 239.758125 \r\nL 269.861054 22.318125 \r\n\" style=\"fill:none;stroke:#b0b0b0;stroke-linecap:square;stroke-width:0.8;\"/>\r\n     </g>\r\n     <g id=\"line2d_10\">\r\n      <g>\r\n       <use style=\"stroke:#000000;stroke-width:0.8;\" x=\"269.861054\" xlink:href=\"#m0a264a9153\" y=\"239.758125\"/>\r\n      </g>\r\n     </g>\r\n     <g id=\"text_5\">\r\n      <!-- 8 -->\r\n      <g transform=\"translate(266.679804 254.356563)scale(0.1 -0.1)\">\r\n       <defs>\r\n        <path d=\"M 2034 2216 \r\nQ 1584 2216 1326 1975 \r\nQ 1069 1734 1069 1313 \r\nQ 1069 891 1326 650 \r\nQ 1584 409 2034 409 \r\nQ 2484 409 2743 651 \r\nQ 3003 894 3003 1313 \r\nQ 3003 1734 2745 1975 \r\nQ 2488 2216 2034 2216 \r\nz\r\nM 1403 2484 \r\nQ 997 2584 770 2862 \r\nQ 544 3141 544 3541 \r\nQ 544 4100 942 4425 \r\nQ 1341 4750 2034 4750 \r\nQ 2731 4750 3128 4425 \r\nQ 3525 4100 3525 3541 \r\nQ 3525 3141 3298 2862 \r\nQ 3072 2584 2669 2484 \r\nQ 3125 2378 3379 2068 \r\nQ 3634 1759 3634 1313 \r\nQ 3634 634 3220 271 \r\nQ 2806 -91 2034 -91 \r\nQ 1263 -91 848 271 \r\nQ 434 634 434 1313 \r\nQ 434 1759 690 2068 \r\nQ 947 2378 1403 2484 \r\nz\r\nM 1172 3481 \r\nQ 1172 3119 1398 2916 \r\nQ 1625 2713 2034 2713 \r\nQ 2441 2713 2670 2916 \r\nQ 2900 3119 2900 3481 \r\nQ 2900 3844 2670 4047 \r\nQ 2441 4250 2034 4250 \r\nQ 1625 4250 1398 4047 \r\nQ 1172 3844 1172 3481 \r\nz\r\n\" id=\"DejaVuSans-38\" transform=\"scale(0.015625)\"/>\r\n       </defs>\r\n       <use xlink:href=\"#DejaVuSans-38\"/>\r\n      </g>\r\n     </g>\r\n    </g>\r\n    <g id=\"xtick_6\">\r\n     <g id=\"line2d_11\">\r\n      <path clip-path=\"url(#pa4b770dfd9)\" d=\"M 325.199897 239.758125 \r\nL 325.199897 22.318125 \r\n\" style=\"fill:none;stroke:#b0b0b0;stroke-linecap:square;stroke-width:0.8;\"/>\r\n     </g>\r\n     <g id=\"line2d_12\">\r\n      <g>\r\n       <use style=\"stroke:#000000;stroke-width:0.8;\" x=\"325.199897\" xlink:href=\"#m0a264a9153\" y=\"239.758125\"/>\r\n      </g>\r\n     </g>\r\n     <g id=\"text_6\">\r\n      <!-- 10 -->\r\n      <g transform=\"translate(318.837397 254.356563)scale(0.1 -0.1)\">\r\n       <defs>\r\n        <path d=\"M 794 531 \r\nL 1825 531 \r\nL 1825 4091 \r\nL 703 3866 \r\nL 703 4441 \r\nL 1819 4666 \r\nL 2450 4666 \r\nL 2450 531 \r\nL 3481 531 \r\nL 3481 0 \r\nL 794 0 \r\nL 794 531 \r\nz\r\n\" id=\"DejaVuSans-31\" transform=\"scale(0.015625)\"/>\r\n       </defs>\r\n       <use xlink:href=\"#DejaVuSans-31\"/>\r\n       <use x=\"63.623047\" xlink:href=\"#DejaVuSans-30\"/>\r\n      </g>\r\n     </g>\r\n    </g>\r\n   </g>\r\n   <g id=\"matplotlib.axis_2\">\r\n    <g id=\"ytick_1\">\r\n     <g id=\"line2d_13\">\r\n      <path clip-path=\"url(#pa4b770dfd9)\" d=\"M 33.2875 239.758125 \r\nL 368.0875 239.758125 \r\n\" style=\"fill:none;stroke:#b0b0b0;stroke-linecap:square;stroke-width:0.8;\"/>\r\n     </g>\r\n     <g id=\"line2d_14\">\r\n      <defs>\r\n       <path d=\"M 0 0 \r\nL -3.5 0 \r\n\" id=\"mf9bb47e2a2\" style=\"stroke:#000000;stroke-width:0.8;\"/>\r\n      </defs>\r\n      <g>\r\n       <use style=\"stroke:#000000;stroke-width:0.8;\" x=\"33.2875\" xlink:href=\"#mf9bb47e2a2\" y=\"239.758125\"/>\r\n      </g>\r\n     </g>\r\n     <g id=\"text_7\">\r\n      <!-- 0 -->\r\n      <g transform=\"translate(19.925 243.557344)scale(0.1 -0.1)\">\r\n       <use xlink:href=\"#DejaVuSans-30\"/>\r\n      </g>\r\n     </g>\r\n    </g>\r\n    <g id=\"ytick_2\">\r\n     <g id=\"line2d_15\">\r\n      <path clip-path=\"url(#pa4b770dfd9)\" d=\"M 33.2875 207.898784 \r\nL 368.0875 207.898784 \r\n\" style=\"fill:none;stroke:#b0b0b0;stroke-linecap:square;stroke-width:0.8;\"/>\r\n     </g>\r\n     <g id=\"line2d_16\">\r\n      <g>\r\n       <use style=\"stroke:#000000;stroke-width:0.8;\" x=\"33.2875\" xlink:href=\"#mf9bb47e2a2\" y=\"207.898784\"/>\r\n      </g>\r\n     </g>\r\n     <g id=\"text_8\">\r\n      <!-- 100 -->\r\n      <g transform=\"translate(7.2 211.698003)scale(0.1 -0.1)\">\r\n       <use xlink:href=\"#DejaVuSans-31\"/>\r\n       <use x=\"63.623047\" xlink:href=\"#DejaVuSans-30\"/>\r\n       <use x=\"127.246094\" xlink:href=\"#DejaVuSans-30\"/>\r\n      </g>\r\n     </g>\r\n    </g>\r\n    <g id=\"ytick_3\">\r\n     <g id=\"line2d_17\">\r\n      <path clip-path=\"url(#pa4b770dfd9)\" d=\"M 33.2875 176.039444 \r\nL 368.0875 176.039444 \r\n\" style=\"fill:none;stroke:#b0b0b0;stroke-linecap:square;stroke-width:0.8;\"/>\r\n     </g>\r\n     <g id=\"line2d_18\">\r\n      <g>\r\n       <use style=\"stroke:#000000;stroke-width:0.8;\" x=\"33.2875\" xlink:href=\"#mf9bb47e2a2\" y=\"176.039444\"/>\r\n      </g>\r\n     </g>\r\n     <g id=\"text_9\">\r\n      <!-- 200 -->\r\n      <g transform=\"translate(7.2 179.838662)scale(0.1 -0.1)\">\r\n       <use xlink:href=\"#DejaVuSans-32\"/>\r\n       <use x=\"63.623047\" xlink:href=\"#DejaVuSans-30\"/>\r\n       <use x=\"127.246094\" xlink:href=\"#DejaVuSans-30\"/>\r\n      </g>\r\n     </g>\r\n    </g>\r\n    <g id=\"ytick_4\">\r\n     <g id=\"line2d_19\">\r\n      <path clip-path=\"url(#pa4b770dfd9)\" d=\"M 33.2875 144.180103 \r\nL 368.0875 144.180103 \r\n\" style=\"fill:none;stroke:#b0b0b0;stroke-linecap:square;stroke-width:0.8;\"/>\r\n     </g>\r\n     <g id=\"line2d_20\">\r\n      <g>\r\n       <use style=\"stroke:#000000;stroke-width:0.8;\" x=\"33.2875\" xlink:href=\"#mf9bb47e2a2\" y=\"144.180103\"/>\r\n      </g>\r\n     </g>\r\n     <g id=\"text_10\">\r\n      <!-- 300 -->\r\n      <g transform=\"translate(7.2 147.979322)scale(0.1 -0.1)\">\r\n       <defs>\r\n        <path d=\"M 2597 2516 \r\nQ 3050 2419 3304 2112 \r\nQ 3559 1806 3559 1356 \r\nQ 3559 666 3084 287 \r\nQ 2609 -91 1734 -91 \r\nQ 1441 -91 1130 -33 \r\nQ 819 25 488 141 \r\nL 488 750 \r\nQ 750 597 1062 519 \r\nQ 1375 441 1716 441 \r\nQ 2309 441 2620 675 \r\nQ 2931 909 2931 1356 \r\nQ 2931 1769 2642 2001 \r\nQ 2353 2234 1838 2234 \r\nL 1294 2234 \r\nL 1294 2753 \r\nL 1863 2753 \r\nQ 2328 2753 2575 2939 \r\nQ 2822 3125 2822 3475 \r\nQ 2822 3834 2567 4026 \r\nQ 2313 4219 1838 4219 \r\nQ 1578 4219 1281 4162 \r\nQ 984 4106 628 3988 \r\nL 628 4550 \r\nQ 988 4650 1302 4700 \r\nQ 1616 4750 1894 4750 \r\nQ 2613 4750 3031 4423 \r\nQ 3450 4097 3450 3541 \r\nQ 3450 3153 3228 2886 \r\nQ 3006 2619 2597 2516 \r\nz\r\n\" id=\"DejaVuSans-33\" transform=\"scale(0.015625)\"/>\r\n       </defs>\r\n       <use xlink:href=\"#DejaVuSans-33\"/>\r\n       <use x=\"63.623047\" xlink:href=\"#DejaVuSans-30\"/>\r\n       <use x=\"127.246094\" xlink:href=\"#DejaVuSans-30\"/>\r\n      </g>\r\n     </g>\r\n    </g>\r\n    <g id=\"ytick_5\">\r\n     <g id=\"line2d_21\">\r\n      <path clip-path=\"url(#pa4b770dfd9)\" d=\"M 33.2875 112.320762 \r\nL 368.0875 112.320762 \r\n\" style=\"fill:none;stroke:#b0b0b0;stroke-linecap:square;stroke-width:0.8;\"/>\r\n     </g>\r\n     <g id=\"line2d_22\">\r\n      <g>\r\n       <use style=\"stroke:#000000;stroke-width:0.8;\" x=\"33.2875\" xlink:href=\"#mf9bb47e2a2\" y=\"112.320762\"/>\r\n      </g>\r\n     </g>\r\n     <g id=\"text_11\">\r\n      <!-- 400 -->\r\n      <g transform=\"translate(7.2 116.119981)scale(0.1 -0.1)\">\r\n       <use xlink:href=\"#DejaVuSans-34\"/>\r\n       <use x=\"63.623047\" xlink:href=\"#DejaVuSans-30\"/>\r\n       <use x=\"127.246094\" xlink:href=\"#DejaVuSans-30\"/>\r\n      </g>\r\n     </g>\r\n    </g>\r\n    <g id=\"ytick_6\">\r\n     <g id=\"line2d_23\">\r\n      <path clip-path=\"url(#pa4b770dfd9)\" d=\"M 33.2875 80.461422 \r\nL 368.0875 80.461422 \r\n\" style=\"fill:none;stroke:#b0b0b0;stroke-linecap:square;stroke-width:0.8;\"/>\r\n     </g>\r\n     <g id=\"line2d_24\">\r\n      <g>\r\n       <use style=\"stroke:#000000;stroke-width:0.8;\" x=\"33.2875\" xlink:href=\"#mf9bb47e2a2\" y=\"80.461422\"/>\r\n      </g>\r\n     </g>\r\n     <g id=\"text_12\">\r\n      <!-- 500 -->\r\n      <g transform=\"translate(7.2 84.26064)scale(0.1 -0.1)\">\r\n       <defs>\r\n        <path d=\"M 691 4666 \r\nL 3169 4666 \r\nL 3169 4134 \r\nL 1269 4134 \r\nL 1269 2991 \r\nQ 1406 3038 1543 3061 \r\nQ 1681 3084 1819 3084 \r\nQ 2600 3084 3056 2656 \r\nQ 3513 2228 3513 1497 \r\nQ 3513 744 3044 326 \r\nQ 2575 -91 1722 -91 \r\nQ 1428 -91 1123 -41 \r\nQ 819 9 494 109 \r\nL 494 744 \r\nQ 775 591 1075 516 \r\nQ 1375 441 1709 441 \r\nQ 2250 441 2565 725 \r\nQ 2881 1009 2881 1497 \r\nQ 2881 1984 2565 2268 \r\nQ 2250 2553 1709 2553 \r\nQ 1456 2553 1204 2497 \r\nQ 953 2441 691 2322 \r\nL 691 4666 \r\nz\r\n\" id=\"DejaVuSans-35\" transform=\"scale(0.015625)\"/>\r\n       </defs>\r\n       <use xlink:href=\"#DejaVuSans-35\"/>\r\n       <use x=\"63.623047\" xlink:href=\"#DejaVuSans-30\"/>\r\n       <use x=\"127.246094\" xlink:href=\"#DejaVuSans-30\"/>\r\n      </g>\r\n     </g>\r\n    </g>\r\n    <g id=\"ytick_7\">\r\n     <g id=\"line2d_25\">\r\n      <path clip-path=\"url(#pa4b770dfd9)\" d=\"M 33.2875 48.602081 \r\nL 368.0875 48.602081 \r\n\" style=\"fill:none;stroke:#b0b0b0;stroke-linecap:square;stroke-width:0.8;\"/>\r\n     </g>\r\n     <g id=\"line2d_26\">\r\n      <g>\r\n       <use style=\"stroke:#000000;stroke-width:0.8;\" x=\"33.2875\" xlink:href=\"#mf9bb47e2a2\" y=\"48.602081\"/>\r\n      </g>\r\n     </g>\r\n     <g id=\"text_13\">\r\n      <!-- 600 -->\r\n      <g transform=\"translate(7.2 52.4013)scale(0.1 -0.1)\">\r\n       <use xlink:href=\"#DejaVuSans-36\"/>\r\n       <use x=\"63.623047\" xlink:href=\"#DejaVuSans-30\"/>\r\n       <use x=\"127.246094\" xlink:href=\"#DejaVuSans-30\"/>\r\n      </g>\r\n     </g>\r\n    </g>\r\n   </g>\r\n   <g id=\"patch_13\">\r\n    <path d=\"M 33.2875 239.758125 \r\nL 33.2875 22.318125 \r\n\" style=\"fill:none;stroke:#000000;stroke-linecap:square;stroke-linejoin:miter;stroke-width:0.8;\"/>\r\n   </g>\r\n   <g id=\"patch_14\">\r\n    <path d=\"M 368.0875 239.758125 \r\nL 368.0875 22.318125 \r\n\" style=\"fill:none;stroke:#000000;stroke-linecap:square;stroke-linejoin:miter;stroke-width:0.8;\"/>\r\n   </g>\r\n   <g id=\"patch_15\">\r\n    <path d=\"M 33.2875 239.758125 \r\nL 368.0875 239.758125 \r\n\" style=\"fill:none;stroke:#000000;stroke-linecap:square;stroke-linejoin:miter;stroke-width:0.8;\"/>\r\n   </g>\r\n   <g id=\"patch_16\">\r\n    <path d=\"M 33.2875 22.318125 \r\nL 368.0875 22.318125 \r\n\" style=\"fill:none;stroke:#000000;stroke-linecap:square;stroke-linejoin:miter;stroke-width:0.8;\"/>\r\n   </g>\r\n   <g id=\"text_14\">\r\n    <!-- total_pts -->\r\n    <g transform=\"translate(174.68125 16.318125)scale(0.12 -0.12)\">\r\n     <defs>\r\n      <path d=\"M 1172 4494 \r\nL 1172 3500 \r\nL 2356 3500 \r\nL 2356 3053 \r\nL 1172 3053 \r\nL 1172 1153 \r\nQ 1172 725 1289 603 \r\nQ 1406 481 1766 481 \r\nL 2356 481 \r\nL 2356 0 \r\nL 1766 0 \r\nQ 1100 0 847 248 \r\nQ 594 497 594 1153 \r\nL 594 3053 \r\nL 172 3053 \r\nL 172 3500 \r\nL 594 3500 \r\nL 594 4494 \r\nL 1172 4494 \r\nz\r\n\" id=\"DejaVuSans-74\" transform=\"scale(0.015625)\"/>\r\n      <path d=\"M 1959 3097 \r\nQ 1497 3097 1228 2736 \r\nQ 959 2375 959 1747 \r\nQ 959 1119 1226 758 \r\nQ 1494 397 1959 397 \r\nQ 2419 397 2687 759 \r\nQ 2956 1122 2956 1747 \r\nQ 2956 2369 2687 2733 \r\nQ 2419 3097 1959 3097 \r\nz\r\nM 1959 3584 \r\nQ 2709 3584 3137 3096 \r\nQ 3566 2609 3566 1747 \r\nQ 3566 888 3137 398 \r\nQ 2709 -91 1959 -91 \r\nQ 1206 -91 779 398 \r\nQ 353 888 353 1747 \r\nQ 353 2609 779 3096 \r\nQ 1206 3584 1959 3584 \r\nz\r\n\" id=\"DejaVuSans-6f\" transform=\"scale(0.015625)\"/>\r\n      <path d=\"M 2194 1759 \r\nQ 1497 1759 1228 1600 \r\nQ 959 1441 959 1056 \r\nQ 959 750 1161 570 \r\nQ 1363 391 1709 391 \r\nQ 2188 391 2477 730 \r\nQ 2766 1069 2766 1631 \r\nL 2766 1759 \r\nL 2194 1759 \r\nz\r\nM 3341 1997 \r\nL 3341 0 \r\nL 2766 0 \r\nL 2766 531 \r\nQ 2569 213 2275 61 \r\nQ 1981 -91 1556 -91 \r\nQ 1019 -91 701 211 \r\nQ 384 513 384 1019 \r\nQ 384 1609 779 1909 \r\nQ 1175 2209 1959 2209 \r\nL 2766 2209 \r\nL 2766 2266 \r\nQ 2766 2663 2505 2880 \r\nQ 2244 3097 1772 3097 \r\nQ 1472 3097 1187 3025 \r\nQ 903 2953 641 2809 \r\nL 641 3341 \r\nQ 956 3463 1253 3523 \r\nQ 1550 3584 1831 3584 \r\nQ 2591 3584 2966 3190 \r\nQ 3341 2797 3341 1997 \r\nz\r\n\" id=\"DejaVuSans-61\" transform=\"scale(0.015625)\"/>\r\n      <path d=\"M 603 4863 \r\nL 1178 4863 \r\nL 1178 0 \r\nL 603 0 \r\nL 603 4863 \r\nz\r\n\" id=\"DejaVuSans-6c\" transform=\"scale(0.015625)\"/>\r\n      <path d=\"M 3263 -1063 \r\nL 3263 -1509 \r\nL -63 -1509 \r\nL -63 -1063 \r\nL 3263 -1063 \r\nz\r\n\" id=\"DejaVuSans-5f\" transform=\"scale(0.015625)\"/>\r\n      <path d=\"M 1159 525 \r\nL 1159 -1331 \r\nL 581 -1331 \r\nL 581 3500 \r\nL 1159 3500 \r\nL 1159 2969 \r\nQ 1341 3281 1617 3432 \r\nQ 1894 3584 2278 3584 \r\nQ 2916 3584 3314 3078 \r\nQ 3713 2572 3713 1747 \r\nQ 3713 922 3314 415 \r\nQ 2916 -91 2278 -91 \r\nQ 1894 -91 1617 61 \r\nQ 1341 213 1159 525 \r\nz\r\nM 3116 1747 \r\nQ 3116 2381 2855 2742 \r\nQ 2594 3103 2138 3103 \r\nQ 1681 3103 1420 2742 \r\nQ 1159 2381 1159 1747 \r\nQ 1159 1113 1420 752 \r\nQ 1681 391 2138 391 \r\nQ 2594 391 2855 752 \r\nQ 3116 1113 3116 1747 \r\nz\r\n\" id=\"DejaVuSans-70\" transform=\"scale(0.015625)\"/>\r\n      <path d=\"M 2834 3397 \r\nL 2834 2853 \r\nQ 2591 2978 2328 3040 \r\nQ 2066 3103 1784 3103 \r\nQ 1356 3103 1142 2972 \r\nQ 928 2841 928 2578 \r\nQ 928 2378 1081 2264 \r\nQ 1234 2150 1697 2047 \r\nL 1894 2003 \r\nQ 2506 1872 2764 1633 \r\nQ 3022 1394 3022 966 \r\nQ 3022 478 2636 193 \r\nQ 2250 -91 1575 -91 \r\nQ 1294 -91 989 -36 \r\nQ 684 19 347 128 \r\nL 347 722 \r\nQ 666 556 975 473 \r\nQ 1284 391 1588 391 \r\nQ 1994 391 2212 530 \r\nQ 2431 669 2431 922 \r\nQ 2431 1156 2273 1281 \r\nQ 2116 1406 1581 1522 \r\nL 1381 1569 \r\nQ 847 1681 609 1914 \r\nQ 372 2147 372 2553 \r\nQ 372 3047 722 3315 \r\nQ 1072 3584 1716 3584 \r\nQ 2034 3584 2315 3537 \r\nQ 2597 3491 2834 3397 \r\nz\r\n\" id=\"DejaVuSans-73\" transform=\"scale(0.015625)\"/>\r\n     </defs>\r\n     <use xlink:href=\"#DejaVuSans-74\"/>\r\n     <use x=\"39.208984\" xlink:href=\"#DejaVuSans-6f\"/>\r\n     <use x=\"100.390625\" xlink:href=\"#DejaVuSans-74\"/>\r\n     <use x=\"139.599609\" xlink:href=\"#DejaVuSans-61\"/>\r\n     <use x=\"200.878906\" xlink:href=\"#DejaVuSans-6c\"/>\r\n     <use x=\"228.662109\" xlink:href=\"#DejaVuSans-5f\"/>\r\n     <use x=\"278.662109\" xlink:href=\"#DejaVuSans-70\"/>\r\n     <use x=\"342.138672\" xlink:href=\"#DejaVuSans-74\"/>\r\n     <use x=\"381.347656\" xlink:href=\"#DejaVuSans-73\"/>\r\n    </g>\r\n   </g>\r\n  </g>\r\n </g>\r\n <defs>\r\n  <clipPath id=\"pa4b770dfd9\">\r\n   <rect height=\"217.44\" width=\"334.8\" x=\"33.2875\" y=\"22.318125\"/>\r\n  </clipPath>\r\n </defs>\r\n</svg>\r\n",
      "image/png": "[encoded data removed]"
     },
     "metadata": {
      "needs_background": "light"
     }
    }
   ],
   "source": [
    "tracks_df.hist(column = 'total_pts')"
   ]
  },
  {
   "cell_type": "code",
   "execution_count": 52,
   "metadata": {},
   "outputs": [
    {
     "output_type": "execute_result",
     "data": {
      "text/plain": [
       "                       id  acousticness  danceability  duration_ms  energy  \\\n",
       "0  46lZpwebFWgqad5CX1iv6r        0.0637         0.919       158040   0.672   \n",
       "1  5Pc594FhDA2Fa2prE75GT0        0.0311         0.906       194607   0.474   \n",
       "2  0fea68AdmYNygeTGI4RC18        0.1520         0.754       242573   0.646   \n",
       "3  5ZicFGBDAi9J2YCVesboUp        0.1620         0.405       368720   0.619   \n",
       "4  4pHQ9RYFhn3W0ha5KEuMnj        0.1510         0.642       283933   0.790   \n",
       "\n",
       "   instrumentalness  key  liveness  loudness  mode  ...  \\\n",
       "0          0.014400   10    0.0597    -3.404     0  ...   \n",
       "1          0.000005    1    0.2860    -6.124     1  ...   \n",
       "2          0.000018    7    0.1080    -5.795     1  ...   \n",
       "3          0.000334   11    0.0788    -8.920     0  ...   \n",
       "4          0.000583   11    0.3050    -6.800     0  ...   \n",
       "\n",
       "                 added_time      song_name  short_pts med_pts long_pts  \\\n",
       "0 2021-05-14 19:10:01+00:00      Entrégala        3.0     0.0      0.0   \n",
       "1 2021-05-13 22:30:16+00:00  Pretty Please        3.0     0.0      0.0   \n",
       "2 2021-05-13 03:41:42+00:00     LA CANCIÓN        0.0     0.0      0.0   \n",
       "3 2021-05-11 16:09:42+00:00   Professional        0.0     0.0      0.0   \n",
       "4 2021-05-11 16:09:32+00:00     Adaptation        0.0     0.0      0.0   \n",
       "\n",
       "  time_pts  total_pts  artist_short_pts  artist_med_pts  artist_long_pts  \n",
       "0      3.0        6.0               0.0             0.0              0.0  \n",
       "1      3.0        6.0               0.0             0.0              0.0  \n",
       "2      3.0        3.0               0.0             0.0              0.0  \n",
       "3      3.0        6.0               3.0             0.0              0.0  \n",
       "4      3.0        6.0               3.0             0.0              0.0  \n",
       "\n",
       "[5 rows x 24 columns]"
      ],
      "text/html": "<div>\n<style scoped>\n    .dataframe tbody tr th:only-of-type {\n        vertical-align: middle;\n    }\n\n    .dataframe tbody tr th {\n        vertical-align: top;\n    }\n\n    .dataframe thead th {\n        text-align: right;\n    }\n</style>\n<table border=\"1\" class=\"dataframe\">\n  <thead>\n    <tr style=\"text-align: right;\">\n      <th></th>\n      <th>id</th>\n      <th>acousticness</th>\n      <th>danceability</th>\n      <th>duration_ms</th>\n      <th>energy</th>\n      <th>instrumentalness</th>\n      <th>key</th>\n      <th>liveness</th>\n      <th>loudness</th>\n      <th>mode</th>\n      <th>...</th>\n      <th>added_time</th>\n      <th>song_name</th>\n      <th>short_pts</th>\n      <th>med_pts</th>\n      <th>long_pts</th>\n      <th>time_pts</th>\n      <th>total_pts</th>\n      <th>artist_short_pts</th>\n      <th>artist_med_pts</th>\n      <th>artist_long_pts</th>\n    </tr>\n  </thead>\n  <tbody>\n    <tr>\n      <th>0</th>\n      <td>46lZpwebFWgqad5CX1iv6r</td>\n      <td>0.0637</td>\n      <td>0.919</td>\n      <td>158040</td>\n      <td>0.672</td>\n      <td>0.014400</td>\n      <td>10</td>\n      <td>0.0597</td>\n      <td>-3.404</td>\n      <td>0</td>\n      <td>...</td>\n      <td>2021-05-14 19:10:01+00:00</td>\n      <td>Entrégala</td>\n      <td>3.0</td>\n      <td>0.0</td>\n      <td>0.0</td>\n      <td>3.0</td>\n      <td>6.0</td>\n      <td>0.0</td>\n      <td>0.0</td>\n      <td>0.0</td>\n    </tr>\n    <tr>\n      <th>1</th>\n      <td>5Pc594FhDA2Fa2prE75GT0</td>\n      <td>0.0311</td>\n      <td>0.906</td>\n      <td>194607</td>\n      <td>0.474</td>\n      <td>0.000005</td>\n      <td>1</td>\n      <td>0.2860</td>\n      <td>-6.124</td>\n      <td>1</td>\n      <td>...</td>\n      <td>2021-05-13 22:30:16+00:00</td>\n      <td>Pretty Please</td>\n      <td>3.0</td>\n      <td>0.0</td>\n      <td>0.0</td>\n      <td>3.0</td>\n      <td>6.0</td>\n      <td>0.0</td>\n      <td>0.0</td>\n      <td>0.0</td>\n    </tr>\n    <tr>\n      <th>2</th>\n      <td>0fea68AdmYNygeTGI4RC18</td>\n      <td>0.1520</td>\n      <td>0.754</td>\n      <td>242573</td>\n      <td>0.646</td>\n      <td>0.000018</td>\n      <td>7</td>\n      <td>0.1080</td>\n      <td>-5.795</td>\n      <td>1</td>\n      <td>...</td>\n      <td>2021-05-13 03:41:42+00:00</td>\n      <td>LA CANCIÓN</td>\n      <td>0.0</td>\n      <td>0.0</td>\n      <td>0.0</td>\n      <td>3.0</td>\n      <td>3.0</td>\n      <td>0.0</td>\n      <td>0.0</td>\n      <td>0.0</td>\n    </tr>\n    <tr>\n      <th>3</th>\n      <td>5ZicFGBDAi9J2YCVesboUp</td>\n      <td>0.1620</td>\n      <td>0.405</td>\n      <td>368720</td>\n      <td>0.619</td>\n      <td>0.000334</td>\n      <td>11</td>\n      <td>0.0788</td>\n      <td>-8.920</td>\n      <td>0</td>\n      <td>...</td>\n      <td>2021-05-11 16:09:42+00:00</td>\n      <td>Professional</td>\n      <td>0.0</td>\n      <td>0.0</td>\n      <td>0.0</td>\n      <td>3.0</td>\n      <td>6.0</td>\n      <td>3.0</td>\n      <td>0.0</td>\n      <td>0.0</td>\n    </tr>\n    <tr>\n      <th>4</th>\n      <td>4pHQ9RYFhn3W0ha5KEuMnj</td>\n      <td>0.1510</td>\n      <td>0.642</td>\n      <td>283933</td>\n      <td>0.790</td>\n      <td>0.000583</td>\n      <td>11</td>\n      <td>0.3050</td>\n      <td>-6.800</td>\n      <td>0</td>\n      <td>...</td>\n      <td>2021-05-11 16:09:32+00:00</td>\n      <td>Adaptation</td>\n      <td>0.0</td>\n      <td>0.0</td>\n      <td>0.0</td>\n      <td>3.0</td>\n      <td>6.0</td>\n      <td>3.0</td>\n      <td>0.0</td>\n      <td>0.0</td>\n    </tr>\n  </tbody>\n</table>\n<p>5 rows × 24 columns</p>\n</div>"
     },
     "metadata": {},
     "execution_count": 52
    }
   ],
   "source": [
    "#tracks_df = tracks_df.drop(columns = ['artist_name_x', 'artist_name_y'])\n",
    "#tracks_df = tracks_df.drop(columns = ['uri'])\n",
    "tracks_df = tracks_df.drop(columns = ['artist_name'])\n",
    "\n",
    "tracks_df.head()"
   ]
  },
  {
   "cell_type": "code",
   "execution_count": 49,
   "metadata": {},
   "outputs": [
    {
     "output_type": "execute_result",
     "data": {
      "text/plain": [
       "                          id  acousticness  danceability  duration_ms  energy  \\\n",
       "1463  62vpWI1CHwFy7tMIcSStl8        0.3010         0.692       292987   0.521   \n",
       "1464  1Kp6WFxRzc0sRBmGSgIYat        0.2090         0.597       167320   0.856   \n",
       "1465  0Kojfmpnf0A2yC1zyv39Zx        0.0916         0.755       337747   0.830   \n",
       "1466  17A18khjCRm3uNcd2fFn4I        0.1640         0.621       244880   0.631   \n",
       "1467  5LME7YULt0enp6UAB8VoDn        0.2390         0.701       559533   0.856   \n",
       "\n",
       "      instrumentalness  key  liveness  loudness  mode  ...       song_name  \\\n",
       "1463          0.000000   10    0.0565    -8.465     0  ...  No Role Modelz   \n",
       "1464          0.015900   10    0.2780    -7.089     0  ...    Gang Related   \n",
       "1465          0.000038    3    0.2980    -6.494     0  ...    Buried Alive   \n",
       "1466          0.000000    4    0.2640    -6.323     0  ...          Bounce   \n",
       "1467          0.000000   11    0.1060    -5.465     1  ...  Under Pressure   \n",
       "\n",
       "      short_pts  med_pts long_pts time_pts total_pts  artist_short_pts  \\\n",
       "1463        0.0      0.0      0.0      0.0       3.0               3.0   \n",
       "1464        0.0      0.0      0.0      0.0       1.0               0.0   \n",
       "1465        0.0      0.0      0.0      0.0       1.0               0.0   \n",
       "1466        0.0      0.0      0.0      0.0       1.0               0.0   \n",
       "1467        0.0      0.0      0.0      0.0       1.0               0.0   \n",
       "\n",
       "      artist_med_pts  artist_name  artist_long_pts  \n",
       "1463             0.0      J. Cole              0.0  \n",
       "1464             0.0        Logic              1.0  \n",
       "1465             0.0        Logic              1.0  \n",
       "1466             0.0        Logic              1.0  \n",
       "1467             0.0        Logic              1.0  \n",
       "\n",
       "[5 rows x 25 columns]"
      ],
      "text/html": "<div>\n<style scoped>\n    .dataframe tbody tr th:only-of-type {\n        vertical-align: middle;\n    }\n\n    .dataframe tbody tr th {\n        vertical-align: top;\n    }\n\n    .dataframe thead th {\n        text-align: right;\n    }\n</style>\n<table border=\"1\" class=\"dataframe\">\n  <thead>\n    <tr style=\"text-align: right;\">\n      <th></th>\n      <th>id</th>\n      <th>acousticness</th>\n      <th>danceability</th>\n      <th>duration_ms</th>\n      <th>energy</th>\n      <th>instrumentalness</th>\n      <th>key</th>\n      <th>liveness</th>\n      <th>loudness</th>\n      <th>mode</th>\n      <th>...</th>\n      <th>song_name</th>\n      <th>short_pts</th>\n      <th>med_pts</th>\n      <th>long_pts</th>\n      <th>time_pts</th>\n      <th>total_pts</th>\n      <th>artist_short_pts</th>\n      <th>artist_med_pts</th>\n      <th>artist_name</th>\n      <th>artist_long_pts</th>\n    </tr>\n  </thead>\n  <tbody>\n    <tr>\n      <th>1463</th>\n      <td>62vpWI1CHwFy7tMIcSStl8</td>\n      <td>0.3010</td>\n      <td>0.692</td>\n      <td>292987</td>\n      <td>0.521</td>\n      <td>0.000000</td>\n      <td>10</td>\n      <td>0.0565</td>\n      <td>-8.465</td>\n      <td>0</td>\n      <td>...</td>\n      <td>No Role Modelz</td>\n      <td>0.0</td>\n      <td>0.0</td>\n      <td>0.0</td>\n      <td>0.0</td>\n      <td>3.0</td>\n      <td>3.0</td>\n      <td>0.0</td>\n      <td>J. Cole</td>\n      <td>0.0</td>\n    </tr>\n    <tr>\n      <th>1464</th>\n      <td>1Kp6WFxRzc0sRBmGSgIYat</td>\n      <td>0.2090</td>\n      <td>0.597</td>\n      <td>167320</td>\n      <td>0.856</td>\n      <td>0.015900</td>\n      <td>10</td>\n      <td>0.2780</td>\n      <td>-7.089</td>\n      <td>0</td>\n      <td>...</td>\n      <td>Gang Related</td>\n      <td>0.0</td>\n      <td>0.0</td>\n      <td>0.0</td>\n      <td>0.0</td>\n      <td>1.0</td>\n      <td>0.0</td>\n      <td>0.0</td>\n      <td>Logic</td>\n      <td>1.0</td>\n    </tr>\n    <tr>\n      <th>1465</th>\n      <td>0Kojfmpnf0A2yC1zyv39Zx</td>\n      <td>0.0916</td>\n      <td>0.755</td>\n      <td>337747</td>\n      <td>0.830</td>\n      <td>0.000038</td>\n      <td>3</td>\n      <td>0.2980</td>\n      <td>-6.494</td>\n      <td>0</td>\n      <td>...</td>\n      <td>Buried Alive</td>\n      <td>0.0</td>\n      <td>0.0</td>\n      <td>0.0</td>\n      <td>0.0</td>\n      <td>1.0</td>\n      <td>0.0</td>\n      <td>0.0</td>\n      <td>Logic</td>\n      <td>1.0</td>\n    </tr>\n    <tr>\n      <th>1466</th>\n      <td>17A18khjCRm3uNcd2fFn4I</td>\n      <td>0.1640</td>\n      <td>0.621</td>\n      <td>244880</td>\n      <td>0.631</td>\n      <td>0.000000</td>\n      <td>4</td>\n      <td>0.2640</td>\n      <td>-6.323</td>\n      <td>0</td>\n      <td>...</td>\n      <td>Bounce</td>\n      <td>0.0</td>\n      <td>0.0</td>\n      <td>0.0</td>\n      <td>0.0</td>\n      <td>1.0</td>\n      <td>0.0</td>\n      <td>0.0</td>\n      <td>Logic</td>\n      <td>1.0</td>\n    </tr>\n    <tr>\n      <th>1467</th>\n      <td>5LME7YULt0enp6UAB8VoDn</td>\n      <td>0.2390</td>\n      <td>0.701</td>\n      <td>559533</td>\n      <td>0.856</td>\n      <td>0.000000</td>\n      <td>11</td>\n      <td>0.1060</td>\n      <td>-5.465</td>\n      <td>1</td>\n      <td>...</td>\n      <td>Under Pressure</td>\n      <td>0.0</td>\n      <td>0.0</td>\n      <td>0.0</td>\n      <td>0.0</td>\n      <td>1.0</td>\n      <td>0.0</td>\n      <td>0.0</td>\n      <td>Logic</td>\n      <td>1.0</td>\n    </tr>\n  </tbody>\n</table>\n<p>5 rows × 25 columns</p>\n</div>"
     },
     "metadata": {},
     "execution_count": 49
    }
   ],
   "source": [
    "tracks_df.tail()"
   ]
  },
  {
   "cell_type": "code",
   "execution_count": 50,
   "metadata": {},
   "outputs": [
    {
     "output_type": "execute_result",
     "data": {
      "text/plain": [
       "                         id  acousticness  danceability  duration_ms  energy  \\\n",
       "109  30KctD1WsHKTIYczXjip5a         0.084         0.712       193293   0.556   \n",
       "\n",
       "     instrumentalness  key  liveness  loudness  mode  ...      song_name  \\\n",
       "109           0.00005    5     0.527    -7.214     0  ...  Tequila Shots   \n",
       "\n",
       "     short_pts  med_pts long_pts time_pts total_pts  artist_short_pts  \\\n",
       "109        3.0      2.0      1.0      2.0      11.0               3.0   \n",
       "\n",
       "     artist_med_pts  artist_name  artist_long_pts  \n",
       "109             0.0     Kid Cudi              0.0  \n",
       "\n",
       "[1 rows x 25 columns]"
      ],
      "text/html": "<div>\n<style scoped>\n    .dataframe tbody tr th:only-of-type {\n        vertical-align: middle;\n    }\n\n    .dataframe tbody tr th {\n        vertical-align: top;\n    }\n\n    .dataframe thead th {\n        text-align: right;\n    }\n</style>\n<table border=\"1\" class=\"dataframe\">\n  <thead>\n    <tr style=\"text-align: right;\">\n      <th></th>\n      <th>id</th>\n      <th>acousticness</th>\n      <th>danceability</th>\n      <th>duration_ms</th>\n      <th>energy</th>\n      <th>instrumentalness</th>\n      <th>key</th>\n      <th>liveness</th>\n      <th>loudness</th>\n      <th>mode</th>\n      <th>...</th>\n      <th>song_name</th>\n      <th>short_pts</th>\n      <th>med_pts</th>\n      <th>long_pts</th>\n      <th>time_pts</th>\n      <th>total_pts</th>\n      <th>artist_short_pts</th>\n      <th>artist_med_pts</th>\n      <th>artist_name</th>\n      <th>artist_long_pts</th>\n    </tr>\n  </thead>\n  <tbody>\n    <tr>\n      <th>109</th>\n      <td>30KctD1WsHKTIYczXjip5a</td>\n      <td>0.084</td>\n      <td>0.712</td>\n      <td>193293</td>\n      <td>0.556</td>\n      <td>0.00005</td>\n      <td>5</td>\n      <td>0.527</td>\n      <td>-7.214</td>\n      <td>0</td>\n      <td>...</td>\n      <td>Tequila Shots</td>\n      <td>3.0</td>\n      <td>2.0</td>\n      <td>1.0</td>\n      <td>2.0</td>\n      <td>11.0</td>\n      <td>3.0</td>\n      <td>0.0</td>\n      <td>Kid Cudi</td>\n      <td>0.0</td>\n    </tr>\n  </tbody>\n</table>\n<p>1 rows × 25 columns</p>\n</div>"
     },
     "metadata": {},
     "execution_count": 50
    }
   ],
   "source": [
    "tracks_df.loc[tracks_df['total_pts'] == 11]"
   ]
  },
  {
   "cell_type": "code",
   "execution_count": 53,
   "metadata": {},
   "outputs": [],
   "source": [
    "tracks_df.to_csv('../data/raw/raw_library_data.csv', index = False)"
   ]
  }
 ]
}