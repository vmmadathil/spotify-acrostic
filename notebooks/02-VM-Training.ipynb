{
 "metadata": {
  "language_info": {
   "codemirror_mode": {
    "name": "ipython",
    "version": 3
   },
   "file_extension": ".py",
   "mimetype": "text/x-python",
   "name": "python",
   "nbconvert_exporter": "python",
   "pygments_lexer": "ipython3",
   "version": "3.8.8"
  },
  "orig_nbformat": 2,
  "kernelspec": {
   "name": "python388jvsc74a57bd05707b298c9c8c68c541cdaddf1ece1291ea6f2c79c910b2557a8f3d16c4becac",
   "display_name": "Python 3.8.8 64-bit ('spotify-acrostic': conda)"
  }
 },
 "nbformat": 4,
 "nbformat_minor": 2,
 "cells": [
  {
   "cell_type": "code",
   "execution_count": 2,
   "metadata": {},
   "outputs": [],
   "source": [
    "import pandas as pd"
   ]
  },
  {
   "cell_type": "code",
   "execution_count": 3,
   "metadata": {},
   "outputs": [
    {
     "output_type": "execute_result",
     "data": {
      "text/plain": [
       "                       id  acousticness  danceability  duration_ms  energy  \\\n",
       "0  46lZpwebFWgqad5CX1iv6r        0.0637         0.919       158040   0.672   \n",
       "1  5Pc594FhDA2Fa2prE75GT0        0.0311         0.906       194607   0.474   \n",
       "2  0fea68AdmYNygeTGI4RC18        0.1520         0.754       242573   0.646   \n",
       "3  5ZicFGBDAi9J2YCVesboUp        0.1620         0.405       368720   0.619   \n",
       "4  4pHQ9RYFhn3W0ha5KEuMnj        0.1510         0.642       283933   0.790   \n",
       "\n",
       "   instrumentalness  key  liveness  loudness  mode  ...  \\\n",
       "0          0.014400   10    0.0597    -3.404     0  ...   \n",
       "1          0.000005    1    0.2860    -6.124     1  ...   \n",
       "2          0.000018    7    0.1080    -5.795     1  ...   \n",
       "3          0.000334   11    0.0788    -8.920     0  ...   \n",
       "4          0.000583   11    0.3050    -6.800     0  ...   \n",
       "\n",
       "                  added_time      song_name  short_pts med_pts long_pts  \\\n",
       "0  2021-05-14 19:10:01+00:00      Entrégala        3.0     0.0      0.0   \n",
       "1  2021-05-13 22:30:16+00:00  Pretty Please        3.0     0.0      0.0   \n",
       "2  2021-05-13 03:41:42+00:00     LA CANCIÓN        0.0     0.0      0.0   \n",
       "3  2021-05-11 16:09:42+00:00   Professional        0.0     0.0      0.0   \n",
       "4  2021-05-11 16:09:32+00:00     Adaptation        0.0     0.0      0.0   \n",
       "\n",
       "  time_pts  total_pts  artist_short_pts  artist_med_pts  artist_long_pts  \n",
       "0      3.0        6.0               0.0             0.0              0.0  \n",
       "1      3.0        6.0               0.0             0.0              0.0  \n",
       "2      3.0        3.0               0.0             0.0              0.0  \n",
       "3      3.0        6.0               3.0             0.0              0.0  \n",
       "4      3.0        6.0               3.0             0.0              0.0  \n",
       "\n",
       "[5 rows x 24 columns]"
      ],
      "text/html": "<div>\n<style scoped>\n    .dataframe tbody tr th:only-of-type {\n        vertical-align: middle;\n    }\n\n    .dataframe tbody tr th {\n        vertical-align: top;\n    }\n\n    .dataframe thead th {\n        text-align: right;\n    }\n</style>\n<table border=\"1\" class=\"dataframe\">\n  <thead>\n    <tr style=\"text-align: right;\">\n      <th></th>\n      <th>id</th>\n      <th>acousticness</th>\n      <th>danceability</th>\n      <th>duration_ms</th>\n      <th>energy</th>\n      <th>instrumentalness</th>\n      <th>key</th>\n      <th>liveness</th>\n      <th>loudness</th>\n      <th>mode</th>\n      <th>...</th>\n      <th>added_time</th>\n      <th>song_name</th>\n      <th>short_pts</th>\n      <th>med_pts</th>\n      <th>long_pts</th>\n      <th>time_pts</th>\n      <th>total_pts</th>\n      <th>artist_short_pts</th>\n      <th>artist_med_pts</th>\n      <th>artist_long_pts</th>\n    </tr>\n  </thead>\n  <tbody>\n    <tr>\n      <th>0</th>\n      <td>46lZpwebFWgqad5CX1iv6r</td>\n      <td>0.0637</td>\n      <td>0.919</td>\n      <td>158040</td>\n      <td>0.672</td>\n      <td>0.014400</td>\n      <td>10</td>\n      <td>0.0597</td>\n      <td>-3.404</td>\n      <td>0</td>\n      <td>...</td>\n      <td>2021-05-14 19:10:01+00:00</td>\n      <td>Entrégala</td>\n      <td>3.0</td>\n      <td>0.0</td>\n      <td>0.0</td>\n      <td>3.0</td>\n      <td>6.0</td>\n      <td>0.0</td>\n      <td>0.0</td>\n      <td>0.0</td>\n    </tr>\n    <tr>\n      <th>1</th>\n      <td>5Pc594FhDA2Fa2prE75GT0</td>\n      <td>0.0311</td>\n      <td>0.906</td>\n      <td>194607</td>\n      <td>0.474</td>\n      <td>0.000005</td>\n      <td>1</td>\n      <td>0.2860</td>\n      <td>-6.124</td>\n      <td>1</td>\n      <td>...</td>\n      <td>2021-05-13 22:30:16+00:00</td>\n      <td>Pretty Please</td>\n      <td>3.0</td>\n      <td>0.0</td>\n      <td>0.0</td>\n      <td>3.0</td>\n      <td>6.0</td>\n      <td>0.0</td>\n      <td>0.0</td>\n      <td>0.0</td>\n    </tr>\n    <tr>\n      <th>2</th>\n      <td>0fea68AdmYNygeTGI4RC18</td>\n      <td>0.1520</td>\n      <td>0.754</td>\n      <td>242573</td>\n      <td>0.646</td>\n      <td>0.000018</td>\n      <td>7</td>\n      <td>0.1080</td>\n      <td>-5.795</td>\n      <td>1</td>\n      <td>...</td>\n      <td>2021-05-13 03:41:42+00:00</td>\n      <td>LA CANCIÓN</td>\n      <td>0.0</td>\n      <td>0.0</td>\n      <td>0.0</td>\n      <td>3.0</td>\n      <td>3.0</td>\n      <td>0.0</td>\n      <td>0.0</td>\n      <td>0.0</td>\n    </tr>\n    <tr>\n      <th>3</th>\n      <td>5ZicFGBDAi9J2YCVesboUp</td>\n      <td>0.1620</td>\n      <td>0.405</td>\n      <td>368720</td>\n      <td>0.619</td>\n      <td>0.000334</td>\n      <td>11</td>\n      <td>0.0788</td>\n      <td>-8.920</td>\n      <td>0</td>\n      <td>...</td>\n      <td>2021-05-11 16:09:42+00:00</td>\n      <td>Professional</td>\n      <td>0.0</td>\n      <td>0.0</td>\n      <td>0.0</td>\n      <td>3.0</td>\n      <td>6.0</td>\n      <td>3.0</td>\n      <td>0.0</td>\n      <td>0.0</td>\n    </tr>\n    <tr>\n      <th>4</th>\n      <td>4pHQ9RYFhn3W0ha5KEuMnj</td>\n      <td>0.1510</td>\n      <td>0.642</td>\n      <td>283933</td>\n      <td>0.790</td>\n      <td>0.000583</td>\n      <td>11</td>\n      <td>0.3050</td>\n      <td>-6.800</td>\n      <td>0</td>\n      <td>...</td>\n      <td>2021-05-11 16:09:32+00:00</td>\n      <td>Adaptation</td>\n      <td>0.0</td>\n      <td>0.0</td>\n      <td>0.0</td>\n      <td>3.0</td>\n      <td>6.0</td>\n      <td>3.0</td>\n      <td>0.0</td>\n      <td>0.0</td>\n    </tr>\n  </tbody>\n</table>\n<p>5 rows × 24 columns</p>\n</div>"
     },
     "metadata": {},
     "execution_count": 3
    }
   ],
   "source": [
    "tracks_df = pd.read_csv('../data/raw/raw_library_data.csv')\n",
    "\n",
    "tracks_df.head()"
   ]
  },
  {
   "cell_type": "code",
   "execution_count": 12,
   "metadata": {},
   "outputs": [
    {
     "output_type": "execute_result",
     "data": {
      "text/plain": [
       "                       id  acousticness  danceability  duration_ms  energy  \\\n",
       "0  46lZpwebFWgqad5CX1iv6r        0.0637         0.919       158040   0.672   \n",
       "1  5Pc594FhDA2Fa2prE75GT0        0.0311         0.906       194607   0.474   \n",
       "2  0fea68AdmYNygeTGI4RC18        0.1520         0.754       242573   0.646   \n",
       "3  5ZicFGBDAi9J2YCVesboUp        0.1620         0.405       368720   0.619   \n",
       "4  4pHQ9RYFhn3W0ha5KEuMnj        0.1510         0.642       283933   0.790   \n",
       "\n",
       "   instrumentalness  key  liveness  loudness  speechiness    tempo  valence  \\\n",
       "0          0.014400   10    0.0597    -3.404       0.1310  117.002    0.425   \n",
       "1          0.000005    1    0.2860    -6.124       0.1940  106.976    0.656   \n",
       "2          0.000018    7    0.1080    -5.795       0.3170  176.089    0.429   \n",
       "3          0.000334   11    0.0788    -8.920       0.0615  120.092    0.234   \n",
       "4          0.000583   11    0.3050    -6.800       0.0681  114.960    0.613   \n",
       "\n",
       "   total_pts  \n",
       "0        6.0  \n",
       "1        6.0  \n",
       "2        3.0  \n",
       "3        6.0  \n",
       "4        6.0  "
      ],
      "text/html": "<div>\n<style scoped>\n    .dataframe tbody tr th:only-of-type {\n        vertical-align: middle;\n    }\n\n    .dataframe tbody tr th {\n        vertical-align: top;\n    }\n\n    .dataframe thead th {\n        text-align: right;\n    }\n</style>\n<table border=\"1\" class=\"dataframe\">\n  <thead>\n    <tr style=\"text-align: right;\">\n      <th></th>\n      <th>id</th>\n      <th>acousticness</th>\n      <th>danceability</th>\n      <th>duration_ms</th>\n      <th>energy</th>\n      <th>instrumentalness</th>\n      <th>key</th>\n      <th>liveness</th>\n      <th>loudness</th>\n      <th>speechiness</th>\n      <th>tempo</th>\n      <th>valence</th>\n      <th>total_pts</th>\n    </tr>\n  </thead>\n  <tbody>\n    <tr>\n      <th>0</th>\n      <td>46lZpwebFWgqad5CX1iv6r</td>\n      <td>0.0637</td>\n      <td>0.919</td>\n      <td>158040</td>\n      <td>0.672</td>\n      <td>0.014400</td>\n      <td>10</td>\n      <td>0.0597</td>\n      <td>-3.404</td>\n      <td>0.1310</td>\n      <td>117.002</td>\n      <td>0.425</td>\n      <td>6.0</td>\n    </tr>\n    <tr>\n      <th>1</th>\n      <td>5Pc594FhDA2Fa2prE75GT0</td>\n      <td>0.0311</td>\n      <td>0.906</td>\n      <td>194607</td>\n      <td>0.474</td>\n      <td>0.000005</td>\n      <td>1</td>\n      <td>0.2860</td>\n      <td>-6.124</td>\n      <td>0.1940</td>\n      <td>106.976</td>\n      <td>0.656</td>\n      <td>6.0</td>\n    </tr>\n    <tr>\n      <th>2</th>\n      <td>0fea68AdmYNygeTGI4RC18</td>\n      <td>0.1520</td>\n      <td>0.754</td>\n      <td>242573</td>\n      <td>0.646</td>\n      <td>0.000018</td>\n      <td>7</td>\n      <td>0.1080</td>\n      <td>-5.795</td>\n      <td>0.3170</td>\n      <td>176.089</td>\n      <td>0.429</td>\n      <td>3.0</td>\n    </tr>\n    <tr>\n      <th>3</th>\n      <td>5ZicFGBDAi9J2YCVesboUp</td>\n      <td>0.1620</td>\n      <td>0.405</td>\n      <td>368720</td>\n      <td>0.619</td>\n      <td>0.000334</td>\n      <td>11</td>\n      <td>0.0788</td>\n      <td>-8.920</td>\n      <td>0.0615</td>\n      <td>120.092</td>\n      <td>0.234</td>\n      <td>6.0</td>\n    </tr>\n    <tr>\n      <th>4</th>\n      <td>4pHQ9RYFhn3W0ha5KEuMnj</td>\n      <td>0.1510</td>\n      <td>0.642</td>\n      <td>283933</td>\n      <td>0.790</td>\n      <td>0.000583</td>\n      <td>11</td>\n      <td>0.3050</td>\n      <td>-6.800</td>\n      <td>0.0681</td>\n      <td>114.960</td>\n      <td>0.613</td>\n      <td>6.0</td>\n    </tr>\n  </tbody>\n</table>\n</div>"
     },
     "metadata": {},
     "execution_count": 12
    }
   ],
   "source": [
    "track_features = tracks_df.drop(columns = ['short_pts', 'med_pts', 'long_pts', 'time_pts', 'artist_short_pts', 'artist_med_pts', 'artist_long_pts', 'added_time', 'song_name', 'mode', 'artist_id'])\n",
    "\n",
    "track_features.head()"
   ]
  },
  {
   "cell_type": "code",
   "execution_count": 5,
   "metadata": {},
   "outputs": [],
   "source": [
    "import numpy as np\n",
    "\n",
    "def train_validate_test_split(df, train_percent=.6, validate_percent=.2, seed=101):\n",
    "    np.random.seed(seed)\n",
    "    perm = np.random.permutation(df.index)\n",
    "    m = len(df.index)\n",
    "    train_end = int(train_percent * m)\n",
    "    validate_end = int(validate_percent * m) + train_end\n",
    "    train = df.iloc[perm[:train_end]]\n",
    "    validate = df.iloc[perm[train_end:validate_end]]\n",
    "    test = df.iloc[perm[validate_end:]]\n",
    "    return train, validate, test"
   ]
  },
  {
   "cell_type": "code",
   "execution_count": 13,
   "metadata": {},
   "outputs": [
    {
     "output_type": "stream",
     "name": "stdout",
     "text": [
      "880\n293\n295\n"
     ]
    }
   ],
   "source": [
    "train, validate, test = train_validate_test_split(track_features)\n",
    "\n",
    "print(len(train))\n",
    "print(len(validate))\n",
    "print(len(test))"
   ]
  },
  {
   "cell_type": "code",
   "execution_count": 14,
   "metadata": {},
   "outputs": [
    {
     "output_type": "execute_result",
     "data": {
      "text/plain": [
       "                          id  acousticness  danceability  duration_ms  energy  \\\n",
       "765   0ifooM33X1iBxVYyOkSbXW        0.0431         0.853       220173   0.663   \n",
       "115   5CFJRZRq6sdKKtRwNPWbYv        0.4300         0.619       174960   0.589   \n",
       "183   2ofOe2OaXFpZF5ETbsc7Qu        0.2180         0.692       339733   0.608   \n",
       "90    0M46BR7Uwi3Sa0LJjWRXW9        0.7150         0.630       360107   0.682   \n",
       "1344  27GzRZ04LtfU6YuA21OA98        0.1560         0.728       197278   0.721   \n",
       "\n",
       "      instrumentalness  key  liveness  loudness  speechiness    tempo  \\\n",
       "765           0.000009    7    0.0891    -6.955       0.0755  113.998   \n",
       "115           0.000392    1    0.3780    -6.531       0.1240  143.896   \n",
       "183           0.000000    8    0.3480    -5.233       0.0410  125.012   \n",
       "90            0.000000    6    0.1150    -7.317       0.0551  112.077   \n",
       "1344          0.000260   10    0.1430    -6.770       0.0419   95.039   \n",
       "\n",
       "      valence  total_pts  \n",
       "765     0.864        3.0  \n",
       "115     0.158        5.0  \n",
       "183     0.449        4.0  \n",
       "90      0.391        5.0  \n",
       "1344    0.148        1.0  "
      ],
      "text/html": "<div>\n<style scoped>\n    .dataframe tbody tr th:only-of-type {\n        vertical-align: middle;\n    }\n\n    .dataframe tbody tr th {\n        vertical-align: top;\n    }\n\n    .dataframe thead th {\n        text-align: right;\n    }\n</style>\n<table border=\"1\" class=\"dataframe\">\n  <thead>\n    <tr style=\"text-align: right;\">\n      <th></th>\n      <th>id</th>\n      <th>acousticness</th>\n      <th>danceability</th>\n      <th>duration_ms</th>\n      <th>energy</th>\n      <th>instrumentalness</th>\n      <th>key</th>\n      <th>liveness</th>\n      <th>loudness</th>\n      <th>speechiness</th>\n      <th>tempo</th>\n      <th>valence</th>\n      <th>total_pts</th>\n    </tr>\n  </thead>\n  <tbody>\n    <tr>\n      <th>765</th>\n      <td>0ifooM33X1iBxVYyOkSbXW</td>\n      <td>0.0431</td>\n      <td>0.853</td>\n      <td>220173</td>\n      <td>0.663</td>\n      <td>0.000009</td>\n      <td>7</td>\n      <td>0.0891</td>\n      <td>-6.955</td>\n      <td>0.0755</td>\n      <td>113.998</td>\n      <td>0.864</td>\n      <td>3.0</td>\n    </tr>\n    <tr>\n      <th>115</th>\n      <td>5CFJRZRq6sdKKtRwNPWbYv</td>\n      <td>0.4300</td>\n      <td>0.619</td>\n      <td>174960</td>\n      <td>0.589</td>\n      <td>0.000392</td>\n      <td>1</td>\n      <td>0.3780</td>\n      <td>-6.531</td>\n      <td>0.1240</td>\n      <td>143.896</td>\n      <td>0.158</td>\n      <td>5.0</td>\n    </tr>\n    <tr>\n      <th>183</th>\n      <td>2ofOe2OaXFpZF5ETbsc7Qu</td>\n      <td>0.2180</td>\n      <td>0.692</td>\n      <td>339733</td>\n      <td>0.608</td>\n      <td>0.000000</td>\n      <td>8</td>\n      <td>0.3480</td>\n      <td>-5.233</td>\n      <td>0.0410</td>\n      <td>125.012</td>\n      <td>0.449</td>\n      <td>4.0</td>\n    </tr>\n    <tr>\n      <th>90</th>\n      <td>0M46BR7Uwi3Sa0LJjWRXW9</td>\n      <td>0.7150</td>\n      <td>0.630</td>\n      <td>360107</td>\n      <td>0.682</td>\n      <td>0.000000</td>\n      <td>6</td>\n      <td>0.1150</td>\n      <td>-7.317</td>\n      <td>0.0551</td>\n      <td>112.077</td>\n      <td>0.391</td>\n      <td>5.0</td>\n    </tr>\n    <tr>\n      <th>1344</th>\n      <td>27GzRZ04LtfU6YuA21OA98</td>\n      <td>0.1560</td>\n      <td>0.728</td>\n      <td>197278</td>\n      <td>0.721</td>\n      <td>0.000260</td>\n      <td>10</td>\n      <td>0.1430</td>\n      <td>-6.770</td>\n      <td>0.0419</td>\n      <td>95.039</td>\n      <td>0.148</td>\n      <td>1.0</td>\n    </tr>\n  </tbody>\n</table>\n</div>"
     },
     "metadata": {},
     "execution_count": 14
    }
   ],
   "source": [
    "train.to_csv('../data/processed/library_train.csv')\n",
    "\n",
    "train.head()"
   ]
  },
  {
   "cell_type": "code",
   "execution_count": 15,
   "metadata": {},
   "outputs": [
    {
     "output_type": "execute_result",
     "data": {
      "text/plain": [
       "                          id  acousticness  danceability  duration_ms  energy  \\\n",
       "1230  1sQBPGypjSgEgJZvD8u8ty        0.2590         0.389       292885   0.507   \n",
       "69    60ynsPSSKe6O3sfwRnIBRf        0.2080         0.749       226987   0.463   \n",
       "702   23SZWX2IaDnxmhFsSLvkG2        0.0207         0.598       357653   0.713   \n",
       "572   0wXuerDYiBnERgIpbb3JBR        0.1670         0.743       326933   0.347   \n",
       "1198  5iSEsR6NKjlC9SrIJkyL3k        0.4840         0.630       295293   0.605   \n",
       "\n",
       "      instrumentalness  key  liveness  loudness  speechiness    tempo  \\\n",
       "1230          0.044100   11     0.142    -9.026       0.0621   74.718   \n",
       "69            0.037100   11     0.337    -8.433       0.0828   90.028   \n",
       "702           0.000175    6     0.431    -3.625       0.0326   91.964   \n",
       "572           0.009510    1     0.103   -11.174       0.1210  160.143   \n",
       "1198          0.000093    0     0.298    -8.951       0.0414  115.277   \n",
       "\n",
       "      valence  total_pts  \n",
       "1230    0.364        0.0  \n",
       "69      0.190        3.0  \n",
       "702     0.118        3.0  \n",
       "572     0.572        1.0  \n",
       "1198    0.266        3.0  "
      ],
      "text/html": "<div>\n<style scoped>\n    .dataframe tbody tr th:only-of-type {\n        vertical-align: middle;\n    }\n\n    .dataframe tbody tr th {\n        vertical-align: top;\n    }\n\n    .dataframe thead th {\n        text-align: right;\n    }\n</style>\n<table border=\"1\" class=\"dataframe\">\n  <thead>\n    <tr style=\"text-align: right;\">\n      <th></th>\n      <th>id</th>\n      <th>acousticness</th>\n      <th>danceability</th>\n      <th>duration_ms</th>\n      <th>energy</th>\n      <th>instrumentalness</th>\n      <th>key</th>\n      <th>liveness</th>\n      <th>loudness</th>\n      <th>speechiness</th>\n      <th>tempo</th>\n      <th>valence</th>\n      <th>total_pts</th>\n    </tr>\n  </thead>\n  <tbody>\n    <tr>\n      <th>1230</th>\n      <td>1sQBPGypjSgEgJZvD8u8ty</td>\n      <td>0.2590</td>\n      <td>0.389</td>\n      <td>292885</td>\n      <td>0.507</td>\n      <td>0.044100</td>\n      <td>11</td>\n      <td>0.142</td>\n      <td>-9.026</td>\n      <td>0.0621</td>\n      <td>74.718</td>\n      <td>0.364</td>\n      <td>0.0</td>\n    </tr>\n    <tr>\n      <th>69</th>\n      <td>60ynsPSSKe6O3sfwRnIBRf</td>\n      <td>0.2080</td>\n      <td>0.749</td>\n      <td>226987</td>\n      <td>0.463</td>\n      <td>0.037100</td>\n      <td>11</td>\n      <td>0.337</td>\n      <td>-8.433</td>\n      <td>0.0828</td>\n      <td>90.028</td>\n      <td>0.190</td>\n      <td>3.0</td>\n    </tr>\n    <tr>\n      <th>702</th>\n      <td>23SZWX2IaDnxmhFsSLvkG2</td>\n      <td>0.0207</td>\n      <td>0.598</td>\n      <td>357653</td>\n      <td>0.713</td>\n      <td>0.000175</td>\n      <td>6</td>\n      <td>0.431</td>\n      <td>-3.625</td>\n      <td>0.0326</td>\n      <td>91.964</td>\n      <td>0.118</td>\n      <td>3.0</td>\n    </tr>\n    <tr>\n      <th>572</th>\n      <td>0wXuerDYiBnERgIpbb3JBR</td>\n      <td>0.1670</td>\n      <td>0.743</td>\n      <td>326933</td>\n      <td>0.347</td>\n      <td>0.009510</td>\n      <td>1</td>\n      <td>0.103</td>\n      <td>-11.174</td>\n      <td>0.1210</td>\n      <td>160.143</td>\n      <td>0.572</td>\n      <td>1.0</td>\n    </tr>\n    <tr>\n      <th>1198</th>\n      <td>5iSEsR6NKjlC9SrIJkyL3k</td>\n      <td>0.4840</td>\n      <td>0.630</td>\n      <td>295293</td>\n      <td>0.605</td>\n      <td>0.000093</td>\n      <td>0</td>\n      <td>0.298</td>\n      <td>-8.951</td>\n      <td>0.0414</td>\n      <td>115.277</td>\n      <td>0.266</td>\n      <td>3.0</td>\n    </tr>\n  </tbody>\n</table>\n</div>"
     },
     "metadata": {},
     "execution_count": 15
    }
   ],
   "source": [
    "validate.to_csv('../data/processed/library_validate.csv')\n",
    "\n",
    "validate.head()"
   ]
  },
  {
   "cell_type": "code",
   "execution_count": 16,
   "metadata": {},
   "outputs": [
    {
     "output_type": "execute_result",
     "data": {
      "text/plain": [
       "                          id  acousticness  danceability  duration_ms  energy  \\\n",
       "1437  0rBMP6VVGRgwnzZCLpijyl       0.30800         0.696       227427   0.583   \n",
       "93    6jHO1z47fxjU1v8j37boQP       0.34600         0.641       286680   0.539   \n",
       "76    1ggYjU6zdFHgANcku82boU       0.39800         0.668       194871   0.547   \n",
       "1313  1HpzOCZbNWzxvvXfSGtSrX       0.00548         0.605       176417   0.664   \n",
       "889   2AT8iROs4FQueDv2c8q2KE       0.00616         0.288       201726   0.758   \n",
       "\n",
       "      instrumentalness  key  liveness  loudness  speechiness    tempo  \\\n",
       "1437          0.000000    3    0.0964    -9.351       0.3010  137.079   \n",
       "93            0.000007    5    0.0837    -6.351       0.0463  148.004   \n",
       "76            0.076600    1    0.0931    -8.024       0.0353   83.500   \n",
       "1313          0.000003    8    0.2040    -7.162       0.0316  103.997   \n",
       "889           0.000000    6    0.3030    -5.692       0.0371   97.094   \n",
       "\n",
       "      valence  total_pts  \n",
       "1437    0.524        2.0  \n",
       "93      0.436        5.0  \n",
       "76      0.192        3.0  \n",
       "1313    0.164        0.0  \n",
       "889     0.619        3.0  "
      ],
      "text/html": "<div>\n<style scoped>\n    .dataframe tbody tr th:only-of-type {\n        vertical-align: middle;\n    }\n\n    .dataframe tbody tr th {\n        vertical-align: top;\n    }\n\n    .dataframe thead th {\n        text-align: right;\n    }\n</style>\n<table border=\"1\" class=\"dataframe\">\n  <thead>\n    <tr style=\"text-align: right;\">\n      <th></th>\n      <th>id</th>\n      <th>acousticness</th>\n      <th>danceability</th>\n      <th>duration_ms</th>\n      <th>energy</th>\n      <th>instrumentalness</th>\n      <th>key</th>\n      <th>liveness</th>\n      <th>loudness</th>\n      <th>speechiness</th>\n      <th>tempo</th>\n      <th>valence</th>\n      <th>total_pts</th>\n    </tr>\n  </thead>\n  <tbody>\n    <tr>\n      <th>1437</th>\n      <td>0rBMP6VVGRgwnzZCLpijyl</td>\n      <td>0.30800</td>\n      <td>0.696</td>\n      <td>227427</td>\n      <td>0.583</td>\n      <td>0.000000</td>\n      <td>3</td>\n      <td>0.0964</td>\n      <td>-9.351</td>\n      <td>0.3010</td>\n      <td>137.079</td>\n      <td>0.524</td>\n      <td>2.0</td>\n    </tr>\n    <tr>\n      <th>93</th>\n      <td>6jHO1z47fxjU1v8j37boQP</td>\n      <td>0.34600</td>\n      <td>0.641</td>\n      <td>286680</td>\n      <td>0.539</td>\n      <td>0.000007</td>\n      <td>5</td>\n      <td>0.0837</td>\n      <td>-6.351</td>\n      <td>0.0463</td>\n      <td>148.004</td>\n      <td>0.436</td>\n      <td>5.0</td>\n    </tr>\n    <tr>\n      <th>76</th>\n      <td>1ggYjU6zdFHgANcku82boU</td>\n      <td>0.39800</td>\n      <td>0.668</td>\n      <td>194871</td>\n      <td>0.547</td>\n      <td>0.076600</td>\n      <td>1</td>\n      <td>0.0931</td>\n      <td>-8.024</td>\n      <td>0.0353</td>\n      <td>83.500</td>\n      <td>0.192</td>\n      <td>3.0</td>\n    </tr>\n    <tr>\n      <th>1313</th>\n      <td>1HpzOCZbNWzxvvXfSGtSrX</td>\n      <td>0.00548</td>\n      <td>0.605</td>\n      <td>176417</td>\n      <td>0.664</td>\n      <td>0.000003</td>\n      <td>8</td>\n      <td>0.2040</td>\n      <td>-7.162</td>\n      <td>0.0316</td>\n      <td>103.997</td>\n      <td>0.164</td>\n      <td>0.0</td>\n    </tr>\n    <tr>\n      <th>889</th>\n      <td>2AT8iROs4FQueDv2c8q2KE</td>\n      <td>0.00616</td>\n      <td>0.288</td>\n      <td>201726</td>\n      <td>0.758</td>\n      <td>0.000000</td>\n      <td>6</td>\n      <td>0.3030</td>\n      <td>-5.692</td>\n      <td>0.0371</td>\n      <td>97.094</td>\n      <td>0.619</td>\n      <td>3.0</td>\n    </tr>\n  </tbody>\n</table>\n</div>"
     },
     "metadata": {},
     "execution_count": 16
    }
   ],
   "source": [
    "test.to_csv('../data/processed/library_test.csv')\n",
    "\n",
    "test.head()"
   ]
  },
  {
   "cell_type": "code",
   "execution_count": 1,
   "metadata": {},
   "outputs": [],
   "source": [
    "from sklearn.pipeline import Pipeline\n",
    "from sklearn.preprocessing import MinMaxScaler\n",
    "import pandas as pd \n",
    "import numpy as np"
   ]
  },
  {
   "cell_type": "code",
   "execution_count": 3,
   "metadata": {},
   "outputs": [],
   "source": [
    "## only run this chunk if the dfs are not in memory yet\n",
    "\n",
    "test = pd.read_csv('../data/processed/library_test.csv')\n",
    "\n",
    "train = pd.read_csv('../data/processed/library_train.csv')\n",
    "\n",
    "validate = pd.read_csv('../data/processed/library_validate.csv')"
   ]
  },
  {
   "cell_type": "code",
   "execution_count": 4,
   "metadata": {},
   "outputs": [],
   "source": [
    "pipeline = Pipeline([\n",
    "    ('std_scaler', MinMaxScaler())\n",
    "])"
   ]
  },
  {
   "cell_type": "code",
   "execution_count": 15,
   "metadata": {},
   "outputs": [],
   "source": [
    "#scaling features\n",
    "X_train = train.drop(columns = ['id', 'total_pts', 'Unnamed: 0'])\n",
    "\n",
    "X_train_scaled = pipeline.fit_transform(X_train)"
   ]
  },
  {
   "cell_type": "code",
   "execution_count": 6,
   "metadata": {},
   "outputs": [],
   "source": [
    "#preparing target\n",
    "from sklearn.preprocessing import LabelEncoder\n",
    "\n",
    "y_train = train['total_pts']\n",
    "\n",
    "y_train_scaled = LabelEncoder().fit_transform(y_train)"
   ]
  },
  {
   "cell_type": "code",
   "execution_count": 7,
   "metadata": {},
   "outputs": [],
   "source": [
    "# Making and comparing models\n",
    "\n",
    "# Model imports\n",
    "from sklearn.linear_model import LogisticRegressionCV, RidgeClassifierCV\n",
    "from sklearn.ensemble import RandomForestClassifier\n",
    "from sklearn.neighbors import KNeighborsClassifier\n",
    "from sklearn.model_selection import cross_val_score\n",
    "from sklearn.metrics import f1_score, make_scorer\n",
    "\n",
    "import warnings \n",
    "from sklearn.exceptions import ConvergenceWarning\n",
    "\n",
    "# Filter out warnings from models\n",
    "warnings.filterwarnings('ignore', category = ConvergenceWarning)\n",
    "warnings.filterwarnings('ignore', category = DeprecationWarning)"
   ]
  },
  {
   "cell_type": "code",
   "execution_count": 16,
   "metadata": {},
   "outputs": [
    {
     "output_type": "stream",
     "name": "stdout",
     "text": [
      "Feature ranking:\n1. acousticness 0.170919 \n2. danceability 0.120701 \n3. duration_ms 0.120276 \n4. energy 0.102963 \n5. instrumentalness 0.097586 \n6. key 0.091602 \n7. liveness 0.082035 \n8. loudness 0.066437 \n9. speechiness 0.062694 \n10. tempo 0.051276 \n11. valence 0.033509 \n"
     ]
    }
   ],
   "source": [
    "forest = RandomForestClassifier(random_state=42, max_depth=5, max_features=11) # Set by GridSearchCV below\n",
    "forest.fit(X_train_scaled, y_train_scaled)\n",
    "importances = forest.feature_importances_\n",
    "indices = np.argsort(importances)[::-1]\n",
    "\n",
    "# Print the feature rankings\n",
    "print(\"Feature ranking:\")\n",
    "  \n",
    "for f in range(len(importances)):\n",
    "    print(\"%d. %s %f \" % (f + 1, \n",
    "            X_train.columns[f], \n",
    "            importances[indices[f]]))"
   ]
  },
  {
   "cell_type": "code",
   "execution_count": 20,
   "metadata": {},
   "outputs": [
    {
     "output_type": "display_data",
     "data": {
      "text/plain": "<Figure size 720x504 with 1 Axes>",
      "image/png": "[encoded data removed]"
     },
     "metadata": {
      "image/png": {
       "width": 618,
       "height": 429
      },
      "needs_background": "light"
     }
    }
   ],
   "source": [
    "from sklearn import decomposition\n",
    "import matplotlib.pyplot as plt\n",
    "import seaborn as sns; sns.set(style='white')\n",
    "%matplotlib inline\n",
    "%config InlineBackend.figure_format = 'retina'\n",
    "\n",
    "pca = decomposition.PCA().fit(X_train_scaled)\n",
    "\n",
    "plt.figure(figsize=(10,7))\n",
    "plt.plot(np.cumsum(pca.explained_variance_ratio_), color='k', lw=2)\n",
    "plt.xlabel('Number of components')\n",
    "plt.ylabel('Total explained variance')\n",
    "plt.xlim(0, 12)\n",
    "plt.yticks(np.arange(0, 1.1, 0.1))\n",
    "plt.axvline(8, c='b') # Tune this so that you obtain at least a 95% total variance explained\n",
    "plt.axhline(0.95, c='r')\n",
    "plt.show()"
   ]
  },
  {
   "cell_type": "code",
   "execution_count": 24,
   "metadata": {},
   "outputs": [],
   "source": [
    "# getting test sets ready\n",
    "\n",
    "X_test = test.drop(columns = ['id', 'total_pts', 'Unnamed: 0'])\n",
    "\n",
    "X_test_scaled = pipeline.fit_transform(X_test)\n",
    "\n",
    "\n",
    "y_test = test['total_pts']\n",
    "\n",
    "y_test_scaled = LabelEncoder().fit_transform(y_test)"
   ]
  },
  {
   "cell_type": "code",
   "execution_count": 38,
   "metadata": {},
   "outputs": [],
   "source": [
    "from sklearn.metrics import f1_score\n",
    "\n",
    "f1_results = pd.DataFrame(columns = ['model', 'F1 Scores', 'F1 Average', 'F1 Weighted Average'])"
   ]
  },
  {
   "cell_type": "code",
   "execution_count": 43,
   "metadata": {},
   "outputs": [],
   "source": [
    "# comparing F1 scores for a few different models\n",
    "def model_scores(model, name):\n",
    "\n",
    "    #making predictions\n",
    "    y_pred = model.predict(X_test_scaled)\n",
    "    f1 = f1_score(y_test_scaled, y_pred, average = None)\n",
    "    f1_average = f1_score(y_test_scaled, y_pred, average = 'macro')\n",
    "    f1_average_weighted = f1_score(y_test_scaled, y_pred, average = 'weighted')\n",
    "\n",
    "    print(f1, f1_average, f1_average_weighted)\n",
    "\n",
    "    #printing confusion matrix\n",
    "    print(pd.crosstab(y_test_scaled, y_pred, rownames=['Actual Score'], colnames=['Predicted Score']))             "
   ]
  },
  {
   "cell_type": "code",
   "execution_count": 44,
   "metadata": {},
   "outputs": [
    {
     "output_type": "stream",
     "name": "stdout",
     "text": [
      "[0.3853211  0.09375    0.1509434  0.46428571 0.         0.\n 0.         0.        ] 0.13678752642869507 0.3003068363901101\nPredicted Score   0   1  2   3  4\nActual Score                     \n0                42  10  4  41  0\n1                22   3  3  13  0\n2                20   3  4  10  0\n3                31   4  2  52  1\n4                 5   1  1   6  0\n5                 1   1  0   4  0\n6                 0   1  1   8  0\n7                 0   0  1   0  0\n"
     ]
    }
   ],
   "source": [
    "rf_classifier = RandomForestClassifier(n_estimators = 10, criterion = 'entropy', random_state = 42)\n",
    "\n",
    "rf_classifier.fit(X_train_scaled, y_train_scaled)\n",
    "\n",
    "model_scores(rf_classifier, 'Random Forest')"
   ]
  },
  {
   "cell_type": "code",
   "execution_count": 51,
   "metadata": {},
   "outputs": [],
   "source": [
    "# Dataframe to hold results\n",
    "model_results = pd.DataFrame(columns = ['model', 'cv_mean', 'cv_std'])\n",
    "\n",
    "scorer = make_scorer(f1_score, greater_is_better=True, average = 'macro')\n",
    "\n",
    "def cv_model(train, train_labels, model, name, model_results=None):\n",
    "    cv_scores = cross_val_score(model, train, train_labels, cv = 10, scoring=scorer, n_jobs = -1)\n",
    "    print(f'10 Fold CV Score: {round(cv_scores.mean(), 5)} with std: {round(cv_scores.std(), 5)}')\n",
    "    if model_results is not None:\n",
    "        model_results = model_results.append(pd.DataFrame({'model': name, \n",
    "                                                           'cv_mean': cv_scores.mean(), \n",
    "                                                            'cv_std': cv_scores.std()},\n",
    "                                                           index = [0]),\n",
    "                                             ignore_index = True)\n",
    "\n",
    "        return model_results"
   ]
  },
  {
   "cell_type": "code",
   "execution_count": 52,
   "metadata": {},
   "outputs": [
    {
     "output_type": "stream",
     "name": "stderr",
     "text": [
      "C:\\Users\\madat\\AppData\\Local\\Continuum\\anaconda3\\envs\\spotify-acrostic\\lib\\site-packages\\sklearn\\model_selection\\_split.py:666: UserWarning: The least populated class in y has only 1 members, which is less than n_splits=10.\n",
      "  warnings.warn((\"The least populated class in y has only %d\"\n",
      "10 Fold CV Score: 0.11295 with std: 0.01727\n"
     ]
    }
   ],
   "source": [
    "model_results = cv_model(X_train_scaled, y_train_scaled, RidgeClassifierCV(), 'RIDGE', model_results)"
   ]
  },
  {
   "cell_type": "code",
   "execution_count": null,
   "metadata": {},
   "outputs": [],
   "source": [
    "for n in [5, 10, 20]:\n",
    "    print(f'\\nKNN with {n} neighbors\\n')\n",
    "    model_results = cv_model(train_set, train_labels, \n",
    "                             KNeighborsClassifier(n_neighbors = n),\n",
    "                             f'knn-{n}', model_results)"
   ]
  }
 ]
}